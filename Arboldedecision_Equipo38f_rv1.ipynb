{
  "nbformat": 4,
  "nbformat_minor": 0,
  "metadata": {
    "colab": {
      "provenance": [],
      "collapsed_sections": [],
      "include_colab_link": true
    },
    "kernelspec": {
      "display_name": "Python 3",
      "name": "python3"
    }
  },
  "cells": [
    {
      "cell_type": "markdown",
      "metadata": {
        "id": "view-in-github",
        "colab_type": "text"
      },
      "source": [
        "<a href=\"https://colab.research.google.com/github/A01793509/Equipo38/blob/main/Arboldedecision_Equipo38f_rv1.ipynb\" target=\"_parent\"><img src=\"https://colab.research.google.com/assets/colab-badge.svg\" alt=\"Open In Colab\"/></a>"
      ]
    },
    {
      "cell_type": "markdown",
      "source": [
        "#**Maestría en Inteligencia Artificial Aplicada**\n",
        "##**Curso: Inteligencia Artificial y Aprendizaje Automático**\n",
        "###Tecnológico de Monterrey\n",
        "###Prof Luis Eduardo Falcón Morales\n",
        "\n",
        "## **Adtividad de la Semana 6**\n",
        "###**Árboles de decisión y bosque aleatorio.**\n"
      ],
      "metadata": {
        "id": "VFj0sSM06dYa"
      }
    },
    {
      "cell_type": "markdown",
      "source": [
        "**Nombres y matrículas de los integrantes del equipo:**\n",
        "\n",
        "*   Alberto Jose Garcia Porras (A01793509)\n",
        "*   Carlos Julio León Caicedo (A01793947)\n",
        "*   Luis Fernando Ríos Piedra (A00453954)\n",
        "*   Marco Antonio Vázquez Morales (A01793704)"
      ],
      "metadata": {
        "id": "Qgrvy0RGB9XI"
      }
    },
    {
      "cell_type": "markdown",
      "source": [
        "En cada sección deberás incluir todas las líneas de código necesarias para responder a cada uno de los ejercicios."
      ],
      "metadata": {
        "id": "FrJ2ahMODVj1"
      }
    },
    {
      "cell_type": "code",
      "source": [
        "# Incluye aquí todos módulos, librerías y paquetes que requieras.\n",
        "import pandas as pd\n",
        "import numpy as np\n",
        "import matplotlib.pyplot as plt\n",
        "import requests, zipfile\n",
        "import seaborn as sns\n",
        "\n",
        "from sklearn.model_selection import train_test_split\n",
        "from sklearn.impute import SimpleImputer\n",
        "from sklearn.pipeline import Pipeline\n",
        "from sklearn.preprocessing import MinMaxScaler\n",
        "from sklearn.compose import ColumnTransformer\n",
        "from sklearn.linear_model import LogisticRegression\n",
        "from sklearn.metrics import confusion_matrix\n",
        "from sklearn.metrics import make_scorer,classification_report\n",
        "from imblearn.metrics import geometric_mean_score, classification_report_imbalanced\n",
        "from sklearn.model_selection import cross_validate\n",
        "from sklearn.model_selection import learning_curve\n",
        "from sklearn.ensemble import RandomForestClassifier\n",
        "from sklearn.tree import DecisionTreeClassifier\n",
        "from sklearn.model_selection import RepeatedStratifiedKFold\n",
        "from sklearn.model_selection import GridSearchCV\n",
        "from sklearn.model_selection import validation_curve\n",
        "from sklearn.preprocessing import FunctionTransformer\n",
        "from sklearn.preprocessing import OneHotEncoder\n",
        "from sklearn.preprocessing import StandardScaler\n",
        "from io import BytesIO\n",
        "\n",
        "from imblearn.under_sampling import TomekLinks\n",
        "from imblearn.under_sampling import EditedNearestNeighbours\n",
        "\n",
        "from imblearn.over_sampling import SMOTE\n",
        "\n",
        "from imblearn.combine import SMOTEENN\n",
        "from imblearn.combine import SMOTETomek\n",
        "from imblearn.over_sampling import RandomOverSampler\n",
        "from imblearn.under_sampling import RandomUnderSampler\n",
        "from imblearn.pipeline import make_pipeline"
      ],
      "metadata": {
        "id": "exXsscs-Dh-2"
      },
      "execution_count": null,
      "outputs": []
    },
    {
      "cell_type": "markdown",
      "metadata": {
        "id": "X25brD-gQdZM"
      },
      "source": [
        "#**Ejercicio-1.** "
      ]
    },
    {
      "cell_type": "code",
      "source": [
        "#A continuación cargaremos los datos del ejercicio. En este caso descargamos el archivo 'SouthGermanCredit.asc' desde el repositorio indicado y lo cargamos \n",
        "#en la carpeta 'Actividad7' de nuestro repositorio local. Teniendo en cuenta que el archivo viene con separación por espacios, debemos indicar el parámetro \n",
        "#'sep=\" \"' para que lo formatee correctamente.\n",
        "#df = pd.read_csv(\"/content/Actividad7/SouthGermanCredit.asc\", sep=\" \")\n",
        "\n",
        "#df.head()\n",
        "\n",
        "#Este metodo es para poder leer directametne desde el zip y directamente de la URL donde esta la zip sin descargar nada\n",
        "\n",
        "#Defining the zip file URL\n",
        "ruta = 'https://archive.ics.uci.edu/ml/machine-learning-databases/00522/SouthGermanCredit.zip'\n",
        "\n",
        "# Split URL to get the file name\n",
        "archivo = ruta.split('/')[-1]\n",
        "\n",
        "req = requests.get(ruta)\n",
        "\n",
        "# extracting the zip file contents\n",
        "archivo_zip= zipfile.ZipFile(BytesIO(req.content))\n",
        "archivo_zip.extractall('/content/sample_data/SouthGermanCredit')\n",
        "df = pd.read_csv(\"/content/sample_data/SouthGermanCredit/SouthGermanCredit.asc\",sep=' ')\n",
        "\n",
        "df.head()"
      ],
      "metadata": {
        "id": "3nU2GuWYCy6C",
        "colab": {
          "base_uri": "https://localhost:8080/",
          "height": 235
        },
        "outputId": "fa2af076-a2fa-4261-a68e-6ca31e7e70e4"
      },
      "execution_count": null,
      "outputs": [
        {
          "output_type": "execute_result",
          "data": {
            "text/plain": [
              "   laufkont  laufzeit  moral  verw  hoehe  sparkont  beszeit  rate  famges  \\\n",
              "0         1        18      4     2   1049         1        2     4       2   \n",
              "1         1         9      4     0   2799         1        3     2       3   \n",
              "2         2        12      2     9    841         2        4     2       2   \n",
              "3         1        12      4     0   2122         1        3     3       3   \n",
              "4         1        12      4     0   2171         1        3     4       3   \n",
              "\n",
              "   buerge  ...  verm  alter  weitkred  wohn  bishkred  beruf  pers  telef  \\\n",
              "0       1  ...     2     21         3     1         1      3     2      1   \n",
              "1       1  ...     1     36         3     1         2      3     1      1   \n",
              "2       1  ...     1     23         3     1         1      2     2      1   \n",
              "3       1  ...     1     39         3     1         2      2     1      1   \n",
              "4       1  ...     2     38         1     2         2      2     2      1   \n",
              "\n",
              "   gastarb  kredit  \n",
              "0        2       1  \n",
              "1        2       1  \n",
              "2        2       1  \n",
              "3        1       1  \n",
              "4        1       1  \n",
              "\n",
              "[5 rows x 21 columns]"
            ],
            "text/html": [
              "\n",
              "  <div id=\"df-09045557-5791-4971-82d6-f4b55d097fc8\">\n",
              "    <div class=\"colab-df-container\">\n",
              "      <div>\n",
              "<style scoped>\n",
              "    .dataframe tbody tr th:only-of-type {\n",
              "        vertical-align: middle;\n",
              "    }\n",
              "\n",
              "    .dataframe tbody tr th {\n",
              "        vertical-align: top;\n",
              "    }\n",
              "\n",
              "    .dataframe thead th {\n",
              "        text-align: right;\n",
              "    }\n",
              "</style>\n",
              "<table border=\"1\" class=\"dataframe\">\n",
              "  <thead>\n",
              "    <tr style=\"text-align: right;\">\n",
              "      <th></th>\n",
              "      <th>laufkont</th>\n",
              "      <th>laufzeit</th>\n",
              "      <th>moral</th>\n",
              "      <th>verw</th>\n",
              "      <th>hoehe</th>\n",
              "      <th>sparkont</th>\n",
              "      <th>beszeit</th>\n",
              "      <th>rate</th>\n",
              "      <th>famges</th>\n",
              "      <th>buerge</th>\n",
              "      <th>...</th>\n",
              "      <th>verm</th>\n",
              "      <th>alter</th>\n",
              "      <th>weitkred</th>\n",
              "      <th>wohn</th>\n",
              "      <th>bishkred</th>\n",
              "      <th>beruf</th>\n",
              "      <th>pers</th>\n",
              "      <th>telef</th>\n",
              "      <th>gastarb</th>\n",
              "      <th>kredit</th>\n",
              "    </tr>\n",
              "  </thead>\n",
              "  <tbody>\n",
              "    <tr>\n",
              "      <th>0</th>\n",
              "      <td>1</td>\n",
              "      <td>18</td>\n",
              "      <td>4</td>\n",
              "      <td>2</td>\n",
              "      <td>1049</td>\n",
              "      <td>1</td>\n",
              "      <td>2</td>\n",
              "      <td>4</td>\n",
              "      <td>2</td>\n",
              "      <td>1</td>\n",
              "      <td>...</td>\n",
              "      <td>2</td>\n",
              "      <td>21</td>\n",
              "      <td>3</td>\n",
              "      <td>1</td>\n",
              "      <td>1</td>\n",
              "      <td>3</td>\n",
              "      <td>2</td>\n",
              "      <td>1</td>\n",
              "      <td>2</td>\n",
              "      <td>1</td>\n",
              "    </tr>\n",
              "    <tr>\n",
              "      <th>1</th>\n",
              "      <td>1</td>\n",
              "      <td>9</td>\n",
              "      <td>4</td>\n",
              "      <td>0</td>\n",
              "      <td>2799</td>\n",
              "      <td>1</td>\n",
              "      <td>3</td>\n",
              "      <td>2</td>\n",
              "      <td>3</td>\n",
              "      <td>1</td>\n",
              "      <td>...</td>\n",
              "      <td>1</td>\n",
              "      <td>36</td>\n",
              "      <td>3</td>\n",
              "      <td>1</td>\n",
              "      <td>2</td>\n",
              "      <td>3</td>\n",
              "      <td>1</td>\n",
              "      <td>1</td>\n",
              "      <td>2</td>\n",
              "      <td>1</td>\n",
              "    </tr>\n",
              "    <tr>\n",
              "      <th>2</th>\n",
              "      <td>2</td>\n",
              "      <td>12</td>\n",
              "      <td>2</td>\n",
              "      <td>9</td>\n",
              "      <td>841</td>\n",
              "      <td>2</td>\n",
              "      <td>4</td>\n",
              "      <td>2</td>\n",
              "      <td>2</td>\n",
              "      <td>1</td>\n",
              "      <td>...</td>\n",
              "      <td>1</td>\n",
              "      <td>23</td>\n",
              "      <td>3</td>\n",
              "      <td>1</td>\n",
              "      <td>1</td>\n",
              "      <td>2</td>\n",
              "      <td>2</td>\n",
              "      <td>1</td>\n",
              "      <td>2</td>\n",
              "      <td>1</td>\n",
              "    </tr>\n",
              "    <tr>\n",
              "      <th>3</th>\n",
              "      <td>1</td>\n",
              "      <td>12</td>\n",
              "      <td>4</td>\n",
              "      <td>0</td>\n",
              "      <td>2122</td>\n",
              "      <td>1</td>\n",
              "      <td>3</td>\n",
              "      <td>3</td>\n",
              "      <td>3</td>\n",
              "      <td>1</td>\n",
              "      <td>...</td>\n",
              "      <td>1</td>\n",
              "      <td>39</td>\n",
              "      <td>3</td>\n",
              "      <td>1</td>\n",
              "      <td>2</td>\n",
              "      <td>2</td>\n",
              "      <td>1</td>\n",
              "      <td>1</td>\n",
              "      <td>1</td>\n",
              "      <td>1</td>\n",
              "    </tr>\n",
              "    <tr>\n",
              "      <th>4</th>\n",
              "      <td>1</td>\n",
              "      <td>12</td>\n",
              "      <td>4</td>\n",
              "      <td>0</td>\n",
              "      <td>2171</td>\n",
              "      <td>1</td>\n",
              "      <td>3</td>\n",
              "      <td>4</td>\n",
              "      <td>3</td>\n",
              "      <td>1</td>\n",
              "      <td>...</td>\n",
              "      <td>2</td>\n",
              "      <td>38</td>\n",
              "      <td>1</td>\n",
              "      <td>2</td>\n",
              "      <td>2</td>\n",
              "      <td>2</td>\n",
              "      <td>2</td>\n",
              "      <td>1</td>\n",
              "      <td>1</td>\n",
              "      <td>1</td>\n",
              "    </tr>\n",
              "  </tbody>\n",
              "</table>\n",
              "<p>5 rows × 21 columns</p>\n",
              "</div>\n",
              "      <button class=\"colab-df-convert\" onclick=\"convertToInteractive('df-09045557-5791-4971-82d6-f4b55d097fc8')\"\n",
              "              title=\"Convert this dataframe to an interactive table.\"\n",
              "              style=\"display:none;\">\n",
              "        \n",
              "  <svg xmlns=\"http://www.w3.org/2000/svg\" height=\"24px\"viewBox=\"0 0 24 24\"\n",
              "       width=\"24px\">\n",
              "    <path d=\"M0 0h24v24H0V0z\" fill=\"none\"/>\n",
              "    <path d=\"M18.56 5.44l.94 2.06.94-2.06 2.06-.94-2.06-.94-.94-2.06-.94 2.06-2.06.94zm-11 1L8.5 8.5l.94-2.06 2.06-.94-2.06-.94L8.5 2.5l-.94 2.06-2.06.94zm10 10l.94 2.06.94-2.06 2.06-.94-2.06-.94-.94-2.06-.94 2.06-2.06.94z\"/><path d=\"M17.41 7.96l-1.37-1.37c-.4-.4-.92-.59-1.43-.59-.52 0-1.04.2-1.43.59L10.3 9.45l-7.72 7.72c-.78.78-.78 2.05 0 2.83L4 21.41c.39.39.9.59 1.41.59.51 0 1.02-.2 1.41-.59l7.78-7.78 2.81-2.81c.8-.78.8-2.07 0-2.86zM5.41 20L4 18.59l7.72-7.72 1.47 1.35L5.41 20z\"/>\n",
              "  </svg>\n",
              "      </button>\n",
              "      \n",
              "  <style>\n",
              "    .colab-df-container {\n",
              "      display:flex;\n",
              "      flex-wrap:wrap;\n",
              "      gap: 12px;\n",
              "    }\n",
              "\n",
              "    .colab-df-convert {\n",
              "      background-color: #E8F0FE;\n",
              "      border: none;\n",
              "      border-radius: 50%;\n",
              "      cursor: pointer;\n",
              "      display: none;\n",
              "      fill: #1967D2;\n",
              "      height: 32px;\n",
              "      padding: 0 0 0 0;\n",
              "      width: 32px;\n",
              "    }\n",
              "\n",
              "    .colab-df-convert:hover {\n",
              "      background-color: #E2EBFA;\n",
              "      box-shadow: 0px 1px 2px rgba(60, 64, 67, 0.3), 0px 1px 3px 1px rgba(60, 64, 67, 0.15);\n",
              "      fill: #174EA6;\n",
              "    }\n",
              "\n",
              "    [theme=dark] .colab-df-convert {\n",
              "      background-color: #3B4455;\n",
              "      fill: #D2E3FC;\n",
              "    }\n",
              "\n",
              "    [theme=dark] .colab-df-convert:hover {\n",
              "      background-color: #434B5C;\n",
              "      box-shadow: 0px 1px 3px 1px rgba(0, 0, 0, 0.15);\n",
              "      filter: drop-shadow(0px 1px 2px rgba(0, 0, 0, 0.3));\n",
              "      fill: #FFFFFF;\n",
              "    }\n",
              "  </style>\n",
              "\n",
              "      <script>\n",
              "        const buttonEl =\n",
              "          document.querySelector('#df-09045557-5791-4971-82d6-f4b55d097fc8 button.colab-df-convert');\n",
              "        buttonEl.style.display =\n",
              "          google.colab.kernel.accessAllowed ? 'block' : 'none';\n",
              "\n",
              "        async function convertToInteractive(key) {\n",
              "          const element = document.querySelector('#df-09045557-5791-4971-82d6-f4b55d097fc8');\n",
              "          const dataTable =\n",
              "            await google.colab.kernel.invokeFunction('convertToInteractive',\n",
              "                                                     [key], {});\n",
              "          if (!dataTable) return;\n",
              "\n",
              "          const docLinkHtml = 'Like what you see? Visit the ' +\n",
              "            '<a target=\"_blank\" href=https://colab.research.google.com/notebooks/data_table.ipynb>data table notebook</a>'\n",
              "            + ' to learn more about interactive tables.';\n",
              "          element.innerHTML = '';\n",
              "          dataTable['output_type'] = 'display_data';\n",
              "          await google.colab.output.renderOutput(dataTable, element);\n",
              "          const docLink = document.createElement('div');\n",
              "          docLink.innerHTML = docLinkHtml;\n",
              "          element.appendChild(docLink);\n",
              "        }\n",
              "      </script>\n",
              "    </div>\n",
              "  </div>\n",
              "  "
            ]
          },
          "metadata": {},
          "execution_count": 3
        }
      ]
    },
    {
      "cell_type": "code",
      "source": [
        "#Una vez cargados los datos en nuestro dataframe, procedemos a cambiar el nombre de las columnas realizando la traducción respectiva de acuerdo a lo indicado \n",
        "#en la descripción del dataset. En este caso asignaremos a la lista 'cols_ingles' el nombre que queremos darle a cada columna en el respectivo orden.\n",
        "cols_ingles = [\"status\", \"duration\", \"credit_history\", \"purpose\", \"amount\", \"savings\", \"employment_duration\", \"installment_rate\", \"personal_status_sex\", \n",
        "               \"other_debtors\", \"present_residence\", \"property\", \"age\", \"other_installment_plans\", \"housing\", \"number_credits\", \"job\", \"people_liable\", \n",
        "               \"telephone\", \"foreign_worker\", \"credit_risk\"]\n",
        "\n",
        "#cols_espanol = [\"estado\", \"duracion\", \"historial_crediticio\", \"proposito\", \"monto\", \"ahorros\", \"duracion_empleo\", \"valor_cuota\", \"estado_personal_sexo\", \n",
        "#               \"otros_deudores\", \"residencia_actual\", \"propiedad\", \"edad\", \"otros_planes_financiacion\", \"casa\", \"numero_de_creditos\", \"cargo\", \n",
        "#               \"persona_confiable\", \"telefono\", \"trabajador_extranjero\", \"riesgo_credito\"]\n",
        "\n",
        "#Renombramos las columnas asignando la lista con los nombres a la propiedad columns del dataframe\n",
        "df.columns=cols_ingles\n",
        "#df.columns=cols_espanol\n",
        "\n",
        "df.head()"
      ],
      "metadata": {
        "colab": {
          "base_uri": "https://localhost:8080/",
          "height": 299
        },
        "id": "VE9CEZ3F2Esj",
        "outputId": "ad9efa81-6d8c-45b6-c6d2-cc6ee4984b0f"
      },
      "execution_count": null,
      "outputs": [
        {
          "output_type": "execute_result",
          "data": {
            "text/plain": [
              "   status  duration  credit_history  purpose  amount  savings  \\\n",
              "0       1        18               4        2    1049        1   \n",
              "1       1         9               4        0    2799        1   \n",
              "2       2        12               2        9     841        2   \n",
              "3       1        12               4        0    2122        1   \n",
              "4       1        12               4        0    2171        1   \n",
              "\n",
              "   employment_duration  installment_rate  personal_status_sex  other_debtors  \\\n",
              "0                    2                 4                    2              1   \n",
              "1                    3                 2                    3              1   \n",
              "2                    4                 2                    2              1   \n",
              "3                    3                 3                    3              1   \n",
              "4                    3                 4                    3              1   \n",
              "\n",
              "   ...  property  age  other_installment_plans  housing  number_credits  job  \\\n",
              "0  ...         2   21                        3        1               1    3   \n",
              "1  ...         1   36                        3        1               2    3   \n",
              "2  ...         1   23                        3        1               1    2   \n",
              "3  ...         1   39                        3        1               2    2   \n",
              "4  ...         2   38                        1        2               2    2   \n",
              "\n",
              "   people_liable  telephone  foreign_worker  credit_risk  \n",
              "0              2          1               2            1  \n",
              "1              1          1               2            1  \n",
              "2              2          1               2            1  \n",
              "3              1          1               1            1  \n",
              "4              2          1               1            1  \n",
              "\n",
              "[5 rows x 21 columns]"
            ],
            "text/html": [
              "\n",
              "  <div id=\"df-2879e304-cd1d-4297-9653-949acbc2e3f8\">\n",
              "    <div class=\"colab-df-container\">\n",
              "      <div>\n",
              "<style scoped>\n",
              "    .dataframe tbody tr th:only-of-type {\n",
              "        vertical-align: middle;\n",
              "    }\n",
              "\n",
              "    .dataframe tbody tr th {\n",
              "        vertical-align: top;\n",
              "    }\n",
              "\n",
              "    .dataframe thead th {\n",
              "        text-align: right;\n",
              "    }\n",
              "</style>\n",
              "<table border=\"1\" class=\"dataframe\">\n",
              "  <thead>\n",
              "    <tr style=\"text-align: right;\">\n",
              "      <th></th>\n",
              "      <th>status</th>\n",
              "      <th>duration</th>\n",
              "      <th>credit_history</th>\n",
              "      <th>purpose</th>\n",
              "      <th>amount</th>\n",
              "      <th>savings</th>\n",
              "      <th>employment_duration</th>\n",
              "      <th>installment_rate</th>\n",
              "      <th>personal_status_sex</th>\n",
              "      <th>other_debtors</th>\n",
              "      <th>...</th>\n",
              "      <th>property</th>\n",
              "      <th>age</th>\n",
              "      <th>other_installment_plans</th>\n",
              "      <th>housing</th>\n",
              "      <th>number_credits</th>\n",
              "      <th>job</th>\n",
              "      <th>people_liable</th>\n",
              "      <th>telephone</th>\n",
              "      <th>foreign_worker</th>\n",
              "      <th>credit_risk</th>\n",
              "    </tr>\n",
              "  </thead>\n",
              "  <tbody>\n",
              "    <tr>\n",
              "      <th>0</th>\n",
              "      <td>1</td>\n",
              "      <td>18</td>\n",
              "      <td>4</td>\n",
              "      <td>2</td>\n",
              "      <td>1049</td>\n",
              "      <td>1</td>\n",
              "      <td>2</td>\n",
              "      <td>4</td>\n",
              "      <td>2</td>\n",
              "      <td>1</td>\n",
              "      <td>...</td>\n",
              "      <td>2</td>\n",
              "      <td>21</td>\n",
              "      <td>3</td>\n",
              "      <td>1</td>\n",
              "      <td>1</td>\n",
              "      <td>3</td>\n",
              "      <td>2</td>\n",
              "      <td>1</td>\n",
              "      <td>2</td>\n",
              "      <td>1</td>\n",
              "    </tr>\n",
              "    <tr>\n",
              "      <th>1</th>\n",
              "      <td>1</td>\n",
              "      <td>9</td>\n",
              "      <td>4</td>\n",
              "      <td>0</td>\n",
              "      <td>2799</td>\n",
              "      <td>1</td>\n",
              "      <td>3</td>\n",
              "      <td>2</td>\n",
              "      <td>3</td>\n",
              "      <td>1</td>\n",
              "      <td>...</td>\n",
              "      <td>1</td>\n",
              "      <td>36</td>\n",
              "      <td>3</td>\n",
              "      <td>1</td>\n",
              "      <td>2</td>\n",
              "      <td>3</td>\n",
              "      <td>1</td>\n",
              "      <td>1</td>\n",
              "      <td>2</td>\n",
              "      <td>1</td>\n",
              "    </tr>\n",
              "    <tr>\n",
              "      <th>2</th>\n",
              "      <td>2</td>\n",
              "      <td>12</td>\n",
              "      <td>2</td>\n",
              "      <td>9</td>\n",
              "      <td>841</td>\n",
              "      <td>2</td>\n",
              "      <td>4</td>\n",
              "      <td>2</td>\n",
              "      <td>2</td>\n",
              "      <td>1</td>\n",
              "      <td>...</td>\n",
              "      <td>1</td>\n",
              "      <td>23</td>\n",
              "      <td>3</td>\n",
              "      <td>1</td>\n",
              "      <td>1</td>\n",
              "      <td>2</td>\n",
              "      <td>2</td>\n",
              "      <td>1</td>\n",
              "      <td>2</td>\n",
              "      <td>1</td>\n",
              "    </tr>\n",
              "    <tr>\n",
              "      <th>3</th>\n",
              "      <td>1</td>\n",
              "      <td>12</td>\n",
              "      <td>4</td>\n",
              "      <td>0</td>\n",
              "      <td>2122</td>\n",
              "      <td>1</td>\n",
              "      <td>3</td>\n",
              "      <td>3</td>\n",
              "      <td>3</td>\n",
              "      <td>1</td>\n",
              "      <td>...</td>\n",
              "      <td>1</td>\n",
              "      <td>39</td>\n",
              "      <td>3</td>\n",
              "      <td>1</td>\n",
              "      <td>2</td>\n",
              "      <td>2</td>\n",
              "      <td>1</td>\n",
              "      <td>1</td>\n",
              "      <td>1</td>\n",
              "      <td>1</td>\n",
              "    </tr>\n",
              "    <tr>\n",
              "      <th>4</th>\n",
              "      <td>1</td>\n",
              "      <td>12</td>\n",
              "      <td>4</td>\n",
              "      <td>0</td>\n",
              "      <td>2171</td>\n",
              "      <td>1</td>\n",
              "      <td>3</td>\n",
              "      <td>4</td>\n",
              "      <td>3</td>\n",
              "      <td>1</td>\n",
              "      <td>...</td>\n",
              "      <td>2</td>\n",
              "      <td>38</td>\n",
              "      <td>1</td>\n",
              "      <td>2</td>\n",
              "      <td>2</td>\n",
              "      <td>2</td>\n",
              "      <td>2</td>\n",
              "      <td>1</td>\n",
              "      <td>1</td>\n",
              "      <td>1</td>\n",
              "    </tr>\n",
              "  </tbody>\n",
              "</table>\n",
              "<p>5 rows × 21 columns</p>\n",
              "</div>\n",
              "      <button class=\"colab-df-convert\" onclick=\"convertToInteractive('df-2879e304-cd1d-4297-9653-949acbc2e3f8')\"\n",
              "              title=\"Convert this dataframe to an interactive table.\"\n",
              "              style=\"display:none;\">\n",
              "        \n",
              "  <svg xmlns=\"http://www.w3.org/2000/svg\" height=\"24px\"viewBox=\"0 0 24 24\"\n",
              "       width=\"24px\">\n",
              "    <path d=\"M0 0h24v24H0V0z\" fill=\"none\"/>\n",
              "    <path d=\"M18.56 5.44l.94 2.06.94-2.06 2.06-.94-2.06-.94-.94-2.06-.94 2.06-2.06.94zm-11 1L8.5 8.5l.94-2.06 2.06-.94-2.06-.94L8.5 2.5l-.94 2.06-2.06.94zm10 10l.94 2.06.94-2.06 2.06-.94-2.06-.94-.94-2.06-.94 2.06-2.06.94z\"/><path d=\"M17.41 7.96l-1.37-1.37c-.4-.4-.92-.59-1.43-.59-.52 0-1.04.2-1.43.59L10.3 9.45l-7.72 7.72c-.78.78-.78 2.05 0 2.83L4 21.41c.39.39.9.59 1.41.59.51 0 1.02-.2 1.41-.59l7.78-7.78 2.81-2.81c.8-.78.8-2.07 0-2.86zM5.41 20L4 18.59l7.72-7.72 1.47 1.35L5.41 20z\"/>\n",
              "  </svg>\n",
              "      </button>\n",
              "      \n",
              "  <style>\n",
              "    .colab-df-container {\n",
              "      display:flex;\n",
              "      flex-wrap:wrap;\n",
              "      gap: 12px;\n",
              "    }\n",
              "\n",
              "    .colab-df-convert {\n",
              "      background-color: #E8F0FE;\n",
              "      border: none;\n",
              "      border-radius: 50%;\n",
              "      cursor: pointer;\n",
              "      display: none;\n",
              "      fill: #1967D2;\n",
              "      height: 32px;\n",
              "      padding: 0 0 0 0;\n",
              "      width: 32px;\n",
              "    }\n",
              "\n",
              "    .colab-df-convert:hover {\n",
              "      background-color: #E2EBFA;\n",
              "      box-shadow: 0px 1px 2px rgba(60, 64, 67, 0.3), 0px 1px 3px 1px rgba(60, 64, 67, 0.15);\n",
              "      fill: #174EA6;\n",
              "    }\n",
              "\n",
              "    [theme=dark] .colab-df-convert {\n",
              "      background-color: #3B4455;\n",
              "      fill: #D2E3FC;\n",
              "    }\n",
              "\n",
              "    [theme=dark] .colab-df-convert:hover {\n",
              "      background-color: #434B5C;\n",
              "      box-shadow: 0px 1px 3px 1px rgba(0, 0, 0, 0.15);\n",
              "      filter: drop-shadow(0px 1px 2px rgba(0, 0, 0, 0.3));\n",
              "      fill: #FFFFFF;\n",
              "    }\n",
              "  </style>\n",
              "\n",
              "      <script>\n",
              "        const buttonEl =\n",
              "          document.querySelector('#df-2879e304-cd1d-4297-9653-949acbc2e3f8 button.colab-df-convert');\n",
              "        buttonEl.style.display =\n",
              "          google.colab.kernel.accessAllowed ? 'block' : 'none';\n",
              "\n",
              "        async function convertToInteractive(key) {\n",
              "          const element = document.querySelector('#df-2879e304-cd1d-4297-9653-949acbc2e3f8');\n",
              "          const dataTable =\n",
              "            await google.colab.kernel.invokeFunction('convertToInteractive',\n",
              "                                                     [key], {});\n",
              "          if (!dataTable) return;\n",
              "\n",
              "          const docLinkHtml = 'Like what you see? Visit the ' +\n",
              "            '<a target=\"_blank\" href=https://colab.research.google.com/notebooks/data_table.ipynb>data table notebook</a>'\n",
              "            + ' to learn more about interactive tables.';\n",
              "          element.innerHTML = '';\n",
              "          dataTable['output_type'] = 'display_data';\n",
              "          await google.colab.output.renderOutput(dataTable, element);\n",
              "          const docLink = document.createElement('div');\n",
              "          docLink.innerHTML = docLinkHtml;\n",
              "          element.appendChild(docLink);\n",
              "        }\n",
              "      </script>\n",
              "    </div>\n",
              "  </div>\n",
              "  "
            ]
          },
          "metadata": {},
          "execution_count": 4
        }
      ]
    },
    {
      "cell_type": "markdown",
      "source": [
        "#**Ejercicio-2.**"
      ],
      "metadata": {
        "id": "xZhr2hkECzVv"
      }
    },
    {
      "cell_type": "code",
      "source": [
        "#Definimos los atributos de entrada como 'X' y a la variable de salida como 'Y'\n",
        "X=df.drop('credit_risk',axis=1)\n",
        "\n",
        "Y=df['credit_risk']\n"
      ],
      "metadata": {
        "id": "kGfAoOPkC1PP"
      },
      "execution_count": null,
      "outputs": []
    },
    {
      "cell_type": "code",
      "source": [
        "#Particionamos nuestros datos en conjunto de entrenamiento y conjunto de pruebas, ya que no requerimos validación debido al método de validación cruzada que\n",
        "#utilizaremos. El conjunto de entrenamiento corresponderá al 85% de los datos.\n",
        "Xtrain, Xtest, Ytrain, Ytest = train_test_split(X, Y, train_size=0.85)\n",
        "\n",
        "Xtrain.info()"
      ],
      "metadata": {
        "id": "GOydw5OGC1MJ",
        "colab": {
          "base_uri": "https://localhost:8080/"
        },
        "outputId": "4f15d929-8bcb-45ef-8ba0-ef8d20d93b94"
      },
      "execution_count": null,
      "outputs": [
        {
          "output_type": "stream",
          "name": "stdout",
          "text": [
            "<class 'pandas.core.frame.DataFrame'>\n",
            "Int64Index: 850 entries, 99 to 30\n",
            "Data columns (total 20 columns):\n",
            " #   Column                   Non-Null Count  Dtype\n",
            "---  ------                   --------------  -----\n",
            " 0   status                   850 non-null    int64\n",
            " 1   duration                 850 non-null    int64\n",
            " 2   credit_history           850 non-null    int64\n",
            " 3   purpose                  850 non-null    int64\n",
            " 4   amount                   850 non-null    int64\n",
            " 5   savings                  850 non-null    int64\n",
            " 6   employment_duration      850 non-null    int64\n",
            " 7   installment_rate         850 non-null    int64\n",
            " 8   personal_status_sex      850 non-null    int64\n",
            " 9   other_debtors            850 non-null    int64\n",
            " 10  present_residence        850 non-null    int64\n",
            " 11  property                 850 non-null    int64\n",
            " 12  age                      850 non-null    int64\n",
            " 13  other_installment_plans  850 non-null    int64\n",
            " 14  housing                  850 non-null    int64\n",
            " 15  number_credits           850 non-null    int64\n",
            " 16  job                      850 non-null    int64\n",
            " 17  people_liable            850 non-null    int64\n",
            " 18  telephone                850 non-null    int64\n",
            " 19  foreign_worker           850 non-null    int64\n",
            "dtypes: int64(20)\n",
            "memory usage: 139.5 KB\n"
          ]
        }
      ]
    },
    {
      "cell_type": "markdown",
      "source": [
        "#**Ejercicio-3.**"
      ],
      "metadata": {
        "id": "NCunuooTC2W3"
      }
    },
    {
      "cell_type": "code",
      "source": [
        "#**********************************************************************************************************************************************************************\n",
        "#Creamos los pipelines para la imputación, la transformación (escalar) de las variables numéricas y para la transformación One-hot de las variables\n",
        "#categóricas y binarias:\n",
        "#**********************************************************************************************************************************************************************\n",
        "#Almacenamos las variables numéricas en una lista para mayor facilidad en su uso\n",
        "XNumericas=[\"age\", \"amount\", \"duration\"]\n",
        "#Creamos el pipeline para las numéricas con la imputación utilizando la media y el minmax para escalar los datos numéricos a un rango equiparable\n",
        "pipeline_numericas = Pipeline(steps = [('impMedia', SimpleImputer(strategy='mean')),('scalar', MinMaxScaler(feature_range=(1,2)))])\n",
        "#pipeline_numericas = Pipeline(steps = [('impMediana', SimpleImputer(strategy='median')),('scalar', MinMaxScaler(feature_range=(1,2)))])\n",
        "\n",
        "#Almacenamos las variables categóricas y ordinales en una lista para mayor facilidad en su uso\n",
        "XCategoricas=[\"status\",\"credit_history\", \"purpose\", \"savings\", \"personal_status_sex\", \"other_debtors\",\n",
        "                                                               \"other_installment_plans\", \"housing\"]\n",
        "#Creamos el pipeline para las categóricas con la imputación utilizando la moda y aplicando la transformación One-Hot\n",
        "pipeline_categoricas = Pipeline(steps = [('impModa', SimpleImputer(strategy='most_frequent')), ('OneHotE', OneHotEncoder(drop='first', handle_unknown='ignore'))])\n",
        "\n",
        "#Almacenamos las variables binarias en una lista para mayor facilidad en su uso\n",
        "XBinarias = [\"people_liable\", \"telephone\", \"foreign_worker\"]\n",
        "#Creamos el pipeline para las categóricas con la imputación utilizando la moda y aplicando la transformación One-Hot\n",
        "pipeline_binarias = Pipeline(steps = [('impModa', SimpleImputer(strategy='most_frequent')), ('OneHotE', OneHotEncoder(drop='first', handle_unknown='ignore'))])\n"
      ],
      "metadata": {
        "id": "BKI80-YdC4HN"
      },
      "execution_count": null,
      "outputs": []
    },
    {
      "cell_type": "code",
      "source": [
        "Justifica que tipo de imputación realizas en cada caso:\n",
        "Justifica porque a las variables binarias se les aplica One-Hot Enconding:"
      ],
      "metadata": {
        "id": "4mJpzmmFv2Uo"
      },
      "execution_count": null,
      "outputs": []
    },
    {
      "cell_type": "code",
      "source": [
        "#Establecemos a \"Columnas_Transformar\" como la variable para transformar todas las columnas definidas en el punto anterior, llamando los pipeline creados previamente.\n",
        "Columnas_Transformar = ColumnTransformer(transformers=[('numericas', pipeline_numericas,XNumericas), ('categoricas', pipeline_categoricas, XCategoricas), \n",
        "                                                     ('binarias', pipeline_binarias, XBinarias)]) #remainder='passthrough')\n",
        "#Aplicamos la transformación de las columnas requeridas (numéricas, categóricas y binarias solamente)\n",
        "#X_train_fit = Columnas_Transformar.fit(Xtrain)\n",
        "#pd.DataFrame(X_train_fit.transform(Xtrain))"
      ],
      "metadata": {
        "id": "-ow3gYPwRfHF"
      },
      "execution_count": null,
      "outputs": []
    },
    {
      "cell_type": "markdown",
      "source": [
        "#**Ejercicio-4.**"
      ],
      "metadata": {
        "id": "chqk9jIDC5Pq"
      }
    },
    {
      "cell_type": "code",
      "source": [
        "#Creamos la función obtener_modelos para utilizarla durante el procesamiento de los datos\n",
        "def obtener_modelos():\n",
        "  #Creamos las listas en blanco para almacenar los modelos a utilizar y los nombres de cada modelo\n",
        "  modelos = list()\n",
        "  nombres = list()\n",
        "\n",
        "  #Creamos el registro del modelo de regresión logística en las listas modelo y nombres\n",
        "  modelos.append(LogisticRegression(max_iter=3000))\n",
        "  nombres.append('LR')\n",
        "\n",
        "  #Creamos el registro del modelo de árbol de decisión en las listas modelo y nombres\n",
        "  modelos.append(DecisionTreeClassifier())\n",
        "  nombres.append('DT')\n",
        "\n",
        "  #Creamos el registro de Random Forest en las listas modelo y nombres\n",
        "  modelos.append(RandomForestClassifier())\n",
        "  nombres.append('RF')\n",
        "  \n",
        "  #Devolvemos las listas creadas para el procesamiento respectivo\n",
        "  return modelos, nombres"
      ],
      "metadata": {
        "id": "RBVSFwK4C6g9"
      },
      "execution_count": null,
      "outputs": []
    },
    {
      "cell_type": "code",
      "source": [
        "#Definimos nuestras funciones de cálculo del score para cada una de las opciones requeridas\n",
        "#Función para cálculo de accuracy\n",
        "def mi_accuracy(yreal, ypred):\n",
        "  tn, fp, fn, tp = confusion_matrix(yreal, ypred).ravel()\n",
        "  accuracy = (tp+tn)/(tp+tn+fp+fn)\n",
        "  return accuracy\n",
        "\n",
        "#Función para cálculo de precisión\n",
        "def mi_precision(yreal, ypred):\n",
        "  tn, fp, fn, tp = confusion_matrix(yreal,ypred).ravel()\n",
        "  precision = tp/(tp+fp)\n",
        "  return precision\n",
        "\n",
        "#Función para cálculo de recall\n",
        "def mi_recall(yreal, ypred):\n",
        "  tn, fp, fn, tp = confusion_matrix(yreal,ypred).ravel()\n",
        "  recall = tp/(tp+fn)\n",
        "  return recall\n",
        "\n",
        "#Función para cálculo de f1 score\n",
        "def mi_f1score(yreal, ypred):\n",
        "  tn, fp, fn, tp = confusion_matrix(yreal, ypred).ravel()\n",
        "  f1score = (2*tp)/((2*tp)+fp+fn)\n",
        "  return f1score\n",
        "\n",
        "#Función para cálculo de gmean\n",
        "def mi_gmean(yreal, ypred):\n",
        "    tn, fp, fn, tp = confusion_matrix(yreal, ypred).ravel()\n",
        "    recall = tp/(tp+fn)\n",
        "    especificidad = tn/(tn+fp)\n",
        "    gmean=np.sqrt(recall*especificidad)\n",
        "    return gmean"
      ],
      "metadata": {
        "id": "5bpHN8D7vkXF"
      },
      "execution_count": null,
      "outputs": []
    },
    {
      "cell_type": "code",
      "source": [
        "#A continuación generamos la validación cruzada para los modelos almacenados en las listas previas e imprimimos las métricas para los\n",
        "#conjuntos de entrenamiento y validación.\n",
        "\n",
        "#Se agrega temporalmente para eliminar el warning de división por cero\n",
        "import warnings\n",
        "warnings.filterwarnings(\"ignore\")\n",
        "\n",
        "#Captamos en las variables modelos y nombres, los modelos y descripciones almacenadas en las listas, llamando la función creada previamente.\n",
        "modelos, nombres = obtener_modelos()\n",
        "\n",
        "#Creamos una lista en blanco para almacenar el resultado de la iteración\n",
        "resultados = list()\n",
        "\n",
        "#Comenzamos a recorrer todos los modelos almacenados en la lista modelos\n",
        "for i in range(len(modelos)):\n",
        "\n",
        "  #Definimos los K pliegues que utilizaremos en nuestra validación cruzada, en este caso, 5 divisiones y 3 repeticiones\n",
        "  kfold = RepeatedStratifiedKFold(n_splits=5, n_repeats=3)\n",
        "  #Creamos nuestro pipeline con los pasos de transformación y ejecución de los modelos\n",
        "  pipeline = Pipeline(steps=[(\"ct\", Columnas_Transformar), (\"m\", modelos[i])])\n",
        "\n",
        "  #Almacenamos las métricas a utilizar en la lista 'mismetricas' y llamamos las funciones de métricas creadas previamente\n",
        "  mismetricas = {\n",
        "      \"accuracy\": make_scorer(mi_accuracy),\n",
        "      \"precision\": make_scorer(mi_precision),\n",
        "      \"recall\": make_scorer(mi_recall),\n",
        "      \"f1score\": make_scorer(mi_f1score),\n",
        "      \"gmean\": make_scorer(mi_gmean)\n",
        "\n",
        "  }\n",
        "\n",
        "  #Ejecutamos la validación cruzada y almacenamos el resultado en la variable 'resultadosOU'\n",
        "  resultadosOU = cross_validate(pipeline, Xtrain, Ytrain, scoring=mismetricas, cv=kfold,  \n",
        "                                return_train_score=True\n",
        "                                )\n",
        "  resultados.append(resultadosOU)\n",
        "\n",
        "  print(\"Métricas de %s para los datos de entrenamiento:\" %nombres[i])\n",
        "  print(\"\\nmean Accuracy: %.3f \\nmean Precision: %.3f \\nmean Recall: %.3f \\nmean f1score: %.3f \\nGmean : %.3f \\n\" % (\n",
        "                                               np.mean(resultadosOU[\"train_accuracy\"]),\n",
        "                                               np.mean(resultadosOU[\"train_precision\"]),\n",
        "                                               np.mean(resultadosOU[\"train_recall\"]),\n",
        "                                              np.mean(resultadosOU[\"train_f1score\"]),\n",
        "                                               np.mean(resultadosOU[\"train_gmean\"])\n",
        "  ))                  \n",
        "\n",
        "  print(\"Métricas de %s para los datos de validación:\" %nombres[i])\n",
        "  print(\"\\nmean Accuracy: %.3f \\nmean Precision: %.3f \\nmean Recall: %.3f \\nmean f1score: %.3f \\nGmean : %.3f \\n\" % (\n",
        "                                               np.mean(resultadosOU[\"test_accuracy\"]),\n",
        "                                               np.mean(resultadosOU[\"test_precision\"]),\n",
        "                                               np.mean(resultadosOU[\"test_recall\"]),\n",
        "                                               np.mean(resultadosOU[\"test_f1score\"]),\n",
        "                                               np.mean(resultadosOU[\"test_gmean\"])\n",
        "  ))                                                    "
      ],
      "metadata": {
        "id": "q4dJY1B7AsXp",
        "colab": {
          "base_uri": "https://localhost:8080/"
        },
        "outputId": "93edf01b-2ec1-4fe0-e46d-af99891ffb0d"
      },
      "execution_count": null,
      "outputs": [
        {
          "output_type": "stream",
          "name": "stdout",
          "text": [
            "Métricas de LR para los datos de entrenamiento:\n",
            "\n",
            "mean Accuracy: 0.785 \n",
            "mean Precision: 0.811 \n",
            "mean Recall: 0.906 \n",
            "mean f1score: 0.856 \n",
            "Gmean : 0.672 \n",
            "\n",
            "Métricas de LR para los datos de validación:\n",
            "\n",
            "mean Accuracy: 0.753 \n",
            "mean Precision: 0.788 \n",
            "mean Recall: 0.887 \n",
            "mean f1score: 0.834 \n",
            "Gmean : 0.618 \n",
            "\n",
            "Métricas de DT para los datos de entrenamiento:\n",
            "\n",
            "mean Accuracy: 1.000 \n",
            "mean Precision: 1.000 \n",
            "mean Recall: 1.000 \n",
            "mean f1score: 1.000 \n",
            "Gmean : 1.000 \n",
            "\n",
            "Métricas de DT para los datos de validación:\n",
            "\n",
            "mean Accuracy: 0.656 \n",
            "mean Precision: 0.765 \n",
            "mean Recall: 0.739 \n",
            "mean f1score: 0.751 \n",
            "Gmean : 0.582 \n",
            "\n",
            "Métricas de RF para los datos de entrenamiento:\n",
            "\n",
            "mean Accuracy: 1.000 \n",
            "mean Precision: 1.000 \n",
            "mean Recall: 1.000 \n",
            "mean f1score: 1.000 \n",
            "Gmean : 1.000 \n",
            "\n",
            "Métricas de RF para los datos de validación:\n",
            "\n",
            "mean Accuracy: 0.746 \n",
            "mean Precision: 0.770 \n",
            "mean Recall: 0.911 \n",
            "mean f1score: 0.835 \n",
            "Gmean : 0.563 \n",
            "\n"
          ]
        }
      ]
    },
    {
      "cell_type": "code",
      "source": [
        "#Se generan los boxplots de los tres modelos utilizando solo la métrica 'recall'\n",
        "sns.set(rc={'figure.figsize':(8,4)})\n",
        "bprecall = list()\n",
        "for i in range(len(resultados)):\n",
        "  rr = resultados[i]['test_recall']\n",
        "  bprecall.append(rr)\n",
        "plt.boxplot(bprecall, labels=nombres, showmeans=True)\n",
        "plt.show()"
      ],
      "metadata": {
        "colab": {
          "base_uri": "https://localhost:8080/",
          "height": 268
        },
        "id": "4O4yeI8QJQd8",
        "outputId": "aa20da31-5db1-45e8-e484-9d45a37d40b7"
      },
      "execution_count": null,
      "outputs": [
        {
          "output_type": "display_data",
          "data": {
            "text/plain": [
              "<Figure size 576x288 with 1 Axes>"
            ],
            "image/png": "[encoded data removed]"
          },
          "metadata": {}
        }
      ]
    },
    {
      "cell_type": "markdown",
      "source": [
        "✍ A través de los diagramas de caja y bigote podemos determinar que para DT y RF no se visualiza una variación alta en el conjunto de datos, por ende no podríamos determinar si el conjunto está sobreentrenado o subentrenado con estos modelos, por otra parte, para LR, vemos una alta varianza y un sesgo negativo, lo que nos da a entender que el conjunto de datos podría estar sobreentrenado, sin embargo, procederemos a graficar las curvas de aprendizaje para una mejor definición de estos conceptos en el entrenamiento de los modelos."
      ],
      "metadata": {
        "id": "TMBsv_MILvBJ"
      }
    },
    {
      "cell_type": "code",
      "source": [
        "def get_models_underoversampling():\n",
        "  models, names = list(), list()\n",
        "\n",
        "  # RO\n",
        "  models.append(RandomOverSampler())\n",
        "  names.append('RandOver')\n",
        "  # RU\n",
        "  models.append(RandomUnderSampler())\n",
        "  names.append('RandUnder')\n",
        "  # TL\n",
        "  models.append(TomekLinks())\n",
        "  names.append('TomekLinks')\n",
        "  # ENN\n",
        "  models.append(EditedNearestNeighbours())\n",
        "  names.append('ENN')\n",
        "  #SMOTE\n",
        "  models.append(SMOTE())\n",
        "  names.append('SMOTE')\n",
        "  # SMOTEENN\n",
        "  models.append(SMOTEENN())\n",
        "  names.append('SMOTEENN')\n",
        "  #SMOTETek\n",
        "  models.append(SMOTETomek())\n",
        "  names.append('SMOTETek')\n",
        "\n",
        "  \n",
        "  return models, names"
      ],
      "metadata": {
        "id": "vJqDjtAoMzRQ"
      },
      "execution_count": null,
      "outputs": []
    },
    {
      "cell_type": "code",
      "source": [
        "modelos"
      ],
      "metadata": {
        "colab": {
          "base_uri": "https://localhost:8080/"
        },
        "id": "1o75sznLOVOO",
        "outputId": "5208221d-7117-46d6-d213-abc9e2fba4c7"
      },
      "execution_count": null,
      "outputs": [
        {
          "output_type": "execute_result",
          "data": {
            "text/plain": [
              "[LogisticRegression(max_iter=3000),\n",
              " DecisionTreeClassifier(),\n",
              " RandomForestClassifier()]"
            ]
          },
          "metadata": {},
          "execution_count": 17
        }
      ]
    },
    {
      "cell_type": "code",
      "source": [
        "\n",
        "\n",
        "modelosOU, nombres = get_models_underoversampling()       \n",
        "resultados = list()\n",
        "\n",
        "for i in range(len(modelosOU)):\n",
        "\n",
        "  model =  RandomForestClassifier()  # ahora probemos con el argumento \"balanced\"\n",
        "  \n",
        "  kfold = RepeatedStratifiedKFold(n_splits=5, n_repeats=3)\n",
        "\n",
        "  pipe = make_pipeline(( modelosOU[i]), ( model))\n",
        "\n",
        "  metric = {'accuracy':'accuracy', 'recall':'recall', 'gmean':make_scorer(geometric_mean_score),'f1':'f1','precision':'precision' }\n",
        "\n",
        "  scores = cross_validate(pipe, \n",
        "                          Xtrain, Ytrain,\n",
        "                          scoring=metric,\n",
        "                          cv=kfold)\n",
        "  \n",
        "  resultados.append(scores)\n",
        "\n",
        "  print('>> %s:\\nmean Accuracy: %.3f \\nmean Recall: %.3f  \\nGmean: %.3f \\nF1-Score: %.3f \\nPrecision: %.3f' % (nombres[i],\n",
        "                                                                           np.mean(scores['test_accuracy']), \n",
        "                                                                           np.mean(scores['test_recall']),\n",
        "                                                                           np.mean(scores['test_gmean']),\n",
        "                                                                           np.mean(scores['test_f1']),\n",
        "                                                                           np.mean(scores['test_precision'])  \n",
        "                                                                           ))"
      ],
      "metadata": {
        "colab": {
          "base_uri": "https://localhost:8080/"
        },
        "id": "oD0R06ZBMopo",
        "outputId": "15f398d9-2927-45c4-ca89-ecddcc66adbb"
      },
      "execution_count": null,
      "outputs": [
        {
          "output_type": "stream",
          "name": "stdout",
          "text": [
            ">> RandOver:\n",
            "mean Accuracy: 0.756 \n",
            "mean Recall: 0.858  \n",
            "Gmean: 0.662 \n",
            "F1-Score: 0.832 \n",
            "Precision: 0.808\n",
            ">> RandUnder:\n",
            "mean Accuracy: 0.690 \n",
            "mean Recall: 0.671  \n",
            "Gmean: 0.700 \n",
            "F1-Score: 0.752 \n",
            "Precision: 0.859\n",
            ">> TomekLinks:\n",
            "mean Accuracy: 0.756 \n",
            "mean Recall: 0.870  \n",
            "Gmean: 0.648 \n",
            "F1-Score: 0.834 \n",
            "Precision: 0.800\n",
            ">> ENN:\n",
            "mean Accuracy: 0.656 \n",
            "mean Recall: 0.601  \n",
            "Gmean: 0.686 \n",
            "F1-Score: 0.711 \n",
            "Precision: 0.869\n",
            ">> SMOTE:\n",
            "mean Accuracy: 0.748 \n",
            "mean Recall: 0.823  \n",
            "Gmean: 0.683 \n",
            "F1-Score: 0.821 \n",
            "Precision: 0.821\n",
            ">> SMOTEENN:\n",
            "mean Accuracy: 0.689 \n",
            "mean Recall: 0.716  \n",
            "Gmean: 0.666 \n",
            "F1-Score: 0.763 \n",
            "Precision: 0.820\n",
            ">> SMOTETek:\n",
            "mean Accuracy: 0.737 \n",
            "mean Recall: 0.802  \n",
            "Gmean: 0.683 \n",
            "F1-Score: 0.811 \n",
            "Precision: 0.821\n"
          ]
        }
      ]
    },
    {
      "cell_type": "code",
      "source": [
        "\n",
        "# REGRESION LOGISTICA\n",
        "# >> RandOver:\n",
        "# mean Accuracy: 0.720 \n",
        "# mean Recall: 0.725  \n",
        "# Gmean: 0.715 \n",
        "# F1-Score: 0.784\n",
        "# >> RandUnder:\n",
        "# mean Accuracy: 0.712 \n",
        "# mean Recall: 0.715  \n",
        "# Gmean: 0.709 \n",
        "# F1-Score: 0.777\n",
        "# >> TomekLinks:*******\n",
        "# mean Accuracy: 0.748 \n",
        "# mean Recall: 0.853  \n",
        "# Gmean: 0.651 \n",
        "# F1-Score: 0.827\n",
        "# >> ENN:\n",
        "# mean Accuracy: 0.677 \n",
        "# mean Recall: 0.641  \n",
        "# Gmean: 0.697 \n",
        "# F1-Score: 0.735\n",
        "# >> SMOTE:\n",
        "# mean Accuracy: 0.747 \n",
        "# mean Recall: 0.790  \n",
        "# Gmean: 0.711 \n",
        "# F1-Score: 0.814\n",
        "# >> SMOTEENN:\n",
        "# mean Accuracy: 0.685 \n",
        "# mean Recall: 0.691  \n",
        "# Gmean: 0.678 \n",
        "# F1-Score: 0.755\n",
        "# >> SMOTETek:\n",
        "# mean Accuracy: 0.740 \n",
        "# mean Recall: 0.776  \n",
        "# Gmean: 0.711 \n",
        "# F1-Score: 0.807"
      ],
      "metadata": {
        "id": "CUS7sLWWQCdo"
      },
      "execution_count": null,
      "outputs": []
    },
    {
      "cell_type": "code",
      "source": [
        "\n",
        "#DECISION TREE\n",
        "# >> RandOver:\n",
        "# mean Accuracy: 0.679 \n",
        "# mean Recall: 0.773  \n",
        "# Gmean: 0.592 \n",
        "# F1-Score: 0.772 \n",
        "# Precision: 0.772\n",
        "# >> RandUnder:\n",
        "# mean Accuracy: 0.624 \n",
        "# mean Recall: 0.622  \n",
        "# Gmean: 0.624 \n",
        "# F1-Score: 0.699 \n",
        "# Precision: 0.800\n",
        "# >> TomekLinks:\n",
        "# mean Accuracy: 0.655 \n",
        "# mean Recall: 0.720  \n",
        "# Gmean: 0.597 \n",
        "# F1-Score: 0.746 \n",
        "# Precision: 0.776\n",
        "# >> ENN:****\n",
        "# mean Accuracy: 0.602 \n",
        "# mean Recall: 0.557  \n",
        "# Gmean: 0.626 \n",
        "# F1-Score: 0.663 \n",
        "# Precision: 0.821\n",
        "# >> SMOTE:\n",
        "# mean Accuracy: 0.689 \n",
        "# mean Recall: 0.751  \n",
        "# Gmean: 0.636 \n",
        "# F1-Score: 0.772 \n",
        "# Precision: 0.795\n",
        "# >> SMOTEENN:\n",
        "# mean Accuracy: 0.653 \n",
        "# mean Recall: 0.681  \n",
        "# Gmean: 0.629 \n",
        "# F1-Score: 0.732 \n",
        "# Precision: 0.797\n",
        "# >> SMOTETek:\n",
        "# mean Accuracy: 0.686 \n",
        "# mean Recall: 0.749  \n",
        "# Gmean: 0.633 \n",
        "# F1-Score: 0.770 \n",
        "# Precision: 0.793"
      ],
      "metadata": {
        "id": "crgLlD6ZQYbt"
      },
      "execution_count": null,
      "outputs": []
    },
    {
      "cell_type": "code",
      "source": [
        "#RANDOM FOREST\n",
        "\n",
        "# >> RandOver:\n",
        "# mean Accuracy: 0.756 \n",
        "# mean Recall: 0.858  \n",
        "# Gmean: 0.662 \n",
        "# F1-Score: 0.832 \n",
        "# Precision: 0.808\n",
        "# >> RandUnder:\n",
        "# mean Accuracy: 0.690 \n",
        "# mean Recall: 0.671  \n",
        "# Gmean: 0.700 \n",
        "# F1-Score: 0.752 \n",
        "# Precision: 0.859\n",
        "# >> TomekLinks:******\n",
        "# mean Accuracy: 0.756 \n",
        "# mean Recall: 0.870  \n",
        "# Gmean: 0.648 \n",
        "# F1-Score: 0.834 \n",
        "# Precision: 0.800\n",
        "# >> ENN:\n",
        "# mean Accuracy: 0.656 \n",
        "# mean Recall: 0.601  \n",
        "# Gmean: 0.686 \n",
        "# F1-Score: 0.711 \n",
        "# Precision: 0.869\n",
        "# >> SMOTE:\n",
        "# mean Accuracy: 0.748 \n",
        "# mean Recall: 0.823  \n",
        "# Gmean: 0.683 \n",
        "# F1-Score: 0.821 \n",
        "# Precision: 0.821\n",
        "# >> SMOTEENN:\n",
        "# mean Accuracy: 0.689 \n",
        "# mean Recall: 0.716  \n",
        "# Gmean: 0.666 \n",
        "# F1-Score: 0.763 \n",
        "# Precision: 0.820\n",
        "# >> SMOTETek:\n",
        "# mean Accuracy: 0.737 \n",
        "# mean Recall: 0.802  \n",
        "# Gmean: 0.683 \n",
        "# F1-Score: 0.811 \n",
        "# Precision: 0.821"
      ],
      "metadata": {
        "id": "ovds7Q6UREfV"
      },
      "execution_count": null,
      "outputs": []
    },
    {
      "cell_type": "code",
      "source": [
        "def mi_PlotCurvaAprendizaje(ModeloTipo, train_sizes, train_scores, val_scores, TipoImpresion):\n",
        "\n",
        "    # Argumentos de entrada de la función mi_LearningCurvePlot:\n",
        "    #      train_sizes : número de observaciones en el conjunto de entrenamiento.\n",
        "    #      train_scores : Exactitud de cada partición en el proceso de Validación-Cruzada (VC) en los datos de entrenamiento.\n",
        "    #                     La dimensión de este conjunto es (pxq) \n",
        "    #                                     donde p=\"número de particiones de manera incremental del conjunto de entrenamiento\".\n",
        "    #                                           q=\"número de particiones de VC\" * \"número de repeticiones de VC con RepitedStratifiedCV\"\n",
        "    #      val_scores : Exactitud de cada partición en el proceso de Validación-Cruzada en los datos de validación.\n",
        "    #                   Es de la misma dimensión que los train_scores. \n",
        "    # Output: la salida es el gráfico con las curvas de aprendizaje.\n",
        "\n",
        "    # Obtenemos los promedios y desviaciones estándar de cada renglón de los resultados de entrenamiento y validación\n",
        "    # La dimensión de cada uno es p=\"número de particiones de manera incremental del conjunto de entrenamiento\".\n",
        "    train_mean = np.mean(train_scores, axis=1)\n",
        "    train_std = np.std(train_scores, axis=1)\n",
        "    val_mean = np.mean(val_scores, axis=1)\n",
        "    val_std = np.std(val_scores, axis=1)\n",
        "\n",
        "    # Graficamos las curvas de aprendizaje incluyendo una región indicando la desviación estándar.\n",
        "    plt.figure(figsize=(7,6))\n",
        "    plt.plot(train_sizes, train_mean, color='blue', marker='o', markersize=5, label='Training')\n",
        "    plt.fill_between(train_sizes, train_mean + train_std, train_mean - train_std, alpha=0.1, color='blue')\n",
        "    \n",
        "    plt.plot(train_sizes, val_mean, color='red', marker='+', markersize=5, linestyle='--', label='Validation')\n",
        "    plt.fill_between(train_sizes, val_mean + val_std, val_mean - val_std, alpha=0.1, color='red')\n",
        "    \n",
        "    if TipoImpresion==\"Incremental\":\n",
        "      plt.title('Curvas de Aprendizaje incremental')\n",
        "      plt.xlabel('Tamaño del conjunto de entrenamiento')\n",
        "    else:\n",
        "      plt.title('Curvas de Aprendizaje')\n",
        "      plt.xlabel('Tamaño del conjunto de entrenamiento')\n",
        "\n",
        "    #Si es Random Forrest utilizamos la métrica recall, para los otros utilizamos la métrica F1 score\n",
        "    if ModeloTipo==\"RF\":\n",
        "      plt.ylabel('recall')\n",
        "    else:\n",
        "      plt.ylabel('F1 score')\n",
        "\n",
        "    plt.grid()\n",
        "    plt.legend(loc='lower left')\n",
        "    plt.show()"
      ],
      "metadata": {
        "id": "xkxPK_i_RMKw"
      },
      "execution_count": null,
      "outputs": []
    },
    {
      "cell_type": "code",
      "source": [
        "def mi_CurvaAprendizaje(ModeloTipo, ModeloCurva, Xcurva, ycurva, TipoImpresion):\n",
        "\n",
        "  #Capturamos la curva a graficar\n",
        "  MiModelo = ModeloCurva\n",
        "\n",
        "  #Aplicamos la transformación según lo definido previamente\n",
        "  ColsX = Columnas_Transformar.fit(Xcurva)\n",
        "  TransX = ColsX.transform(Xcurva)\n",
        "\n",
        "  #Definimos los K pliegues que utilizaremos en nuestra validación cruzada, en este caso, 5 divisiones y 3 repeticiones\n",
        "  mi_kfold = RepeatedStratifiedKFold(n_splits=5, n_repeats=3, random_state=0)\n",
        "\n",
        "\n",
        "  #Creamos un arreglo con los 20 valores de los tamaños de muestra:\n",
        "  delta_train_sz = np.linspace(0.1, 1.0, 20)\n",
        "\n",
        "\n",
        "  #Ejecutamos la función learning curve para capturar las variables tr_sizes, tr_scores y val_scores, que posteriormente utilizaremos en la graficación\n",
        "  if (ModeloTipo == \"LR\"):\n",
        "    #Si el modelo es LR utilizaremos la métrica f1 \n",
        "    tr_sizes, tr_scores, val_scores = learning_curve(estimator = MiModelo,    \n",
        "                                                      X = TransX,\n",
        "                                                      y = ycurva,\n",
        "                                                      cv = mi_kfold ,\n",
        "                                                      train_sizes = delta_train_sz ,\n",
        "                                                      random_state=0,\n",
        "                                                      scoring=make_scorer(mi_f1score))\n",
        "  elif (ModeloTipo == \"RF\"):\n",
        "    #Si el modelo es LR utilizaremos la métrica recall \n",
        "    tr_sizes, tr_scores, val_scores = learning_curve(estimator = MiModelo,    \n",
        "                                                      X = TransX,\n",
        "                                                      y = ycurva,\n",
        "                                                      cv = mi_kfold ,\n",
        "                                                      train_sizes = delta_train_sz ,\n",
        "                                                      random_state=0,\n",
        "                                                      scoring=make_scorer(mi_recall))\n",
        "\n",
        "  #Enviamos a nuestra función de graficación los valores obtenidos y esperamos que nos genere las curvas de aprendizaje:\n",
        "  mi_PlotCurvaAprendizaje(ModeloTipo, tr_sizes, tr_scores, val_scores, TipoImpresion)"
      ],
      "metadata": {
        "id": "_--SONJqRW2M"
      },
      "execution_count": null,
      "outputs": []
    },
    {
      "cell_type": "code",
      "source": [
        "def mi_CurvaValidacion(ModeloCurva, Xcurva, ycurva):\n",
        "  \n",
        "  #Capturamos la curva a graficar\n",
        "  MiModelo = ModeloCurva\n",
        "\n",
        "  #Aplicamos la transformación según lo definido previamente\n",
        "  ColsX = Columnas_Transformar.fit(Xcurva)\n",
        "  TransX = ColsX.transform(Xcurva)\n",
        "\n",
        "  #Definimos los K pliegues que utilizaremos en nuestra validación cruzada, en este caso, 5 divisiones y 3 repeticiones\n",
        "  mi_kfold = RepeatedStratifiedKFold(n_splits=5, n_repeats=3, random_state=0)\n",
        "\n",
        "  #Ejecutamos la función validation curve para capturar las variables tr_scores y val_scores, que posteriormente utilizaremos en la graficación\n",
        "  #Según lo indicado utilizaremos la métrica f1 para el modelo DT \n",
        "  tr_scores, val_scores = validation_curve(estimator = MiModelo,    \n",
        "                                                        X = TransX,\n",
        "                                                        y = Ytrain,\n",
        "                                                        cv = mi_kfold ,\n",
        "                                                        param_name='max_depth',\n",
        "                                                        param_range=np.arange(1, 20),\n",
        "                                                        scoring=make_scorer(mi_f1score))\n",
        "\n",
        "  #Calculamos las variables requeridas para la graficación\n",
        "\n",
        "  #Obtenemos la media para las métricas en el conjunto de entrenamiento\n",
        "  train_mean = np.mean(tr_scores, axis=1)\n",
        "  #Obtenemos la desviación estandar para las métricas en el conjunto de entrenamiento\n",
        "  train_std = np.std(tr_scores, axis=1)\n",
        "\n",
        "  #Obtenemos la media para las métricas en el conjunto de pruebas\n",
        "  test_mean = np.mean(val_scores, axis=1)\n",
        "  #Obtenemos la desviación estandar para las métricas en el conjunto de pruebas\n",
        "  test_std = np.std(val_scores, axis=1)\n",
        "\n",
        "  #Definimos el rango en el cual graficaremos la curva de validación\n",
        "  param_range = np.arange(1, 20, 1)\n",
        "\n",
        "  #Comenzamos la graficación de la curva\n",
        "  plt.subplots(1, figsize=(7,7))\n",
        "  plt.plot(param_range, train_mean, label=\"Training\", color=\"blue\")\n",
        "  plt.plot(param_range, test_mean, label=\"Validation\", color=\"red\")\n",
        "\n",
        "  plt.fill_between(param_range, train_mean - train_std, train_mean + train_std, color=\"gray\")\n",
        "  plt.fill_between(param_range, test_mean - test_std, test_mean + test_std, color=\"gainsboro\")\n",
        "\n",
        "  plt.title(\"Curva de Validación\")\n",
        "  plt.xlabel(\"Número de árboles\")\n",
        "  plt.ylabel(\"F1 Score\")\n",
        "  plt.tight_layout()\n",
        "  plt.legend(loc=\"best\")\n",
        "  plt.show()"
      ],
      "metadata": {
        "id": "gA8rVGH3oK4W"
      },
      "execution_count": null,
      "outputs": []
    },
    {
      "cell_type": "code",
      "source": [
        "for i in range(len(modelos)):\n",
        "  if nombres[i]==\"DT\":\n",
        "    print('Curvas de validación del modelo %s'%nombres[i])\n",
        "    mi_CurvaValidacion(modelos[i], Xtrain, Ytrain)\n",
        "  else:\n",
        "    print('Curvas de aprendizaje del modelo %s'%nombres[i])\n",
        "    mi_CurvaAprendizaje(nombres[i], modelos[i], Xtrain, Ytrain, \"Normal\")"
      ],
      "metadata": {
        "colab": {
          "base_uri": "https://localhost:8080/",
          "height": 1000
        },
        "id": "EQgvxYQDRcco",
        "outputId": "6d749706-8d1a-48a1-e754-2b89a65ab695"
      },
      "execution_count": null,
      "outputs": [
        {
          "output_type": "stream",
          "name": "stdout",
          "text": [
            "Curvas de aprendizaje del modelo LR\n"
          ]
        },
        {
          "output_type": "display_data",
          "data": {
            "text/plain": [
              "<Figure size 504x432 with 1 Axes>"
            ],
            "image/png": "[encoded data removed]"
          },
          "metadata": {}
        },
        {
          "output_type": "stream",
          "name": "stdout",
          "text": [
            "Curvas de validación del modelo DT\n"
          ]
        },
        {
          "output_type": "display_data",
          "data": {
            "text/plain": [
              "<Figure size 504x504 with 1 Axes>"
            ],
            "image/png": "[encoded data removed]"
          },
          "metadata": {}
        },
        {
          "output_type": "stream",
          "name": "stdout",
          "text": [
            "Curvas de aprendizaje del modelo RF\n"
          ]
        },
        {
          "output_type": "display_data",
          "data": {
            "text/plain": [
              "<Figure size 504x432 with 1 Axes>"
            ],
            "image/png": "[encoded data removed]"
          },
          "metadata": {}
        }
      ]
    },
    {
      "cell_type": "code",
      "source": [
        "Agregar comentarios respecto a cada una de las cruvas:"
      ],
      "metadata": {
        "id": "FYijVCFhxAV4"
      },
      "execution_count": null,
      "outputs": []
    },
    {
      "cell_type": "markdown",
      "source": [
        "#**Ejercicio-5.**"
      ],
      "metadata": {
        "id": "Rv7KFq-mC7PS"
      }
    },
    {
      "cell_type": "code",
      "source": [
        "\n",
        "#a. REGRESION LOGISTICA -Buscando sus mejores hiperparámetros con GridSearchCV(). Los hiperparámetros que debes incluir en su búsqueda deben ser al menos los siguientes: C, solver, class_weight y penalty. En este casodeberás usar la métrica (scoring) “f1-score”\n",
        "\n",
        "XtrainTf = Columnas_Transformar.fit(Xtrain)\n",
        "XtrainFTf = XtrainTf.transform(Xtrain)   \n",
        "XtestFTf = XtrainTf.transform(Xtest)\n",
        "\n",
        "\n",
        "modelo_LRf = LogisticRegression(max_iter=8000,class_weight=TomekLinks()).fit(XtrainFTf,Ytrain)\n",
        "\n",
        "penalty = ['l1', 'l2']\n",
        "C = [0.001,0.01,0.1,0.9,1.0]\n",
        "class_weight=[None,'balanced']\n",
        "solver= ['newton-cg','lbfgs','liblinear','sag','saga']\n",
        "\n",
        "cv = RepeatedStratifiedKFold(n_splits=5, n_repeats=3)\n",
        "grid_model_LR = GridSearchCV(modelo_LRf,param_grid={'C':C,'penalty':penalty,'solver':solver,'class_weight':class_weight},cv=cv,scoring='f1')\n",
        "\n",
        "grid_model_LR.fit(XtrainFTf,Ytrain)"
      ],
      "metadata": {
        "id": "JNve_dw_izss",
        "colab": {
          "base_uri": "https://localhost:8080/"
        },
        "outputId": "363df10a-5b5d-4edf-b8b6-cad7af4d5ded"
      },
      "execution_count": null,
      "outputs": [
        {
          "output_type": "execute_result",
          "data": {
            "text/plain": [
              "GridSearchCV(cv=RepeatedStratifiedKFold(n_repeats=3, n_splits=5, random_state=None),\n",
              "             estimator=LogisticRegression(class_weight=TomekLinks(),\n",
              "                                          max_iter=8000),\n",
              "             param_grid={'C': [0.001, 0.01, 0.1, 0.9, 1.0],\n",
              "                         'class_weight': [None, 'balanced'],\n",
              "                         'penalty': ['l1', 'l2'],\n",
              "                         'solver': ['newton-cg', 'lbfgs', 'liblinear', 'sag',\n",
              "                                    'saga']},\n",
              "             scoring='f1')"
            ]
          },
          "metadata": {},
          "execution_count": 56
        }
      ]
    },
    {
      "cell_type": "markdown",
      "source": [
        "Cuál es la utilidad de la métrica F1-Score?"
      ],
      "metadata": {
        "id": "HaekxNC6xO4D"
      }
    },
    {
      "cell_type": "code",
      "source": [
        "#a. REGRESION LOGISTICA - impresion de la mejor combinación de parámetros\n",
        "grid_model_LR.best_params_"
      ],
      "metadata": {
        "id": "6G8SACp0je6T",
        "colab": {
          "base_uri": "https://localhost:8080/"
        },
        "outputId": "ae1af335-6452-4ec7-8a07-bd6a15066703"
      },
      "execution_count": null,
      "outputs": [
        {
          "output_type": "execute_result",
          "data": {
            "text/plain": [
              "{'C': 0.9, 'class_weight': None, 'penalty': 'l2', 'solver': 'lbfgs'}"
            ]
          },
          "metadata": {},
          "execution_count": 57
        }
      ]
    },
    {
      "cell_type": "code",
      "source": [
        "lrc=grid_model_LR.predict(XtestFTf)\n",
        "print(classification_report(Ytest,lrc))"
      ],
      "metadata": {
        "colab": {
          "base_uri": "https://localhost:8080/"
        },
        "id": "F_n8oW4SRzc-",
        "outputId": "9dc2e22e-9932-4d3f-a936-6ae2e4ab7ae5"
      },
      "execution_count": null,
      "outputs": [
        {
          "output_type": "stream",
          "name": "stdout",
          "text": [
            "              precision    recall  f1-score   support\n",
            "\n",
            "           0       0.68      0.52      0.59        48\n",
            "           1       0.80      0.88      0.84       102\n",
            "\n",
            "    accuracy                           0.77       150\n",
            "   macro avg       0.74      0.70      0.71       150\n",
            "weighted avg       0.76      0.77      0.76       150\n",
            "\n"
          ]
        }
      ]
    },
    {
      "cell_type": "code",
      "source": [
        "#b. REGRESIOIN LOGÍSTICA - curvas de aprendizaje usando los mejoes valores usanod métrica f1-score \n",
        "\n",
        "XtrainTf = Columnas_Transformar.fit(Xtrain)\n",
        "XtrainFTf = XtrainTf.transform(Xtrain)   \n",
        "XtestFTf = XtrainTf.transform(Xtest)\n",
        "\n",
        "resample=SMOTETomek(tomek=TomekLinks(sampling_strategy='majority'))\n",
        "Xtrain_flr,Ytrain_flr=resample.fit_resample(XtrainFf,Ytrain)\n",
        "\n",
        "\n",
        "delta_train_sz = np.linspace(.1, 1.0, 20)\n",
        "LR_grid_res=LogisticRegression(max_iter=8000,C=0.9,penalty='l2',solver='lbfgs',class_weight=None)\n",
        "\n",
        "# mOU=TomekLinks() \n",
        "\n",
        "# pipe=make_pipeline((mOU),(LR_grid_res))\n",
        "\n",
        "# pipe.fit(Xtrain,Ytrain)\n",
        "\n",
        "tr_sizes,tr_scores, val_scores = learning_curve(LR_grid_res,    \n",
        "                                                        X = XtrainFTf,\n",
        "                                                        y = Ytrain,\n",
        "                                                        cv = cv ,\n",
        "                                                        train_sizes = delta_train_sz ,\n",
        "                                                        scoring='f1'\n",
        "                                                        )\n",
        "\n",
        "train_mean = np.mean(tr_scores, axis=1)\n",
        "train_std = np.std(tr_scores, axis=1)\n",
        "valid_mean = np.mean(val_scores, axis=1)\n",
        "valid_std = np.std(val_scores, axis=1)\n",
        "\n",
        "\n",
        "# Curva de entrenamiento con la métrica de exactitud (F1-Score):\n",
        "plt.plot(tr_sizes, train_mean, color='blue', marker='o', markersize=5, label='Training')\n",
        "\n",
        "# Curva de validación:\n",
        "plt.plot(tr_sizes, valid_mean, color='red', marker='o', markersize=5, label='Validation')\n",
        "\n",
        "plt.title('Curvas de Aprendizaje incrementando el tamaño de la muestra - LR')\n",
        "plt.xlabel('Tamaño del conjunto de entrenamiento')\n",
        "plt.ylabel('F1-Score')\n",
        "plt.grid()\n",
        "plt.legend(loc='lower right')\n",
        "plt.show()"
      ],
      "metadata": {
        "id": "m8n_4iqXkO5E",
        "colab": {
          "base_uri": "https://localhost:8080/",
          "height": 301
        },
        "outputId": "c9cd7634-2e42-4b30-9ba3-5cf18cd9aa75"
      },
      "execution_count": null,
      "outputs": [
        {
          "output_type": "display_data",
          "data": {
            "text/plain": [
              "<Figure size 576x288 with 1 Axes>"
            ],
            "image/png": "[encoded data removed]"
          },
          "metadata": {}
        }
      ]
    },
    {
      "cell_type": "code",
      "source": [
        "#c. DECISION TREE - Buscando los mejores hiperparámetros, debes incluir en su búsqueda deben ser al menos los siguientes: ccp_alpha, criterion, max_depth, min_samples_split y class_weight. En este caso deberás usar la métrica (scoring) “precision”.\n",
        "\n",
        "modelo_DT=DecisionTreeClassifier()\n",
        "\n",
        "criterion=[\"gini\", \"entropy\",\"log_loss\"]\n",
        "max_depth=np.arange(4,9)\n",
        "min_samples_split=np.arange(2,5)\n",
        "class_weight=[None,'balanced']\n",
        "ccp_alpha=np.round(np.linspace(0,0.1,4),2)\n",
        "\n",
        "cv = RepeatedStratifiedKFold(n_splits=5, n_repeats=3)\n",
        "\n",
        "grid_modelo_DT=GridSearchCV(modelo_DT,param_grid={'criterion':criterion,'max_depth':max_depth,\n",
        "                                                 'min_samples_split':min_samples_split,'class_weight':class_weight,\n",
        "                                                 'ccp_alpha':ccp_alpha},cv=cv,scoring='precision')\n",
        "\n",
        "grid_modelo_DT.fit(Xtrain,Ytrain)\n",
        "\n"
      ],
      "metadata": {
        "id": "b8mpnfUbq6E9",
        "colab": {
          "base_uri": "https://localhost:8080/"
        },
        "outputId": "eac1fc25-b8ce-4291-9acf-aab3f22b65e3"
      },
      "execution_count": null,
      "outputs": [
        {
          "output_type": "stream",
          "name": "stderr",
          "text": [
            "/usr/local/lib/python3.7/dist-packages/sklearn/model_selection/_validation.py:372: FitFailedWarning: \n",
            "1800 fits failed out of a total of 5400.\n",
            "The score on these train-test partitions for these parameters will be set to nan.\n",
            "If these failures are not expected, you can try to debug them by setting error_score='raise'.\n",
            "\n",
            "Below are more details about the failures:\n",
            "--------------------------------------------------------------------------------\n",
            "1800 fits failed with the following error:\n",
            "Traceback (most recent call last):\n",
            "  File \"/usr/local/lib/python3.7/dist-packages/sklearn/model_selection/_validation.py\", line 680, in _fit_and_score\n",
            "    estimator.fit(X_train, y_train, **fit_params)\n",
            "  File \"/usr/local/lib/python3.7/dist-packages/sklearn/tree/_classes.py\", line 942, in fit\n",
            "    X_idx_sorted=X_idx_sorted,\n",
            "  File \"/usr/local/lib/python3.7/dist-packages/sklearn/tree/_classes.py\", line 352, in fit\n",
            "    criterion = CRITERIA_CLF[self.criterion](\n",
            "KeyError: 'log_loss'\n",
            "\n",
            "  warnings.warn(some_fits_failed_message, FitFailedWarning)\n",
            "/usr/local/lib/python3.7/dist-packages/sklearn/model_selection/_search.py:972: UserWarning: One or more of the test scores are non-finite: [0.77878197 0.77853394 0.77830578 0.77047165 0.77207263 0.76992455\n",
            " 0.78540683 0.78571514 0.78536875 0.78251712 0.78128589 0.78256822\n",
            " 0.77809145 0.78081674 0.78528907 0.77407386 0.77444745 0.77373686\n",
            " 0.77638462 0.77610144 0.77625241 0.77833533 0.78150296 0.78010584\n",
            " 0.78269552 0.78310594 0.78571689 0.79125738 0.79297676 0.79276632\n",
            "        nan        nan        nan        nan        nan        nan\n",
            "        nan        nan        nan        nan        nan        nan\n",
            "        nan        nan        nan 0.85230822 0.85393731 0.85310896\n",
            " 0.82998007 0.8278085  0.83025389 0.81827577 0.82099474 0.82098701\n",
            " 0.81542703 0.81671946 0.81806969 0.81325141 0.80991846 0.8145262\n",
            " 0.84976597 0.84976597 0.84811878 0.8339352  0.83384461 0.83216411\n",
            " 0.81531089 0.81388008 0.81664701 0.82081333 0.82456048 0.82030635\n",
            " 0.81308222 0.81288574 0.81429313        nan        nan        nan\n",
            "        nan        nan        nan        nan        nan        nan\n",
            "        nan        nan        nan        nan        nan        nan\n",
            " 0.70588235 0.70588235 0.70588235 0.70588235 0.70588235 0.70588235\n",
            " 0.70588235 0.70588235 0.70588235 0.70588235 0.70588235 0.70588235\n",
            " 0.70588235 0.70588235 0.70588235 0.70588235 0.70588235 0.70588235\n",
            " 0.70588235 0.70588235 0.70588235 0.70588235 0.70588235 0.70588235\n",
            " 0.70588235 0.70588235 0.70588235 0.70588235 0.70588235 0.70588235\n",
            "        nan        nan        nan        nan        nan        nan\n",
            "        nan        nan        nan        nan        nan        nan\n",
            "        nan        nan        nan 0.87408008 0.87408008 0.87408008\n",
            " 0.87408008 0.87408008 0.87408008 0.87408008 0.87408008 0.87408008\n",
            " 0.87408008 0.87408008 0.87408008 0.87408008 0.87408008 0.87408008\n",
            " 0.87298245 0.87298245 0.87298245 0.87298245 0.87298245 0.87298245\n",
            " 0.87298245 0.87298245 0.87298245 0.87298245 0.87298245 0.87298245\n",
            " 0.87298245 0.87298245 0.87298245        nan        nan        nan\n",
            "        nan        nan        nan        nan        nan        nan\n",
            "        nan        nan        nan        nan        nan        nan\n",
            " 0.70588235 0.70588235 0.70588235 0.70588235 0.70588235 0.70588235\n",
            " 0.70588235 0.70588235 0.70588235 0.70588235 0.70588235 0.70588235\n",
            " 0.70588235 0.70588235 0.70588235 0.70588235 0.70588235 0.70588235\n",
            " 0.70588235 0.70588235 0.70588235 0.70588235 0.70588235 0.70588235\n",
            " 0.70588235 0.70588235 0.70588235 0.70588235 0.70588235 0.70588235\n",
            "        nan        nan        nan        nan        nan        nan\n",
            "        nan        nan        nan        nan        nan        nan\n",
            "        nan        nan        nan 0.82117214 0.82117214 0.82117214\n",
            " 0.82117214 0.82117214 0.82117214 0.82117214 0.82117214 0.82117214\n",
            " 0.82117214 0.82117214 0.82117214 0.82117214 0.82117214 0.82117214\n",
            " 0.87298245 0.87298245 0.87298245 0.87298245 0.87298245 0.87298245\n",
            " 0.87298245 0.87298245 0.87298245 0.87298245 0.87298245 0.87298245\n",
            " 0.87298245 0.87298245 0.87298245        nan        nan        nan\n",
            "        nan        nan        nan        nan        nan        nan\n",
            "        nan        nan        nan        nan        nan        nan\n",
            " 0.70588235 0.70588235 0.70588235 0.70588235 0.70588235 0.70588235\n",
            " 0.70588235 0.70588235 0.70588235 0.70588235 0.70588235 0.70588235\n",
            " 0.70588235 0.70588235 0.70588235 0.70588235 0.70588235 0.70588235\n",
            " 0.70588235 0.70588235 0.70588235 0.70588235 0.70588235 0.70588235\n",
            " 0.70588235 0.70588235 0.70588235 0.70588235 0.70588235 0.70588235\n",
            "        nan        nan        nan        nan        nan        nan\n",
            "        nan        nan        nan        nan        nan        nan\n",
            "        nan        nan        nan 0.70588235 0.70588235 0.70588235\n",
            " 0.70588235 0.70588235 0.70588235 0.70588235 0.70588235 0.70588235\n",
            " 0.70588235 0.70588235 0.70588235 0.70588235 0.70588235 0.70588235\n",
            " 0.84625884 0.84625884 0.84625884 0.84625884 0.84625884 0.84625884\n",
            " 0.84625884 0.84625884 0.84625884 0.84625884 0.84625884 0.84625884\n",
            " 0.84625884 0.84625884 0.84625884        nan        nan        nan\n",
            "        nan        nan        nan        nan        nan        nan\n",
            "        nan        nan        nan        nan        nan        nan]\n",
            "  category=UserWarning,\n"
          ]
        },
        {
          "output_type": "execute_result",
          "data": {
            "text/plain": [
              "GridSearchCV(cv=RepeatedStratifiedKFold(n_repeats=3, n_splits=5, random_state=None),\n",
              "             estimator=DecisionTreeClassifier(),\n",
              "             param_grid={'ccp_alpha': array([0.  , 0.03, 0.07, 0.1 ]),\n",
              "                         'class_weight': [None, 'balanced'],\n",
              "                         'criterion': ['gini', 'entropy', 'log_loss'],\n",
              "                         'max_depth': array([4, 5, 6, 7, 8]),\n",
              "                         'min_samples_split': array([2, 3, 4])},\n",
              "             scoring='precision')"
            ]
          },
          "metadata": {},
          "execution_count": 36
        }
      ]
    },
    {
      "cell_type": "markdown",
      "source": [
        "Cuál es la utilidad de la métrica Precision?"
      ],
      "metadata": {
        "id": "FCc5Jd1mxcNn"
      }
    },
    {
      "cell_type": "code",
      "source": [
        "#c. DECISION TREE - Impresion de los mejor combianción de parámetros\n",
        "grid_modelo_DT.best_params_"
      ],
      "metadata": {
        "colab": {
          "base_uri": "https://localhost:8080/"
        },
        "id": "UWZx-i0Gq6By",
        "outputId": "2a84b85e-064d-4fa4-a4a1-a23b43f68d85"
      },
      "execution_count": null,
      "outputs": [
        {
          "output_type": "execute_result",
          "data": {
            "text/plain": [
              "{'ccp_alpha': 0.03,\n",
              " 'class_weight': 'balanced',\n",
              " 'criterion': 'gini',\n",
              " 'max_depth': 4,\n",
              " 'min_samples_split': 2}"
            ]
          },
          "metadata": {},
          "execution_count": 37
        }
      ]
    },
    {
      "cell_type": "code",
      "source": [
        "dtc=grid_modelo_DT.predict(Xtest)\n",
        "print(classification_report(Ytest,dtc))"
      ],
      "metadata": {
        "colab": {
          "base_uri": "https://localhost:8080/"
        },
        "id": "X68w65WwKgA6",
        "outputId": "dc19bcab-705d-4942-d213-4f4c5d98ec43"
      },
      "execution_count": null,
      "outputs": [
        {
          "output_type": "stream",
          "name": "stdout",
          "text": [
            "              precision    recall  f1-score   support\n",
            "\n",
            "           0       0.48      0.78      0.59        50\n",
            "           1       0.84      0.57      0.68       100\n",
            "\n",
            "    accuracy                           0.64       150\n",
            "   macro avg       0.66      0.68      0.63       150\n",
            "weighted avg       0.72      0.64      0.65       150\n",
            "\n"
          ]
        }
      ]
    },
    {
      "cell_type": "code",
      "source": [
        "#d. DECISION TREE - Cruva de aprendizaje con los mejores valores de los hiperparámetros encontrados con la métrica “precision”\n",
        "delta_train_sz = np.linspace(.1, 1.0, 20)\n",
        "DT_grid_res=DecisionTreeClassifier(ccp_alpha=0.03,class_weight= 'balanced',criterion='gini',\n",
        "                                   max_depth=4, min_samples_split=2)\n",
        "\n",
        "tr_sizes,tr_scores, val_scores = learning_curve(DT_grid_res,    \n",
        "                                                        X = Xtrain,\n",
        "                                                        y = Ytrain,\n",
        "                                                        cv = cv ,\n",
        "                                                        train_sizes = delta_train_sz ,\n",
        "                                                        scoring='precision'\n",
        "                                                        )\n",
        "train_mean = np.mean(tr_scores, axis=1)\n",
        "train_std = np.std(tr_scores, axis=1)\n",
        "valid_mean = np.mean(val_scores, axis=1)\n",
        "valid_std = np.std(val_scores, axis=1)\n",
        "\n",
        "\n",
        "# Curva de entrenamiento con la métrica de exactitud (F1-Score):\n",
        "plt.plot(tr_sizes, train_mean, color='blue', marker='o', markersize=5, label='Training')\n",
        "\n",
        "# Curva de validación:\n",
        "plt.plot(tr_sizes, valid_mean, color='red', marker='o', markersize=5, label='Validation')\n",
        "\n",
        "plt.title('Curvas de Aprendizaje incrementando el tamaño de la muestra - DT_grid')\n",
        "plt.xlabel('Tamaño del conjunto de entrenamiento')\n",
        "plt.ylabel('Precision')\n",
        "plt.grid()\n",
        "plt.legend(loc='lower right')\n",
        "plt.show()"
      ],
      "metadata": {
        "colab": {
          "base_uri": "https://localhost:8080/",
          "height": 301
        },
        "id": "bM9Osnkmregp",
        "outputId": "56c2178b-14e0-4a8d-8009-4bc0b4899eba"
      },
      "execution_count": null,
      "outputs": [
        {
          "output_type": "display_data",
          "data": {
            "text/plain": [
              "<Figure size 576x288 with 1 Axes>"
            ],
            "image/png": "[encoded data removed]"
          },
          "metadata": {}
        }
      ]
    },
    {
      "cell_type": "code",
      "source": [
        "from imblearn.pipeline import Pipeline"
      ],
      "metadata": {
        "id": "2lZ70g8Qn7rw"
      },
      "execution_count": null,
      "outputs": []
    },
    {
      "cell_type": "code",
      "source": [
        "#e. Realizar el entrenamiento buscando sus mejores hiperparámetros con GridSearchCV(). \n",
        "#Buscando los mejores hiperparámetros que debes incluir en su búsqueda deben ser al menos los siguientes: ccp_alpha, criterion, max_depth, min_samples_split y class_weight\n",
        "modelo_RF = RandomForestClassifier()\n",
        "\n",
        "resample=SMOTETomek(tomek=TomekLinks(sampling_strategy='majority'))\n",
        "Xtrain_f,Ytrain_f=resample.fit_resample(Xtrain,Ytrain)\n",
        "\n",
        "\n",
        "criterion=[\"gini\", \"entropy\"]\n",
        "max_depth=np.arange(4,9)\n",
        "min_samples_split=[2,5]\n",
        "class_weight=[None,'balanced']\n",
        "ccp_alpha=np.round(np.linspace(0,0.1,4),2)\n",
        "\n",
        "cv = RepeatedStratifiedKFold(n_splits=5, n_repeats=3)"
      ],
      "metadata": {
        "id": "9m11BOj-1uz9"
      },
      "execution_count": null,
      "outputs": []
    },
    {
      "cell_type": "code",
      "source": [
        "grid_modelo_RF=GridSearchCV(modelo_RF,param_grid={'criterion':criterion,'max_depth':max_depth,\n",
        "                                                 'min_samples_split':min_samples_split,'class_weight':class_weight,\n",
        "                                                 'ccp_alpha':ccp_alpha},cv=cv,scoring='recall')\n",
        "\n",
        "grid_modelo_RF.fit(Xtrain_f,Ytrain_f)"
      ],
      "metadata": {
        "colab": {
          "base_uri": "https://localhost:8080/"
        },
        "id": "Opc9vG5y1up-",
        "outputId": "51e8608c-79a0-447b-a5d3-88994cb23aa8"
      },
      "execution_count": null,
      "outputs": [
        {
          "output_type": "execute_result",
          "data": {
            "text/plain": [
              "GridSearchCV(cv=RepeatedStratifiedKFold(n_repeats=3, n_splits=5, random_state=None),\n",
              "             estimator=RandomForestClassifier(),\n",
              "             param_grid={'ccp_alpha': array([0.  , 0.03, 0.07, 0.1 ]),\n",
              "                         'class_weight': [None, 'balanced'],\n",
              "                         'criterion': ['gini', 'entropy'],\n",
              "                         'max_depth': array([4, 5, 6, 7, 8]),\n",
              "                         'min_samples_split': [2, 5]},\n",
              "             scoring='recall')"
            ]
          },
          "metadata": {},
          "execution_count": 83
        }
      ]
    },
    {
      "cell_type": "markdown",
      "source": [
        "Cuál es la utilidad de la métrica Recall?"
      ],
      "metadata": {
        "id": "uESh1PkCxgtF"
      }
    },
    {
      "cell_type": "code",
      "source": [
        "#e. Impresión de los mejores parámetros\n",
        "grid_modelo_RF.best_params_\n"
      ],
      "metadata": {
        "id": "FUO5cxvI386D",
        "colab": {
          "base_uri": "https://localhost:8080/"
        },
        "outputId": "11c128aa-3546-4dc6-ac1f-bcf101793b1b"
      },
      "execution_count": null,
      "outputs": [
        {
          "output_type": "execute_result",
          "data": {
            "text/plain": [
              "{'ccp_alpha': 0.1,\n",
              " 'class_weight': None,\n",
              " 'criterion': 'gini',\n",
              " 'max_depth': 5,\n",
              " 'min_samples_split': 2}"
            ]
          },
          "metadata": {},
          "execution_count": 84
        }
      ]
    },
    {
      "cell_type": "code",
      "source": [
        "rfc=grid_modelo_RF.predict(Xtest)\n",
        "print(classification_report(Ytest,rfc))"
      ],
      "metadata": {
        "colab": {
          "base_uri": "https://localhost:8080/"
        },
        "id": "OwaVHa-yMuE_",
        "outputId": "73f93275-183f-44df-8f5f-bf0fb58616fb"
      },
      "execution_count": null,
      "outputs": [
        {
          "output_type": "stream",
          "name": "stdout",
          "text": [
            "              precision    recall  f1-score   support\n",
            "\n",
            "           0       0.00      0.00      0.00        48\n",
            "           1       0.68      1.00      0.81       102\n",
            "\n",
            "    accuracy                           0.68       150\n",
            "   macro avg       0.34      0.50      0.40       150\n",
            "weighted avg       0.46      0.68      0.55       150\n",
            "\n"
          ]
        }
      ]
    },
    {
      "cell_type": "code",
      "source": [
        "print(classification_report_imbalanced(Ytest,rfc))"
      ],
      "metadata": {
        "colab": {
          "base_uri": "https://localhost:8080/"
        },
        "id": "-OHbenrzqnoX",
        "outputId": "e3c5e25b-dcff-4365-cd87-c1df9df81351"
      },
      "execution_count": null,
      "outputs": [
        {
          "output_type": "stream",
          "name": "stdout",
          "text": [
            "                   pre       rec       spe        f1       geo       iba       sup\n",
            "\n",
            "          0       0.00      0.00      1.00      0.00      0.00      0.00        48\n",
            "          1       0.68      1.00      0.00      0.81      0.00      0.00       102\n",
            "\n",
            "avg / total       0.46      0.68      0.32      0.55      0.00      0.00       150\n",
            "\n"
          ]
        }
      ]
    },
    {
      "cell_type": "code",
      "source": [
        "#f. Curva de validación usando los mejores parámetros, max_depth incrementando 10 valores\n",
        "delta_C=np.arange(4,20)\n",
        "Ran_grid_res=RandomForestClassifier(ccp_alpha=0.1,class_weight=None,criterion='gini',max_depth=5,min_samples_split=2)\n",
        "\n",
        "train_scores, valid_scores = validation_curve(Ran_grid_res, \n",
        "                                              Xtrain, \n",
        "                                              Ytrain,\n",
        "                                              param_name=\"max_depth\", \n",
        "                                              param_range=delta_C,\n",
        "                                              cv=cv,\n",
        "                                              scoring='recall')\n",
        "\n",
        "\n",
        "train_mean = np.mean(train_scores, axis=1)\n",
        "train_std = np.std(train_scores, axis=1)\n",
        "valid_mean = np.mean(valid_scores, axis=1)\n",
        "valid_std = np.std(valid_scores, axis=1)\n",
        "\n",
        "\n",
        "# Curva de entrenamiento con la métrica de exactitud (accuracy):\n",
        "plt.plot(delta_C, train_mean, color='blue', marker='o', markersize=5, label='Training')\n",
        "\n",
        "# Curva de validación:\n",
        "plt.plot(delta_C, valid_mean, color='red', marker='+', markersize=5, label='Validation',)\n",
        "\n",
        "plt.title('Función validation_curve()')\n",
        "plt.xlabel('Valores del parámetro max_depth')\n",
        "plt.ylabel('Recall')\n",
        "plt.grid()\n",
        "plt.legend(loc='lower right')\n",
        "plt.show()"
      ],
      "metadata": {
        "id": "QcrNf5zQ4Dsc",
        "colab": {
          "base_uri": "https://localhost:8080/",
          "height": 301
        },
        "outputId": "4b8fad4f-2412-4755-f682-4c854d802984"
      },
      "execution_count": null,
      "outputs": [
        {
          "output_type": "display_data",
          "data": {
            "text/plain": [
              "<Figure size 576x288 with 1 Axes>"
            ],
            "image/png": "[encoded data removed]"
          },
          "metadata": {}
        }
      ]
    },
    {
      "cell_type": "markdown",
      "source": [
        "#**Ejercicio-6.**"
      ],
      "metadata": {
        "id": "W2S7LI0NC9wE"
      }
    },
    {
      "cell_type": "code",
      "source": [
        "#Deberás usar además como conjunto de entrenamiento el llamado modelo de entrenamiento “aumentado” "
      ],
      "metadata": {
        "id": "x6uBleJUC_AU"
      },
      "execution_count": null,
      "outputs": []
    },
    {
      "cell_type": "markdown",
      "source": [
        "a. Obtener el modelo de regresión logística con los mejores parámetros que hayas\n",
        "encontrado con la métrica f1-score utilizada. Imprimir el valor de dicha métrica e incluye\n",
        "tus conclusiones finales para este caso. Incluir un gráfico del árbol de decisión final\n",
        "obtenido. \n"
      ],
      "metadata": {
        "id": "wvNbuZrjyHF2"
      }
    },
    {
      "cell_type": "code",
      "source": [],
      "metadata": {
        "id": "n0P_AcyjC_Dh"
      },
      "execution_count": null,
      "outputs": []
    },
    {
      "cell_type": "markdown",
      "source": [
        "b. Obtener el modelo de árbol de decisiones con los mejores parámetros que hayas\n",
        "encontrado con la métrica “precision” utilizada. Imprimir el valor de dicha métrica e\n",
        "incluye tus conclusiones finales para este caso. \n"
      ],
      "metadata": {
        "id": "hgpXJhYVykAt"
      }
    },
    {
      "cell_type": "code",
      "source": [],
      "metadata": {
        "id": "OwUCg08GynXh"
      },
      "execution_count": null,
      "outputs": []
    },
    {
      "cell_type": "markdown",
      "source": [
        "c. Obtener el modelo de bosque aleatorio con los mejores parámetros que hayas\n",
        "encontrado con la métrica “recall” utilizada. Imprimir el valor de dicha métrica e incluye\n",
        "tus conclusiones finales para este caso. "
      ],
      "metadata": {
        "id": "KCe0tHkwynzF"
      }
    },
    {
      "cell_type": "markdown",
      "source": [
        "###**Fin de la Actividad de la semana 6.**"
      ],
      "metadata": {
        "id": "7ql_r2G-DB_m"
      }
    }
  ]
}