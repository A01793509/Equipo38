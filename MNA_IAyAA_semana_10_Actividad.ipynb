{
  "nbformat": 4,
  "nbformat_minor": 0,
  "metadata": {
    "colab": {
      "provenance": [],
      "include_colab_link": true
    },
    "kernelspec": {
      "display_name": "Python 3",
      "name": "python3"
    }
  },
  "cells": [
    {
      "cell_type": "markdown",
      "metadata": {
        "id": "view-in-github",
        "colab_type": "text"
      },
      "source": [
        "<a href=\"https://colab.research.google.com/github/A01793509/Equipo38/blob/main/MNA_IAyAA_semana_10_Actividad.ipynb\" target=\"_parent\"><img src=\"https://colab.research.google.com/assets/colab-badge.svg\" alt=\"Open In Colab\"/></a>"
      ]
    },
    {
      "cell_type": "markdown",
      "source": [
        "#**Maestría en Inteligencia Artificial Aplicada**\n",
        "##**Curso: Inteligencia Artificial y Aprendizaje Automático**\n",
        "###Tecnológico de Monterrey\n",
        "###Prof Luis Eduardo Falcón Morales\n",
        "\n",
        "## **Adtividad de la Semana 10**\n",
        "###**Reducción de Dimensionalidad - Descomposición en Valores Singulares (SVD) y Sistemas de Recomendación**\n"
      ],
      "metadata": {
        "id": "VFj0sSM06dYa"
      }
    },
    {
      "cell_type": "markdown",
      "source": [
        "**Nombres y matrículas de los integrantes del equipo:**\n",
        "\n",
        "*   Alberto Jose Garcia Porras (A01793509)\n",
        "*   Carlos Julio León Caicedo (A01793947)\n",
        "*   Luis Fernando Ríos Piedra (A00453954)\n",
        "*   Marco Antonio Vázquez Morales (A01793704)\n"
      ],
      "metadata": {
        "id": "Qgrvy0RGB9XI"
      }
    },
    {
      "cell_type": "markdown",
      "source": [
        "En cada sección deberás incluir todas las líneas de código necesarias para responder a cada uno de los ejercicios."
      ],
      "metadata": {
        "id": "FrJ2ahMODVj1"
      }
    },
    {
      "cell_type": "code",
      "source": [
        "# Incluye aquí todos módulos, librerías y paquetes que requieras.\n",
        "\n",
        "import pandas as pd\n",
        "import numpy as np\n",
        "import matplotlib.pyplot as plt\n",
        "import requests, zipfile\n",
        "import seaborn as sns\n",
        "from io import BytesIO\n",
        "\n",
        "from sklearn.decomposition import TruncatedSVD,randomized_svd"
      ],
      "metadata": {
        "id": "exXsscs-Dh-2"
      },
      "execution_count": 369,
      "outputs": []
    },
    {
      "cell_type": "markdown",
      "metadata": {
        "id": "X25brD-gQdZM"
      },
      "source": [
        "#**Ejercicio-1.** "
      ]
    },
    {
      "cell_type": "markdown",
      "source": [
        "1. Descarga los archivos y genera la matriz de utilidad en la cual los renglones son los usuarios (user_ID), las columnas los nombres de los restaurantes (name) y las entradas la evaluaciones generales dadas por los usuarios (rating). En particular indica el tamaño de dicha matriz y despliega \n",
        "sus primeros 10 renglones. "
      ],
      "metadata": {
        "id": "hGC2f_i2sBVr"
      }
    },
    {
      "cell_type": "code",
      "source": [
        "#Extracción de rating_final.csv y geoplaces2.csv desde el sitio fuente\n",
        "\n",
        "path = 'https://archive.ics.uci.edu/ml/machine-learning-databases/00232/RCdata.zip'\n",
        "base_datos = path.split('/')[-1]\n",
        "req_path = requests.get(path)\n",
        "\n",
        "zipfile.ZipFile(BytesIO(req_path.content)).extractall('/content/sample_data/RCdata')\n",
        "df_rt = pd.read_csv(\"/content/sample_data/RCdata/rating_final.csv\",sep=',')\n",
        "\n",
        "path = 'https://archive.ics.uci.edu/ml/machine-learning-databases/00232/RCdata.zip'\n",
        "base_datos = path.split('/')[-1]\n",
        "req_path = requests.get(path)\n",
        "\n",
        "zipfile.ZipFile(BytesIO(req_path.content)).extractall('/content/sample_data/RCdata')\n",
        "df_g = pd.read_csv(\"/content/sample_data/RCdata/geoplaces2.csv\",sep=',',encoding='latin-1')\n"
      ],
      "metadata": {
        "id": "3nU2GuWYCy6C"
      },
      "execution_count": 370,
      "outputs": []
    },
    {
      "cell_type": "code",
      "source": [
        "#Generar matriz relacional y asignar index con userID\n",
        "df_rel=pd.merge(df_rt,df_g,how='inner')\n",
        "df_rel=df_rel.set_index('userID')\n"
      ],
      "metadata": {
        "id": "0ulkqXVGCy97"
      },
      "execution_count": 371,
      "outputs": []
    },
    {
      "cell_type": "code",
      "source": [
        "df_rel.shape"
      ],
      "metadata": {
        "colab": {
          "base_uri": "https://localhost:8080/"
        },
        "id": "-G4Kk2GGCjM9",
        "outputId": "ac7e987d-9257-41fd-e031-0e22f5cb34b4"
      },
      "execution_count": 372,
      "outputs": [
        {
          "output_type": "execute_result",
          "data": {
            "text/plain": [
              "(1161, 24)"
            ]
          },
          "metadata": {},
          "execution_count": 372
        }
      ]
    },
    {
      "cell_type": "code",
      "source": [
        "#Generar matriz de utilidad e impresión de 10 renglones\n",
        "UtMx = df_rel.pivot_table(values='rating', index='userID', columns='name', fill_value=0)\n",
        "\n",
        "UtMx.head(10)"
      ],
      "metadata": {
        "colab": {
          "base_uri": "https://localhost:8080/",
          "height": 557
        },
        "id": "cvSYzB-au10e",
        "outputId": "7c8f672b-efff-411f-a3ab-abc15b610607"
      },
      "execution_count": 373,
      "outputs": [
        {
          "output_type": "execute_result",
          "data": {
            "text/plain": [
              "name    Abondance Restaurante Bar  Arrachela Grill  Cabana Huasteca  \\\n",
              "userID                                                                \n",
              "U1001                           0                0                0   \n",
              "U1002                           0                0                0   \n",
              "U1003                           0                0                2   \n",
              "U1004                           0                0                0   \n",
              "U1005                           0                0                0   \n",
              "U1006                           0                0                0   \n",
              "U1007                           0                0                0   \n",
              "U1008                           1                0                0   \n",
              "U1009                           0                0                1   \n",
              "U1010                           0                0                0   \n",
              "\n",
              "name    Cafe Chaires  Cafeteria cenidet  Cafeteria y Restaurant El Pacifico  \\\n",
              "userID                                                                        \n",
              "U1001              0                  0                                   0   \n",
              "U1002              0                  0                                   0   \n",
              "U1003              0                  0                                   0   \n",
              "U1004              0                  0                                   2   \n",
              "U1005              0                  0                                   2   \n",
              "U1006              1                  0                                   0   \n",
              "U1007              1                  0                                   1   \n",
              "U1008              0                  0                                   0   \n",
              "U1009              0                  0                                   0   \n",
              "U1010              0                  0                                   0   \n",
              "\n",
              "name    Carls Jr  Carnitas Mata  Calle 16 de Septiembre  \\\n",
              "userID                                                    \n",
              "U1001          0                                      0   \n",
              "U1002          0                                      0   \n",
              "U1003          0                                      0   \n",
              "U1004          0                                      0   \n",
              "U1005          0                                      0   \n",
              "U1006          0                                      0   \n",
              "U1007          0                                      0   \n",
              "U1008          0                                      0   \n",
              "U1009          0                                      0   \n",
              "U1010          0                                      0   \n",
              "\n",
              "name    Carreton de Flautas y Migadas  Cenaduria El RincÃ³n de Tlaquepaque  \\\n",
              "userID                                                                       \n",
              "U1001                               0                                    0   \n",
              "U1002                               0                                    0   \n",
              "U1003                               0                                    0   \n",
              "U1004                               0                                    0   \n",
              "U1005                               0                                    0   \n",
              "U1006                               0                                    0   \n",
              "U1007                               0                                    0   \n",
              "U1008                               0                                    0   \n",
              "U1009                               0                                    0   \n",
              "U1010                               0                                    0   \n",
              "\n",
              "name    ...  puesto de tacos  rockabilly   shi ro ie  sirloin stockade  \\\n",
              "userID  ...                                                              \n",
              "U1001   ...                2            0          0                 0   \n",
              "U1002   ...                2            0          0                 0   \n",
              "U1003   ...                2            2          0                 0   \n",
              "U1004   ...                0            0          0                 0   \n",
              "U1005   ...                0            0          0                 0   \n",
              "U1006   ...                1            0          2                 0   \n",
              "U1007   ...                0            0          0                 0   \n",
              "U1008   ...                0            0          0                 0   \n",
              "U1009   ...                1            0          0                 0   \n",
              "U1010   ...                0            0          0                 0   \n",
              "\n",
              "name    tacos abi  tacos de barbacoa enfrente del Tec  tacos de la estacion  \\\n",
              "userID                                                                        \n",
              "U1001           0                                   0                     0   \n",
              "U1002           0                                   0                     0   \n",
              "U1003           0                                   0                     0   \n",
              "U1004           0                                   0                     0   \n",
              "U1005           0                                   0                     0   \n",
              "U1006           0                                   0                     0   \n",
              "U1007           0                                   0                     0   \n",
              "U1008           0                                   0                     0   \n",
              "U1009           0                                   0                     0   \n",
              "U1010           0                                   0                     0   \n",
              "\n",
              "name    tacos los volcanes  tortas hawai  vips  \n",
              "userID                                          \n",
              "U1001                    0             0     0  \n",
              "U1002                    0             0     0  \n",
              "U1003                    0             0     0  \n",
              "U1004                    2             0     0  \n",
              "U1005                    0             0     0  \n",
              "U1006                    0             0     0  \n",
              "U1007                    0             0     0  \n",
              "U1008                    0             0     0  \n",
              "U1009                    0             0     0  \n",
              "U1010                    0             0     0  \n",
              "\n",
              "[10 rows x 129 columns]"
            ],
            "text/html": [
              "\n",
              "  <div id=\"df-a1a16b97-f984-46f7-b05e-d5fb042b0ed5\">\n",
              "    <div class=\"colab-df-container\">\n",
              "      <div>\n",
              "<style scoped>\n",
              "    .dataframe tbody tr th:only-of-type {\n",
              "        vertical-align: middle;\n",
              "    }\n",
              "\n",
              "    .dataframe tbody tr th {\n",
              "        vertical-align: top;\n",
              "    }\n",
              "\n",
              "    .dataframe thead th {\n",
              "        text-align: right;\n",
              "    }\n",
              "</style>\n",
              "<table border=\"1\" class=\"dataframe\">\n",
              "  <thead>\n",
              "    <tr style=\"text-align: right;\">\n",
              "      <th>name</th>\n",
              "      <th>Abondance Restaurante Bar</th>\n",
              "      <th>Arrachela Grill</th>\n",
              "      <th>Cabana Huasteca</th>\n",
              "      <th>Cafe Chaires</th>\n",
              "      <th>Cafeteria cenidet</th>\n",
              "      <th>Cafeteria y Restaurant El Pacifico</th>\n",
              "      <th>Carls Jr</th>\n",
              "      <th>Carnitas Mata  Calle 16 de Septiembre</th>\n",
              "      <th>Carreton de Flautas y Migadas</th>\n",
              "      <th>Cenaduria El RincÃ³n de Tlaquepaque</th>\n",
              "      <th>...</th>\n",
              "      <th>puesto de tacos</th>\n",
              "      <th>rockabilly</th>\n",
              "      <th>shi ro ie</th>\n",
              "      <th>sirloin stockade</th>\n",
              "      <th>tacos abi</th>\n",
              "      <th>tacos de barbacoa enfrente del Tec</th>\n",
              "      <th>tacos de la estacion</th>\n",
              "      <th>tacos los volcanes</th>\n",
              "      <th>tortas hawai</th>\n",
              "      <th>vips</th>\n",
              "    </tr>\n",
              "    <tr>\n",
              "      <th>userID</th>\n",
              "      <th></th>\n",
              "      <th></th>\n",
              "      <th></th>\n",
              "      <th></th>\n",
              "      <th></th>\n",
              "      <th></th>\n",
              "      <th></th>\n",
              "      <th></th>\n",
              "      <th></th>\n",
              "      <th></th>\n",
              "      <th></th>\n",
              "      <th></th>\n",
              "      <th></th>\n",
              "      <th></th>\n",
              "      <th></th>\n",
              "      <th></th>\n",
              "      <th></th>\n",
              "      <th></th>\n",
              "      <th></th>\n",
              "      <th></th>\n",
              "      <th></th>\n",
              "    </tr>\n",
              "  </thead>\n",
              "  <tbody>\n",
              "    <tr>\n",
              "      <th>U1001</th>\n",
              "      <td>0</td>\n",
              "      <td>0</td>\n",
              "      <td>0</td>\n",
              "      <td>0</td>\n",
              "      <td>0</td>\n",
              "      <td>0</td>\n",
              "      <td>0</td>\n",
              "      <td>0</td>\n",
              "      <td>0</td>\n",
              "      <td>0</td>\n",
              "      <td>...</td>\n",
              "      <td>2</td>\n",
              "      <td>0</td>\n",
              "      <td>0</td>\n",
              "      <td>0</td>\n",
              "      <td>0</td>\n",
              "      <td>0</td>\n",
              "      <td>0</td>\n",
              "      <td>0</td>\n",
              "      <td>0</td>\n",
              "      <td>0</td>\n",
              "    </tr>\n",
              "    <tr>\n",
              "      <th>U1002</th>\n",
              "      <td>0</td>\n",
              "      <td>0</td>\n",
              "      <td>0</td>\n",
              "      <td>0</td>\n",
              "      <td>0</td>\n",
              "      <td>0</td>\n",
              "      <td>0</td>\n",
              "      <td>0</td>\n",
              "      <td>0</td>\n",
              "      <td>0</td>\n",
              "      <td>...</td>\n",
              "      <td>2</td>\n",
              "      <td>0</td>\n",
              "      <td>0</td>\n",
              "      <td>0</td>\n",
              "      <td>0</td>\n",
              "      <td>0</td>\n",
              "      <td>0</td>\n",
              "      <td>0</td>\n",
              "      <td>0</td>\n",
              "      <td>0</td>\n",
              "    </tr>\n",
              "    <tr>\n",
              "      <th>U1003</th>\n",
              "      <td>0</td>\n",
              "      <td>0</td>\n",
              "      <td>2</td>\n",
              "      <td>0</td>\n",
              "      <td>0</td>\n",
              "      <td>0</td>\n",
              "      <td>0</td>\n",
              "      <td>0</td>\n",
              "      <td>0</td>\n",
              "      <td>0</td>\n",
              "      <td>...</td>\n",
              "      <td>2</td>\n",
              "      <td>2</td>\n",
              "      <td>0</td>\n",
              "      <td>0</td>\n",
              "      <td>0</td>\n",
              "      <td>0</td>\n",
              "      <td>0</td>\n",
              "      <td>0</td>\n",
              "      <td>0</td>\n",
              "      <td>0</td>\n",
              "    </tr>\n",
              "    <tr>\n",
              "      <th>U1004</th>\n",
              "      <td>0</td>\n",
              "      <td>0</td>\n",
              "      <td>0</td>\n",
              "      <td>0</td>\n",
              "      <td>0</td>\n",
              "      <td>2</td>\n",
              "      <td>0</td>\n",
              "      <td>0</td>\n",
              "      <td>0</td>\n",
              "      <td>0</td>\n",
              "      <td>...</td>\n",
              "      <td>0</td>\n",
              "      <td>0</td>\n",
              "      <td>0</td>\n",
              "      <td>0</td>\n",
              "      <td>0</td>\n",
              "      <td>0</td>\n",
              "      <td>0</td>\n",
              "      <td>2</td>\n",
              "      <td>0</td>\n",
              "      <td>0</td>\n",
              "    </tr>\n",
              "    <tr>\n",
              "      <th>U1005</th>\n",
              "      <td>0</td>\n",
              "      <td>0</td>\n",
              "      <td>0</td>\n",
              "      <td>0</td>\n",
              "      <td>0</td>\n",
              "      <td>2</td>\n",
              "      <td>0</td>\n",
              "      <td>0</td>\n",
              "      <td>0</td>\n",
              "      <td>0</td>\n",
              "      <td>...</td>\n",
              "      <td>0</td>\n",
              "      <td>0</td>\n",
              "      <td>0</td>\n",
              "      <td>0</td>\n",
              "      <td>0</td>\n",
              "      <td>0</td>\n",
              "      <td>0</td>\n",
              "      <td>0</td>\n",
              "      <td>0</td>\n",
              "      <td>0</td>\n",
              "    </tr>\n",
              "    <tr>\n",
              "      <th>U1006</th>\n",
              "      <td>0</td>\n",
              "      <td>0</td>\n",
              "      <td>0</td>\n",
              "      <td>1</td>\n",
              "      <td>0</td>\n",
              "      <td>0</td>\n",
              "      <td>0</td>\n",
              "      <td>0</td>\n",
              "      <td>0</td>\n",
              "      <td>0</td>\n",
              "      <td>...</td>\n",
              "      <td>1</td>\n",
              "      <td>0</td>\n",
              "      <td>2</td>\n",
              "      <td>0</td>\n",
              "      <td>0</td>\n",
              "      <td>0</td>\n",
              "      <td>0</td>\n",
              "      <td>0</td>\n",
              "      <td>0</td>\n",
              "      <td>0</td>\n",
              "    </tr>\n",
              "    <tr>\n",
              "      <th>U1007</th>\n",
              "      <td>0</td>\n",
              "      <td>0</td>\n",
              "      <td>0</td>\n",
              "      <td>1</td>\n",
              "      <td>0</td>\n",
              "      <td>1</td>\n",
              "      <td>0</td>\n",
              "      <td>0</td>\n",
              "      <td>0</td>\n",
              "      <td>0</td>\n",
              "      <td>...</td>\n",
              "      <td>0</td>\n",
              "      <td>0</td>\n",
              "      <td>0</td>\n",
              "      <td>0</td>\n",
              "      <td>0</td>\n",
              "      <td>0</td>\n",
              "      <td>0</td>\n",
              "      <td>0</td>\n",
              "      <td>0</td>\n",
              "      <td>0</td>\n",
              "    </tr>\n",
              "    <tr>\n",
              "      <th>U1008</th>\n",
              "      <td>1</td>\n",
              "      <td>0</td>\n",
              "      <td>0</td>\n",
              "      <td>0</td>\n",
              "      <td>0</td>\n",
              "      <td>0</td>\n",
              "      <td>0</td>\n",
              "      <td>0</td>\n",
              "      <td>0</td>\n",
              "      <td>0</td>\n",
              "      <td>...</td>\n",
              "      <td>0</td>\n",
              "      <td>0</td>\n",
              "      <td>0</td>\n",
              "      <td>0</td>\n",
              "      <td>0</td>\n",
              "      <td>0</td>\n",
              "      <td>0</td>\n",
              "      <td>0</td>\n",
              "      <td>0</td>\n",
              "      <td>0</td>\n",
              "    </tr>\n",
              "    <tr>\n",
              "      <th>U1009</th>\n",
              "      <td>0</td>\n",
              "      <td>0</td>\n",
              "      <td>1</td>\n",
              "      <td>0</td>\n",
              "      <td>0</td>\n",
              "      <td>0</td>\n",
              "      <td>0</td>\n",
              "      <td>0</td>\n",
              "      <td>0</td>\n",
              "      <td>0</td>\n",
              "      <td>...</td>\n",
              "      <td>1</td>\n",
              "      <td>0</td>\n",
              "      <td>0</td>\n",
              "      <td>0</td>\n",
              "      <td>0</td>\n",
              "      <td>0</td>\n",
              "      <td>0</td>\n",
              "      <td>0</td>\n",
              "      <td>0</td>\n",
              "      <td>0</td>\n",
              "    </tr>\n",
              "    <tr>\n",
              "      <th>U1010</th>\n",
              "      <td>0</td>\n",
              "      <td>0</td>\n",
              "      <td>0</td>\n",
              "      <td>0</td>\n",
              "      <td>0</td>\n",
              "      <td>0</td>\n",
              "      <td>0</td>\n",
              "      <td>0</td>\n",
              "      <td>0</td>\n",
              "      <td>0</td>\n",
              "      <td>...</td>\n",
              "      <td>0</td>\n",
              "      <td>0</td>\n",
              "      <td>0</td>\n",
              "      <td>0</td>\n",
              "      <td>0</td>\n",
              "      <td>0</td>\n",
              "      <td>0</td>\n",
              "      <td>0</td>\n",
              "      <td>0</td>\n",
              "      <td>0</td>\n",
              "    </tr>\n",
              "  </tbody>\n",
              "</table>\n",
              "<p>10 rows × 129 columns</p>\n",
              "</div>\n",
              "      <button class=\"colab-df-convert\" onclick=\"convertToInteractive('df-a1a16b97-f984-46f7-b05e-d5fb042b0ed5')\"\n",
              "              title=\"Convert this dataframe to an interactive table.\"\n",
              "              style=\"display:none;\">\n",
              "        \n",
              "  <svg xmlns=\"http://www.w3.org/2000/svg\" height=\"24px\"viewBox=\"0 0 24 24\"\n",
              "       width=\"24px\">\n",
              "    <path d=\"M0 0h24v24H0V0z\" fill=\"none\"/>\n",
              "    <path d=\"M18.56 5.44l.94 2.06.94-2.06 2.06-.94-2.06-.94-.94-2.06-.94 2.06-2.06.94zm-11 1L8.5 8.5l.94-2.06 2.06-.94-2.06-.94L8.5 2.5l-.94 2.06-2.06.94zm10 10l.94 2.06.94-2.06 2.06-.94-2.06-.94-.94-2.06-.94 2.06-2.06.94z\"/><path d=\"M17.41 7.96l-1.37-1.37c-.4-.4-.92-.59-1.43-.59-.52 0-1.04.2-1.43.59L10.3 9.45l-7.72 7.72c-.78.78-.78 2.05 0 2.83L4 21.41c.39.39.9.59 1.41.59.51 0 1.02-.2 1.41-.59l7.78-7.78 2.81-2.81c.8-.78.8-2.07 0-2.86zM5.41 20L4 18.59l7.72-7.72 1.47 1.35L5.41 20z\"/>\n",
              "  </svg>\n",
              "      </button>\n",
              "      \n",
              "  <style>\n",
              "    .colab-df-container {\n",
              "      display:flex;\n",
              "      flex-wrap:wrap;\n",
              "      gap: 12px;\n",
              "    }\n",
              "\n",
              "    .colab-df-convert {\n",
              "      background-color: #E8F0FE;\n",
              "      border: none;\n",
              "      border-radius: 50%;\n",
              "      cursor: pointer;\n",
              "      display: none;\n",
              "      fill: #1967D2;\n",
              "      height: 32px;\n",
              "      padding: 0 0 0 0;\n",
              "      width: 32px;\n",
              "    }\n",
              "\n",
              "    .colab-df-convert:hover {\n",
              "      background-color: #E2EBFA;\n",
              "      box-shadow: 0px 1px 2px rgba(60, 64, 67, 0.3), 0px 1px 3px 1px rgba(60, 64, 67, 0.15);\n",
              "      fill: #174EA6;\n",
              "    }\n",
              "\n",
              "    [theme=dark] .colab-df-convert {\n",
              "      background-color: #3B4455;\n",
              "      fill: #D2E3FC;\n",
              "    }\n",
              "\n",
              "    [theme=dark] .colab-df-convert:hover {\n",
              "      background-color: #434B5C;\n",
              "      box-shadow: 0px 1px 3px 1px rgba(0, 0, 0, 0.15);\n",
              "      filter: drop-shadow(0px 1px 2px rgba(0, 0, 0, 0.3));\n",
              "      fill: #FFFFFF;\n",
              "    }\n",
              "  </style>\n",
              "\n",
              "      <script>\n",
              "        const buttonEl =\n",
              "          document.querySelector('#df-a1a16b97-f984-46f7-b05e-d5fb042b0ed5 button.colab-df-convert');\n",
              "        buttonEl.style.display =\n",
              "          google.colab.kernel.accessAllowed ? 'block' : 'none';\n",
              "\n",
              "        async function convertToInteractive(key) {\n",
              "          const element = document.querySelector('#df-a1a16b97-f984-46f7-b05e-d5fb042b0ed5');\n",
              "          const dataTable =\n",
              "            await google.colab.kernel.invokeFunction('convertToInteractive',\n",
              "                                                     [key], {});\n",
              "          if (!dataTable) return;\n",
              "\n",
              "          const docLinkHtml = 'Like what you see? Visit the ' +\n",
              "            '<a target=\"_blank\" href=https://colab.research.google.com/notebooks/data_table.ipynb>data table notebook</a>'\n",
              "            + ' to learn more about interactive tables.';\n",
              "          element.innerHTML = '';\n",
              "          dataTable['output_type'] = 'display_data';\n",
              "          await google.colab.output.renderOutput(dataTable, element);\n",
              "          const docLink = document.createElement('div');\n",
              "          docLink.innerHTML = docLinkHtml;\n",
              "          element.appendChild(docLink);\n",
              "        }\n",
              "      </script>\n",
              "    </div>\n",
              "  </div>\n",
              "  "
            ]
          },
          "metadata": {},
          "execution_count": 373
        }
      ]
    },
    {
      "cell_type": "code",
      "source": [
        "#Desplegar tamaño de la matriz\n",
        "#Tenemos 138 usuarios y 129 restaurantes\n",
        "UtMx.shape "
      ],
      "metadata": {
        "colab": {
          "base_uri": "https://localhost:8080/"
        },
        "id": "t6VgdOcLvxB2",
        "outputId": "bfacc734-eba4-4ecd-8280-a3d9c0579df1"
      },
      "execution_count": 374,
      "outputs": [
        {
          "output_type": "execute_result",
          "data": {
            "text/plain": [
              "(138, 129)"
            ]
          },
          "metadata": {},
          "execution_count": 374
        }
      ]
    },
    {
      "cell_type": "markdown",
      "source": [
        "#**Ejercicio-2.**"
      ],
      "metadata": {
        "id": "xZhr2hkECzVv"
      }
    },
    {
      "cell_type": "code",
      "source": [
        "print(\"***************************************************\")\n",
        "print('Total de elementos de la matriz de utilidad: %d' % (UtMx.size))\n",
        "print(\"***************************************************\")\n",
        "print('Total de elementos diferentes de cero: %d' % (np.count_nonzero(UtMx)))\n",
        "print(\"*************************************************\")\n",
        "print('Porcentaje de elementos diferentes de cero: %.1f%%' % (100 * np.count_nonzero(UtMx) / UtMx.size))\n",
        "print(\"*************************************************\")"
      ],
      "metadata": {
        "id": "kGfAoOPkC1PP",
        "colab": {
          "base_uri": "https://localhost:8080/"
        },
        "outputId": "5577718e-77ce-4b00-c726-ed6052ed7466"
      },
      "execution_count": 375,
      "outputs": [
        {
          "output_type": "stream",
          "name": "stdout",
          "text": [
            "***************************************************\n",
            "Total de elementos de la matriz de utilidad: 17802\n",
            "***************************************************\n",
            "Total de elementos diferentes de cero: 907\n",
            "*************************************************\n",
            "Porcentaje de elementos diferentes de cero: 5.1%\n",
            "*************************************************\n"
          ]
        }
      ]
    },
    {
      "cell_type": "code",
      "source": [
        "X = UtMx.T\n",
        "X.shape"
      ],
      "metadata": {
        "colab": {
          "base_uri": "https://localhost:8080/"
        },
        "id": "uu-uFMpGDnR2",
        "outputId": "8458c49c-809f-41ad-c2c2-f495ee0d48a3"
      },
      "execution_count": 376,
      "outputs": [
        {
          "output_type": "execute_result",
          "data": {
            "text/plain": [
              "(129, 138)"
            ]
          },
          "metadata": {},
          "execution_count": 376
        }
      ]
    },
    {
      "cell_type": "code",
      "source": [
        "Componentes=137\n",
        "SVDCompleto = TruncatedSVD(n_components=Componentes, random_state=1)  \n",
        "SVDCompleto.fit(X)\n",
        "\n",
        "#num_sv = 197\n",
        "\n",
        "print(\"******************************************\")\n",
        "print('El total de valores singulares es de: %d' % (SVDCompleto.singular_values_).shape[0])\n",
        "print(\"******************************************\")"
      ],
      "metadata": {
        "id": "GOydw5OGC1MJ",
        "colab": {
          "base_uri": "https://localhost:8080/"
        },
        "outputId": "fd351ad5-1cec-4100-96c4-54fdfbd13e79"
      },
      "execution_count": 377,
      "outputs": [
        {
          "output_type": "stream",
          "name": "stdout",
          "text": [
            "******************************************\n",
            "El total de valores singulares es de: 129\n",
            "******************************************\n"
          ]
        }
      ]
    },
    {
      "cell_type": "markdown",
      "source": [
        "#**Ejercicio-3.**"
      ],
      "metadata": {
        "id": "NCunuooTC2W3"
      }
    },
    {
      "cell_type": "markdown",
      "source": [
        "\n",
        "\n",
        "---\n",
        "\n",
        "📈 Ejecutaremos el modelo de recomendación utilizando la variable **rating**.\n",
        "\n",
        "\n",
        "---\n",
        "\n"
      ],
      "metadata": {
        "id": "cMMrDWHSj6kJ"
      }
    },
    {
      "cell_type": "code",
      "source": [
        "Matriz_Resultante = SVDCompleto.fit_transform(X)\n",
        "corrMx = np.corrcoef(Matriz_Resultante, )\n",
        "\n",
        "Restaurante_Evaluado = \"Subway\"\n",
        "\n",
        "names = UtMx.columns\n",
        "names_list = list(names)\n",
        "id_megusta = names_list.index(Restaurante_Evaluado)\n",
        "\n",
        "corr_recomienda = corrMx[id_megusta]"
      ],
      "metadata": {
        "id": "BKI80-YdC4HN"
      },
      "execution_count": 378,
      "outputs": []
    },
    {
      "cell_type": "code",
      "source": [
        "Lista_Restaurantes=list(names[(corr_recomienda > .23) & (corr_recomienda < 1)])\n",
        "i=0\n",
        "print(\"*********************************************************************************\")\n",
        "print(\"Tomando como referencia el restaurante Subway las 10 mejores recomendaciones son:\")\n",
        "print(\"*********************************************************************************\")\n",
        "for Restaurante in Lista_Restaurantes:\n",
        "  i=i+1\n",
        "  Id_Lista = names_list.index(Restaurante)\n",
        "  print(i,'- Restaurante',Restaurante, ' (Coeficiente Pearson =', round(corr_recomienda[Id_Lista],4),')')"
      ],
      "metadata": {
        "id": "gwtdhXEfD8Ma",
        "outputId": "491179cb-48e6-4889-d74c-eba3c00ed26e",
        "colab": {
          "base_uri": "https://localhost:8080/"
        }
      },
      "execution_count": 379,
      "outputs": [
        {
          "output_type": "stream",
          "name": "stdout",
          "text": [
            "*********************************************************************************\n",
            "Tomando como referencia el restaurante Subway las 10 mejores recomendaciones son:\n",
            "*********************************************************************************\n",
            "1 - Restaurante Chilis Cuernavaca  (Coeficiente Pearson = 0.3011 )\n",
            "2 - Restaurante Log Yin  (Coeficiente Pearson = 0.2346 )\n",
            "3 - Restaurante Mariscos Tia Licha  (Coeficiente Pearson = 0.3882 )\n",
            "4 - Restaurante Mikasa  (Coeficiente Pearson = 0.301 )\n",
            "5 - Restaurante Restaurant Teely  (Coeficiente Pearson = 0.6095 )\n",
            "6 - Restaurante Restaurant and Bar and Clothesline Carlos N Charlies  (Coeficiente Pearson = 0.4255 )\n",
            "7 - Restaurante Restaurant los Pinos  (Coeficiente Pearson = 0.2851 )\n",
            "8 - Restaurante Rincon del Bife  (Coeficiente Pearson = 0.4298 )\n",
            "9 - Restaurante Sanborns Casa Piedra  (Coeficiente Pearson = 0.4172 )\n",
            "10 - Restaurante Vips  (Coeficiente Pearson = 0.5063 )\n"
          ]
        }
      ]
    },
    {
      "cell_type": "markdown",
      "source": [
        "Como se puede observar, los 10 restaurantes mantienen una asociación (relación) con nuestro restaurante de referencia subway, dos restaurantes estan más correlacionados con subway y son Restaurant Teely y Vips. El resto de los restaurantes estan menos correlacionados. "
      ],
      "metadata": {
        "id": "0aYpM44Eas1s"
      }
    },
    {
      "cell_type": "markdown",
      "source": [
        "#**Ejercicio-4.**"
      ],
      "metadata": {
        "id": "chqk9jIDC5Pq"
      }
    },
    {
      "cell_type": "code",
      "source": [
        "Componentes=12\n",
        "SVD = TruncatedSVD(n_components=Componentes, random_state=1)  \n",
        "SVD.fit(X)\n",
        "\n",
        "print(\"*****************************************************\")\n",
        "print('El total de valores singulares encontrados es de: %d' % (SVD.singular_values_).shape[0])\n",
        "\n",
        "Matriz_Resultante = SVD.fit_transform(X)\n",
        "\n",
        "corrMx = np.corrcoef(Matriz_Resultante, )\n",
        "names = UtMx.columns\n",
        "names_list = list(names)\n",
        "id_megusta = names_list.index(Restaurante_Evaluado)\n",
        "corr_recomienda = corrMx[id_megusta]\n",
        "\n",
        "Lista_Restaurantes_RedDim=list(names[(corr_recomienda > .9985) & (corr_recomienda < 1)])\n",
        "i=0\n",
        "print(\"*********************************************************************************************************************\")\n",
        "print(\"Reduciendo la dimensionalidad y manteniendo como referencia el restaurante Subway las 10 mejores recomendaciones son:\")\n",
        "print(\"*********************************************************************************************************************\")\n",
        "for Restaurante in Lista_Restaurantes_RedDim:\n",
        "  i=i+1\n",
        "  Id_Lista = names_list.index(Restaurante)\n",
        "  print(i,'- Restaurante',Restaurante, ' (Coeficiente Pearson =', round(corr_recomienda[Id_Lista],4),')')\n",
        " \n"
      ],
      "metadata": {
        "id": "7KXnlNzAC69Y",
        "outputId": "1b9a0513-9ba7-4c5e-87b8-9c8630269288",
        "colab": {
          "base_uri": "https://localhost:8080/"
        }
      },
      "execution_count": 380,
      "outputs": [
        {
          "output_type": "stream",
          "name": "stdout",
          "text": [
            "*****************************************************\n",
            "El total de valores singulares encontrados es de: 12\n",
            "*********************************************************************************************************************\n",
            "Reduciendo la dimensionalidad y manteniendo como referencia el restaurante Subway las 10 mejores recomendaciones son:\n",
            "*********************************************************************************************************************\n",
            "1 - Restaurante Log Yin  (Coeficiente Pearson = 0.9993 )\n",
            "2 - Restaurante Mariscos Tia Licha  (Coeficiente Pearson = 0.9987 )\n",
            "3 - Restaurante Mikasa  (Coeficiente Pearson = 0.9992 )\n",
            "4 - Restaurante Paniroles  (Coeficiente Pearson = 0.9987 )\n",
            "5 - Restaurante Restaurant Teely  (Coeficiente Pearson = 0.9996 )\n",
            "6 - Restaurante Restaurant and Bar and Clothesline Carlos N Charlies  (Coeficiente Pearson = 0.9996 )\n",
            "7 - Restaurante Restaurant los Pinos  (Coeficiente Pearson = 0.9996 )\n",
            "8 - Restaurante Rincon del Bife  (Coeficiente Pearson = 0.9999 )\n",
            "9 - Restaurante Sanborns Casa Piedra  (Coeficiente Pearson = 0.9998 )\n",
            "10 - Restaurante Vips  (Coeficiente Pearson = 0.9999 )\n"
          ]
        }
      ]
    },
    {
      "cell_type": "code",
      "source": [
        "import functools\n",
        "print(\"*****************************************************************************\")\n",
        "print(\"Coincidencias en recomendación de restaurantes al reducir la dimensionalidad:\")\n",
        "print(\"*****************************************************************************\")\n",
        "print(\"Se encontraron\",len(set(Lista_Restaurantes_RedDim).intersection(Lista_Restaurantes)), \"restaurantes iguales.\")\n",
        "print(\"\")\n",
        "print(\"************************************************************************************\")\n",
        "print(\"Los siguientes restaurantes difieren en la recomendación al ajustar dimensionalidad:\")\n",
        "print(\"************************************************************************************\")\n",
        "[x for x in Lista_Restaurantes + Lista_Restaurantes_RedDim if x not in Lista_Restaurantes or x not in Lista_Restaurantes_RedDim]"
      ],
      "metadata": {
        "id": "58NmMzq6P_wQ",
        "outputId": "0a1cc77d-f2fb-4673-b369-254aa27daba7",
        "colab": {
          "base_uri": "https://localhost:8080/"
        }
      },
      "execution_count": 381,
      "outputs": [
        {
          "output_type": "stream",
          "name": "stdout",
          "text": [
            "*****************************************************************************\n",
            "Coincidencias en recomendación de restaurantes al reducir la dimensionalidad:\n",
            "*****************************************************************************\n",
            "Se encontraron 9 restaurantes iguales.\n",
            "\n",
            "************************************************************************************\n",
            "Los siguientes restaurantes difieren en la recomendación al ajustar dimensionalidad:\n",
            "************************************************************************************\n"
          ]
        },
        {
          "output_type": "execute_result",
          "data": {
            "text/plain": [
              "['Chilis Cuernavaca', 'Paniroles']"
            ]
          },
          "metadata": {},
          "execution_count": 381
        }
      ]
    },
    {
      "cell_type": "code",
      "source": [
        "print(\"*****************************************************************************\")\n",
        "print('Cantidad de información simplificada con los primeros %d vectores singulares:' % Componentes)\n",
        "print(\"*****************************************************************************\")\n",
        "print('%.1f%%' %  (100 * (1- (SVDCompleto.singular_values_[0:Componentes]).sum() / (SVDCompleto.singular_values_).sum())))"
      ],
      "metadata": {
        "id": "TEePB28OOwQX",
        "outputId": "38e6403f-3d95-4585-e1a6-35db77daeaac",
        "colab": {
          "base_uri": "https://localhost:8080/"
        }
      },
      "execution_count": 382,
      "outputs": [
        {
          "output_type": "stream",
          "name": "stdout",
          "text": [
            "*****************************************************************************\n",
            "Cantidad de información simplificada con los primeros 12 vectores singulares:\n",
            "*****************************************************************************\n",
            "72.1%\n"
          ]
        }
      ]
    },
    {
      "cell_type": "markdown",
      "source": [
        "#**Ejercicio-5.**"
      ],
      "metadata": {
        "id": "Rv7KFq-mC7PS"
      }
    },
    {
      "cell_type": "code",
      "source": [
        "Componentes=137\n",
        "SVD = TruncatedSVD(n_components=Componentes, random_state=1)  \n",
        "SVD.fit(X)\n",
        "\n",
        "Matriz_Resultante = SVD.fit_transform(X)\n",
        "corrMx = np.corrcoef(Matriz_Resultante, )\n",
        "\n",
        "Restaurante_Evaluado = \"tacos de barbacoa enfrente del Tec\"\n",
        "\n",
        "names_list = list(names)\n",
        "id_megusta = names_list.index(Restaurante_Evaluado)\n",
        "\n",
        "corr_recomienda = corrMx[id_megusta]\n",
        "\n",
        "Lista_Restaurantes=list(names[(corr_recomienda > .17) & (corr_recomienda < 1)])\n",
        "i=0\n",
        "print(\"*************************************************************************************************************\")\n",
        "print(\"Tomando como referencia el restaurante 'tacos de barbacoa enfrente del Tec' las 10 mejores recomendaciones son:\")\n",
        "print(\"*************************************************************************************************************\")\n",
        "for Restaurante in Lista_Restaurantes:\n",
        "  i=i+1\n",
        "  if i<11:\n",
        "    Id_Lista = names_list.index(Restaurante)\n",
        "    print(i,'- Restaurante',Restaurante, ' (Coeficiente Pearson =', round(corr_recomienda[Id_Lista],4),')')"
      ],
      "metadata": {
        "id": "jaDj3kawC9B6",
        "outputId": "ee6b9dad-445c-47b4-e2a5-5a94333d2a66",
        "colab": {
          "base_uri": "https://localhost:8080/"
        }
      },
      "execution_count": 383,
      "outputs": [
        {
          "output_type": "stream",
          "name": "stdout",
          "text": [
            "*************************************************************************************************************\n",
            "Tomando como referencia el restaurante 'tacos de barbacoa enfrente del Tec' las 10 mejores recomendaciones son:\n",
            "*************************************************************************************************************\n",
            "1 - Restaurante Carreton de Flautas y Migadas  (Coeficiente Pearson = 0.4078 )\n",
            "2 - Restaurante Hamburguesas La perica  (Coeficiente Pearson = 0.1911 )\n",
            "3 - Restaurante Little Cesarz  (Coeficiente Pearson = 0.2585 )\n",
            "4 - Restaurante Taqueria EL amigo   (Coeficiente Pearson = 0.4372 )\n",
            "5 - Restaurante carnitas mata calle Emilio Portes Gil  (Coeficiente Pearson = 0.1709 )\n",
            "6 - Restaurante carnitas_mata  (Coeficiente Pearson = 0.1709 )\n",
            "7 - Restaurante little pizza Emilio Portes Gil  (Coeficiente Pearson = 0.6538 )\n",
            "8 - Restaurante palomo tec  (Coeficiente Pearson = 0.1952 )\n",
            "9 - Restaurante puesto de gorditas  (Coeficiente Pearson = 0.4128 )\n",
            "10 - Restaurante tacos abi  (Coeficiente Pearson = 0.6653 )\n"
          ]
        }
      ]
    },
    {
      "cell_type": "code",
      "source": [
        "Componentes=10\n",
        "SVD = TruncatedSVD(n_components=Componentes, random_state=1)  \n",
        "SVD.fit(X)\n",
        "\n",
        "print(\"****************************************************\")\n",
        "print('El total de valores singulares encontrados es de: %d' % (SVD.singular_values_).shape[0])\n",
        "\n",
        "Matriz_Resultante = SVD.fit_transform(X)\n",
        "\n",
        "corrMx = np.corrcoef(Matriz_Resultante, )\n",
        "\n",
        "corr_recomienda = corrMx[id_megusta]\n",
        "\n",
        "Lista_Restaurantes_RedDim=list(names[(corr_recomienda > .998) & (corr_recomienda < 1)])\n",
        "i=0\n",
        "print(\"**************************************************************************************************************************************************\")\n",
        "print(\"Reduciendo la dimensionalidad y manteniendo como referencia el restaurante 'tacos de barbacoa enfrente del Tec' las 10 mejores recomendaciones son:\")\n",
        "print(\"**************************************************************************************************************************************************\")\n",
        "for Restaurante in Lista_Restaurantes_RedDim:\n",
        "  i=i+1\n",
        "  Id_Lista = names_list.index(Restaurante)\n",
        "  print(i,'- Restaurante',Restaurante, ' (Coeficiente Pearson =', round(corr_recomienda[Id_Lista],4),')')"
      ],
      "metadata": {
        "id": "4tQxQROVC9Us",
        "outputId": "7520f62f-2631-4bca-de7a-aeca68f4974f",
        "colab": {
          "base_uri": "https://localhost:8080/"
        }
      },
      "execution_count": 384,
      "outputs": [
        {
          "output_type": "stream",
          "name": "stdout",
          "text": [
            "****************************************************\n",
            "El total de valores singulares encontrados es de: 10\n",
            "**************************************************************************************************************************************************\n",
            "Reduciendo la dimensionalidad y manteniendo como referencia el restaurante 'tacos de barbacoa enfrente del Tec' las 10 mejores recomendaciones son:\n",
            "**************************************************************************************************************************************************\n",
            "1 - Restaurante Hamburguesas La perica  (Coeficiente Pearson = 0.9983 )\n",
            "2 - Restaurante Little Cesarz  (Coeficiente Pearson = 0.9982 )\n",
            "3 - Restaurante Pollo_Frito_Buenos_Aires  (Coeficiente Pearson = 0.9995 )\n",
            "4 - Restaurante Taqueria EL amigo   (Coeficiente Pearson = 0.9999 )\n",
            "5 - Restaurante carnitas_mata  (Coeficiente Pearson = 0.9994 )\n",
            "6 - Restaurante little pizza Emilio Portes Gil  (Coeficiente Pearson = 0.9997 )\n",
            "7 - Restaurante palomo tec  (Coeficiente Pearson = 0.9994 )\n",
            "8 - Restaurante puesto de gorditas  (Coeficiente Pearson = 0.9994 )\n",
            "9 - Restaurante tacos abi  (Coeficiente Pearson = 1.0 )\n",
            "10 - Restaurante vips  (Coeficiente Pearson = 0.9998 )\n"
          ]
        }
      ]
    },
    {
      "cell_type": "code",
      "source": [
        "import functools\n",
        "print(\"*****************************************************************************\")\n",
        "print(\"Coincidencias en recomendación de restaurantes al reducir la dimensionalidad:\")\n",
        "print(\"*****************************************************************************\")\n",
        "print(\"Se encontraron\",len(set(Lista_Restaurantes_RedDim).intersection(Lista_Restaurantes)), \"restaurantes iguales.\")\n",
        "print(\"\")\n",
        "print(\"************************************************************************************\")\n",
        "print(\"Los siguientes restaurantes difieren en la recomendación al ajustar dimensionalidad:\")\n",
        "print(\"************************************************************************************\")\n",
        "[x for x in Lista_Restaurantes + Lista_Restaurantes_RedDim if x not in Lista_Restaurantes or x not in Lista_Restaurantes_RedDim]"
      ],
      "metadata": {
        "id": "RnpFi9aYXRl5",
        "outputId": "a27be380-8d0d-4496-a8c6-096e27f99e20",
        "colab": {
          "base_uri": "https://localhost:8080/"
        }
      },
      "execution_count": 385,
      "outputs": [
        {
          "output_type": "stream",
          "name": "stdout",
          "text": [
            "*****************************************************************************\n",
            "Coincidencias en recomendación de restaurantes al reducir la dimensionalidad:\n",
            "*****************************************************************************\n",
            "Se encontraron 9 restaurantes iguales.\n",
            "\n",
            "************************************************************************************\n",
            "Los siguientes restaurantes difieren en la recomendación al ajustar dimensionalidad:\n",
            "************************************************************************************\n"
          ]
        },
        {
          "output_type": "execute_result",
          "data": {
            "text/plain": [
              "['Carreton de Flautas y Migadas',\n",
              " 'carnitas mata calle Emilio Portes Gil',\n",
              " 'Pollo_Frito_Buenos_Aires']"
            ]
          },
          "metadata": {},
          "execution_count": 385
        }
      ]
    },
    {
      "cell_type": "code",
      "source": [
        "print(\"*****************************************************************************\")\n",
        "print('Cantidad de información simplificada con los primeros %d vectores singulares:' % Componentes)\n",
        "print(\"*****************************************************************************\")\n",
        "print('%.1f%%' %  (100 * (1- (SVDCompleto.singular_values_[0:Componentes]).sum() / (SVDCompleto.singular_values_).sum())))"
      ],
      "metadata": {
        "id": "PH7W1jwrXWKB",
        "outputId": "c1fd70fd-fc93-4cc5-c437-bab82639d7fb",
        "colab": {
          "base_uri": "https://localhost:8080/"
        }
      },
      "execution_count": 386,
      "outputs": [
        {
          "output_type": "stream",
          "name": "stdout",
          "text": [
            "*****************************************************************************\n",
            "Cantidad de información simplificada con los primeros 10 vectores singulares:\n",
            "*****************************************************************************\n",
            "75.6%\n"
          ]
        }
      ]
    },
    {
      "cell_type": "markdown",
      "source": [
        "\n",
        "\n",
        "---\n",
        "\n",
        "✍ **Conclusiones:**\n",
        "\n",
        "\n",
        "---\n",
        "\n",
        "Tomando como referencia el restaurante tacos de barbacoa enfrente del Tec y con un número de componentes de 137, observamos que \"tacos abi\" y \"little pizza Emilio Portes Gil\" son los restaurantes que estan más correlacionados con nuestro restaruante de referencia, todos los demás tienen una correlación menos a 0.5.  \n",
        "\n",
        "Si reducimos la dimensionalidad a 10 componentes, lo que nos permitió reducir en 75.6% la información, con la nueva dimensionalidad tenemos 9 restaurantes que estan bastante correlacionados con \"tacos de barbacoa en frente del Tec\", cabe destacar que dentro de ellos \"tacos abi\" tiene una correlación perfecta, lo que puede ser indicativo de que da lo mismo comer en cualquiera de los dos lugares, sin embargo, **es recomendable escluirla del análisis**. (este punto en el notebook del profesor dice que se tiene que excluir pero es el que mejor empareja con nuestra referencia.  \n",
        "\n",
        "Por otra parte, los restaurantes que no estaríamos recomendando, serían: \n",
        "\n",
        "*   Carreton de Flautas y Migadas\n",
        "*   carnitas mata calle Emilio Portes Gil\n",
        "*   Pollo_Frito_Buenos_Aires\n"
      ],
      "metadata": {
        "id": "zyNA-nwxZkf5"
      }
    },
    {
      "cell_type": "markdown",
      "source": [
        "#**Ejercicio-6.**"
      ],
      "metadata": {
        "id": "W2S7LI0NC9wE"
      }
    },
    {
      "cell_type": "markdown",
      "source": [
        "\n",
        "\n",
        "---\n",
        "\n",
        "📈 Ejecutaremos el modelo de recomendación utilizando la variable **food_rating**.\n",
        "\n",
        "\n",
        "---\n",
        "\n"
      ],
      "metadata": {
        "id": "F1oJ_5lbjQbp"
      }
    },
    {
      "cell_type": "code",
      "source": [
        "#Generar matriz relacional y asignar index con userID\n",
        "df_rel=pd.merge(df_rt,df_g,how='inner')\n",
        "df_rel=df_rel.set_index('userID')\n",
        "df_rel.shape\n",
        "\n",
        "#Generar matriz de utilidad e impresión de 10 renglones\n",
        "UtMx = df_rel.pivot_table(values='food_rating', index='userID', columns='name', fill_value=0)\n",
        "\n",
        "UtMx.head(10)\n",
        "UtMx.shape "
      ],
      "metadata": {
        "id": "x6uBleJUC_AU",
        "outputId": "6737fd15-7ed5-410d-9fab-d6187abcbf9d",
        "colab": {
          "base_uri": "https://localhost:8080/"
        }
      },
      "execution_count": 387,
      "outputs": [
        {
          "output_type": "execute_result",
          "data": {
            "text/plain": [
              "(138, 129)"
            ]
          },
          "metadata": {},
          "execution_count": 387
        }
      ]
    },
    {
      "cell_type": "code",
      "source": [
        "print(\"***************************************************\")\n",
        "print('Total de elementos de la matriz de utilidad: %d' % (UtMx.size))\n",
        "print(\"***************************************************\")\n",
        "print('Total de elementos diferentes de cero: %d' % (np.count_nonzero(UtMx)))\n",
        "print(\"*************************************************\")\n",
        "print('Porcentaje de elementos diferentes de cero: %.1f%%' % (100 * np.count_nonzero(UtMx) / UtMx.size))\n",
        "print(\"*************************************************\")\n",
        "\n",
        "X = UtMx.T\n",
        "X.shape\n",
        "\n",
        "Componentes=137\n",
        "SVD = TruncatedSVD(n_components=Componentes, random_state=1)  \n",
        "SVD.fit(X)\n",
        "print('El total de valores singulares es de: %d' % (SVD.singular_values_).shape[0])\n",
        "print(\"******************************************\")"
      ],
      "metadata": {
        "id": "n0P_AcyjC_Dh",
        "outputId": "8130d9a2-7f32-4aa7-8121-a15c8400d468",
        "colab": {
          "base_uri": "https://localhost:8080/"
        }
      },
      "execution_count": 388,
      "outputs": [
        {
          "output_type": "stream",
          "name": "stdout",
          "text": [
            "***************************************************\n",
            "Total de elementos de la matriz de utilidad: 17802\n",
            "***************************************************\n",
            "Total de elementos diferentes de cero: 895\n",
            "*************************************************\n",
            "Porcentaje de elementos diferentes de cero: 5.0%\n",
            "*************************************************\n",
            "El total de valores singulares es de: 129\n",
            "******************************************\n"
          ]
        }
      ]
    },
    {
      "cell_type": "code",
      "source": [
        "Matriz_Resultante = SVD.fit_transform(X)\n",
        "corrMx = np.corrcoef(Matriz_Resultante, )\n",
        "\n",
        "Restaurante_Evaluado = \"Subway\"\n",
        "\n",
        "names = UtMx.columns\n",
        "names_list = list(names)\n",
        "id_megusta = names_list.index(Restaurante_Evaluado)\n",
        "\n",
        "corr_recomienda = corrMx[id_megusta]\n",
        "\n",
        "Lista_Restaurantes=list(names[(corr_recomienda > .232) & (corr_recomienda < 1)])\n",
        "i=0\n",
        "print(\"*********************************************************************************\")\n",
        "print(\"Tomando como referencia el restaurante Subway las 10 mejores recomendaciones son:\")\n",
        "print(\"*********************************************************************************\")\n",
        "for Restaurante in Lista_Restaurantes:\n",
        "  i=i+1\n",
        "  Id_Lista = names_list.index(Restaurante)\n",
        "  print(i,'- Restaurante',Restaurante, ' (Coeficiente Pearson =', round(corr_recomienda[Id_Lista],4),')')"
      ],
      "metadata": {
        "id": "NccGf-IidSCd",
        "outputId": "26015f77-31cb-4cf3-b95d-e94d8040ba1b",
        "colab": {
          "base_uri": "https://localhost:8080/"
        }
      },
      "execution_count": 389,
      "outputs": [
        {
          "output_type": "stream",
          "name": "stdout",
          "text": [
            "*********************************************************************************\n",
            "Tomando como referencia el restaurante Subway las 10 mejores recomendaciones son:\n",
            "*********************************************************************************\n",
            "1 - Restaurante Kiku Cuernavaca  (Coeficiente Pearson = 0.2504 )\n",
            "2 - Restaurante Mariscos Tia Licha  (Coeficiente Pearson = 0.4152 )\n",
            "3 - Restaurante Paniroles  (Coeficiente Pearson = 0.3121 )\n",
            "4 - Restaurante Restaurant Familiar El Chino  (Coeficiente Pearson = 0.2327 )\n",
            "5 - Restaurante Restaurant Las Mananitas  (Coeficiente Pearson = 0.3317 )\n",
            "6 - Restaurante Restaurant Teely  (Coeficiente Pearson = 0.8164 )\n",
            "7 - Restaurante Restaurant and Bar and Clothesline Carlos N Charlies  (Coeficiente Pearson = 0.4689 )\n",
            "8 - Restaurante Rincon del Bife  (Coeficiente Pearson = 0.3818 )\n",
            "9 - Restaurante Sanborns Casa Piedra  (Coeficiente Pearson = 0.3657 )\n",
            "10 - Restaurante Vips  (Coeficiente Pearson = 0.4421 )\n"
          ]
        }
      ]
    },
    {
      "cell_type": "code",
      "source": [
        "Componentes=74\n",
        "SVD = TruncatedSVD(n_components=Componentes, random_state=1)  \n",
        "SVD.fit(X)\n",
        "\n",
        "print(\"****************************************************\")\n",
        "print('El total de valores singulares encontrados es de: %d' % (SVD.singular_values_).shape[0])\n",
        "\n",
        "Matriz_Resultante = SVD.fit_transform(X)\n",
        "\n",
        "corrMx = np.corrcoef(Matriz_Resultante, )\n",
        "corr_recomienda = corrMx[id_megusta]\n",
        "\n",
        "Lista_Restaurantes_RedDim=list(names[(corr_recomienda > .25) & (corr_recomienda < 1)])\n",
        "i=0\n",
        "print(\"*********************************************************************************************************************\")\n",
        "print(\"Reduciendo la dimensionalidad y manteniendo como referencia el restaurante Subway las 10 mejores recomendaciones son:\")\n",
        "print(\"*********************************************************************************************************************\")\n",
        "for Restaurante in Lista_Restaurantes_RedDim:\n",
        "  i=i+1\n",
        "  Id_Lista = names_list.index(Restaurante)\n",
        "  print(i,'- Restaurante',Restaurante, ' (Coeficiente Pearson =', round(corr_recomienda[Id_Lista],6),')')\n",
        "  \n",
        "print(\"************************************************************************************\")\n",
        "print(\"Los siguientes restaurantes difieren en la recomendación al ajustar dimensionalidad:\")\n",
        "print(\"************************************************************************************\")\n",
        "[x for x in Lista_Restaurantes + Lista_Restaurantes_RedDim if x not in Lista_Restaurantes or x not in Lista_Restaurantes_RedDim]"
      ],
      "metadata": {
        "id": "mx-0GbE5dRwm",
        "outputId": "8f0f4d79-67ae-457f-be9b-4419d0acb87d",
        "colab": {
          "base_uri": "https://localhost:8080/"
        }
      },
      "execution_count": 390,
      "outputs": [
        {
          "output_type": "stream",
          "name": "stdout",
          "text": [
            "****************************************************\n",
            "El total de valores singulares encontrados es de: 74\n",
            "*********************************************************************************************************************\n",
            "Reduciendo la dimensionalidad y manteniendo como referencia el restaurante Subway las 10 mejores recomendaciones son:\n",
            "*********************************************************************************************************************\n",
            "1 - Restaurante Mariscos Tia Licha  (Coeficiente Pearson = 0.434973 )\n",
            "2 - Restaurante Mikasa  (Coeficiente Pearson = 0.267162 )\n",
            "3 - Restaurante Paniroles  (Coeficiente Pearson = 0.317003 )\n",
            "4 - Restaurante Restaurant Familiar El Chino  (Coeficiente Pearson = 0.253376 )\n",
            "5 - Restaurante Restaurant Las Mananitas  (Coeficiente Pearson = 0.334772 )\n",
            "6 - Restaurante Restaurant Teely  (Coeficiente Pearson = 0.881512 )\n",
            "7 - Restaurante Restaurant and Bar and Clothesline Carlos N Charlies  (Coeficiente Pearson = 0.514284 )\n",
            "8 - Restaurante Rincon del Bife  (Coeficiente Pearson = 0.475261 )\n",
            "9 - Restaurante Sanborns Casa Piedra  (Coeficiente Pearson = 0.385011 )\n",
            "10 - Restaurante Vips  (Coeficiente Pearson = 0.448616 )\n",
            "************************************************************************************\n",
            "Los siguientes restaurantes difieren en la recomendación al ajustar dimensionalidad:\n",
            "************************************************************************************\n"
          ]
        },
        {
          "output_type": "execute_result",
          "data": {
            "text/plain": [
              "['Kiku Cuernavaca', 'Mikasa']"
            ]
          },
          "metadata": {},
          "execution_count": 390
        }
      ]
    },
    {
      "cell_type": "code",
      "source": [
        "# print(\"*****************************************************************************\")\n",
        "# print(\"Coincidencias en recomendación de restaurantes al reducir la dimensionalidad:\")\n",
        "# print(\"*****************************************************************************\")\n",
        "# print(\"Se encontraron\",len(set(Lista_Restaurantes_RedDim).intersection(Lista_Restaurantes)), \"restaurantes iguales.\")\n",
        "# print(\"\")\n",
        "\n",
        "print(\"*****************************************************************************\")\n",
        "print('Cantidad de información simplificada con los primeros %d vectores singulares:' % Componentes)\n",
        "print(\"*****************************************************************************\")\n",
        "print('%.1f%%' %  (100 * (1- (SVDCompleto.singular_values_[0:Componentes]).sum() / (SVDCompleto.singular_values_).sum())))"
      ],
      "metadata": {
        "id": "FcI447BAdc2T",
        "outputId": "64ad8bc5-1cde-42f5-b339-abc19490e494",
        "colab": {
          "base_uri": "https://localhost:8080/"
        }
      },
      "execution_count": 391,
      "outputs": [
        {
          "output_type": "stream",
          "name": "stdout",
          "text": [
            "*****************************************************************************\n",
            "Cantidad de información simplificada con los primeros 74 vectores singulares:\n",
            "*****************************************************************************\n",
            "12.2%\n"
          ]
        }
      ]
    },
    {
      "cell_type": "markdown",
      "source": [
        "\n",
        "\n",
        "---\n",
        "\n",
        "✍ **Conclusiones:** \n",
        "\n",
        "\n",
        "---\n",
        "\n",
        "Sin reducir dimensionalidad el restaurante que esta más correlacionado con subway es el \"restaurante Teely\", el resto mantiene una correlación baja. \n",
        "\n",
        "Reduciendo el número de componentes a 74, y en 12.2% la información, tenemos que el máximo de coincidencias encontrada fue de 8 restaurantes.\n"
      ],
      "metadata": {
        "id": "kFImnuHMehiI"
      }
    },
    {
      "cell_type": "markdown",
      "source": [
        "#**Ejercicio-7.**"
      ],
      "metadata": {
        "id": "lUvqUSV5cd-Z"
      }
    },
    {
      "cell_type": "markdown",
      "source": [
        "\n",
        "\n",
        "---\n",
        "\n",
        "📈 Ejecutaremos el modelo de recomendación utilizando la variable **service_rating**.\n",
        "\n",
        "\n",
        "---\n",
        "\n"
      ],
      "metadata": {
        "id": "ON0NUem4jobH"
      }
    },
    {
      "cell_type": "code",
      "source": [
        "#Generar matriz relacional y asignar index con userID\n",
        "df_rel=pd.merge(df_rt,df_g,how='inner')\n",
        "df_rel=df_rel.set_index('userID')\n",
        "df_rel.shape\n",
        "\n",
        "#Generar matriz de utilidad e impresión de 10 renglones\n",
        "UtMx = df_rel.pivot_table(values='service_rating', index='userID', columns='name', fill_value=0)\n",
        "\n",
        "UtMx.head(10)\n",
        "UtMx.shape "
      ],
      "metadata": {
        "id": "TmXidIqtci7D",
        "outputId": "a6d26863-d4cb-43b9-f66c-815df7c00754",
        "colab": {
          "base_uri": "https://localhost:8080/"
        }
      },
      "execution_count": 392,
      "outputs": [
        {
          "output_type": "execute_result",
          "data": {
            "text/plain": [
              "(138, 129)"
            ]
          },
          "metadata": {},
          "execution_count": 392
        }
      ]
    },
    {
      "cell_type": "code",
      "source": [
        "print(\"***************************************************\")\n",
        "print('Total de elementos de la matriz de utilidad: %d' % (UtMx.size))\n",
        "print(\"***************************************************\")\n",
        "print('Total de elementos diferentes de cero: %d' % (np.count_nonzero(UtMx)))\n",
        "print(\"*************************************************\")\n",
        "print('Porcentaje de elementos diferentes de cero: %.1f%%' % (100 * np.count_nonzero(UtMx) / UtMx.size))\n",
        "print(\"*************************************************\")\n",
        "X = UtMx.T\n",
        "X.shape\n",
        "\n",
        "Componentes=137\n",
        "SVD = TruncatedSVD(n_components=Componentes, random_state=1)  \n",
        "SVD.fit(X)\n",
        "\n",
        "print('El total de valores singulares es de: %d' % (SVD.singular_values_).shape[0])"
      ],
      "metadata": {
        "id": "gtaf5rUfcjgX",
        "outputId": "3388ebb7-9d81-4972-e79a-33c6cfbeda85",
        "colab": {
          "base_uri": "https://localhost:8080/"
        }
      },
      "execution_count": 393,
      "outputs": [
        {
          "output_type": "stream",
          "name": "stdout",
          "text": [
            "***************************************************\n",
            "Total de elementos de la matriz de utilidad: 17802\n",
            "***************************************************\n",
            "Total de elementos diferentes de cero: 846\n",
            "*************************************************\n",
            "Porcentaje de elementos diferentes de cero: 4.8%\n",
            "*************************************************\n",
            "El total de valores singulares es de: 129\n"
          ]
        }
      ]
    },
    {
      "cell_type": "code",
      "source": [
        "Matriz_Resultante = SVD.fit_transform(X)\n",
        "corrMx = np.corrcoef(Matriz_Resultante, )\n",
        "\n",
        "Restaurante_Evaluado = \"Subway\"\n",
        "\n",
        "names = UtMx.columns\n",
        "names_list = list(names)\n",
        "id_megusta = names_list.index(Restaurante_Evaluado)\n",
        "\n",
        "corr_recomienda = corrMx[id_megusta]\n",
        "\n",
        "Lista_Restaurantes=list(names[(corr_recomienda > .17) & (corr_recomienda < 1)])\n",
        "i=0\n",
        "print(\"*********************************************************************************\")\n",
        "print(\"Tomando como referencia el restaurante Subway las 10 mejores recomendaciones son:\")\n",
        "print(\"*********************************************************************************\")\n",
        "for Restaurante in Lista_Restaurantes:\n",
        "  i=i+1\n",
        "  Id_Lista = names_list.index(Restaurante)\n",
        "  print(i,'- Restaurante',Restaurante, ' (Coeficiente Pearson =', round(corr_recomienda[Id_Lista],4),')')\n"
      ],
      "metadata": {
        "id": "_ViBUwpQg3Cb",
        "outputId": "f963eebb-879a-4bb4-b967-974d98515a8a",
        "colab": {
          "base_uri": "https://localhost:8080/"
        }
      },
      "execution_count": 394,
      "outputs": [
        {
          "output_type": "stream",
          "name": "stdout",
          "text": [
            "*********************************************************************************\n",
            "Tomando como referencia el restaurante Subway las 10 mejores recomendaciones son:\n",
            "*********************************************************************************\n",
            "1 - Restaurante Chilis Cuernavaca  (Coeficiente Pearson = 0.2307 )\n",
            "2 - Restaurante Giovannis  (Coeficiente Pearson = 0.1928 )\n",
            "3 - Restaurante Kiku Cuernavaca  (Coeficiente Pearson = 0.1787 )\n",
            "4 - Restaurante Paniroles  (Coeficiente Pearson = 0.3659 )\n",
            "5 - Restaurante Restaurant Familiar El Chino  (Coeficiente Pearson = 0.1829 )\n",
            "6 - Restaurante Restaurant Las Mananitas  (Coeficiente Pearson = 0.2263 )\n",
            "7 - Restaurante Restaurant Teely  (Coeficiente Pearson = 0.773 )\n",
            "8 - Restaurante Restaurant and Bar and Clothesline Carlos N Charlies  (Coeficiente Pearson = 0.6002 )\n",
            "9 - Restaurante Rincon del Bife  (Coeficiente Pearson = 0.5187 )\n",
            "10 - Restaurante Vips  (Coeficiente Pearson = 0.4212 )\n"
          ]
        }
      ]
    },
    {
      "cell_type": "code",
      "source": [
        "Componentes=55\n",
        "SVD = TruncatedSVD(n_components=Componentes, random_state=1)  \n",
        "SVD.fit(X)\n",
        "\n",
        "print(\"****************************************************\")\n",
        "print('El total de valores singulares encontrados es de: %d' % (SVD.singular_values_).shape[0])\n",
        "\n",
        "Matriz_Resultante = SVD.fit_transform(X)\n",
        "\n",
        "corrMx = np.corrcoef(Matriz_Resultante, )\n",
        "corr_recomienda = corrMx[id_megusta]\n",
        "\n",
        "Lista_Restaurantes_RedDim=list(names[(corr_recomienda > .17) & (corr_recomienda < 1)])\n",
        "i=0\n",
        "print(\"*********************************************************************************************************************\")\n",
        "print(\"Reduciendo la dimensionalidad y manteniendo como referencia el restaurante Subway las 10 mejores recomendaciones son:\")\n",
        "print(\"*********************************************************************************************************************\")\n",
        "for Restaurante in Lista_Restaurantes_RedDim:\n",
        "  i=i+1\n",
        "  Id_Lista = names_list.index(Restaurante)\n",
        "  print(i,'- Restaurante',Restaurante, ' (Coeficiente Pearson =', round(corr_recomienda[Id_Lista],4),')')\n",
        "\n",
        "print(\"************************************************************************************\")\n",
        "print(\"Los siguientes restaurantes difieren en la recomendación al ajustar dimensionalidad:\")\n",
        "print(\"************************************************************************************\")\n",
        "[x for x in Lista_Restaurantes + Lista_Restaurantes_RedDim if x not in Lista_Restaurantes or x not in Lista_Restaurantes_RedDim]"
      ],
      "metadata": {
        "id": "j2k8zoOSg27T",
        "outputId": "d4891f1a-1d6d-4d31-bc34-e62f088ea396",
        "colab": {
          "base_uri": "https://localhost:8080/"
        }
      },
      "execution_count": 395,
      "outputs": [
        {
          "output_type": "stream",
          "name": "stdout",
          "text": [
            "****************************************************\n",
            "El total de valores singulares encontrados es de: 55\n",
            "*********************************************************************************************************************\n",
            "Reduciendo la dimensionalidad y manteniendo como referencia el restaurante Subway las 10 mejores recomendaciones son:\n",
            "*********************************************************************************************************************\n",
            "1 - Restaurante Chilis Cuernavaca  (Coeficiente Pearson = 0.2352 )\n",
            "2 - Restaurante Giovannis  (Coeficiente Pearson = 0.3107 )\n",
            "3 - Restaurante Kiku Cuernavaca  (Coeficiente Pearson = 0.1865 )\n",
            "4 - Restaurante Mariscos Tia Licha  (Coeficiente Pearson = 0.1744 )\n",
            "5 - Restaurante Paniroles  (Coeficiente Pearson = 0.4692 )\n",
            "6 - Restaurante Restaurant Familiar El Chino  (Coeficiente Pearson = 0.1732 )\n",
            "7 - Restaurante Restaurant Las Mananitas  (Coeficiente Pearson = 0.2436 )\n",
            "8 - Restaurante Restaurant Teely  (Coeficiente Pearson = 0.9506 )\n",
            "9 - Restaurante Restaurant and Bar and Clothesline Carlos N Charlies  (Coeficiente Pearson = 0.7821 )\n",
            "10 - Restaurante Rincon del Bife  (Coeficiente Pearson = 0.7136 )\n",
            "11 - Restaurante Vips  (Coeficiente Pearson = 0.4363 )\n",
            "************************************************************************************\n",
            "Los siguientes restaurantes difieren en la recomendación al ajustar dimensionalidad:\n",
            "************************************************************************************\n"
          ]
        },
        {
          "output_type": "execute_result",
          "data": {
            "text/plain": [
              "['Mariscos Tia Licha']"
            ]
          },
          "metadata": {},
          "execution_count": 395
        }
      ]
    },
    {
      "cell_type": "code",
      "source": [
        "# print(\"*****************************************************************************\")\n",
        "# print(\"Coincidencias en recomendación de restaurantes al reducir la dimensionalidad:\")\n",
        "# print(\"*****************************************************************************\")\n",
        "# print(\"Se encontraron\",len(set(Lista_Restaurantes_RedDim).intersection(Lista_Restaurantes)), \"restaurantes iguales.\")\n",
        "# print(\"\")\n",
        "print(\"*****************************************************************************\")\n",
        "print('Cantidad de información simplificada con los primeros %d vectores singulares:' % Componentes)\n",
        "print(\"*****************************************************************************\")\n",
        "print('%.1f%%' %  (100 * (1- (SVDCompleto.singular_values_[0:Componentes]).sum() / (SVDCompleto.singular_values_).sum())))"
      ],
      "metadata": {
        "id": "eTUCaX8cg20U",
        "outputId": "89ccf012-35ab-40af-e4b9-a319a6e21c59",
        "colab": {
          "base_uri": "https://localhost:8080/"
        }
      },
      "execution_count": 396,
      "outputs": [
        {
          "output_type": "stream",
          "name": "stdout",
          "text": [
            "*****************************************************************************\n",
            "Coincidencias en recomendación de restaurantes al reducir la dimensionalidad:\n",
            "*****************************************************************************\n",
            "Se encontraron 10 restaurantes iguales.\n",
            "\n",
            "*****************************************************************************\n",
            "Cantidad de información simplificada con los primeros 55 vectores singulares:\n",
            "*****************************************************************************\n",
            "23.5%\n"
          ]
        }
      ]
    },
    {
      "cell_type": "markdown",
      "source": [
        "\n",
        "\n",
        "---\n",
        "\n",
        "✍ **Conclusiones:** \n",
        "\n",
        "\n",
        "---\n",
        "\n",
        "Sin reducir dimensionalidad tres restaurantes mantienen una correlación alta con respecto a Subway, en primer término \"restaurante Teely\", seguido de \"Restaurant and Bar and Clothesline Carlos N Charlies\" y finalmente \"Rincón del Bife\".\n",
        "\n",
        "Reduciendo la información en un 23.5%, es decir, a solo 55 componentes, observamos que el máximo de coincidencias encontrada fue de 9 restaurantes.\n"
      ],
      "metadata": {
        "id": "wK9RMrnPi-tt"
      }
    },
    {
      "cell_type": "markdown",
      "source": [
        "#**Ejercicio-8.**"
      ],
      "metadata": {
        "id": "9h9eDt6fcmBN"
      }
    },
    {
      "cell_type": "markdown",
      "source": [
        "\n",
        "\n",
        "---\n",
        "\n",
        "✍ **Conclusiones Finales:**\n",
        "\n",
        "\n",
        "---\n",
        "\n",
        "Del análisis de los tres modelos llegamos a las siguientes conclusiones:\n",
        "\n",
        "\n",
        "\n",
        "1.   En cada uno de los modelos sin reducción de dimensionalidad se puede observar una correlación de los restaurantes con nuestro restaurante de referencia. \n",
        "2.   La reducción de dimensionalidad ayuda a encontrar mayores similitudes entre los restaurantes y nuestra referencia, lo que nos permite tener mejores recomendaciones. \n",
        "3.   Realizar el análisis desde el rating promedio global del restaurante incrementa las coincidencias de restaurantes, lo que nos indica que existe información importante que no es considerada para la recomendación.\n",
        "4.   El especificar el análisis especificando que rating usar, como por ejemplo \"food rating\" o \"service rating\", reduce las coincidencias y aumenta los restaurantes no recomendados.\n",
        "5.  Reducir el número de componentes o valores singulares, ayuda a reducir la cantidad de información lo que nos permite tener un mejor sistema de recomendación.\n",
        "\n",
        "\n",
        "\n",
        "\n",
        "\n"
      ],
      "metadata": {
        "id": "YR_nRuN1jIWJ"
      }
    },
    {
      "cell_type": "markdown",
      "source": [
        "###**Fin de la Actividad de la semana 10 - Sistemas de Recomendación y Reducción de Dimensionalidad con SVD.**"
      ],
      "metadata": {
        "id": "7ql_r2G-DB_m"
      }
    }
  ]
}