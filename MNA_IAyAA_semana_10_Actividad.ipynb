{
  "nbformat": 4,
  "nbformat_minor": 0,
  "metadata": {
    "colab": {
      "provenance": [],
      "include_colab_link": true
    },
    "kernelspec": {
      "display_name": "Python 3",
      "name": "python3"
    }
  },
  "cells": [
    {
      "cell_type": "markdown",
      "metadata": {
        "id": "view-in-github",
        "colab_type": "text"
      },
      "source": [
        "<a href=\"https://colab.research.google.com/github/A01793509/Equipo38/blob/main/MNA_IAyAA_semana_10_Actividad.ipynb\" target=\"_parent\"><img src=\"https://colab.research.google.com/assets/colab-badge.svg\" alt=\"Open In Colab\"/></a>"
      ]
    },
    {
      "cell_type": "markdown",
      "source": [
        "#**Maestría en Inteligencia Artificial Aplicada**\n",
        "##**Curso: Inteligencia Artificial y Aprendizaje Automático**\n",
        "###Tecnológico de Monterrey\n",
        "###Prof Luis Eduardo Falcón Morales\n",
        "\n",
        "## **Adtividad de la Semana 10**\n",
        "###**Reducción de Dimensionalidad - Descomposición en Valores Singulares (SVD) y Sistemas de Recomendación**\n"
      ],
      "metadata": {
        "id": "VFj0sSM06dYa"
      }
    },
    {
      "cell_type": "markdown",
      "source": [
        "**Nombres y matrículas de los integrantes del equipo:**\n",
        "\n",
        "*   Alberto Jose Garcia Porras (A01793509)\n",
        "*   Carlos Julio León Caicedo (A01793947)\n",
        "*   Luis Fernando Ríos Piedra (A00453954)\n",
        "*   Marco Antonio Vázquez Morales (A01793704)\n"
      ],
      "metadata": {
        "id": "Qgrvy0RGB9XI"
      }
    },
    {
      "cell_type": "markdown",
      "source": [
        "En cada sección deberás incluir todas las líneas de código necesarias para responder a cada uno de los ejercicios."
      ],
      "metadata": {
        "id": "FrJ2ahMODVj1"
      }
    },
    {
      "cell_type": "code",
      "source": [
        "# Incluye aquí todos módulos, librerías y paquetes que requieras.\n",
        "\n",
        "import pandas as pd\n",
        "import numpy as np\n",
        "import matplotlib.pyplot as plt\n",
        "import requests, zipfile\n",
        "import seaborn as sns\n",
        "from io import BytesIO\n",
        "\n",
        "from sklearn.decomposition import TruncatedSVD,randomized_svd"
      ],
      "metadata": {
        "id": "exXsscs-Dh-2"
      },
      "execution_count": 165,
      "outputs": []
    },
    {
      "cell_type": "markdown",
      "metadata": {
        "id": "X25brD-gQdZM"
      },
      "source": [
        "#**Ejercicio-1.** "
      ]
    },
    {
      "cell_type": "markdown",
      "source": [
        "1. Descarga los archivos y genera la matriz de utilidad en la cual los renglones son los usuarios (user_ID), las columnas los nombres de los restaurantes (name) y las entradas la evaluaciones generales dadas por los usuarios (rating). En particular indica el tamaño de dicha matriz y despliega \n",
        "sus primeros 10 renglones. "
      ],
      "metadata": {
        "id": "hGC2f_i2sBVr"
      }
    },
    {
      "cell_type": "code",
      "source": [
        "#Extracción de rating_final.csv y geoplaces2.csv desde el sitio fuente\n",
        "\n",
        "path = 'https://archive.ics.uci.edu/ml/machine-learning-databases/00232/RCdata.zip'\n",
        "base_datos = path.split('/')[-1]\n",
        "req_path = requests.get(path)\n",
        "\n",
        "zipfile.ZipFile(BytesIO(req_path.content)).extractall('/content/sample_data/RCdata')\n",
        "df_rt = pd.read_csv(\"/content/sample_data/RCdata/rating_final.csv\",sep=',')\n",
        "\n",
        "path = 'https://archive.ics.uci.edu/ml/machine-learning-databases/00232/RCdata.zip'\n",
        "base_datos = path.split('/')[-1]\n",
        "req_path = requests.get(path)\n",
        "\n",
        "zipfile.ZipFile(BytesIO(req_path.content)).extractall('/content/sample_data/RCdata')\n",
        "df_g = pd.read_csv(\"/content/sample_data/RCdata/geoplaces2.csv\",sep=',',encoding='latin-1')\n"
      ],
      "metadata": {
        "id": "3nU2GuWYCy6C"
      },
      "execution_count": 166,
      "outputs": []
    },
    {
      "cell_type": "code",
      "source": [
        "#Generar matriz relacional y asignar index con userID\n",
        "df_rel=pd.merge(df_rt,df_g,how='inner')\n",
        "df_rel=df_rel.set_index('userID')\n"
      ],
      "metadata": {
        "id": "0ulkqXVGCy97"
      },
      "execution_count": 167,
      "outputs": []
    },
    {
      "cell_type": "code",
      "source": [
        "df_rel.shape"
      ],
      "metadata": {
        "colab": {
          "base_uri": "https://localhost:8080/"
        },
        "id": "-G4Kk2GGCjM9",
        "outputId": "0b438ff9-2265-4707-a83b-cae3fd4a4736"
      },
      "execution_count": 168,
      "outputs": [
        {
          "output_type": "execute_result",
          "data": {
            "text/plain": [
              "(1161, 24)"
            ]
          },
          "metadata": {},
          "execution_count": 168
        }
      ]
    },
    {
      "cell_type": "code",
      "source": [
        "#Generar matriz de utilidad e impresión de 10 renglones\n",
        "UtMx = df_rel.pivot_table(values='rating', index='userID', columns='name', fill_value=0)\n",
        "\n",
        "UtMx.head(10)"
      ],
      "metadata": {
        "colab": {
          "base_uri": "https://localhost:8080/",
          "height": 557
        },
        "id": "cvSYzB-au10e",
        "outputId": "f33c4d10-41cb-4dde-fc16-441029599f03"
      },
      "execution_count": 169,
      "outputs": [
        {
          "output_type": "execute_result",
          "data": {
            "text/plain": [
              "name    Abondance Restaurante Bar  Arrachela Grill  Cabana Huasteca  \\\n",
              "userID                                                                \n",
              "U1001                           0                0                0   \n",
              "U1002                           0                0                0   \n",
              "U1003                           0                0                2   \n",
              "U1004                           0                0                0   \n",
              "U1005                           0                0                0   \n",
              "U1006                           0                0                0   \n",
              "U1007                           0                0                0   \n",
              "U1008                           1                0                0   \n",
              "U1009                           0                0                1   \n",
              "U1010                           0                0                0   \n",
              "\n",
              "name    Cafe Chaires  Cafeteria cenidet  Cafeteria y Restaurant El Pacifico  \\\n",
              "userID                                                                        \n",
              "U1001              0                  0                                   0   \n",
              "U1002              0                  0                                   0   \n",
              "U1003              0                  0                                   0   \n",
              "U1004              0                  0                                   2   \n",
              "U1005              0                  0                                   2   \n",
              "U1006              1                  0                                   0   \n",
              "U1007              1                  0                                   1   \n",
              "U1008              0                  0                                   0   \n",
              "U1009              0                  0                                   0   \n",
              "U1010              0                  0                                   0   \n",
              "\n",
              "name    Carls Jr  Carnitas Mata  Calle 16 de Septiembre  \\\n",
              "userID                                                    \n",
              "U1001          0                                      0   \n",
              "U1002          0                                      0   \n",
              "U1003          0                                      0   \n",
              "U1004          0                                      0   \n",
              "U1005          0                                      0   \n",
              "U1006          0                                      0   \n",
              "U1007          0                                      0   \n",
              "U1008          0                                      0   \n",
              "U1009          0                                      0   \n",
              "U1010          0                                      0   \n",
              "\n",
              "name    Carreton de Flautas y Migadas  Cenaduria El RincÃ³n de Tlaquepaque  \\\n",
              "userID                                                                       \n",
              "U1001                               0                                    0   \n",
              "U1002                               0                                    0   \n",
              "U1003                               0                                    0   \n",
              "U1004                               0                                    0   \n",
              "U1005                               0                                    0   \n",
              "U1006                               0                                    0   \n",
              "U1007                               0                                    0   \n",
              "U1008                               0                                    0   \n",
              "U1009                               0                                    0   \n",
              "U1010                               0                                    0   \n",
              "\n",
              "name    ...  puesto de tacos  rockabilly   shi ro ie  sirloin stockade  \\\n",
              "userID  ...                                                              \n",
              "U1001   ...                2            0          0                 0   \n",
              "U1002   ...                2            0          0                 0   \n",
              "U1003   ...                2            2          0                 0   \n",
              "U1004   ...                0            0          0                 0   \n",
              "U1005   ...                0            0          0                 0   \n",
              "U1006   ...                1            0          2                 0   \n",
              "U1007   ...                0            0          0                 0   \n",
              "U1008   ...                0            0          0                 0   \n",
              "U1009   ...                1            0          0                 0   \n",
              "U1010   ...                0            0          0                 0   \n",
              "\n",
              "name    tacos abi  tacos de barbacoa enfrente del Tec  tacos de la estacion  \\\n",
              "userID                                                                        \n",
              "U1001           0                                   0                     0   \n",
              "U1002           0                                   0                     0   \n",
              "U1003           0                                   0                     0   \n",
              "U1004           0                                   0                     0   \n",
              "U1005           0                                   0                     0   \n",
              "U1006           0                                   0                     0   \n",
              "U1007           0                                   0                     0   \n",
              "U1008           0                                   0                     0   \n",
              "U1009           0                                   0                     0   \n",
              "U1010           0                                   0                     0   \n",
              "\n",
              "name    tacos los volcanes  tortas hawai  vips  \n",
              "userID                                          \n",
              "U1001                    0             0     0  \n",
              "U1002                    0             0     0  \n",
              "U1003                    0             0     0  \n",
              "U1004                    2             0     0  \n",
              "U1005                    0             0     0  \n",
              "U1006                    0             0     0  \n",
              "U1007                    0             0     0  \n",
              "U1008                    0             0     0  \n",
              "U1009                    0             0     0  \n",
              "U1010                    0             0     0  \n",
              "\n",
              "[10 rows x 129 columns]"
            ],
            "text/html": [
              "\n",
              "  <div id=\"df-e3fc0b3b-2e2f-4959-9e4a-467b60cb7862\">\n",
              "    <div class=\"colab-df-container\">\n",
              "      <div>\n",
              "<style scoped>\n",
              "    .dataframe tbody tr th:only-of-type {\n",
              "        vertical-align: middle;\n",
              "    }\n",
              "\n",
              "    .dataframe tbody tr th {\n",
              "        vertical-align: top;\n",
              "    }\n",
              "\n",
              "    .dataframe thead th {\n",
              "        text-align: right;\n",
              "    }\n",
              "</style>\n",
              "<table border=\"1\" class=\"dataframe\">\n",
              "  <thead>\n",
              "    <tr style=\"text-align: right;\">\n",
              "      <th>name</th>\n",
              "      <th>Abondance Restaurante Bar</th>\n",
              "      <th>Arrachela Grill</th>\n",
              "      <th>Cabana Huasteca</th>\n",
              "      <th>Cafe Chaires</th>\n",
              "      <th>Cafeteria cenidet</th>\n",
              "      <th>Cafeteria y Restaurant El Pacifico</th>\n",
              "      <th>Carls Jr</th>\n",
              "      <th>Carnitas Mata  Calle 16 de Septiembre</th>\n",
              "      <th>Carreton de Flautas y Migadas</th>\n",
              "      <th>Cenaduria El RincÃ³n de Tlaquepaque</th>\n",
              "      <th>...</th>\n",
              "      <th>puesto de tacos</th>\n",
              "      <th>rockabilly</th>\n",
              "      <th>shi ro ie</th>\n",
              "      <th>sirloin stockade</th>\n",
              "      <th>tacos abi</th>\n",
              "      <th>tacos de barbacoa enfrente del Tec</th>\n",
              "      <th>tacos de la estacion</th>\n",
              "      <th>tacos los volcanes</th>\n",
              "      <th>tortas hawai</th>\n",
              "      <th>vips</th>\n",
              "    </tr>\n",
              "    <tr>\n",
              "      <th>userID</th>\n",
              "      <th></th>\n",
              "      <th></th>\n",
              "      <th></th>\n",
              "      <th></th>\n",
              "      <th></th>\n",
              "      <th></th>\n",
              "      <th></th>\n",
              "      <th></th>\n",
              "      <th></th>\n",
              "      <th></th>\n",
              "      <th></th>\n",
              "      <th></th>\n",
              "      <th></th>\n",
              "      <th></th>\n",
              "      <th></th>\n",
              "      <th></th>\n",
              "      <th></th>\n",
              "      <th></th>\n",
              "      <th></th>\n",
              "      <th></th>\n",
              "      <th></th>\n",
              "    </tr>\n",
              "  </thead>\n",
              "  <tbody>\n",
              "    <tr>\n",
              "      <th>U1001</th>\n",
              "      <td>0</td>\n",
              "      <td>0</td>\n",
              "      <td>0</td>\n",
              "      <td>0</td>\n",
              "      <td>0</td>\n",
              "      <td>0</td>\n",
              "      <td>0</td>\n",
              "      <td>0</td>\n",
              "      <td>0</td>\n",
              "      <td>0</td>\n",
              "      <td>...</td>\n",
              "      <td>2</td>\n",
              "      <td>0</td>\n",
              "      <td>0</td>\n",
              "      <td>0</td>\n",
              "      <td>0</td>\n",
              "      <td>0</td>\n",
              "      <td>0</td>\n",
              "      <td>0</td>\n",
              "      <td>0</td>\n",
              "      <td>0</td>\n",
              "    </tr>\n",
              "    <tr>\n",
              "      <th>U1002</th>\n",
              "      <td>0</td>\n",
              "      <td>0</td>\n",
              "      <td>0</td>\n",
              "      <td>0</td>\n",
              "      <td>0</td>\n",
              "      <td>0</td>\n",
              "      <td>0</td>\n",
              "      <td>0</td>\n",
              "      <td>0</td>\n",
              "      <td>0</td>\n",
              "      <td>...</td>\n",
              "      <td>2</td>\n",
              "      <td>0</td>\n",
              "      <td>0</td>\n",
              "      <td>0</td>\n",
              "      <td>0</td>\n",
              "      <td>0</td>\n",
              "      <td>0</td>\n",
              "      <td>0</td>\n",
              "      <td>0</td>\n",
              "      <td>0</td>\n",
              "    </tr>\n",
              "    <tr>\n",
              "      <th>U1003</th>\n",
              "      <td>0</td>\n",
              "      <td>0</td>\n",
              "      <td>2</td>\n",
              "      <td>0</td>\n",
              "      <td>0</td>\n",
              "      <td>0</td>\n",
              "      <td>0</td>\n",
              "      <td>0</td>\n",
              "      <td>0</td>\n",
              "      <td>0</td>\n",
              "      <td>...</td>\n",
              "      <td>2</td>\n",
              "      <td>2</td>\n",
              "      <td>0</td>\n",
              "      <td>0</td>\n",
              "      <td>0</td>\n",
              "      <td>0</td>\n",
              "      <td>0</td>\n",
              "      <td>0</td>\n",
              "      <td>0</td>\n",
              "      <td>0</td>\n",
              "    </tr>\n",
              "    <tr>\n",
              "      <th>U1004</th>\n",
              "      <td>0</td>\n",
              "      <td>0</td>\n",
              "      <td>0</td>\n",
              "      <td>0</td>\n",
              "      <td>0</td>\n",
              "      <td>2</td>\n",
              "      <td>0</td>\n",
              "      <td>0</td>\n",
              "      <td>0</td>\n",
              "      <td>0</td>\n",
              "      <td>...</td>\n",
              "      <td>0</td>\n",
              "      <td>0</td>\n",
              "      <td>0</td>\n",
              "      <td>0</td>\n",
              "      <td>0</td>\n",
              "      <td>0</td>\n",
              "      <td>0</td>\n",
              "      <td>2</td>\n",
              "      <td>0</td>\n",
              "      <td>0</td>\n",
              "    </tr>\n",
              "    <tr>\n",
              "      <th>U1005</th>\n",
              "      <td>0</td>\n",
              "      <td>0</td>\n",
              "      <td>0</td>\n",
              "      <td>0</td>\n",
              "      <td>0</td>\n",
              "      <td>2</td>\n",
              "      <td>0</td>\n",
              "      <td>0</td>\n",
              "      <td>0</td>\n",
              "      <td>0</td>\n",
              "      <td>...</td>\n",
              "      <td>0</td>\n",
              "      <td>0</td>\n",
              "      <td>0</td>\n",
              "      <td>0</td>\n",
              "      <td>0</td>\n",
              "      <td>0</td>\n",
              "      <td>0</td>\n",
              "      <td>0</td>\n",
              "      <td>0</td>\n",
              "      <td>0</td>\n",
              "    </tr>\n",
              "    <tr>\n",
              "      <th>U1006</th>\n",
              "      <td>0</td>\n",
              "      <td>0</td>\n",
              "      <td>0</td>\n",
              "      <td>1</td>\n",
              "      <td>0</td>\n",
              "      <td>0</td>\n",
              "      <td>0</td>\n",
              "      <td>0</td>\n",
              "      <td>0</td>\n",
              "      <td>0</td>\n",
              "      <td>...</td>\n",
              "      <td>1</td>\n",
              "      <td>0</td>\n",
              "      <td>2</td>\n",
              "      <td>0</td>\n",
              "      <td>0</td>\n",
              "      <td>0</td>\n",
              "      <td>0</td>\n",
              "      <td>0</td>\n",
              "      <td>0</td>\n",
              "      <td>0</td>\n",
              "    </tr>\n",
              "    <tr>\n",
              "      <th>U1007</th>\n",
              "      <td>0</td>\n",
              "      <td>0</td>\n",
              "      <td>0</td>\n",
              "      <td>1</td>\n",
              "      <td>0</td>\n",
              "      <td>1</td>\n",
              "      <td>0</td>\n",
              "      <td>0</td>\n",
              "      <td>0</td>\n",
              "      <td>0</td>\n",
              "      <td>...</td>\n",
              "      <td>0</td>\n",
              "      <td>0</td>\n",
              "      <td>0</td>\n",
              "      <td>0</td>\n",
              "      <td>0</td>\n",
              "      <td>0</td>\n",
              "      <td>0</td>\n",
              "      <td>0</td>\n",
              "      <td>0</td>\n",
              "      <td>0</td>\n",
              "    </tr>\n",
              "    <tr>\n",
              "      <th>U1008</th>\n",
              "      <td>1</td>\n",
              "      <td>0</td>\n",
              "      <td>0</td>\n",
              "      <td>0</td>\n",
              "      <td>0</td>\n",
              "      <td>0</td>\n",
              "      <td>0</td>\n",
              "      <td>0</td>\n",
              "      <td>0</td>\n",
              "      <td>0</td>\n",
              "      <td>...</td>\n",
              "      <td>0</td>\n",
              "      <td>0</td>\n",
              "      <td>0</td>\n",
              "      <td>0</td>\n",
              "      <td>0</td>\n",
              "      <td>0</td>\n",
              "      <td>0</td>\n",
              "      <td>0</td>\n",
              "      <td>0</td>\n",
              "      <td>0</td>\n",
              "    </tr>\n",
              "    <tr>\n",
              "      <th>U1009</th>\n",
              "      <td>0</td>\n",
              "      <td>0</td>\n",
              "      <td>1</td>\n",
              "      <td>0</td>\n",
              "      <td>0</td>\n",
              "      <td>0</td>\n",
              "      <td>0</td>\n",
              "      <td>0</td>\n",
              "      <td>0</td>\n",
              "      <td>0</td>\n",
              "      <td>...</td>\n",
              "      <td>1</td>\n",
              "      <td>0</td>\n",
              "      <td>0</td>\n",
              "      <td>0</td>\n",
              "      <td>0</td>\n",
              "      <td>0</td>\n",
              "      <td>0</td>\n",
              "      <td>0</td>\n",
              "      <td>0</td>\n",
              "      <td>0</td>\n",
              "    </tr>\n",
              "    <tr>\n",
              "      <th>U1010</th>\n",
              "      <td>0</td>\n",
              "      <td>0</td>\n",
              "      <td>0</td>\n",
              "      <td>0</td>\n",
              "      <td>0</td>\n",
              "      <td>0</td>\n",
              "      <td>0</td>\n",
              "      <td>0</td>\n",
              "      <td>0</td>\n",
              "      <td>0</td>\n",
              "      <td>...</td>\n",
              "      <td>0</td>\n",
              "      <td>0</td>\n",
              "      <td>0</td>\n",
              "      <td>0</td>\n",
              "      <td>0</td>\n",
              "      <td>0</td>\n",
              "      <td>0</td>\n",
              "      <td>0</td>\n",
              "      <td>0</td>\n",
              "      <td>0</td>\n",
              "    </tr>\n",
              "  </tbody>\n",
              "</table>\n",
              "<p>10 rows × 129 columns</p>\n",
              "</div>\n",
              "      <button class=\"colab-df-convert\" onclick=\"convertToInteractive('df-e3fc0b3b-2e2f-4959-9e4a-467b60cb7862')\"\n",
              "              title=\"Convert this dataframe to an interactive table.\"\n",
              "              style=\"display:none;\">\n",
              "        \n",
              "  <svg xmlns=\"http://www.w3.org/2000/svg\" height=\"24px\"viewBox=\"0 0 24 24\"\n",
              "       width=\"24px\">\n",
              "    <path d=\"M0 0h24v24H0V0z\" fill=\"none\"/>\n",
              "    <path d=\"M18.56 5.44l.94 2.06.94-2.06 2.06-.94-2.06-.94-.94-2.06-.94 2.06-2.06.94zm-11 1L8.5 8.5l.94-2.06 2.06-.94-2.06-.94L8.5 2.5l-.94 2.06-2.06.94zm10 10l.94 2.06.94-2.06 2.06-.94-2.06-.94-.94-2.06-.94 2.06-2.06.94z\"/><path d=\"M17.41 7.96l-1.37-1.37c-.4-.4-.92-.59-1.43-.59-.52 0-1.04.2-1.43.59L10.3 9.45l-7.72 7.72c-.78.78-.78 2.05 0 2.83L4 21.41c.39.39.9.59 1.41.59.51 0 1.02-.2 1.41-.59l7.78-7.78 2.81-2.81c.8-.78.8-2.07 0-2.86zM5.41 20L4 18.59l7.72-7.72 1.47 1.35L5.41 20z\"/>\n",
              "  </svg>\n",
              "      </button>\n",
              "      \n",
              "  <style>\n",
              "    .colab-df-container {\n",
              "      display:flex;\n",
              "      flex-wrap:wrap;\n",
              "      gap: 12px;\n",
              "    }\n",
              "\n",
              "    .colab-df-convert {\n",
              "      background-color: #E8F0FE;\n",
              "      border: none;\n",
              "      border-radius: 50%;\n",
              "      cursor: pointer;\n",
              "      display: none;\n",
              "      fill: #1967D2;\n",
              "      height: 32px;\n",
              "      padding: 0 0 0 0;\n",
              "      width: 32px;\n",
              "    }\n",
              "\n",
              "    .colab-df-convert:hover {\n",
              "      background-color: #E2EBFA;\n",
              "      box-shadow: 0px 1px 2px rgba(60, 64, 67, 0.3), 0px 1px 3px 1px rgba(60, 64, 67, 0.15);\n",
              "      fill: #174EA6;\n",
              "    }\n",
              "\n",
              "    [theme=dark] .colab-df-convert {\n",
              "      background-color: #3B4455;\n",
              "      fill: #D2E3FC;\n",
              "    }\n",
              "\n",
              "    [theme=dark] .colab-df-convert:hover {\n",
              "      background-color: #434B5C;\n",
              "      box-shadow: 0px 1px 3px 1px rgba(0, 0, 0, 0.15);\n",
              "      filter: drop-shadow(0px 1px 2px rgba(0, 0, 0, 0.3));\n",
              "      fill: #FFFFFF;\n",
              "    }\n",
              "  </style>\n",
              "\n",
              "      <script>\n",
              "        const buttonEl =\n",
              "          document.querySelector('#df-e3fc0b3b-2e2f-4959-9e4a-467b60cb7862 button.colab-df-convert');\n",
              "        buttonEl.style.display =\n",
              "          google.colab.kernel.accessAllowed ? 'block' : 'none';\n",
              "\n",
              "        async function convertToInteractive(key) {\n",
              "          const element = document.querySelector('#df-e3fc0b3b-2e2f-4959-9e4a-467b60cb7862');\n",
              "          const dataTable =\n",
              "            await google.colab.kernel.invokeFunction('convertToInteractive',\n",
              "                                                     [key], {});\n",
              "          if (!dataTable) return;\n",
              "\n",
              "          const docLinkHtml = 'Like what you see? Visit the ' +\n",
              "            '<a target=\"_blank\" href=https://colab.research.google.com/notebooks/data_table.ipynb>data table notebook</a>'\n",
              "            + ' to learn more about interactive tables.';\n",
              "          element.innerHTML = '';\n",
              "          dataTable['output_type'] = 'display_data';\n",
              "          await google.colab.output.renderOutput(dataTable, element);\n",
              "          const docLink = document.createElement('div');\n",
              "          docLink.innerHTML = docLinkHtml;\n",
              "          element.appendChild(docLink);\n",
              "        }\n",
              "      </script>\n",
              "    </div>\n",
              "  </div>\n",
              "  "
            ]
          },
          "metadata": {},
          "execution_count": 169
        }
      ]
    },
    {
      "cell_type": "code",
      "source": [
        "#Desplegar tamaño de la matriz\n",
        "#Tenemos 138 usuarios y 129 restaurantes\n",
        "UtMx.shape "
      ],
      "metadata": {
        "colab": {
          "base_uri": "https://localhost:8080/"
        },
        "id": "t6VgdOcLvxB2",
        "outputId": "78e50987-3b67-499c-f08e-95ca17b6ce03"
      },
      "execution_count": 170,
      "outputs": [
        {
          "output_type": "execute_result",
          "data": {
            "text/plain": [
              "(138, 129)"
            ]
          },
          "metadata": {},
          "execution_count": 170
        }
      ]
    },
    {
      "cell_type": "markdown",
      "source": [
        "#**Ejercicio-2.**"
      ],
      "metadata": {
        "id": "xZhr2hkECzVv"
      }
    },
    {
      "cell_type": "code",
      "source": [
        "print('Total de elementos de la matriz de utilidad: %d' % (UtMx.size))\n",
        "print('Total de elementos diferentes de cero: %d' % (np.count_nonzero(UtMx)))\n",
        "print('Porcentaje de elementos diferentes de cero: %.1f%%' % (100 * np.count_nonzero(UtMx) / UtMx.size))"
      ],
      "metadata": {
        "id": "kGfAoOPkC1PP",
        "colab": {
          "base_uri": "https://localhost:8080/"
        },
        "outputId": "c2b12db8-5e8e-4ce7-f78a-225d27594266"
      },
      "execution_count": 171,
      "outputs": [
        {
          "output_type": "stream",
          "name": "stdout",
          "text": [
            "Total de elementos de la matriz de utilidad: 17802\n",
            "Total de elementos diferentes de cero: 907\n",
            "Porcentaje de elementos diferentes de cero: 5.1%\n"
          ]
        }
      ]
    },
    {
      "cell_type": "code",
      "source": [
        "X = UtMx.T\n",
        "X.shape"
      ],
      "metadata": {
        "colab": {
          "base_uri": "https://localhost:8080/"
        },
        "id": "uu-uFMpGDnR2",
        "outputId": "fde0c04a-3307-4ccc-f4e4-f612f9de48a8"
      },
      "execution_count": 172,
      "outputs": [
        {
          "output_type": "execute_result",
          "data": {
            "text/plain": [
              "(129, 138)"
            ]
          },
          "metadata": {},
          "execution_count": 172
        }
      ]
    },
    {
      "cell_type": "code",
      "source": [
        "Componentes=137\n",
        "SVD = TruncatedSVD(n_components=Componentes, random_state=1)  \n",
        "SVD.fit(X)\n",
        "\n",
        "print('El total de valores singulares es de: %d' % (SVD.singular_values_).shape[0])\n"
      ],
      "metadata": {
        "id": "GOydw5OGC1MJ",
        "colab": {
          "base_uri": "https://localhost:8080/"
        },
        "outputId": "4725edb0-7e32-4c83-c970-735ed12b4b42"
      },
      "execution_count": 173,
      "outputs": [
        {
          "output_type": "stream",
          "name": "stdout",
          "text": [
            "El total de valores singulares es de: 129\n"
          ]
        }
      ]
    },
    {
      "cell_type": "markdown",
      "source": [
        "#**Ejercicio-3.**"
      ],
      "metadata": {
        "id": "NCunuooTC2W3"
      }
    },
    {
      "cell_type": "markdown",
      "source": [
        "\n",
        "\n",
        "---\n",
        "\n",
        "📈 Ejecutaremos el modelo de recomendación utilizando la variable **rating**.\n",
        "\n",
        "\n",
        "---\n",
        "\n"
      ],
      "metadata": {
        "id": "cMMrDWHSj6kJ"
      }
    },
    {
      "cell_type": "code",
      "source": [
        "Matriz_Resultante = SVD.fit_transform(X)\n",
        "corrMx = np.corrcoef(Matriz_Resultante, )\n",
        "\n",
        "Restaurante_Evaluado = \"Subway\"\n",
        "\n",
        "names = UtMx.columns\n",
        "names_list = list(names)\n",
        "id_megusta = names_list.index(Restaurante_Evaluado)\n",
        "\n",
        "corr_recomienda = corrMx[id_megusta]"
      ],
      "metadata": {
        "id": "BKI80-YdC4HN"
      },
      "execution_count": 174,
      "outputs": []
    },
    {
      "cell_type": "code",
      "source": [
        "Lista_Restaurantes=list(names[(corr_recomienda > .23) & (corr_recomienda < 1)])\n",
        "i=0\n",
        "print(\"*********************************************************************************\")\n",
        "print(\"Tomando como referencia el restaurante Subway las 10 mejores recomendaciones son:\")\n",
        "print(\"*********************************************************************************\")\n",
        "for Restaurante in Lista_Restaurantes:\n",
        "  i=i+1\n",
        "  Id_Lista = names_list.index(Restaurante)\n",
        "  print(i,'- Restaurante',Restaurante, ' (Coeficiente Pearson =', round(corr_recomienda[Id_Lista],4),')')"
      ],
      "metadata": {
        "id": "gwtdhXEfD8Ma",
        "outputId": "3557ec2c-01a6-4f76-9c00-84695959b841",
        "colab": {
          "base_uri": "https://localhost:8080/"
        }
      },
      "execution_count": 175,
      "outputs": [
        {
          "output_type": "stream",
          "name": "stdout",
          "text": [
            "*********************************************************************************\n",
            "Tomando como referencia el restaurante Subway las 10 mejores recomendaciones son:\n",
            "*********************************************************************************\n",
            "1 - Restaurante Chilis Cuernavaca  (Coeficiente Pearson = 0.3011 )\n",
            "2 - Restaurante Log Yin  (Coeficiente Pearson = 0.2346 )\n",
            "3 - Restaurante Mariscos Tia Licha  (Coeficiente Pearson = 0.3882 )\n",
            "4 - Restaurante Mikasa  (Coeficiente Pearson = 0.301 )\n",
            "5 - Restaurante Restaurant Teely  (Coeficiente Pearson = 0.6095 )\n",
            "6 - Restaurante Restaurant and Bar and Clothesline Carlos N Charlies  (Coeficiente Pearson = 0.4255 )\n",
            "7 - Restaurante Restaurant los Pinos  (Coeficiente Pearson = 0.2851 )\n",
            "8 - Restaurante Rincon del Bife  (Coeficiente Pearson = 0.4298 )\n",
            "9 - Restaurante Sanborns Casa Piedra  (Coeficiente Pearson = 0.4172 )\n",
            "10 - Restaurante Vips  (Coeficiente Pearson = 0.5063 )\n"
          ]
        }
      ]
    },
    {
      "cell_type": "markdown",
      "source": [
        "#**Ejercicio-4.**"
      ],
      "metadata": {
        "id": "chqk9jIDC5Pq"
      }
    },
    {
      "cell_type": "code",
      "source": [
        "Componentes=10\n",
        "SVD = TruncatedSVD(n_components=Componentes, random_state=1)  \n",
        "SVD.fit(X)\n",
        "\n",
        "print(\"****************************************************\")\n",
        "print('El total de valores singulares encontrados es de: %d' % (SVD.singular_values_).shape[0])\n",
        "\n",
        "Matriz_Resultante = SVD.fit_transform(X)\n",
        "\n",
        "corrMx = np.corrcoef(Matriz_Resultante, )\n",
        "corr_recomienda = corrMx[id_megusta]\n",
        "\n",
        "Lista_Restaurantes_RedDim=list(names[(corr_recomienda > .9992) & (corr_recomienda < 1)])\n",
        "i=0\n",
        "print(\"*********************************************************************************************************************\")\n",
        "print(\"Reduciendo la dimensionalidad y manteniendo como referencia el restaurante Subway las 10 mejores recomendaciones son:\")\n",
        "print(\"*********************************************************************************************************************\")\n",
        "for Restaurante in Lista_Restaurantes_RedDim:\n",
        "  i=i+1\n",
        "  Id_Lista = names_list.index(Restaurante)\n",
        "  print(i,'- Restaurante',Restaurante, ' (Coeficiente Pearson =', round(corr_recomienda[Id_Lista],4),')')\n",
        " \n"
      ],
      "metadata": {
        "id": "7KXnlNzAC69Y",
        "outputId": "c056027c-cefe-44d1-dbf2-97b6de44668d",
        "colab": {
          "base_uri": "https://localhost:8080/"
        }
      },
      "execution_count": 177,
      "outputs": [
        {
          "output_type": "stream",
          "name": "stdout",
          "text": [
            "****************************************************\n",
            "El total de valores singulares encontrados es de: 10\n",
            "*********************************************************************************************************************\n",
            "Reduciendo la dimensionalidad y manteniendo como referencia el restaurante Subway las 10 mejores recomendaciones son:\n",
            "*********************************************************************************************************************\n",
            "1 - Restaurante Chilis Cuernavaca  (Coeficiente Pearson = 0.9999 )\n",
            "2 - Restaurante Log Yin  (Coeficiente Pearson = 0.9994 )\n",
            "3 - Restaurante Mariscos Tia Licha  (Coeficiente Pearson = 0.9999 )\n",
            "4 - Restaurante Mikasa  (Coeficiente Pearson = 0.9999 )\n",
            "5 - Restaurante Paniroles  (Coeficiente Pearson = 1.0 )\n",
            "6 - Restaurante Restaurant Teely  (Coeficiente Pearson = 1.0 )\n",
            "7 - Restaurante Restaurant and Bar and Clothesline Carlos N Charlies  (Coeficiente Pearson = 0.9999 )\n",
            "8 - Restaurante Rincon del Bife  (Coeficiente Pearson = 1.0 )\n",
            "9 - Restaurante Sanborns Casa Piedra  (Coeficiente Pearson = 0.9992 )\n",
            "10 - Restaurante Vips  (Coeficiente Pearson = 0.9997 )\n"
          ]
        }
      ]
    },
    {
      "cell_type": "code",
      "source": [
        "import functools\n",
        "print(\"*****************************************************************************\")\n",
        "print(\"Coincidencias en recomendación de restaurantes al reducir la dimensionalidad:\")\n",
        "print(\"*****************************************************************************\")\n",
        "print(\"Se encontraron\",len(set(Lista_Restaurantes_RedDim).intersection(Lista_Restaurantes)), \"restaurantes iguales.\")\n",
        "print(\"\")\n",
        "print(\"************************************************************************************\")\n",
        "print(\"Los siguientes restaurantes difieren en la recomendación al ajustar dimensionalidad:\")\n",
        "print(\"************************************************************************************\")\n",
        "[x for x in Lista_Restaurantes + Lista_Restaurantes_RedDim if x not in Lista_Restaurantes or x not in Lista_Restaurantes_RedDim]"
      ],
      "metadata": {
        "id": "58NmMzq6P_wQ",
        "outputId": "751e529d-1b30-44c1-e7a4-fffb1abf8abb",
        "colab": {
          "base_uri": "https://localhost:8080/"
        }
      },
      "execution_count": 178,
      "outputs": [
        {
          "output_type": "stream",
          "name": "stdout",
          "text": [
            "*****************************************************************************\n",
            "Coincidencias en recomendación de restaurantes al reducir la dimensionalidad:\n",
            "*****************************************************************************\n",
            "Se encontraron 9 restaurantes iguales.\n",
            "\n",
            "************************************************************************************\n",
            "Los siguientes restaurantes difieren en la recomendación al ajustar dimensionalidad:\n",
            "************************************************************************************\n"
          ]
        },
        {
          "output_type": "execute_result",
          "data": {
            "text/plain": [
              "['Restaurant los Pinos', 'Paniroles']"
            ]
          },
          "metadata": {},
          "execution_count": 178
        }
      ]
    },
    {
      "cell_type": "code",
      "source": [
        "print('Cantidad de información simplificada con los primeros %d vectores singulares:' % Componentes)\n",
        "print('%.1f%%' %  (100 * (1- (SVD.singular_values_[0:Componentes]).sum() / (SVD.singular_values_).sum())))"
      ],
      "metadata": {
        "id": "TEePB28OOwQX",
        "outputId": "020b2fcb-dd69-4d0a-bd71-4a300e4e4e2c",
        "colab": {
          "base_uri": "https://localhost:8080/"
        }
      },
      "execution_count": 179,
      "outputs": [
        {
          "output_type": "stream",
          "name": "stdout",
          "text": [
            "Cantidad de información simplificada con los primeros 10 vectores singulares:\n",
            "0.0%\n"
          ]
        }
      ]
    },
    {
      "cell_type": "markdown",
      "source": [
        "#**Ejercicio-5.**"
      ],
      "metadata": {
        "id": "Rv7KFq-mC7PS"
      }
    },
    {
      "cell_type": "code",
      "source": [
        "Componentes=137\n",
        "SVD = TruncatedSVD(n_components=Componentes, random_state=1)  \n",
        "SVD.fit(X)\n",
        "\n",
        "Matriz_Resultante = SVD.fit_transform(X)\n",
        "corrMx = np.corrcoef(Matriz_Resultante, )\n",
        "\n",
        "Restaurante_Evaluado = \"tacos de barbacoa enfrente del Tec\"\n",
        "\n",
        "names_list = list(names)\n",
        "id_megusta = names_list.index(Restaurante_Evaluado)\n",
        "\n",
        "corr_recomienda = corrMx[id_megusta]\n",
        "\n",
        "Lista_Restaurantes=list(names[(corr_recomienda > .17) & (corr_recomienda < 1)])\n",
        "i=0\n",
        "print(\"*************************************************************************************************************\")\n",
        "print(\"Tomando como referencia el restaurante 'tacos de barbacoa enfrente del Tec' las 10 mejores recomendaciones son:\")\n",
        "print(\"*************************************************************************************************************\")\n",
        "for Restaurante in Lista_Restaurantes:\n",
        "  i=i+1\n",
        "  if i<11:\n",
        "    Id_Lista = names_list.index(Restaurante)\n",
        "    print(i,'- Restaurante',Restaurante, ' (Coeficiente Pearson =', round(corr_recomienda[Id_Lista],4),')')"
      ],
      "metadata": {
        "id": "jaDj3kawC9B6",
        "outputId": "20f52c0a-4206-474f-c96e-bba2ec96ff48",
        "colab": {
          "base_uri": "https://localhost:8080/"
        }
      },
      "execution_count": 199,
      "outputs": [
        {
          "output_type": "stream",
          "name": "stdout",
          "text": [
            "*************************************************************************************************************\n",
            "Tomando como referencia el restaurante tacos de barbacoa enfrente del Tec las 10 mejores recomendaciones son:\n",
            "*************************************************************************************************************\n",
            "1 - Restaurante Carreton de Flautas y Migadas  (Coeficiente Pearson = 0.4078 )\n",
            "2 - Restaurante Hamburguesas La perica  (Coeficiente Pearson = 0.1911 )\n",
            "3 - Restaurante Little Cesarz  (Coeficiente Pearson = 0.2585 )\n",
            "4 - Restaurante Taqueria EL amigo   (Coeficiente Pearson = 0.4372 )\n",
            "5 - Restaurante carnitas mata calle Emilio Portes Gil  (Coeficiente Pearson = 0.1709 )\n",
            "6 - Restaurante carnitas_mata  (Coeficiente Pearson = 0.1709 )\n",
            "7 - Restaurante little pizza Emilio Portes Gil  (Coeficiente Pearson = 0.6538 )\n",
            "8 - Restaurante palomo tec  (Coeficiente Pearson = 0.1952 )\n",
            "9 - Restaurante puesto de gorditas  (Coeficiente Pearson = 0.4128 )\n",
            "10 - Restaurante tacos abi  (Coeficiente Pearson = 0.6653 )\n"
          ]
        }
      ]
    },
    {
      "cell_type": "code",
      "source": [
        "Componentes=10\n",
        "SVD = TruncatedSVD(n_components=Componentes, random_state=1)  \n",
        "SVD.fit(X)\n",
        "\n",
        "print(\"****************************************************\")\n",
        "print('El total de valores singulares encontrados es de: %d' % (SVD.singular_values_).shape[0])\n",
        "\n",
        "Matriz_Resultante = SVD.fit_transform(X)\n",
        "\n",
        "corrMx = np.corrcoef(Matriz_Resultante, )\n",
        "\n",
        "corr_recomienda = corrMx[id_megusta]\n",
        "\n",
        "Lista_Restaurantes_RedDim=list(names[(corr_recomienda > .998) & (corr_recomienda < 1)])\n",
        "i=0\n",
        "print(\"**************************************************************************************************************************************************\")\n",
        "print(\"Reduciendo la dimensionalidad y manteniendo como referencia el restaurante 'tacos de barbacoa enfrente del Tec' las 10 mejores recomendaciones son:\")\n",
        "print(\"**************************************************************************************************************************************************\")\n",
        "for Restaurante in Lista_Restaurantes_RedDim:\n",
        "  i=i+1\n",
        "  Id_Lista = names_list.index(Restaurante)\n",
        "  print(i,'- Restaurante',Restaurante, ' (Coeficiente Pearson =', round(corr_recomienda[Id_Lista],4),')')"
      ],
      "metadata": {
        "id": "4tQxQROVC9Us",
        "outputId": "0c7b7dae-6655-49f8-b68b-1d4c1df79e96",
        "colab": {
          "base_uri": "https://localhost:8080/"
        }
      },
      "execution_count": 208,
      "outputs": [
        {
          "output_type": "stream",
          "name": "stdout",
          "text": [
            "****************************************************\n",
            "El total de valores singulares encontrados es de: 10\n",
            "**************************************************************************************************************************************************\n",
            "Reduciendo la dimensionalidad y manteniendo como referencia el restaurante 'tacos de barbacoa enfrente del Tec' las 10 mejores recomendaciones son:\n",
            "**************************************************************************************************************************************************\n",
            "1 - Restaurante Hamburguesas La perica  (Coeficiente Pearson = 0.9983 )\n",
            "2 - Restaurante Little Cesarz  (Coeficiente Pearson = 0.9982 )\n",
            "3 - Restaurante Pollo_Frito_Buenos_Aires  (Coeficiente Pearson = 0.9995 )\n",
            "4 - Restaurante Taqueria EL amigo   (Coeficiente Pearson = 0.9999 )\n",
            "5 - Restaurante carnitas_mata  (Coeficiente Pearson = 0.9994 )\n",
            "6 - Restaurante little pizza Emilio Portes Gil  (Coeficiente Pearson = 0.9997 )\n",
            "7 - Restaurante palomo tec  (Coeficiente Pearson = 0.9994 )\n",
            "8 - Restaurante puesto de gorditas  (Coeficiente Pearson = 0.9994 )\n",
            "9 - Restaurante tacos abi  (Coeficiente Pearson = 1.0 )\n",
            "10 - Restaurante vips  (Coeficiente Pearson = 0.9998 )\n"
          ]
        }
      ]
    },
    {
      "cell_type": "code",
      "source": [
        "import functools\n",
        "print(\"*****************************************************************************\")\n",
        "print(\"Coincidencias en recomendación de restaurantes al reducir la dimensionalidad:\")\n",
        "print(\"*****************************************************************************\")\n",
        "print(\"Se encontraron\",len(set(Lista_Restaurantes_RedDim).intersection(Lista_Restaurantes)), \"restaurantes iguales.\")\n",
        "print(\"\")\n",
        "print(\"************************************************************************************\")\n",
        "print(\"Los siguientes restaurantes difieren en la recomendación al ajustar dimensionalidad:\")\n",
        "print(\"************************************************************************************\")\n",
        "[x for x in Lista_Restaurantes + Lista_Restaurantes_RedDim if x not in Lista_Restaurantes or x not in Lista_Restaurantes_RedDim]"
      ],
      "metadata": {
        "id": "RnpFi9aYXRl5",
        "outputId": "535921c5-7c2a-4895-faa7-a6119eadb022",
        "colab": {
          "base_uri": "https://localhost:8080/"
        }
      },
      "execution_count": 209,
      "outputs": [
        {
          "output_type": "stream",
          "name": "stdout",
          "text": [
            "*****************************************************************************\n",
            "Coincidencias en recomendación de restaurantes al reducir la dimensionalidad:\n",
            "*****************************************************************************\n",
            "Se encontraron 9 restaurantes iguales.\n",
            "\n",
            "************************************************************************************\n",
            "Los siguientes restaurantes difieren en la recomendación al ajustar dimensionalidad:\n",
            "************************************************************************************\n"
          ]
        },
        {
          "output_type": "execute_result",
          "data": {
            "text/plain": [
              "['Carreton de Flautas y Migadas',\n",
              " 'carnitas mata calle Emilio Portes Gil',\n",
              " 'Pollo_Frito_Buenos_Aires']"
            ]
          },
          "metadata": {},
          "execution_count": 209
        }
      ]
    },
    {
      "cell_type": "code",
      "source": [
        "print('Cantidad de información simplificada con los primeros %d vectores singulares:' % Componentes)\n",
        "print('%.1f%%' %  (100 * (1- (SVD.singular_values_[0:Componentes]).sum() / (SVD.singular_values_).sum())))"
      ],
      "metadata": {
        "id": "PH7W1jwrXWKB",
        "outputId": "3825ef0b-0c23-4f5b-e419-6880202abd1f",
        "colab": {
          "base_uri": "https://localhost:8080/"
        }
      },
      "execution_count": 210,
      "outputs": [
        {
          "output_type": "stream",
          "name": "stdout",
          "text": [
            "Cantidad de información simplificada con los primeros 10 vectores singulares:\n",
            "0.0%\n"
          ]
        }
      ]
    },
    {
      "cell_type": "markdown",
      "source": [
        "\n",
        "\n",
        "---\n",
        "\n",
        "✍ **Conclusiones:**\n",
        "\n",
        "\n",
        "---\n",
        "\n"
      ],
      "metadata": {
        "id": "zyNA-nwxZkf5"
      }
    },
    {
      "cell_type": "markdown",
      "source": [
        "#**Ejercicio-6.**"
      ],
      "metadata": {
        "id": "W2S7LI0NC9wE"
      }
    },
    {
      "cell_type": "markdown",
      "source": [
        "\n",
        "\n",
        "---\n",
        "\n",
        "📈 Ejecutaremos el modelo de recomendación utilizando la variable **food_rating**.\n",
        "\n",
        "\n",
        "---\n",
        "\n"
      ],
      "metadata": {
        "id": "F1oJ_5lbjQbp"
      }
    },
    {
      "cell_type": "code",
      "source": [
        "#Generar matriz relacional y asignar index con userID\n",
        "df_rel=pd.merge(df_rt,df_g,how='inner')\n",
        "df_rel=df_rel.set_index('userID')\n",
        "df_rel.shape\n",
        "\n",
        "#Generar matriz de utilidad e impresión de 10 renglones\n",
        "UtMx = df_rel.pivot_table(values='food_rating', index='userID', columns='name', fill_value=0)\n",
        "\n",
        "UtMx.head(10)\n",
        "UtMx.shape "
      ],
      "metadata": {
        "id": "x6uBleJUC_AU",
        "outputId": "a9831fbf-da27-4ad0-e4e2-5a3388bc99d4",
        "colab": {
          "base_uri": "https://localhost:8080/"
        }
      },
      "execution_count": 211,
      "outputs": [
        {
          "output_type": "execute_result",
          "data": {
            "text/plain": [
              "(138, 129)"
            ]
          },
          "metadata": {},
          "execution_count": 211
        }
      ]
    },
    {
      "cell_type": "code",
      "source": [
        "print('Total de elementos de la matriz de utilidad: %d' % (UtMx.size))\n",
        "print('Total de elementos diferentes de cero: %d' % (np.count_nonzero(UtMx)))\n",
        "print('Porcentaje de elementos diferentes de cero: %.1f%%' % (100 * np.count_nonzero(UtMx) / UtMx.size))\n",
        "\n",
        "X = UtMx.T\n",
        "X.shape\n",
        "\n",
        "Componentes=137\n",
        "SVD = TruncatedSVD(n_components=Componentes, random_state=1)  \n",
        "SVD.fit(X)\n",
        "\n",
        "print('El total de valores singulares es de: %d' % (SVD.singular_values_).shape[0])"
      ],
      "metadata": {
        "id": "n0P_AcyjC_Dh",
        "outputId": "245457c0-387a-4985-94e2-b5424cca3da2",
        "colab": {
          "base_uri": "https://localhost:8080/"
        }
      },
      "execution_count": 212,
      "outputs": [
        {
          "output_type": "stream",
          "name": "stdout",
          "text": [
            "Total de elementos de la matriz de utilidad: 17802\n",
            "Total de elementos diferentes de cero: 895\n",
            "Porcentaje de elementos diferentes de cero: 5.0%\n",
            "El total de valores singulares es de: 129\n"
          ]
        }
      ]
    },
    {
      "cell_type": "code",
      "source": [
        "Matriz_Resultante = SVD.fit_transform(X)\n",
        "corrMx = np.corrcoef(Matriz_Resultante, )\n",
        "\n",
        "Restaurante_Evaluado = \"Subway\"\n",
        "\n",
        "names = UtMx.columns\n",
        "names_list = list(names)\n",
        "id_megusta = names_list.index(Restaurante_Evaluado)\n",
        "\n",
        "corr_recomienda = corrMx[id_megusta]\n",
        "\n",
        "Lista_Restaurantes=list(names[(corr_recomienda > .232) & (corr_recomienda < 1)])\n",
        "i=0\n",
        "print(\"*********************************************************************************\")\n",
        "print(\"Tomando como referencia el restaurante Subway las 10 mejores recomendaciones son:\")\n",
        "print(\"*********************************************************************************\")\n",
        "for Restaurante in Lista_Restaurantes:\n",
        "  i=i+1\n",
        "  Id_Lista = names_list.index(Restaurante)\n",
        "  print(i,'- Restaurante',Restaurante, ' (Coeficiente Pearson =', round(corr_recomienda[Id_Lista],4),')')"
      ],
      "metadata": {
        "id": "NccGf-IidSCd",
        "outputId": "36bf13ff-430a-491b-d032-58b31c1a9a78",
        "colab": {
          "base_uri": "https://localhost:8080/"
        }
      },
      "execution_count": 222,
      "outputs": [
        {
          "output_type": "stream",
          "name": "stdout",
          "text": [
            "*********************************************************************************\n",
            "Tomando como referencia el restaurante Subway las 10 mejores recomendaciones son:\n",
            "*********************************************************************************\n",
            "1 - Restaurante Kiku Cuernavaca  (Coeficiente Pearson = 0.2504 )\n",
            "2 - Restaurante Mariscos Tia Licha  (Coeficiente Pearson = 0.4152 )\n",
            "3 - Restaurante Paniroles  (Coeficiente Pearson = 0.3121 )\n",
            "4 - Restaurante Restaurant Familiar El Chino  (Coeficiente Pearson = 0.2327 )\n",
            "5 - Restaurante Restaurant Las Mananitas  (Coeficiente Pearson = 0.3317 )\n",
            "6 - Restaurante Restaurant Teely  (Coeficiente Pearson = 0.8164 )\n",
            "7 - Restaurante Restaurant and Bar and Clothesline Carlos N Charlies  (Coeficiente Pearson = 0.4689 )\n",
            "8 - Restaurante Rincon del Bife  (Coeficiente Pearson = 0.3818 )\n",
            "9 - Restaurante Sanborns Casa Piedra  (Coeficiente Pearson = 0.3657 )\n",
            "10 - Restaurante Vips  (Coeficiente Pearson = 0.4421 )\n"
          ]
        }
      ]
    },
    {
      "cell_type": "code",
      "source": [
        "Componentes=7\n",
        "SVD = TruncatedSVD(n_components=Componentes, random_state=1)  \n",
        "SVD.fit(X)\n",
        "\n",
        "print(\"****************************************************\")\n",
        "print('El total de valores singulares encontrados es de: %d' % (SVD.singular_values_).shape[0])\n",
        "\n",
        "Matriz_Resultante = SVD.fit_transform(X)\n",
        "\n",
        "corrMx = np.corrcoef(Matriz_Resultante, )\n",
        "corr_recomienda = corrMx[id_megusta]\n",
        "\n",
        "Lista_Restaurantes_RedDim=list(names[(corr_recomienda > .999987) & (corr_recomienda < 1)])\n",
        "i=0\n",
        "print(\"*********************************************************************************************************************\")\n",
        "print(\"Reduciendo la dimensionalidad y manteniendo como referencia el restaurante Subway las 10 mejores recomendaciones son:\")\n",
        "print(\"*********************************************************************************************************************\")\n",
        "for Restaurante in Lista_Restaurantes_RedDim:\n",
        "  i=i+1\n",
        "  Id_Lista = names_list.index(Restaurante)\n",
        "  print(i,'- Restaurante',Restaurante, ' (Coeficiente Pearson =', round(corr_recomienda[Id_Lista],6),')')"
      ],
      "metadata": {
        "id": "mx-0GbE5dRwm",
        "outputId": "bc4ff122-8d92-4b27-ffa0-936f4b0f686e",
        "colab": {
          "base_uri": "https://localhost:8080/"
        }
      },
      "execution_count": 314,
      "outputs": [
        {
          "output_type": "stream",
          "name": "stdout",
          "text": [
            "****************************************************\n",
            "El total de valores singulares encontrados es de: 7\n",
            "*********************************************************************************************************************\n",
            "Reduciendo la dimensionalidad y manteniendo como referencia el restaurante Subway las 10 mejores recomendaciones son:\n",
            "*********************************************************************************************************************\n",
            "1 - Restaurante El Oceano Dorado  (Coeficiente Pearson = 0.999989 )\n",
            "2 - Restaurante Mariscos Tia Licha  (Coeficiente Pearson = 0.999993 )\n",
            "3 - Restaurante McDonalds Centro  (Coeficiente Pearson = 0.999989 )\n",
            "4 - Restaurante Paniroles  (Coeficiente Pearson = 0.999998 )\n",
            "5 - Restaurante Restaurant Las Mananitas  (Coeficiente Pearson = 0.999992 )\n",
            "6 - Restaurante Restaurant Teely  (Coeficiente Pearson = 0.999994 )\n",
            "7 - Restaurante Restaurant and Bar and Clothesline Carlos N Charlies  (Coeficiente Pearson = 0.999996 )\n",
            "8 - Restaurante Rincon del Bife  (Coeficiente Pearson = 0.999998 )\n",
            "9 - Restaurante Sanborns Casa Piedra  (Coeficiente Pearson = 0.999987 )\n",
            "10 - Restaurante Vips  (Coeficiente Pearson = 0.999997 )\n"
          ]
        }
      ]
    },
    {
      "cell_type": "code",
      "source": [
        "print(\"*****************************************************************************\")\n",
        "print(\"Coincidencias en recomendación de restaurantes al reducir la dimensionalidad:\")\n",
        "print(\"*****************************************************************************\")\n",
        "print(\"Se encontraron\",len(set(Lista_Restaurantes_RedDim).intersection(Lista_Restaurantes)), \"restaurantes iguales.\")\n",
        "print(\"\")\n",
        "\n",
        "print('Cantidad de información simplificada con los primeros %d vectores singulares:' % Componentes)\n",
        "print('%.1f%%' %  (100 * (1- (SVD.singular_values_[0:Componentes]).sum() / (SVD.singular_values_).sum())))"
      ],
      "metadata": {
        "id": "FcI447BAdc2T",
        "outputId": "2a906a1e-6c46-427d-a52e-52bfc83afafe",
        "colab": {
          "base_uri": "https://localhost:8080/"
        }
      },
      "execution_count": 315,
      "outputs": [
        {
          "output_type": "stream",
          "name": "stdout",
          "text": [
            "*****************************************************************************\n",
            "Coincidencias en recomendación de restaurantes al reducir la dimensionalidad:\n",
            "*****************************************************************************\n",
            "Se encontraron 6 restaurantes iguales.\n",
            "\n",
            "Cantidad de información simplificada con los primeros 7 vectores singulares:\n",
            "0.0%\n"
          ]
        }
      ]
    },
    {
      "cell_type": "markdown",
      "source": [
        "\n",
        "\n",
        "---\n",
        "\n",
        "✍ **Conclusiones:** Reduciendo el número de componentes, el máximo de coincidencias encontrada fue de 6.\n",
        "\n",
        "\n",
        "---\n",
        "\n"
      ],
      "metadata": {
        "id": "kFImnuHMehiI"
      }
    },
    {
      "cell_type": "markdown",
      "source": [
        "#**Ejercicio-7.**"
      ],
      "metadata": {
        "id": "lUvqUSV5cd-Z"
      }
    },
    {
      "cell_type": "markdown",
      "source": [
        "\n",
        "\n",
        "---\n",
        "\n",
        "📈 Ejecutaremos el modelo de recomendación utilizando la variable **service_rating**.\n",
        "\n",
        "\n",
        "---\n",
        "\n"
      ],
      "metadata": {
        "id": "ON0NUem4jobH"
      }
    },
    {
      "cell_type": "code",
      "source": [
        "#Generar matriz relacional y asignar index con userID\n",
        "df_rel=pd.merge(df_rt,df_g,how='inner')\n",
        "df_rel=df_rel.set_index('userID')\n",
        "df_rel.shape\n",
        "\n",
        "#Generar matriz de utilidad e impresión de 10 renglones\n",
        "UtMx = df_rel.pivot_table(values='service_rating', index='userID', columns='name', fill_value=0)\n",
        "\n",
        "UtMx.head(10)\n",
        "UtMx.shape "
      ],
      "metadata": {
        "id": "TmXidIqtci7D",
        "outputId": "82e69088-631b-4d72-b2f4-7d5dfdb19887",
        "colab": {
          "base_uri": "https://localhost:8080/"
        }
      },
      "execution_count": 282,
      "outputs": [
        {
          "output_type": "execute_result",
          "data": {
            "text/plain": [
              "(138, 129)"
            ]
          },
          "metadata": {},
          "execution_count": 282
        }
      ]
    },
    {
      "cell_type": "code",
      "source": [
        "print('Total de elementos de la matriz de utilidad: %d' % (UtMx.size))\n",
        "print('Total de elementos diferentes de cero: %d' % (np.count_nonzero(UtMx)))\n",
        "print('Porcentaje de elementos diferentes de cero: %.1f%%' % (100 * np.count_nonzero(UtMx) / UtMx.size))\n",
        "\n",
        "X = UtMx.T\n",
        "X.shape\n",
        "\n",
        "Componentes=137\n",
        "SVD = TruncatedSVD(n_components=Componentes, random_state=1)  \n",
        "SVD.fit(X)\n",
        "\n",
        "print('El total de valores singulares es de: %d' % (SVD.singular_values_).shape[0])"
      ],
      "metadata": {
        "id": "gtaf5rUfcjgX",
        "outputId": "3298bc8c-9a29-4329-e0b7-c04e2dd97cb3",
        "colab": {
          "base_uri": "https://localhost:8080/"
        }
      },
      "execution_count": 283,
      "outputs": [
        {
          "output_type": "stream",
          "name": "stdout",
          "text": [
            "Total de elementos de la matriz de utilidad: 17802\n",
            "Total de elementos diferentes de cero: 846\n",
            "Porcentaje de elementos diferentes de cero: 4.8%\n",
            "El total de valores singulares es de: 129\n"
          ]
        }
      ]
    },
    {
      "cell_type": "code",
      "source": [
        "Matriz_Resultante = SVD.fit_transform(X)\n",
        "corrMx = np.corrcoef(Matriz_Resultante, )\n",
        "\n",
        "Restaurante_Evaluado = \"Subway\"\n",
        "\n",
        "names = UtMx.columns\n",
        "names_list = list(names)\n",
        "id_megusta = names_list.index(Restaurante_Evaluado)\n",
        "\n",
        "corr_recomienda = corrMx[id_megusta]\n",
        "\n",
        "Lista_Restaurantes=list(names[(corr_recomienda > .17) & (corr_recomienda < 1)])\n",
        "i=0\n",
        "print(\"*********************************************************************************\")\n",
        "print(\"Tomando como referencia el restaurante Subway las 10 mejores recomendaciones son:\")\n",
        "print(\"*********************************************************************************\")\n",
        "for Restaurante in Lista_Restaurantes:\n",
        "  i=i+1\n",
        "  Id_Lista = names_list.index(Restaurante)\n",
        "  print(i,'- Restaurante',Restaurante, ' (Coeficiente Pearson =', round(corr_recomienda[Id_Lista],4),')')"
      ],
      "metadata": {
        "id": "_ViBUwpQg3Cb",
        "outputId": "f18f96cc-cb11-491d-d32f-2f4c6b5d7574",
        "colab": {
          "base_uri": "https://localhost:8080/"
        }
      },
      "execution_count": 288,
      "outputs": [
        {
          "output_type": "stream",
          "name": "stdout",
          "text": [
            "*********************************************************************************\n",
            "Tomando como referencia el restaurante Subway las 10 mejores recomendaciones son:\n",
            "*********************************************************************************\n",
            "1 - Restaurante Chilis Cuernavaca  (Coeficiente Pearson = 0.2307 )\n",
            "2 - Restaurante Giovannis  (Coeficiente Pearson = 0.1928 )\n",
            "3 - Restaurante Kiku Cuernavaca  (Coeficiente Pearson = 0.1787 )\n",
            "4 - Restaurante Paniroles  (Coeficiente Pearson = 0.3659 )\n",
            "5 - Restaurante Restaurant Familiar El Chino  (Coeficiente Pearson = 0.1829 )\n",
            "6 - Restaurante Restaurant Las Mananitas  (Coeficiente Pearson = 0.2263 )\n",
            "7 - Restaurante Restaurant Teely  (Coeficiente Pearson = 0.773 )\n",
            "8 - Restaurante Restaurant and Bar and Clothesline Carlos N Charlies  (Coeficiente Pearson = 0.6002 )\n",
            "9 - Restaurante Rincon del Bife  (Coeficiente Pearson = 0.5187 )\n",
            "10 - Restaurante Vips  (Coeficiente Pearson = 0.4212 )\n"
          ]
        }
      ]
    },
    {
      "cell_type": "code",
      "source": [
        "Componentes=15\n",
        "SVD = TruncatedSVD(n_components=Componentes, random_state=1)  \n",
        "SVD.fit(X)\n",
        "\n",
        "print(\"****************************************************\")\n",
        "print('El total de valores singulares encontrados es de: %d' % (SVD.singular_values_).shape[0])\n",
        "\n",
        "Matriz_Resultante = SVD.fit_transform(X)\n",
        "\n",
        "corrMx = np.corrcoef(Matriz_Resultante, )\n",
        "corr_recomienda = corrMx[id_megusta]\n",
        "\n",
        "Lista_Restaurantes_RedDim=list(names[(corr_recomienda > .81) & (corr_recomienda < 1)])\n",
        "i=0\n",
        "print(\"*********************************************************************************************************************\")\n",
        "print(\"Reduciendo la dimensionalidad y manteniendo como referencia el restaurante Subway las 10 mejores recomendaciones son:\")\n",
        "print(\"*********************************************************************************************************************\")\n",
        "for Restaurante in Lista_Restaurantes_RedDim:\n",
        "  i=i+1\n",
        "  Id_Lista = names_list.index(Restaurante)\n",
        "  print(i,'- Restaurante',Restaurante, ' (Coeficiente Pearson =', round(corr_recomienda[Id_Lista],4),')')"
      ],
      "metadata": {
        "id": "j2k8zoOSg27T",
        "outputId": "b1b141c6-306e-4abe-f5f2-2bec38b292cf",
        "colab": {
          "base_uri": "https://localhost:8080/"
        }
      },
      "execution_count": 304,
      "outputs": [
        {
          "output_type": "stream",
          "name": "stdout",
          "text": [
            "****************************************************\n",
            "El total de valores singulares encontrados es de: 15\n",
            "*********************************************************************************************************************\n",
            "Reduciendo la dimensionalidad y manteniendo como referencia el restaurante Subway las 10 mejores recomendaciones son:\n",
            "*********************************************************************************************************************\n",
            "1 - Restaurante Chilis Cuernavaca  (Coeficiente Pearson = 0.924 )\n",
            "2 - Restaurante El Oceano Dorado  (Coeficiente Pearson = 0.8136 )\n",
            "3 - Restaurante El cotorreo  (Coeficiente Pearson = 0.9007 )\n",
            "4 - Restaurante Paniroles  (Coeficiente Pearson = 0.9028 )\n",
            "5 - Restaurante Restaurant Teely  (Coeficiente Pearson = 0.8904 )\n",
            "6 - Restaurante Restaurant and Bar and Clothesline Carlos N Charlies  (Coeficiente Pearson = 0.899 )\n",
            "7 - Restaurante Restaurant los Pinos  (Coeficiente Pearson = 0.8383 )\n",
            "8 - Restaurante Rincon del Bife  (Coeficiente Pearson = 0.9627 )\n",
            "9 - Restaurante Sanborns Casa Piedra  (Coeficiente Pearson = 0.9876 )\n",
            "10 - Restaurante Vips  (Coeficiente Pearson = 0.9911 )\n"
          ]
        }
      ]
    },
    {
      "cell_type": "code",
      "source": [
        "print(\"*****************************************************************************\")\n",
        "print(\"Coincidencias en recomendación de restaurantes al reducir la dimensionalidad:\")\n",
        "print(\"*****************************************************************************\")\n",
        "print(\"Se encontraron\",len(set(Lista_Restaurantes_RedDim).intersection(Lista_Restaurantes)), \"restaurantes iguales.\")\n",
        "print(\"\")\n",
        "\n",
        "print('Cantidad de información simplificada con los primeros %d vectores singulares:' % Componentes)\n",
        "print('%.1f%%' %  (100 * (1- (SVD.singular_values_[0:Componentes]).sum() / (SVD.singular_values_).sum())))"
      ],
      "metadata": {
        "id": "eTUCaX8cg20U",
        "outputId": "c50654fa-5bd3-437b-d9d8-9164b114918b",
        "colab": {
          "base_uri": "https://localhost:8080/"
        }
      },
      "execution_count": 305,
      "outputs": [
        {
          "output_type": "stream",
          "name": "stdout",
          "text": [
            "*****************************************************************************\n",
            "Coincidencias en recomendación de restaurantes al reducir la dimensionalidad:\n",
            "*****************************************************************************\n",
            "Se encontraron 6 restaurantes iguales.\n",
            "\n",
            "Cantidad de información simplificada con los primeros 15 vectores singulares:\n",
            "0.0%\n"
          ]
        }
      ]
    },
    {
      "cell_type": "markdown",
      "source": [
        "\n",
        "\n",
        "---\n",
        "\n",
        "✍ **Conclusiones:** Reduciendo el número de componentes, el máximo de coincidencias encontrada fue de 6.\n",
        "\n",
        "\n",
        "---\n",
        "\n"
      ],
      "metadata": {
        "id": "wK9RMrnPi-tt"
      }
    },
    {
      "cell_type": "markdown",
      "source": [
        "#**Ejercicio-8.**"
      ],
      "metadata": {
        "id": "9h9eDt6fcmBN"
      }
    },
    {
      "cell_type": "markdown",
      "source": [
        "\n",
        "\n",
        "---\n",
        "\n",
        "✍ **Conclusiones Finales:** Incluye tus conclusiones finales. En particular indica la coincidencia o no de estos tres modelos.\n",
        "\n",
        "\n",
        "---\n",
        "\n"
      ],
      "metadata": {
        "id": "YR_nRuN1jIWJ"
      }
    },
    {
      "cell_type": "markdown",
      "source": [
        "###**Fin de la Actividad de la semana 10 - Sistemas de Recomendación y Reducción de Dimensionalidad con SVD.**"
      ],
      "metadata": {
        "id": "7ql_r2G-DB_m"
      }
    }
  ]
}