{
  "nbformat": 4,
  "nbformat_minor": 0,
  "metadata": {
    "colab": {
      "provenance": [],
      "include_colab_link": true
    },
    "kernelspec": {
      "name": "python3",
      "display_name": "Python 3"
    },
    "language_info": {
      "name": "python"
    }
  },
  "cells": [
    {
      "cell_type": "markdown",
      "metadata": {
        "id": "view-in-github",
        "colab_type": "text"
      },
      "source": [
        "<a href=\"https://colab.research.google.com/github/A01793509/Equipo38/blob/main/Actividad_Semana_9_Equipo38.ipynb\" target=\"_parent\"><img src=\"https://colab.research.google.com/assets/colab-badge.svg\" alt=\"Open In Colab\"/></a>"
      ]
    },
    {
      "cell_type": "markdown",
      "source": [
        "#**Maestría en Inteligencia Artificial Aplicada**\n",
        "##**Curso: Inteligencia Artificial y Aprendizaje Automático**\n",
        "###Tecnológico de Monterrey\n",
        "###Profr: Luis Eduardo Falcón Morales\n",
        "\n",
        "## **Adtividad de la Semana 9**\n",
        "###**Taxonomía de Métricas de Clasificación**"
      ],
      "metadata": {
        "id": "LokPbfyA_jmk"
      }
    },
    {
      "cell_type": "markdown",
      "source": [
        "**Nombres y matrículas de los integrantes del equipo:**\n",
        "\n",
        "*   Alberto Jose Garcia Porras (A01793509)\n",
        "*   Carlos Julio León Caicedo (A01793947)\n",
        "*   Luis Fernando Ríos Piedra (A00453954)\n",
        "*   Marco Antonio Vázquez Morales (A01793704)"
      ],
      "metadata": {
        "id": "2JVg-Ha7_2UV"
      }
    },
    {
      "cell_type": "markdown",
      "source": [
        "\n",
        "---\n",
        "\n",
        "# 1. Resumen del artículo\n",
        "\n",
        "---"
      ],
      "metadata": {
        "id": "JF5glsakAjtm"
      }
    },
    {
      "cell_type": "markdown",
      "source": [
        "Garantizar una correcta evaluación del modelo de aprendizaje es clave para asegurar un adecuado reconocimiento de patrones, en ese sentido, existen dos aspectos clave a tener en cuenta para la evaluación, el primero basado en los datos estadísticos e intervalos de confianza del modelo, y el otro basado en la métrica utilizada para evaluarlo. Teniendo en cuenta que existen diferentes métricas de clasificación enfocadas en diversos tópicos del aprendizaje, es importante identificar la métrica adecuada para el modelo que estemos desarrollando.  Asimismo, dadas las características de las métricas, existe una clasificación que las agrupa por familia, generando básicamente las siguientes categorias:\n",
        "\n",
        "*   Métricas basadas en un umbral y una comprensión cualitativa del error (**Threshold**).\n",
        "*   Métricas basadas en una comprensión probabilistica del error (**Probabilistic**).\n",
        "*   Métricas basadas en que también se clasifica un modelo (**Rank**).\n",
        "\n",
        "Lo anterior nos lleva a otro interrogante, ¿Puedo seleccionar cualquier métrica para evaluar mi modelo?, precisamente esta es la respuesta que se plantea con el estudio, ya que no necesariamente se podrán extrapolar los resultados obtenidos a partir de una métrica aplicada a un modelo utilizando otras métricas de la misma familia, sobretodo cuando estamos lidiando con problemas multi-clase, clases desbalanceadas o conjuntos de datos pequeños. De igual forma, existen características presentes en algunas métricas que pueden generar sensibilidad en la obtención de los resultados generadas por las métricas que no poseen dichas características. Por lo anterior, es importante identificar la correlación existente entre las métricas que decidamos utilizar en nuestro modelo.\n",
        "Por otra parte, un aspecto a considerar es la diferencia que pueda existir entre los clasificadores y las buenas probabilidades, lo que nos lleva evaluar la calibración de las mismas, que no es otra cosa que el grado de aproximación de las probabilidades previstas versus las probabilidades reales. Sin embargo, esto nos provoca otro problema que tiene que ver con los segmentos o intervalos en que se divide un conjunto de datos, para lo que se ha experimentado superponerlos. \n",
        "\n",
        "Una de las métricas más usadas para evaluar una clasificación es la **precisión**, que es el grado de predicciones correctas de un modelo. \n",
        "\n",
        "**Área Bajo la Curva (AUC)** es otra de las métricas usadas, se define como la probabilidad de que un clasificador clasifique de manera positiva una instancia en vez de una negativa tomadas al azar. \n",
        "\n",
        "**Error Absoluto Medio (MAE)** muestra cuánto se desvian las predicciones de la probabilidad real. \n",
        "\n",
        "**Error Cuadrático Medio (MSE)** es una variante de MAE que penaliza fuertemente las debiaciones de la probabilidad real.\n",
        "\n",
        "Una primera conclusión que se llega en el artículo es que ninguna de las 18 métricas tiene un sí en el umbral de clase y en la calibraación o clasificación, esto es que no hay medida que combine el umbral con la probabilidad estimada. \n",
        "\n",
        "Una segunda conclusión es que al aplicar ruido al conjunto de datos, en este caso la precisión y otras medidas cualitativas son mejores cuando el ruido esta presente en el conjunto de datos. Por el contrario, estas son malas cuando el ruido es aplicado al aprendizaje.\n",
        "\n",
        "Finalmente, se observa que las diferentes métricas no pueden ser comparables, usando las correlaciones se encontró que estas suelen tener desempeño bajo entre las diversas medidas. \n",
        "\n",
        "\n"
      ],
      "metadata": {
        "id": "daJsHg6kAme6"
      }
    },
    {
      "cell_type": "markdown",
      "source": [
        "Describe el problema y el objetivo que se busca.\n",
        "\n",
        "¿Es un problema desbalanceado? ¿Cómo se podría enfrentar?\n",
        "\n",
        "¿Qué implicaciones a que conllevan un FP o un FN?\n",
        "\n",
        "Determinar el tipo de métrica de acuerdo a la Taxonomía de los autores.\n"
      ],
      "metadata": {
        "id": "ieAb1L9_ApiZ"
      }
    },
    {
      "cell_type": "markdown",
      "source": [
        "\n",
        "---\n",
        "\n",
        "# 2. Propuesta de métrica(s) para BD \"**Breast Cancer Wisconsin (Diagnostic) Data Set**\"\n",
        "\n",
        "---\n"
      ],
      "metadata": {
        "id": "-_ECwKxO9Kk8"
      }
    },
    {
      "cell_type": "markdown",
      "source": [
        "**Problema - Objetivo:** Se debe realizar un modelo que permita clasificar un posible tumor en el seno como benigno (clase 2) o maligno (clase 4) a partir de las imagenes capturadas a pacientes en Wisconsin. A través de las imagenes podemos identificar los 9 atributos de entrada que nos permitirán realizar la categorización requerida."
      ],
      "metadata": {
        "id": "O3h17l4LIDL9"
      }
    },
    {
      "cell_type": "code",
      "source": [
        "import pandas as pd\n",
        "from sklearn.model_selection import train_test_split"
      ],
      "metadata": {
        "id": "0IbV9I5W9NxM"
      },
      "execution_count": 1,
      "outputs": []
    },
    {
      "cell_type": "code",
      "source": [
        "columnas = [\"Número de identificación del número de código de muestra\", \"Grosor del grupo\", \"Uniformidad del tamaño de la celula\", \"Uniformidad de la forma celular\", \"Adhesión marginal\",\n",
        "            \"Tamaño de célula epitelial única\", \"Núcleos desnudos\", \"Cromatina suave\", \"Nucléolos normales\", \"Mitosis\", \"Clase\"]\n",
        "\n",
        "path = 'https://archive.ics.uci.edu/ml/machine-learning-databases/breast-cancer-wisconsin/breast-cancer-wisconsin.data'\n",
        "df = pd.read_csv(path, sep=',', names=columnas)\n",
        "\n",
        "df.index.name = None\n",
        "\n",
        "df.head()"
      ],
      "metadata": {
        "colab": {
          "base_uri": "https://localhost:8080/",
          "height": 302
        },
        "id": "IzS8P9dE9Ofk",
        "outputId": "19e67c30-18fc-4154-9484-6709d397d479"
      },
      "execution_count": 4,
      "outputs": [
        {
          "output_type": "execute_result",
          "data": {
            "text/plain": [
              "   Número de identificación del número de código de muestra  Grosor del grupo  \\\n",
              "0                                            1000025                        5   \n",
              "1                                            1002945                        5   \n",
              "2                                            1015425                        3   \n",
              "3                                            1016277                        6   \n",
              "4                                            1017023                        4   \n",
              "\n",
              "   Uniformidad del tamaño de la celula  Uniformidad de la forma celular  \\\n",
              "0                                    1                                1   \n",
              "1                                    4                                4   \n",
              "2                                    1                                1   \n",
              "3                                    8                                8   \n",
              "4                                    1                                1   \n",
              "\n",
              "   Adhesión marginal  Tamaño de célula epitelial única Núcleos desnudos  \\\n",
              "0                  1                                 2                1   \n",
              "1                  5                                 7               10   \n",
              "2                  1                                 2                2   \n",
              "3                  1                                 3                4   \n",
              "4                  3                                 2                1   \n",
              "\n",
              "   Cromatina suave  Nucléolos normales  Mitosis  Clase  \n",
              "0                3                   1        1      2  \n",
              "1                3                   2        1      2  \n",
              "2                3                   1        1      2  \n",
              "3                3                   7        1      2  \n",
              "4                3                   1        1      2  "
            ],
            "text/html": [
              "\n",
              "  <div id=\"df-4839e84b-5beb-4c8e-b8ab-1a923d995666\">\n",
              "    <div class=\"colab-df-container\">\n",
              "      <div>\n",
              "<style scoped>\n",
              "    .dataframe tbody tr th:only-of-type {\n",
              "        vertical-align: middle;\n",
              "    }\n",
              "\n",
              "    .dataframe tbody tr th {\n",
              "        vertical-align: top;\n",
              "    }\n",
              "\n",
              "    .dataframe thead th {\n",
              "        text-align: right;\n",
              "    }\n",
              "</style>\n",
              "<table border=\"1\" class=\"dataframe\">\n",
              "  <thead>\n",
              "    <tr style=\"text-align: right;\">\n",
              "      <th></th>\n",
              "      <th>Número de identificación del número de código de muestra</th>\n",
              "      <th>Grosor del grupo</th>\n",
              "      <th>Uniformidad del tamaño de la celula</th>\n",
              "      <th>Uniformidad de la forma celular</th>\n",
              "      <th>Adhesión marginal</th>\n",
              "      <th>Tamaño de célula epitelial única</th>\n",
              "      <th>Núcleos desnudos</th>\n",
              "      <th>Cromatina suave</th>\n",
              "      <th>Nucléolos normales</th>\n",
              "      <th>Mitosis</th>\n",
              "      <th>Clase</th>\n",
              "    </tr>\n",
              "  </thead>\n",
              "  <tbody>\n",
              "    <tr>\n",
              "      <th>0</th>\n",
              "      <td>1000025</td>\n",
              "      <td>5</td>\n",
              "      <td>1</td>\n",
              "      <td>1</td>\n",
              "      <td>1</td>\n",
              "      <td>2</td>\n",
              "      <td>1</td>\n",
              "      <td>3</td>\n",
              "      <td>1</td>\n",
              "      <td>1</td>\n",
              "      <td>2</td>\n",
              "    </tr>\n",
              "    <tr>\n",
              "      <th>1</th>\n",
              "      <td>1002945</td>\n",
              "      <td>5</td>\n",
              "      <td>4</td>\n",
              "      <td>4</td>\n",
              "      <td>5</td>\n",
              "      <td>7</td>\n",
              "      <td>10</td>\n",
              "      <td>3</td>\n",
              "      <td>2</td>\n",
              "      <td>1</td>\n",
              "      <td>2</td>\n",
              "    </tr>\n",
              "    <tr>\n",
              "      <th>2</th>\n",
              "      <td>1015425</td>\n",
              "      <td>3</td>\n",
              "      <td>1</td>\n",
              "      <td>1</td>\n",
              "      <td>1</td>\n",
              "      <td>2</td>\n",
              "      <td>2</td>\n",
              "      <td>3</td>\n",
              "      <td>1</td>\n",
              "      <td>1</td>\n",
              "      <td>2</td>\n",
              "    </tr>\n",
              "    <tr>\n",
              "      <th>3</th>\n",
              "      <td>1016277</td>\n",
              "      <td>6</td>\n",
              "      <td>8</td>\n",
              "      <td>8</td>\n",
              "      <td>1</td>\n",
              "      <td>3</td>\n",
              "      <td>4</td>\n",
              "      <td>3</td>\n",
              "      <td>7</td>\n",
              "      <td>1</td>\n",
              "      <td>2</td>\n",
              "    </tr>\n",
              "    <tr>\n",
              "      <th>4</th>\n",
              "      <td>1017023</td>\n",
              "      <td>4</td>\n",
              "      <td>1</td>\n",
              "      <td>1</td>\n",
              "      <td>3</td>\n",
              "      <td>2</td>\n",
              "      <td>1</td>\n",
              "      <td>3</td>\n",
              "      <td>1</td>\n",
              "      <td>1</td>\n",
              "      <td>2</td>\n",
              "    </tr>\n",
              "  </tbody>\n",
              "</table>\n",
              "</div>\n",
              "      <button class=\"colab-df-convert\" onclick=\"convertToInteractive('df-4839e84b-5beb-4c8e-b8ab-1a923d995666')\"\n",
              "              title=\"Convert this dataframe to an interactive table.\"\n",
              "              style=\"display:none;\">\n",
              "        \n",
              "  <svg xmlns=\"http://www.w3.org/2000/svg\" height=\"24px\"viewBox=\"0 0 24 24\"\n",
              "       width=\"24px\">\n",
              "    <path d=\"M0 0h24v24H0V0z\" fill=\"none\"/>\n",
              "    <path d=\"M18.56 5.44l.94 2.06.94-2.06 2.06-.94-2.06-.94-.94-2.06-.94 2.06-2.06.94zm-11 1L8.5 8.5l.94-2.06 2.06-.94-2.06-.94L8.5 2.5l-.94 2.06-2.06.94zm10 10l.94 2.06.94-2.06 2.06-.94-2.06-.94-.94-2.06-.94 2.06-2.06.94z\"/><path d=\"M17.41 7.96l-1.37-1.37c-.4-.4-.92-.59-1.43-.59-.52 0-1.04.2-1.43.59L10.3 9.45l-7.72 7.72c-.78.78-.78 2.05 0 2.83L4 21.41c.39.39.9.59 1.41.59.51 0 1.02-.2 1.41-.59l7.78-7.78 2.81-2.81c.8-.78.8-2.07 0-2.86zM5.41 20L4 18.59l7.72-7.72 1.47 1.35L5.41 20z\"/>\n",
              "  </svg>\n",
              "      </button>\n",
              "      \n",
              "  <style>\n",
              "    .colab-df-container {\n",
              "      display:flex;\n",
              "      flex-wrap:wrap;\n",
              "      gap: 12px;\n",
              "    }\n",
              "\n",
              "    .colab-df-convert {\n",
              "      background-color: #E8F0FE;\n",
              "      border: none;\n",
              "      border-radius: 50%;\n",
              "      cursor: pointer;\n",
              "      display: none;\n",
              "      fill: #1967D2;\n",
              "      height: 32px;\n",
              "      padding: 0 0 0 0;\n",
              "      width: 32px;\n",
              "    }\n",
              "\n",
              "    .colab-df-convert:hover {\n",
              "      background-color: #E2EBFA;\n",
              "      box-shadow: 0px 1px 2px rgba(60, 64, 67, 0.3), 0px 1px 3px 1px rgba(60, 64, 67, 0.15);\n",
              "      fill: #174EA6;\n",
              "    }\n",
              "\n",
              "    [theme=dark] .colab-df-convert {\n",
              "      background-color: #3B4455;\n",
              "      fill: #D2E3FC;\n",
              "    }\n",
              "\n",
              "    [theme=dark] .colab-df-convert:hover {\n",
              "      background-color: #434B5C;\n",
              "      box-shadow: 0px 1px 3px 1px rgba(0, 0, 0, 0.15);\n",
              "      filter: drop-shadow(0px 1px 2px rgba(0, 0, 0, 0.3));\n",
              "      fill: #FFFFFF;\n",
              "    }\n",
              "  </style>\n",
              "\n",
              "      <script>\n",
              "        const buttonEl =\n",
              "          document.querySelector('#df-4839e84b-5beb-4c8e-b8ab-1a923d995666 button.colab-df-convert');\n",
              "        buttonEl.style.display =\n",
              "          google.colab.kernel.accessAllowed ? 'block' : 'none';\n",
              "\n",
              "        async function convertToInteractive(key) {\n",
              "          const element = document.querySelector('#df-4839e84b-5beb-4c8e-b8ab-1a923d995666');\n",
              "          const dataTable =\n",
              "            await google.colab.kernel.invokeFunction('convertToInteractive',\n",
              "                                                     [key], {});\n",
              "          if (!dataTable) return;\n",
              "\n",
              "          const docLinkHtml = 'Like what you see? Visit the ' +\n",
              "            '<a target=\"_blank\" href=https://colab.research.google.com/notebooks/data_table.ipynb>data table notebook</a>'\n",
              "            + ' to learn more about interactive tables.';\n",
              "          element.innerHTML = '';\n",
              "          dataTable['output_type'] = 'display_data';\n",
              "          await google.colab.output.renderOutput(dataTable, element);\n",
              "          const docLink = document.createElement('div');\n",
              "          docLink.innerHTML = docLinkHtml;\n",
              "          element.appendChild(docLink);\n",
              "        }\n",
              "      </script>\n",
              "    </div>\n",
              "  </div>\n",
              "  "
            ]
          },
          "metadata": {},
          "execution_count": 4
        }
      ]
    },
    {
      "cell_type": "markdown",
      "source": [
        "\n",
        "---\n",
        "**Balanceo de clases en el conjunto:** De acuerdo a la revisión pudimos determinar que el conjunto se encuentra desbalanceado en las clases.\n",
        "\n",
        "\n",
        "*   Clase 2 (Benigno): %66\n",
        "*   Clase 4 (Maligno): %34\n",
        "\n",
        "---\n"
      ],
      "metadata": {
        "id": "jgT8OTIIJcce"
      }
    },
    {
      "cell_type": "code",
      "source": [
        "#Revisando el balanceo de las clases\n",
        "print(\"El porcentaje de la clase 2 es:\",len(df[df['Clase']==2])/len(df['Clase']))\n",
        "print(\"El porcentaje de la clase 4 es:\",len(df[df['Clase']==4])/len(df['Clase']))"
      ],
      "metadata": {
        "colab": {
          "base_uri": "https://localhost:8080/"
        },
        "id": "vpyPJG049u7M",
        "outputId": "3261ad18-95d4-418a-cd15-48664e40fb21"
      },
      "execution_count": 59,
      "outputs": [
        {
          "output_type": "stream",
          "name": "stdout",
          "text": [
            "El porcentaje de la clase 2 es: 0.6552217453505007\n",
            "El porcentaje de la clase 4 es: 0.3447782546494993\n"
          ]
        }
      ]
    },
    {
      "cell_type": "markdown",
      "source": [
        "\n",
        "---\n",
        "**¿Cómo enfrentamos el desbalanceo?** \n",
        "\n",
        "---\n",
        "Inicialmente crearemos un modelo dummy para definir el objetivo al que queremos llegar con el balanceo, posteriormente aplicaremos la técnica  SMOTE, ya que el desbalanceo no es extremadamente alto y dicha técnica nos permitirá crear registros en la clase minoritaria (2) sin impactar fuertemente los pesos en los atributos de entrada."
      ],
      "metadata": {
        "id": "VkYxvCuzKbd-"
      }
    },
    {
      "cell_type": "markdown",
      "source": [
        "---\n",
        "**Implicaciones de un FP o un FN:** \n",
        "\n",
        "---\n",
        "Un falso positivo (FP) en el modelo implica categorizar un tumor benigno (2) como maligno (4), desde el punto de vista del paciente, se pueden generar afectaciones tanto psicológicas (debido al estrés de la enfermedad) como físicas (debido al suministro de medicamentos que no requiere).\n",
        "Un falso negativo (FN) en el modelo implica categorizar un tumor maligno (4) como benigno (2), desde el punto de vista del paciente, se puede generar deterioro de su salud debido a que no se le suministrará el tratamiento que requiere."
      ],
      "metadata": {
        "id": "BlcHVFgPKkKp"
      }
    },
    {
      "cell_type": "markdown",
      "source": [
        "\n",
        "---\n",
        "**Tipo de métrica a utilizar de acuerdo a taxonomía del artículo:** \n",
        "\n",
        "---\n",
        "Teniendo en cuenta la criticidad en la separación de las clases para este tipo de modelos que clasifican diagnósticos de salud, debemos utilizar una métrica en la que dicha separación sea crucial. Por ello haremos uso de la métrica **AUNU** (AUC of each class against the rest, using the uniform class distribution), en la cual se presenta un comportamiento aceptable con el ruido o la distorsión en los datos del conjunto o durante el entrenamiento del modelo, adicionalmente como nuestros datos se encuentran balanceados obtendremos mejores resultados a partir de esta métrica."
      ],
      "metadata": {
        "id": "7-AYpPE2KuUu"
      }
    },
    {
      "cell_type": "markdown",
      "source": [
        "\n",
        "---\n",
        "\n",
        "# 3. Propuesta de métrica(s) para BD \"**South German Credit Data Set**\"\n",
        "Carlos\n",
        "\n",
        "---"
      ],
      "metadata": {
        "id": "iLGSnOuVARQN"
      }
    },
    {
      "cell_type": "code",
      "source": [],
      "metadata": {
        "id": "I4Vlg3nWAUal"
      },
      "execution_count": null,
      "outputs": []
    },
    {
      "cell_type": "markdown",
      "source": [
        "---\n",
        "\n",
        "# 4. Propuesta de métrica(s) para BD \"**Telco customer churn: IBM dataset**\"\n",
        "Luis\n",
        "\n",
        "---"
      ],
      "metadata": {
        "id": "NMbqCi5cAU0v"
      }
    },
    {
      "cell_type": "code",
      "source": [],
      "metadata": {
        "id": "j5aDCra8AbM_"
      },
      "execution_count": null,
      "outputs": []
    },
    {
      "cell_type": "markdown",
      "source": [
        "---\n",
        "\n",
        "# 5. Propuesta de métrica(s) para BD \"**Qualitative_Bankruptcy Data Set**\"\n",
        "Marco\n",
        "\n",
        "---"
      ],
      "metadata": {
        "id": "IJEfIUlOAbk4"
      }
    },
    {
      "cell_type": "code",
      "source": [],
      "metadata": {
        "id": "qJESE7KBAl1R"
      },
      "execution_count": null,
      "outputs": []
    }
  ]
}