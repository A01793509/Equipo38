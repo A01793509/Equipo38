{
  "nbformat": 4,
  "nbformat_minor": 0,
  "metadata": {
    "colab": {
      "provenance": [],
      "collapsed_sections": [],
      "include_colab_link": true
    },
    "kernelspec": {
      "display_name": "Python 3",
      "name": "python3"
    }
  },
  "cells": [
    {
      "cell_type": "markdown",
      "metadata": {
        "id": "view-in-github",
        "colab_type": "text"
      },
      "source": [
        "<a href=\"https://colab.research.google.com/github/A01793509/Equipo38/blob/main/MNA_IAyAA_semana_7_Actividad_r7.ipynb\" target=\"_parent\"><img src=\"https://colab.research.google.com/assets/colab-badge.svg\" alt=\"Open In Colab\"/></a>"
      ]
    },
    {
      "cell_type": "markdown",
      "source": [
        "#**Maestría en Inteligencia Artificial Aplicada**\n",
        "##**Curso: Inteligencia Artificial y Aprendizaje Automático**\n",
        "###Tecnológico de Monterrey\n",
        "###Prof Luis Eduardo Falcón Morales\n",
        "\n",
        "## **Adtividad de la Semana 7**\n",
        "###**Red Neuronal Artificial - Perceptrón Multicapa : Multilayer Perceptrón (MLP)**\n"
      ],
      "metadata": {
        "id": "VFj0sSM06dYa"
      }
    },
    {
      "cell_type": "markdown",
      "source": [
        "**Nombres y matrículas de los integrantes del equipo:**\n",
        "\n",
        "*   Alberto Jose Garcia Porras (A01793509)\n",
        "*   Carlos Julio León Caicedo (A01793947)\n",
        "*   Luis Fernando Ríos Piedra (A00453954)\n",
        "*   Marco Antonio Vázquez Morales (A01793704)"
      ],
      "metadata": {
        "id": "Qgrvy0RGB9XI"
      }
    },
    {
      "cell_type": "markdown",
      "source": [
        "En cada sección deberás incluir todas las líneas de código necesarias para responder a cada uno de los ejercicios."
      ],
      "metadata": {
        "id": "FrJ2ahMODVj1"
      }
    },
    {
      "cell_type": "markdown",
      "source": [
        "#**Contexto del problema y el conjunto de datos a utilizar**\n",
        "\n",
        "El objetivo es determinar el impacto generado por un anuncio de una marca de cosméticos en Facebook, en el cual se intentaron varias variantes en la manera de mostrar el anuncio. Siguiendo el [artículo](https://www.semanticscholar.org/paper/Predicting-social-media-performance-metrics-and-of-Moro-Rita/dec55692590820754b53c916e29bb2b42c0e5104), deberás considerar como predictores o variables de entrada aquellas que se indican en la Tabla 3. Por otro lado, en la Tabla 2, los autores consideran varios casos para la variable de salida, intentando determinar cuál puede ser el mejor caso para medir el éxito de la campaña. Para este ejercicio deberás considerar únicamente los siguientes tres casos como variable de salida: “Lifetime post consumers”, “Lifetime People who have liked a Page and engaged with a post” y “Likes”. \n",
        "\n",
        "El conjunto de datos a utilizar es el de la siguiente liga de la UCI:\n",
        "https://archive.ics.uci.edu/ml/datasets/Facebook+metrics\n"
      ],
      "metadata": {
        "id": "sxlSJ-k7NYTs"
      }
    },
    {
      "cell_type": "code",
      "source": [
        "# Incluye aquí todos módulos, librerías y paquetes que requieras.\n",
        "import pandas as pd\n",
        "import numpy as np\n",
        "import matplotlib.pyplot as plt\n",
        "import requests, zipfile\n",
        "import seaborn as sns\n",
        "\n",
        "from sklearn.model_selection import train_test_split\n",
        "from sklearn.impute import SimpleImputer\n",
        "from sklearn.pipeline import Pipeline\n",
        "from sklearn.preprocessing import MinMaxScaler\n",
        "from sklearn.compose import ColumnTransformer\n",
        "from sklearn.linear_model import LinearRegression\n",
        "from sklearn.linear_model import LogisticRegression\n",
        "from sklearn.linear_model import Ridge,ElasticNet\n",
        "from sklearn.metrics import confusion_matrix,mean_absolute_error,mean_squared_error,mean_absolute_percentage_error,f1_score\n",
        "from sklearn.metrics import make_scorer,classification_report\n",
        "from imblearn.metrics import geometric_mean_score, classification_report_imbalanced\n",
        "from sklearn.model_selection import cross_validate\n",
        "from sklearn.model_selection import cross_val_predict\n",
        "from sklearn.model_selection import learning_curve\n",
        "from sklearn.ensemble import RandomForestClassifier\n",
        "from sklearn.ensemble import RandomForestRegressor\n",
        "from sklearn.tree import DecisionTreeClassifier\n",
        "from sklearn.model_selection import RepeatedStratifiedKFold,RepeatedKFold\n",
        "from sklearn.model_selection import GridSearchCV\n",
        "from sklearn.model_selection import validation_curve\n",
        "from sklearn.preprocessing import FunctionTransformer\n",
        "from sklearn.preprocessing import OneHotEncoder\n",
        "from sklearn.preprocessing import StandardScaler\n",
        "from io import BytesIO\n",
        "\n",
        "from imblearn.under_sampling import TomekLinks\n",
        "from imblearn.under_sampling import EditedNearestNeighbours\n",
        "\n",
        "from imblearn.over_sampling import SMOTE\n",
        "from imblearn.pipeline import Pipeline\n",
        "\n",
        "from imblearn.combine import SMOTEENN\n",
        "from imblearn.combine import SMOTETomek\n",
        "from imblearn.over_sampling import RandomOverSampler\n",
        "from imblearn.under_sampling import RandomUnderSampler\n",
        "from imblearn.pipeline import make_pipeline\n",
        "from imblearn.pipeline import make_pipeline as make_pipeline_with_sampler\n",
        "from imblearn.ensemble import BalancedRandomForestClassifier\n",
        "from sklearn.inspection import permutation_importance\n",
        "from sklearn.preprocessing import StandardScaler\n",
        "\n",
        "from sklearn.neural_network import MLPClassifier\n",
        "from sklearn.neural_network import MLPRegressor\n",
        "\n",
        "from scipy.stats import loguniform"
      ],
      "metadata": {
        "id": "exXsscs-Dh-2"
      },
      "execution_count": 2,
      "outputs": []
    },
    {
      "cell_type": "markdown",
      "metadata": {
        "id": "X25brD-gQdZM"
      },
      "source": [
        "#**Ejercicio-1.** \n",
        "\n",
        "En esta tarea considera únicamente la siguiente variable de salida que se concluye que es una de las mejores en el artículo antes citado:  ‘Lifetime People who have liked a Page and engaged with a post'. Renombra dicha variable como “LPE”. Como variables de entrada selecciona las 7 variables que indican los autores en la Tabla 3 del artículo citado.\n"
      ]
    },
    {
      "cell_type": "code",
      "source": [
        "path = 'https://archive.ics.uci.edu/ml/machine-learning-databases/00368/Facebook_metrics.zip'\n",
        "base_datos = path.split('/')[-1]\n",
        "req_path = requests.get(path)\n",
        "\n",
        "archivo_uci= zipfile.ZipFile(BytesIO(req_path.content))\n",
        "archivo_uci.extractall('/content/sample_data/Facebook_metrics')\n",
        "df = pd.read_csv(\"/content/sample_data/Facebook_metrics/dataset_Facebook.csv\",sep=';')\n",
        "\n",
        "df.rename(columns={'Lifetime People who have liked your Page and engaged with your post':'LPE'},\n",
        "               inplace=True)\n",
        "df.tail()"
      ],
      "metadata": {
        "id": "3nU2GuWYCy6C",
        "colab": {
          "base_uri": "https://localhost:8080/",
          "height": 302
        },
        "outputId": "0e821c89-05ab-403e-c661-067e771fbaf3"
      },
      "execution_count": 3,
      "outputs": [
        {
          "output_type": "execute_result",
          "data": {
            "text/plain": [
              "     Page total likes   Type  Category  Post Month  Post Weekday  Post Hour  \\\n",
              "495             85093  Photo         3           1             7          2   \n",
              "496             81370  Photo         2           1             5          8   \n",
              "497             81370  Photo         1           1             5          2   \n",
              "498             81370  Photo         3           1             4         11   \n",
              "499             81370  Photo         2           1             4          4   \n",
              "\n",
              "     Paid  Lifetime Post Total Reach  Lifetime Post Total Impressions  \\\n",
              "495   0.0                       4684                             7536   \n",
              "496   0.0                       3480                             6229   \n",
              "497   0.0                       3778                             7216   \n",
              "498   0.0                       4156                             7564   \n",
              "499   NaN                       4188                             7292   \n",
              "\n",
              "     Lifetime Engaged Users  Lifetime Post Consumers  \\\n",
              "495                     733                      708   \n",
              "496                     537                      508   \n",
              "497                     625                      572   \n",
              "498                     626                      574   \n",
              "499                     564                      524   \n",
              "\n",
              "     Lifetime Post Consumptions  \\\n",
              "495                         985   \n",
              "496                         687   \n",
              "497                         795   \n",
              "498                         832   \n",
              "499                         743   \n",
              "\n",
              "     Lifetime Post Impressions by people who have liked your Page  \\\n",
              "495                                               4750              \n",
              "496                                               3961              \n",
              "497                                               4742              \n",
              "498                                               4534              \n",
              "499                                               3861              \n",
              "\n",
              "     Lifetime Post reach by people who like your Page  LPE  comment  like  \\\n",
              "495                                              2876  392        5  53.0   \n",
              "496                                              2104  301        0  53.0   \n",
              "497                                              2388  363        4  93.0   \n",
              "498                                              2452  370        7  91.0   \n",
              "499                                              2200  316        0  91.0   \n",
              "\n",
              "     share  Total Interactions  \n",
              "495   26.0                  84  \n",
              "496   22.0                  75  \n",
              "497   18.0                 115  \n",
              "498   38.0                 136  \n",
              "499   28.0                 119  "
            ],
            "text/html": [
              "\n",
              "  <div id=\"df-4349bcf5-d78e-4e0f-a8b3-5c9fabcef6bc\">\n",
              "    <div class=\"colab-df-container\">\n",
              "      <div>\n",
              "<style scoped>\n",
              "    .dataframe tbody tr th:only-of-type {\n",
              "        vertical-align: middle;\n",
              "    }\n",
              "\n",
              "    .dataframe tbody tr th {\n",
              "        vertical-align: top;\n",
              "    }\n",
              "\n",
              "    .dataframe thead th {\n",
              "        text-align: right;\n",
              "    }\n",
              "</style>\n",
              "<table border=\"1\" class=\"dataframe\">\n",
              "  <thead>\n",
              "    <tr style=\"text-align: right;\">\n",
              "      <th></th>\n",
              "      <th>Page total likes</th>\n",
              "      <th>Type</th>\n",
              "      <th>Category</th>\n",
              "      <th>Post Month</th>\n",
              "      <th>Post Weekday</th>\n",
              "      <th>Post Hour</th>\n",
              "      <th>Paid</th>\n",
              "      <th>Lifetime Post Total Reach</th>\n",
              "      <th>Lifetime Post Total Impressions</th>\n",
              "      <th>Lifetime Engaged Users</th>\n",
              "      <th>Lifetime Post Consumers</th>\n",
              "      <th>Lifetime Post Consumptions</th>\n",
              "      <th>Lifetime Post Impressions by people who have liked your Page</th>\n",
              "      <th>Lifetime Post reach by people who like your Page</th>\n",
              "      <th>LPE</th>\n",
              "      <th>comment</th>\n",
              "      <th>like</th>\n",
              "      <th>share</th>\n",
              "      <th>Total Interactions</th>\n",
              "    </tr>\n",
              "  </thead>\n",
              "  <tbody>\n",
              "    <tr>\n",
              "      <th>495</th>\n",
              "      <td>85093</td>\n",
              "      <td>Photo</td>\n",
              "      <td>3</td>\n",
              "      <td>1</td>\n",
              "      <td>7</td>\n",
              "      <td>2</td>\n",
              "      <td>0.0</td>\n",
              "      <td>4684</td>\n",
              "      <td>7536</td>\n",
              "      <td>733</td>\n",
              "      <td>708</td>\n",
              "      <td>985</td>\n",
              "      <td>4750</td>\n",
              "      <td>2876</td>\n",
              "      <td>392</td>\n",
              "      <td>5</td>\n",
              "      <td>53.0</td>\n",
              "      <td>26.0</td>\n",
              "      <td>84</td>\n",
              "    </tr>\n",
              "    <tr>\n",
              "      <th>496</th>\n",
              "      <td>81370</td>\n",
              "      <td>Photo</td>\n",
              "      <td>2</td>\n",
              "      <td>1</td>\n",
              "      <td>5</td>\n",
              "      <td>8</td>\n",
              "      <td>0.0</td>\n",
              "      <td>3480</td>\n",
              "      <td>6229</td>\n",
              "      <td>537</td>\n",
              "      <td>508</td>\n",
              "      <td>687</td>\n",
              "      <td>3961</td>\n",
              "      <td>2104</td>\n",
              "      <td>301</td>\n",
              "      <td>0</td>\n",
              "      <td>53.0</td>\n",
              "      <td>22.0</td>\n",
              "      <td>75</td>\n",
              "    </tr>\n",
              "    <tr>\n",
              "      <th>497</th>\n",
              "      <td>81370</td>\n",
              "      <td>Photo</td>\n",
              "      <td>1</td>\n",
              "      <td>1</td>\n",
              "      <td>5</td>\n",
              "      <td>2</td>\n",
              "      <td>0.0</td>\n",
              "      <td>3778</td>\n",
              "      <td>7216</td>\n",
              "      <td>625</td>\n",
              "      <td>572</td>\n",
              "      <td>795</td>\n",
              "      <td>4742</td>\n",
              "      <td>2388</td>\n",
              "      <td>363</td>\n",
              "      <td>4</td>\n",
              "      <td>93.0</td>\n",
              "      <td>18.0</td>\n",
              "      <td>115</td>\n",
              "    </tr>\n",
              "    <tr>\n",
              "      <th>498</th>\n",
              "      <td>81370</td>\n",
              "      <td>Photo</td>\n",
              "      <td>3</td>\n",
              "      <td>1</td>\n",
              "      <td>4</td>\n",
              "      <td>11</td>\n",
              "      <td>0.0</td>\n",
              "      <td>4156</td>\n",
              "      <td>7564</td>\n",
              "      <td>626</td>\n",
              "      <td>574</td>\n",
              "      <td>832</td>\n",
              "      <td>4534</td>\n",
              "      <td>2452</td>\n",
              "      <td>370</td>\n",
              "      <td>7</td>\n",
              "      <td>91.0</td>\n",
              "      <td>38.0</td>\n",
              "      <td>136</td>\n",
              "    </tr>\n",
              "    <tr>\n",
              "      <th>499</th>\n",
              "      <td>81370</td>\n",
              "      <td>Photo</td>\n",
              "      <td>2</td>\n",
              "      <td>1</td>\n",
              "      <td>4</td>\n",
              "      <td>4</td>\n",
              "      <td>NaN</td>\n",
              "      <td>4188</td>\n",
              "      <td>7292</td>\n",
              "      <td>564</td>\n",
              "      <td>524</td>\n",
              "      <td>743</td>\n",
              "      <td>3861</td>\n",
              "      <td>2200</td>\n",
              "      <td>316</td>\n",
              "      <td>0</td>\n",
              "      <td>91.0</td>\n",
              "      <td>28.0</td>\n",
              "      <td>119</td>\n",
              "    </tr>\n",
              "  </tbody>\n",
              "</table>\n",
              "</div>\n",
              "      <button class=\"colab-df-convert\" onclick=\"convertToInteractive('df-4349bcf5-d78e-4e0f-a8b3-5c9fabcef6bc')\"\n",
              "              title=\"Convert this dataframe to an interactive table.\"\n",
              "              style=\"display:none;\">\n",
              "        \n",
              "  <svg xmlns=\"http://www.w3.org/2000/svg\" height=\"24px\"viewBox=\"0 0 24 24\"\n",
              "       width=\"24px\">\n",
              "    <path d=\"M0 0h24v24H0V0z\" fill=\"none\"/>\n",
              "    <path d=\"M18.56 5.44l.94 2.06.94-2.06 2.06-.94-2.06-.94-.94-2.06-.94 2.06-2.06.94zm-11 1L8.5 8.5l.94-2.06 2.06-.94-2.06-.94L8.5 2.5l-.94 2.06-2.06.94zm10 10l.94 2.06.94-2.06 2.06-.94-2.06-.94-.94-2.06-.94 2.06-2.06.94z\"/><path d=\"M17.41 7.96l-1.37-1.37c-.4-.4-.92-.59-1.43-.59-.52 0-1.04.2-1.43.59L10.3 9.45l-7.72 7.72c-.78.78-.78 2.05 0 2.83L4 21.41c.39.39.9.59 1.41.59.51 0 1.02-.2 1.41-.59l7.78-7.78 2.81-2.81c.8-.78.8-2.07 0-2.86zM5.41 20L4 18.59l7.72-7.72 1.47 1.35L5.41 20z\"/>\n",
              "  </svg>\n",
              "      </button>\n",
              "      \n",
              "  <style>\n",
              "    .colab-df-container {\n",
              "      display:flex;\n",
              "      flex-wrap:wrap;\n",
              "      gap: 12px;\n",
              "    }\n",
              "\n",
              "    .colab-df-convert {\n",
              "      background-color: #E8F0FE;\n",
              "      border: none;\n",
              "      border-radius: 50%;\n",
              "      cursor: pointer;\n",
              "      display: none;\n",
              "      fill: #1967D2;\n",
              "      height: 32px;\n",
              "      padding: 0 0 0 0;\n",
              "      width: 32px;\n",
              "    }\n",
              "\n",
              "    .colab-df-convert:hover {\n",
              "      background-color: #E2EBFA;\n",
              "      box-shadow: 0px 1px 2px rgba(60, 64, 67, 0.3), 0px 1px 3px 1px rgba(60, 64, 67, 0.15);\n",
              "      fill: #174EA6;\n",
              "    }\n",
              "\n",
              "    [theme=dark] .colab-df-convert {\n",
              "      background-color: #3B4455;\n",
              "      fill: #D2E3FC;\n",
              "    }\n",
              "\n",
              "    [theme=dark] .colab-df-convert:hover {\n",
              "      background-color: #434B5C;\n",
              "      box-shadow: 0px 1px 3px 1px rgba(0, 0, 0, 0.15);\n",
              "      filter: drop-shadow(0px 1px 2px rgba(0, 0, 0, 0.3));\n",
              "      fill: #FFFFFF;\n",
              "    }\n",
              "  </style>\n",
              "\n",
              "      <script>\n",
              "        const buttonEl =\n",
              "          document.querySelector('#df-4349bcf5-d78e-4e0f-a8b3-5c9fabcef6bc button.colab-df-convert');\n",
              "        buttonEl.style.display =\n",
              "          google.colab.kernel.accessAllowed ? 'block' : 'none';\n",
              "\n",
              "        async function convertToInteractive(key) {\n",
              "          const element = document.querySelector('#df-4349bcf5-d78e-4e0f-a8b3-5c9fabcef6bc');\n",
              "          const dataTable =\n",
              "            await google.colab.kernel.invokeFunction('convertToInteractive',\n",
              "                                                     [key], {});\n",
              "          if (!dataTable) return;\n",
              "\n",
              "          const docLinkHtml = 'Like what you see? Visit the ' +\n",
              "            '<a target=\"_blank\" href=https://colab.research.google.com/notebooks/data_table.ipynb>data table notebook</a>'\n",
              "            + ' to learn more about interactive tables.';\n",
              "          element.innerHTML = '';\n",
              "          dataTable['output_type'] = 'display_data';\n",
              "          await google.colab.output.renderOutput(dataTable, element);\n",
              "          const docLink = document.createElement('div');\n",
              "          docLink.innerHTML = docLinkHtml;\n",
              "          element.appendChild(docLink);\n",
              "        }\n",
              "      </script>\n",
              "    </div>\n",
              "  </div>\n",
              "  "
            ]
          },
          "metadata": {},
          "execution_count": 3
        }
      ]
    },
    {
      "cell_type": "code",
      "source": [
        "df['Type'].value_counts()"
      ],
      "metadata": {
        "id": "oE-Nuw-cuDrl",
        "outputId": "6af3ada4-f6f5-4f12-a3d4-447723cb2f80",
        "colab": {
          "base_uri": "https://localhost:8080/"
        }
      },
      "execution_count": 5,
      "outputs": [
        {
          "output_type": "execute_result",
          "data": {
            "text/plain": [
              "Photo     426\n",
              "Status     45\n",
              "Link       22\n",
              "Video       7\n",
              "Name: Type, dtype: int64"
            ]
          },
          "metadata": {},
          "execution_count": 5
        }
      ]
    },
    {
      "cell_type": "code",
      "source": [
        "#Llenado de dato único dato nulo encontrado\n",
        "df['Paid']=df['Paid'].fillna(0)"
      ],
      "metadata": {
        "id": "YoZ9w8BQbzJP"
      },
      "execution_count": 6,
      "outputs": []
    },
    {
      "cell_type": "code",
      "source": [
        "#Separación de variables numéricas y categóricas del df original\n",
        "#Creación de dummies para variable Type\n",
        "df_nums = df.select_dtypes(exclude='object')\n",
        "df_objs = df.select_dtypes(include='object')\n",
        "df_objs = pd.get_dummies(df_objs,drop_first=False)\n",
        "final_df = pd.concat([df_nums,df_objs],axis=1)\n",
        "final_df.columns"
      ],
      "metadata": {
        "colab": {
          "base_uri": "https://localhost:8080/"
        },
        "id": "5K1WQxbtX2oI",
        "outputId": "2c8a7263-4761-4190-f36d-26549762b81f"
      },
      "execution_count": 7,
      "outputs": [
        {
          "output_type": "execute_result",
          "data": {
            "text/plain": [
              "Index(['Page total likes', 'Category', 'Post Month', 'Post Weekday',\n",
              "       'Post Hour', 'Paid', 'Lifetime Post Total Reach',\n",
              "       'Lifetime Post Total Impressions', 'Lifetime Engaged Users',\n",
              "       'Lifetime Post Consumers', 'Lifetime Post Consumptions',\n",
              "       'Lifetime Post Impressions by people who have liked your Page',\n",
              "       'Lifetime Post reach by people who like your Page', 'LPE', 'comment',\n",
              "       'like', 'share', 'Total Interactions', 'Type_Link', 'Type_Photo',\n",
              "       'Type_Status', 'Type_Video'],\n",
              "      dtype='object')"
            ]
          },
          "metadata": {},
          "execution_count": 7
        }
      ]
    },
    {
      "cell_type": "code",
      "source": [
        "#Generar df con variables finales para el modelo\n",
        "var_input=final_df[['Category', 'Page total likes', 'Type_Photo', 'Type_Status',\n",
        "       'Type_Video', 'Post Month', 'Post Hour', 'Post Weekday', 'Paid','LPE']]\n",
        "# print(df[['Category', 'Page total likes', 'Type', 'Post Month', 'Post Hour', 'Post Weekday', 'Paid']])\n"
      ],
      "metadata": {
        "id": "0ulkqXVGCy97"
      },
      "execution_count": 8,
      "outputs": []
    },
    {
      "cell_type": "code",
      "source": [
        "var_input.describe(include='all')"
      ],
      "metadata": {
        "colab": {
          "base_uri": "https://localhost:8080/",
          "height": 382
        },
        "id": "aIeXsS5eOwfP",
        "outputId": "e2f4db20-b06c-43c6-ab87-4e8b5e9d4ad3"
      },
      "execution_count": null,
      "outputs": [
        {
          "output_type": "execute_result",
          "data": {
            "text/plain": [
              "         Category  Page total likes  Type_Photo  Type_Status  Type_Video  \\\n",
              "count  500.000000        500.000000  500.000000   500.000000  500.000000   \n",
              "mean     1.880000     123194.176000    0.852000     0.090000    0.014000   \n",
              "std      0.852675      16272.813214    0.355456     0.286468    0.117608   \n",
              "min      1.000000      81370.000000    0.000000     0.000000    0.000000   \n",
              "25%      1.000000     112676.000000    1.000000     0.000000    0.000000   \n",
              "50%      2.000000     129600.000000    1.000000     0.000000    0.000000   \n",
              "75%      3.000000     136393.000000    1.000000     0.000000    0.000000   \n",
              "max      3.000000     139441.000000    1.000000     1.000000    1.000000   \n",
              "\n",
              "       Post Month   Post Hour  Post Weekday        Paid          LPE  \n",
              "count  500.000000  500.000000    500.000000  500.000000   500.000000  \n",
              "mean     7.038000    7.840000      4.150000    0.278000   609.986000  \n",
              "std      3.307936    4.368589      2.030701    0.448462   612.725618  \n",
              "min      1.000000    1.000000      1.000000    0.000000     9.000000  \n",
              "25%      4.000000    3.000000      2.000000    0.000000   291.000000  \n",
              "50%      7.000000    9.000000      4.000000    0.000000   412.000000  \n",
              "75%     10.000000   11.000000      6.000000    1.000000   656.250000  \n",
              "max     12.000000   23.000000      7.000000    1.000000  4376.000000  "
            ],
            "text/html": [
              "\n",
              "  <div id=\"df-f10ed479-374c-42f2-baa0-83a6687a90e3\">\n",
              "    <div class=\"colab-df-container\">\n",
              "      <div>\n",
              "<style scoped>\n",
              "    .dataframe tbody tr th:only-of-type {\n",
              "        vertical-align: middle;\n",
              "    }\n",
              "\n",
              "    .dataframe tbody tr th {\n",
              "        vertical-align: top;\n",
              "    }\n",
              "\n",
              "    .dataframe thead th {\n",
              "        text-align: right;\n",
              "    }\n",
              "</style>\n",
              "<table border=\"1\" class=\"dataframe\">\n",
              "  <thead>\n",
              "    <tr style=\"text-align: right;\">\n",
              "      <th></th>\n",
              "      <th>Category</th>\n",
              "      <th>Page total likes</th>\n",
              "      <th>Type_Photo</th>\n",
              "      <th>Type_Status</th>\n",
              "      <th>Type_Video</th>\n",
              "      <th>Post Month</th>\n",
              "      <th>Post Hour</th>\n",
              "      <th>Post Weekday</th>\n",
              "      <th>Paid</th>\n",
              "      <th>LPE</th>\n",
              "    </tr>\n",
              "  </thead>\n",
              "  <tbody>\n",
              "    <tr>\n",
              "      <th>count</th>\n",
              "      <td>500.000000</td>\n",
              "      <td>500.000000</td>\n",
              "      <td>500.000000</td>\n",
              "      <td>500.000000</td>\n",
              "      <td>500.000000</td>\n",
              "      <td>500.000000</td>\n",
              "      <td>500.000000</td>\n",
              "      <td>500.000000</td>\n",
              "      <td>500.000000</td>\n",
              "      <td>500.000000</td>\n",
              "    </tr>\n",
              "    <tr>\n",
              "      <th>mean</th>\n",
              "      <td>1.880000</td>\n",
              "      <td>123194.176000</td>\n",
              "      <td>0.852000</td>\n",
              "      <td>0.090000</td>\n",
              "      <td>0.014000</td>\n",
              "      <td>7.038000</td>\n",
              "      <td>7.840000</td>\n",
              "      <td>4.150000</td>\n",
              "      <td>0.278000</td>\n",
              "      <td>609.986000</td>\n",
              "    </tr>\n",
              "    <tr>\n",
              "      <th>std</th>\n",
              "      <td>0.852675</td>\n",
              "      <td>16272.813214</td>\n",
              "      <td>0.355456</td>\n",
              "      <td>0.286468</td>\n",
              "      <td>0.117608</td>\n",
              "      <td>3.307936</td>\n",
              "      <td>4.368589</td>\n",
              "      <td>2.030701</td>\n",
              "      <td>0.448462</td>\n",
              "      <td>612.725618</td>\n",
              "    </tr>\n",
              "    <tr>\n",
              "      <th>min</th>\n",
              "      <td>1.000000</td>\n",
              "      <td>81370.000000</td>\n",
              "      <td>0.000000</td>\n",
              "      <td>0.000000</td>\n",
              "      <td>0.000000</td>\n",
              "      <td>1.000000</td>\n",
              "      <td>1.000000</td>\n",
              "      <td>1.000000</td>\n",
              "      <td>0.000000</td>\n",
              "      <td>9.000000</td>\n",
              "    </tr>\n",
              "    <tr>\n",
              "      <th>25%</th>\n",
              "      <td>1.000000</td>\n",
              "      <td>112676.000000</td>\n",
              "      <td>1.000000</td>\n",
              "      <td>0.000000</td>\n",
              "      <td>0.000000</td>\n",
              "      <td>4.000000</td>\n",
              "      <td>3.000000</td>\n",
              "      <td>2.000000</td>\n",
              "      <td>0.000000</td>\n",
              "      <td>291.000000</td>\n",
              "    </tr>\n",
              "    <tr>\n",
              "      <th>50%</th>\n",
              "      <td>2.000000</td>\n",
              "      <td>129600.000000</td>\n",
              "      <td>1.000000</td>\n",
              "      <td>0.000000</td>\n",
              "      <td>0.000000</td>\n",
              "      <td>7.000000</td>\n",
              "      <td>9.000000</td>\n",
              "      <td>4.000000</td>\n",
              "      <td>0.000000</td>\n",
              "      <td>412.000000</td>\n",
              "    </tr>\n",
              "    <tr>\n",
              "      <th>75%</th>\n",
              "      <td>3.000000</td>\n",
              "      <td>136393.000000</td>\n",
              "      <td>1.000000</td>\n",
              "      <td>0.000000</td>\n",
              "      <td>0.000000</td>\n",
              "      <td>10.000000</td>\n",
              "      <td>11.000000</td>\n",
              "      <td>6.000000</td>\n",
              "      <td>1.000000</td>\n",
              "      <td>656.250000</td>\n",
              "    </tr>\n",
              "    <tr>\n",
              "      <th>max</th>\n",
              "      <td>3.000000</td>\n",
              "      <td>139441.000000</td>\n",
              "      <td>1.000000</td>\n",
              "      <td>1.000000</td>\n",
              "      <td>1.000000</td>\n",
              "      <td>12.000000</td>\n",
              "      <td>23.000000</td>\n",
              "      <td>7.000000</td>\n",
              "      <td>1.000000</td>\n",
              "      <td>4376.000000</td>\n",
              "    </tr>\n",
              "  </tbody>\n",
              "</table>\n",
              "</div>\n",
              "      <button class=\"colab-df-convert\" onclick=\"convertToInteractive('df-f10ed479-374c-42f2-baa0-83a6687a90e3')\"\n",
              "              title=\"Convert this dataframe to an interactive table.\"\n",
              "              style=\"display:none;\">\n",
              "        \n",
              "  <svg xmlns=\"http://www.w3.org/2000/svg\" height=\"24px\"viewBox=\"0 0 24 24\"\n",
              "       width=\"24px\">\n",
              "    <path d=\"M0 0h24v24H0V0z\" fill=\"none\"/>\n",
              "    <path d=\"M18.56 5.44l.94 2.06.94-2.06 2.06-.94-2.06-.94-.94-2.06-.94 2.06-2.06.94zm-11 1L8.5 8.5l.94-2.06 2.06-.94-2.06-.94L8.5 2.5l-.94 2.06-2.06.94zm10 10l.94 2.06.94-2.06 2.06-.94-2.06-.94-.94-2.06-.94 2.06-2.06.94z\"/><path d=\"M17.41 7.96l-1.37-1.37c-.4-.4-.92-.59-1.43-.59-.52 0-1.04.2-1.43.59L10.3 9.45l-7.72 7.72c-.78.78-.78 2.05 0 2.83L4 21.41c.39.39.9.59 1.41.59.51 0 1.02-.2 1.41-.59l7.78-7.78 2.81-2.81c.8-.78.8-2.07 0-2.86zM5.41 20L4 18.59l7.72-7.72 1.47 1.35L5.41 20z\"/>\n",
              "  </svg>\n",
              "      </button>\n",
              "      \n",
              "  <style>\n",
              "    .colab-df-container {\n",
              "      display:flex;\n",
              "      flex-wrap:wrap;\n",
              "      gap: 12px;\n",
              "    }\n",
              "\n",
              "    .colab-df-convert {\n",
              "      background-color: #E8F0FE;\n",
              "      border: none;\n",
              "      border-radius: 50%;\n",
              "      cursor: pointer;\n",
              "      display: none;\n",
              "      fill: #1967D2;\n",
              "      height: 32px;\n",
              "      padding: 0 0 0 0;\n",
              "      width: 32px;\n",
              "    }\n",
              "\n",
              "    .colab-df-convert:hover {\n",
              "      background-color: #E2EBFA;\n",
              "      box-shadow: 0px 1px 2px rgba(60, 64, 67, 0.3), 0px 1px 3px 1px rgba(60, 64, 67, 0.15);\n",
              "      fill: #174EA6;\n",
              "    }\n",
              "\n",
              "    [theme=dark] .colab-df-convert {\n",
              "      background-color: #3B4455;\n",
              "      fill: #D2E3FC;\n",
              "    }\n",
              "\n",
              "    [theme=dark] .colab-df-convert:hover {\n",
              "      background-color: #434B5C;\n",
              "      box-shadow: 0px 1px 3px 1px rgba(0, 0, 0, 0.15);\n",
              "      filter: drop-shadow(0px 1px 2px rgba(0, 0, 0, 0.3));\n",
              "      fill: #FFFFFF;\n",
              "    }\n",
              "  </style>\n",
              "\n",
              "      <script>\n",
              "        const buttonEl =\n",
              "          document.querySelector('#df-f10ed479-374c-42f2-baa0-83a6687a90e3 button.colab-df-convert');\n",
              "        buttonEl.style.display =\n",
              "          google.colab.kernel.accessAllowed ? 'block' : 'none';\n",
              "\n",
              "        async function convertToInteractive(key) {\n",
              "          const element = document.querySelector('#df-f10ed479-374c-42f2-baa0-83a6687a90e3');\n",
              "          const dataTable =\n",
              "            await google.colab.kernel.invokeFunction('convertToInteractive',\n",
              "                                                     [key], {});\n",
              "          if (!dataTable) return;\n",
              "\n",
              "          const docLinkHtml = 'Like what you see? Visit the ' +\n",
              "            '<a target=\"_blank\" href=https://colab.research.google.com/notebooks/data_table.ipynb>data table notebook</a>'\n",
              "            + ' to learn more about interactive tables.';\n",
              "          element.innerHTML = '';\n",
              "          dataTable['output_type'] = 'display_data';\n",
              "          await google.colab.output.renderOutput(dataTable, element);\n",
              "          const docLink = document.createElement('div');\n",
              "          docLink.innerHTML = docLinkHtml;\n",
              "          element.appendChild(docLink);\n",
              "        }\n",
              "      </script>\n",
              "    </div>\n",
              "  </div>\n",
              "  "
            ]
          },
          "metadata": {},
          "execution_count": 6
        }
      ]
    },
    {
      "cell_type": "code",
      "source": [
        "# Definimos los atributos de entrada como 'X' y a la variable de salida como 'Y'\n",
        "# Para este ejercicio deberás considerar únicamente los siguientes tres casos como variable de salida: \n",
        "# “Lifetime post consumers”, “Lifetime People who have liked a Page and engaged with a post” y “Likes”.\n",
        "\n",
        "X = var_input.drop('LPE',axis=1)\n",
        "y = var_input['LPE']\n",
        "\n",
        "#Variables de salida de la Tabla 2, los autores consideran varios casos para la variable de salida\n",
        "# Y=df['Lifetime post total reach','Lifetime post total impressions','Lifetime engaged users','Lifetime post consumers',\n",
        "#      'Lifetime post consumotions','Lifetime post impressions by people who have liked a page','Lifetime post reach by people who like a page'\n",
        "#      'Lifetime people who have liked a page and engaged with a post','Comments','Likes','Shares','Total interactions']"
      ],
      "metadata": {
        "id": "gOJhhc8dZ1UP"
      },
      "execution_count": 9,
      "outputs": []
    },
    {
      "cell_type": "markdown",
      "source": [
        "#**Ejercicio-2.**\n",
        "\n",
        "Realiza una partición de los datos con 100 datos de Prueba y el resto para entrenamiento y validación."
      ],
      "metadata": {
        "id": "xZhr2hkECzVv"
      }
    },
    {
      "cell_type": "code",
      "source": [
        "#Partición de datos, test_size=100*100/500= 20%\n",
        "X_train, X_test, y_train, y_test = train_test_split(X, np.log(y), test_size=.20)\n"
      ],
      "metadata": {
        "id": "GOydw5OGC1MJ"
      },
      "execution_count": 10,
      "outputs": []
    },
    {
      "cell_type": "markdown",
      "source": [
        "#**Ejercicio-3.**\n",
        "Definirás tus propias funciones de errores para este problema de regresión. Los errores que utilizarás son la raíz cuadrada del error cuadrático medio RMSE, el error absoluto medio MAE y el error porcentual absoluto medio MAPE."
      ],
      "metadata": {
        "id": "NCunuooTC2W3"
      }
    },
    {
      "cell_type": "code",
      "source": [
        "#Definiendo función RMSE\n",
        "def mi_RMSE(y_val,yhatVal):\n",
        "  return np.mean(np.sqrt(np.abs(y_val-yhatVal)))\n",
        "#Definiendo función MAE\n",
        "def mi_MAE(y_val,yhatVal):\n",
        "  return np.mean(np.abs(y_val-yhatVal))\n",
        "#Definiendo función MAPE\n",
        "def mi_MAPE(y_val,yhatVal):\n",
        "  return np.mean(np.abs((y_val-yhatVal)/y_val))*100"
      ],
      "metadata": {
        "id": "YXlcSWA-C4Dj"
      },
      "execution_count": 11,
      "outputs": []
    },
    {
      "cell_type": "markdown",
      "source": [
        "#**Ejercicio-4.**\n",
        "En la página de la UCI, así como en el artículo de los autores previamente citado encuentras información en relación al significado de cada variable. Haz una análisis de tus datos y lleva a cabo las transformaciones que consideres adecuadas tanto en los datos de entrada, como en las de salida.\n",
        "Utiliza un Pipeline para evitar el filtrado de información.\n"
      ],
      "metadata": {
        "id": "chqk9jIDC5Pq"
      }
    },
    {
      "cell_type": "code",
      "source": [
        "# Transformaciones a factores numéricos de entrada:\n",
        "num_pipe = Pipeline(steps = [('impMediana', SimpleImputer(strategy='median')),\n",
        "                                 ('escalaNum', MinMaxScaler(feature_range=(1,2)))])   \n",
        "num_pipe_nombres = [ 'Page total likes']\n",
        "\n",
        "# Transformaciones a factores categóricos de entrada:\n",
        "catImp_pipe = Pipeline(steps = [('impModa', SimpleImputer(strategy='most_frequent'))])  \n",
        "catImp_pipe_nombres = ['Category', 'Type_Photo', 'Type_Status',\n",
        "       'Type_Video', 'Post Month', 'Post Hour', 'Post Weekday','Paid']\n",
        "\n",
        "catOHE_pipe = Pipeline(steps = [('OneHotE', OneHotEncoder(drop='first',handle_unknown='ignore'))])\n",
        "catOHE_pipe_nombres = ['Type_Photo', 'Type_Status',\n",
        "       'Type_Video','Paid']\n",
        "\n",
        "# Conjuntamos las transformaciones numéricas y categóricas que se estarán aplicando a los datos de entrada:\n",
        "columnasTransformer = ColumnTransformer(transformers = [('numpipe', num_pipe, num_pipe_nombres),\n",
        "                                                        ('catimp', catImp_pipe, catImp_pipe_nombres),\n",
        "                                                        ('catohe', catOHE_pipe, catOHE_pipe_nombres)],\n",
        "                                        remainder='passthrough')"
      ],
      "metadata": {
        "id": "C-08lIAiBDlr"
      },
      "execution_count": 12,
      "outputs": []
    },
    {
      "cell_type": "markdown",
      "source": [
        "#**Ejercicio-5.**\n",
        "Utiliza la función Dummy para modelos de regresión de scikit-learn con el conjunto que tienes de datos de entrenamiento y validación. Para ello particiónalos en 100 para validación y 300 para entrenamiento. Encuentra los errores RMSE, MAE y MAPE para los conjuntos de entrenamiento y validación. \n",
        "\n",
        "Estos serán tus errores máximos que deberás tomar como referencia en el resto de la actividad. Consulta su documentación correspondiente: https://scikit-learn.org/stable/modules/generated/sklearn.dummy.DummyRegressor.html"
      ],
      "metadata": {
        "id": "Rv7KFq-mC7PS"
      }
    },
    {
      "cell_type": "code",
      "source": [
        "mean_absolute_error(y_val,yhat)"
      ],
      "metadata": {
        "id": "FBAVC-E2YxKi",
        "outputId": "b44a649f-bfc9-4418-d8c8-3a6125e21c3e",
        "colab": {
          "base_uri": "https://localhost:8080/"
        }
      },
      "execution_count": 15,
      "outputs": [
        {
          "output_type": "execute_result",
          "data": {
            "text/plain": [
              "0.6627506921086684"
            ]
          },
          "metadata": {},
          "execution_count": 15
        }
      ]
    },
    {
      "cell_type": "code",
      "source": [
        "#Partición de datos, test_size=100*100/400= 25%\n",
        "Xtrain, X_val, ytrain, y_val = train_test_split(X_train, y_train, test_size=.25,random_state=101)"
      ],
      "metadata": {
        "id": "jaDj3kawC9B6"
      },
      "execution_count": 13,
      "outputs": []
    },
    {
      "cell_type": "code",
      "source": [
        "from sklearn.dummy import DummyRegressor\n",
        "\n",
        "modeloDummy = DummyRegressor(strategy=\"mean\")\n",
        "\n",
        "XtrainFit_d = columnasTransformer.fit(Xtrain)   \n",
        "XtrainTransf_d = XtrainFit_d.transform(Xtrain) \n",
        "\n",
        "modeloDummy=modeloDummy.fit(XtrainTransf_d, ytrain)\n",
        "\n",
        "XvalTransf_d = XtrainFit_d.transform(X_val)\n",
        "yhat = modeloDummy.predict(XvalTransf_d)\n",
        "\n",
        "#modeloDummy.score(X_train,y_train)\n",
        "\n",
        "print('Valor de RMSE a superar: %.4f' % np.mean(mi_RMSE(y_val,yhat)))\n",
        "print(\"Valor del MAE a superar: %.4f\" % np.mean(mi_MAE(y_val,yhat)))\n",
        "print(\"Valor del MAPE a superar: %.4f\" % np.mean(mi_MAPE(y_val,yhat)))"
      ],
      "metadata": {
        "id": "4tQxQROVC9Us",
        "colab": {
          "base_uri": "https://localhost:8080/"
        },
        "outputId": "51a3a81b-bfbf-4e28-aa9b-eaabd1eeb81a"
      },
      "execution_count": 14,
      "outputs": [
        {
          "output_type": "stream",
          "name": "stdout",
          "text": [
            "Valor de RMSE a superar: 0.7310\n",
            "Valor del MAE a superar: 0.6628\n",
            "Valor del MAPE a superar: 11.3638\n"
          ]
        }
      ]
    },
    {
      "cell_type": "markdown",
      "source": [
        "#**Ejercicio-6.**\n",
        "Usando los modelos de regresión lineal múltiple, el bosque aleatorio y el perceptrón multicapa con sus valores predeterminados, lleva a cabo su entrenamiento con repeticiones de validación cruzada (RepeatedKFold) y desplegando los errores RMSE, MAE y MAPE. Recuerda evitar el filtrado de\n",
        "información usando los datos que obtuviste en el ejercicio 2. Incluye las conclusiones sobre el mejor modelo encontrado en esta primera aproximación. En particular ¿hay alguno sobreentrenado o subentrenado? NOTA: Recuerda que puedes aumentar en dado caso el número máximo de iteraciones para que todos los modelos converjan."
      ],
      "metadata": {
        "id": "W2S7LI0NC9wE"
      }
    },
    {
      "cell_type": "code",
      "source": [
        "from pandas.core.common import random_state\n",
        "def get_models():\n",
        "  modelos = list()\n",
        "  nombres = list()\n",
        "\n",
        "  # LR - Regresión Lineal Multiiple:\n",
        "  modelos.append(LinearRegression())\n",
        "  nombres.append('LLM')\n",
        "\n",
        "  # DT - Bosque Aleatorio:\n",
        "  modelos.append(RandomForestRegressor())\n",
        "  nombres.append('RF')\n",
        "  \n",
        "  # MLP - Red Neuronal Artificial / Perceptrón Lineal Multicapa:  \n",
        "  # modelos.append(MLPClassifier( max_iter=3000))\n",
        "  # nombres.append('MLP')\n",
        "  modelos.append(MLPRegressor(max_iter=3000))\n",
        "  nombres.append('MLP')\n",
        "  \n",
        "  return modelos, nombres"
      ],
      "metadata": {
        "id": "x6uBleJUC_AU"
      },
      "execution_count": 16,
      "outputs": []
    },
    {
      "cell_type": "code",
      "source": [
        "modelos, nombres = get_models()\n",
        "Resultados_met=list()\n",
        "for i in range(len(modelos)):  # para realizar entrenamiento en forma conjunta\n",
        "    pipeline = Pipeline(steps=[('Col_Trans',columnasTransformer),('Modelo',modelos[i])])\n",
        "    Kfold = RepeatedKFold(n_splits=5, n_repeats=3,random_state=101)\n",
        "\n",
        "    #Definimos las métricas a utilizar\n",
        "    Metricas = {'mi_rmse':make_scorer(mi_RMSE), 'mi_mae':make_scorer(mi_MAE), 'mi_mape':make_scorer(mi_MAPE)}\n",
        "\n",
        "    #Ejecutamos la validación ceruzada\n",
        "    CVMetricas = cross_validate(pipeline,\n",
        "                          X_train, y_train,\n",
        "                          scoring=Metricas,\n",
        "                          cv=Kfold,\n",
        "                          return_train_score=True)\n",
        "    Resultados_met.append(CVMetricas)\n",
        "\n",
        "    print(\"Métricas para set de test:\")\n",
        "    print('Modelo %s:\\nMean(mi_RMSE): %.3f (%.4f)\\n Mean(mi_mae): %.3f (%.4f)\\n Mean(mi_mape): %.3f (%.4f)\\n' % (nombres[i],\n",
        "                                                                          np.mean(CVMetricas['test_mi_rmse']),\n",
        "                                                                          np.std(CVMetricas['test_mi_rmse']),\n",
        "                                                                          np.mean(CVMetricas['test_mi_mae']),\n",
        "                                                                          np.std(CVMetricas['test_mi_mae']),\n",
        "                                                                          np.mean(CVMetricas['test_mi_mape']),\n",
        "                                                                          np.std(CVMetricas['test_mi_mape'])\n",
        "                                                                          ))\n",
        "    print(\"Métricas para set de train:\")\n",
        "    print('Modelo %s:\\nMean(mi_RMSE): %.3f (%.4f)\\nMean(mi_mae): %.3f (%.4f)\\nMean(mi_mape): %.3f (%.4f)\\n' % (nombres[i],\n",
        "                                                                          np.mean(CVMetricas['train_mi_rmse']),\n",
        "                                                                          np.std(CVMetricas['train_mi_rmse']),\n",
        "                                                                          np.mean(CVMetricas['train_mi_mae']),\n",
        "                                                                          np.std(CVMetricas['train_mi_mae']),\n",
        "                                                                          np.mean(CVMetricas['train_mi_mape']),\n",
        "                                                                          np.std(CVMetricas['train_mi_mape'])\n",
        "                                                                          ),\"\\n\\n\")"
      ],
      "metadata": {
        "id": "vLUVUrYRtT1-",
        "outputId": "ce6c72d1-caca-4b92-8014-e925a5bec239",
        "colab": {
          "base_uri": "https://localhost:8080/"
        }
      },
      "execution_count": 19,
      "outputs": [
        {
          "output_type": "stream",
          "name": "stdout",
          "text": [
            "Métricas para set de test:\n",
            "Modelo LLM:\n",
            "Mean(mi_RMSE): 0.594 (0.0349)\n",
            " Mean(mi_mae): 0.446 (0.0578)\n",
            " Mean(mi_mape): 7.847 (1.3287)\n",
            "\n",
            "Métricas para set de train:\n",
            "Modelo LLM:\n",
            "Mean(mi_RMSE): 0.583 (0.0079)\n",
            "Mean(mi_mae): 0.430 (0.0139)\n",
            "Mean(mi_mape): 7.559 (0.3194)\n",
            " \n",
            "\n",
            "\n",
            "Métricas para set de test:\n",
            "Modelo RF:\n",
            "Mean(mi_RMSE): 0.618 (0.0312)\n",
            " Mean(mi_mae): 0.478 (0.0538)\n",
            " Mean(mi_mape): 8.331 (1.2524)\n",
            "\n",
            "Métricas para set de train:\n",
            "Modelo RF:\n",
            "Mean(mi_RMSE): 0.378 (0.0087)\n",
            "Mean(mi_mae): 0.180 (0.0088)\n",
            "Mean(mi_mape): 3.139 (0.1877)\n",
            " \n",
            "\n",
            "\n",
            "Métricas para set de test:\n",
            "Modelo MLP:\n",
            "Mean(mi_RMSE): 0.609 (0.0292)\n",
            " Mean(mi_mae): 0.467 (0.0512)\n",
            " Mean(mi_mape): 8.184 (1.1518)\n",
            "\n",
            "Métricas para set de train:\n",
            "Modelo MLP:\n",
            "Mean(mi_RMSE): 0.565 (0.0088)\n",
            "Mean(mi_mae): 0.396 (0.0138)\n",
            "Mean(mi_mape): 6.935 (0.2935)\n",
            " \n",
            "\n",
            "\n"
          ]
        }
      ]
    },
    {
      "cell_type": "markdown",
      "source": [
        "#**Ejercicio-7.**\n",
        "Obtener los diagramas de caja y bigote para los errores MAPE de los conjuntos de validación obtenidos. En particular compara estos primeros resultados de MAPE con el mejor resultado que encuentran los autores del artículo citado al inicio. Incluye tus conclusiones."
      ],
      "metadata": {
        "id": "iCNGx4TQ8CFI"
      }
    },
    {
      "cell_type": "code",
      "source": [
        "sns.set(rc={'figure.figsize':(8,4)})\n",
        "\n",
        "#Capturamos solo los errores calculados anteriormente para la métrica MAPE\n",
        "MAPE_Res = list()\n",
        "for i in range(len(Resultados_met)):\n",
        "  MAPE_Res.append(Resultados_met[i]['test_mi_mape'])\n",
        "\n",
        "#Imprimimos el boxplot del MAPE para cada modelo\n",
        "plt.boxplot(MAPE_Res,labels=nombres, showmeans=True)\n",
        "plt.show()"
      ],
      "metadata": {
        "id": "ewvwUcJX78y1",
        "colab": {
          "base_uri": "https://localhost:8080/",
          "height": 268
        },
        "outputId": "e3607ffa-3db9-4ea2-fadb-9b24b458fa05"
      },
      "execution_count": 20,
      "outputs": [
        {
          "output_type": "display_data",
          "data": {
            "text/plain": [
              "<Figure size 576x288 with 1 Axes>"
            ],
            "image/png": "[encoded data removed]"
          },
          "metadata": {}
        }
      ]
    },
    {
      "cell_type": "markdown",
      "source": [
        "\n",
        "---\n",
        "✍ **Conclusiones:**\n",
        "\n",
        "\n",
        "---\n",
        "\n",
        "\n"
      ],
      "metadata": {
        "id": "qKmAiIyvx7MD"
      }
    },
    {
      "cell_type": "markdown",
      "source": [
        "#**Ejercicio-8.**\n",
        "\n",
        "Usando una búsqueda de malla con validación cruzada (GridSearchCV), busca los mejores hiperparámetros para el modelo MLP. Al menos deberás realizar la búsqueda en los hiperparámetros “hidden_layer_sizes”, “alpha” y “learning_rate_init”. Además aplica la validación cruzada con repeticiones (RepeatedKFold). Muestra los mejores hiperparámetros encontrados."
      ],
      "metadata": {
        "id": "tzQn5NR78GFg"
      }
    },
    {
      "cell_type": "code",
      "source": [
        "mlpreg=MLPRegressor(max_iter=3000)\n",
        "X_ttran=columnasTransformer.fit_transform(X_train)\n",
        "\n",
        "hidden_layer_sizes=[(100,),(50,100,50),(50,50,50)]\n",
        "learning_rate_init=np.linspace(0.001, 1, 10)\n",
        "alpha=[0.0001, 0.05, 0.1,20]\n",
        "activation= ['relu','tanh','logistic']\n",
        "\n",
        "Param_Grid = {\"hidden_layer_sizes\":hidden_layer_sizes,'activation':activation,\n",
        "             \"alpha\":alpha, \"learning_rate_init\":learning_rate_init}\n",
        "\n",
        "\n",
        "Grid_MLP = GridSearchCV(\n",
        "        estimator=mlpreg, cv=Kfold,\n",
        "        param_grid=Param_Grid, scoring='neg_mean_absolute_error', n_jobs=-1)\n",
        "\n",
        "Grid_MLP.fit(X_ttran,y_train)\n",
        "\n",
        " #Imprimimos resultados\n",
        "print(\"Utilizando la métrica\", Grid_MLP.scoring, \"la mejor puntuación obtenida es:\", Grid_MLP.best_score_)\n",
        "print(\"Los mejores hiperparámetros encontrados son:\", Grid_MLP.best_params_)"
      ],
      "metadata": {
        "id": "B8UAQlQ9zFVZ",
        "outputId": "e1142f14-0896-4450-bf84-3717a8e673b3",
        "colab": {
          "base_uri": "https://localhost:8080/"
        }
      },
      "execution_count": 19,
      "outputs": [
        {
          "output_type": "stream",
          "name": "stdout",
          "text": [
            "Utilizando la métrica neg_mean_absolute_error la mejor puntuación obtenida es: -0.49679631181016587\n",
            "Los mejores hiperparámetros encontrados son: {'activation': 'tanh', 'alpha': 0.05, 'hidden_layer_sizes': (100,), 'learning_rate_init': 0.001}\n"
          ]
        }
      ]
    },
    {
      "cell_type": "markdown",
      "source": [
        "#**Ejercicio-9.**\n",
        "Con los mejores valores de los hiperparámetros encontrados realiza un análisis de la importancia de los factores. Muestra un diagrama de barras de los resultados e incluye tus conclusiones."
      ],
      "metadata": {
        "id": "mASNrZWs8JTh"
      }
    },
    {
      "cell_type": "markdown",
      "source": [],
      "metadata": {
        "id": "8O8c_m9FD4WU"
      }
    },
    {
      "cell_type": "code",
      "source": [
        "X_test_fit=columnasTransformer.fit(X_test)\n",
        "X_test_tran=X_train_fit.transform(X_test)\n",
        "Mejor_ModeloMLP.fit(X_test_tran,y_test)\n"
      ],
      "metadata": {
        "id": "R3I1azqzeIBr",
        "outputId": "2198e837-966f-4b91-a955-4c7bb304bf33",
        "colab": {
          "base_uri": "https://localhost:8080/"
        }
      },
      "execution_count": 35,
      "outputs": [
        {
          "output_type": "execute_result",
          "data": {
            "text/plain": [
              "MLPRegressor(activation='tanh', alpha=0.05, max_iter=8000)"
            ]
          },
          "metadata": {},
          "execution_count": 35
        }
      ]
    },
    {
      "cell_type": "code",
      "source": [
        "mlp_pred=Mejor_ModeloMLP.predict(X_test_tran)\n",
        "mean_absolute_error(y_test,mlp_pred)"
      ],
      "metadata": {
        "id": "ZE6S0aKszm7k",
        "outputId": "0999567a-1df7-43a3-ea73-8dd5ca039bb0",
        "colab": {
          "base_uri": "https://localhost:8080/"
        }
      },
      "execution_count": 37,
      "outputs": [
        {
          "output_type": "execute_result",
          "data": {
            "text/plain": [
              "0.8457589832887468"
            ]
          },
          "metadata": {},
          "execution_count": 37
        }
      ]
    },
    {
      "cell_type": "code",
      "source": [
        "mi_MAE(y_test,mlp_pred)"
      ],
      "metadata": {
        "id": "tTSAtVxN0VxL",
        "outputId": "b4a02f43-3fd8-459d-89fe-e0e6c6f58b9e",
        "colab": {
          "base_uri": "https://localhost:8080/"
        }
      },
      "execution_count": 38,
      "outputs": [
        {
          "output_type": "execute_result",
          "data": {
            "text/plain": [
              "0.8457589832887468"
            ]
          },
          "metadata": {},
          "execution_count": 38
        }
      ]
    },
    {
      "cell_type": "code",
      "source": [
        "#Creamos el mejor modelo MLP con los datos arrojados en el grid con la búsqueda cruzada\n",
        "Mejor_ModeloMLP = MLPRegressor(hidden_layer_sizes=(100,),\n",
        "                            max_iter=8000,\n",
        "                            alpha=0.05,\n",
        "                            activation='tanh',\n",
        "                            learning_rate_init=0.001)\n",
        "\n",
        "X_train_fit = columnasTransformer.fit(X_train)\n",
        "X_train_fit_transf = X_train_fit.transform(X_train)\n",
        "Mejor_ModeloMLP.fit(X_train_fit_transf, y_train)\n",
        "\n",
        "#Obtenemos la importancia de los atributos de acuerdo al modelo en estudio\n",
        "Importancia_Factores = permutation_importance(Mejor_ModeloMLP, X_train_fit_transf, y_train, n_repeats=10)\n",
        "\n",
        "#Imprimimos los valores de importancia para los atributos\n",
        "print(Importancia_Factores)"
      ],
      "metadata": {
        "id": "EeSFmWCH6b37",
        "outputId": "33cb35aa-93ec-4a4a-e66d-4a028fe59fa6",
        "colab": {
          "base_uri": "https://localhost:8080/"
        }
      },
      "execution_count": 21,
      "outputs": [
        {
          "output_type": "stream",
          "name": "stdout",
          "text": [
            "{'importances_mean': array([0.01259752, 0.00968478, 0.08770712, 0.22354408, 0.01596798,\n",
            "       0.26856544, 0.05722453, 0.03933306, 0.01069138, 0.03257247,\n",
            "       0.25541895, 0.0111758 , 0.01543049]), 'importances_std': array([0.00519716, 0.00243203, 0.01333294, 0.02577857, 0.00586035,\n",
            "       0.02859054, 0.01740693, 0.01219481, 0.00239724, 0.00721529,\n",
            "       0.02781416, 0.00484579, 0.00646124]), 'importances': array([[0.01304581, 0.00947646, 0.01932656, 0.01762286, 0.01627118,\n",
            "        0.00785052, 0.0149752 , 0.00802679, 0.00226881, 0.01711104],\n",
            "       [0.0111299 , 0.00545343, 0.00884592, 0.00685934, 0.01239128,\n",
            "        0.00958024, 0.01362356, 0.00856227, 0.00849425, 0.01190758],\n",
            "       [0.10894538, 0.07122912, 0.08866557, 0.08148292, 0.08513401,\n",
            "        0.10310308, 0.07062501, 0.09812751, 0.07154902, 0.09820955],\n",
            "       [0.18558755, 0.24237592, 0.24186528, 0.21216175, 0.21228884,\n",
            "        0.19061357, 0.20325976, 0.22631898, 0.26404368, 0.25692543],\n",
            "       [0.0115267 , 0.01148823, 0.01823779, 0.02636683, 0.02350542,\n",
            "        0.00552701, 0.01994024, 0.01395568, 0.01394561, 0.01518626],\n",
            "       [0.24160433, 0.30951087, 0.25060654, 0.228427  , 0.24473365,\n",
            "        0.25739785, 0.26348054, 0.28965001, 0.31859414, 0.28164943],\n",
            "       [0.0677183 , 0.04268068, 0.05910635, 0.06060677, 0.06561636,\n",
            "        0.04779417, 0.04325357, 0.03144068, 0.05590996, 0.09811845],\n",
            "       [0.05951578, 0.03391704, 0.0422577 , 0.04068202, 0.06358388,\n",
            "        0.03083369, 0.03399089, 0.03073964, 0.03437616, 0.02343376],\n",
            "       [0.01219071, 0.00964579, 0.00861485, 0.01081168, 0.01311793,\n",
            "        0.00869978, 0.00637409, 0.01491381, 0.01008895, 0.0124562 ],\n",
            "       [0.04510736, 0.02284092, 0.03535893, 0.02880074, 0.03191045,\n",
            "        0.03976595, 0.02304434, 0.03573136, 0.02480449, 0.03836019],\n",
            "       [0.21399944, 0.27377597, 0.27687387, 0.24368842, 0.24220468,\n",
            "        0.22147875, 0.23311656, 0.25777852, 0.29890426, 0.29236904],\n",
            "       [0.00847802, 0.00761001, 0.01271547, 0.02008743, 0.01703453,\n",
            "        0.00252191, 0.01490698, 0.00919748, 0.00888215, 0.01032402],\n",
            "       [0.02163186, 0.0091309 , 0.01701189, 0.01230789, 0.02569795,\n",
            "        0.01582608, 0.00856465, 0.02447283, 0.00596512, 0.01369575]])}\n"
          ]
        }
      ]
    },
    {
      "cell_type": "code",
      "source": [
        "#Recorremos la lista de atributos con su importancia\n",
        "for i, j in enumerate(Importancia_Factores['importances_mean']):\n",
        "\tprint('Atributo: %0d, Puntuación: %.5f' % (i,j))\n",
        "\n",
        "#Obtenemos el valor absoluto para obtener un gráfico más legible\n",
        "sns.barplot(x=pd.Series(Importancia_Factores['importances_mean'],index=['Page total likes', 'Category', 'Type_Photo', 'Type_Status',\n",
        "                                   'Type_Video', 'Post Month', 'Post Hour',\n",
        "                                   'Post Weekday', 'Paid','Type_Photo-OH', 'Type_Status-OH', 'Type_Video-OH',\n",
        "                                   'Paid-OH']).index,y=pd.Series(Importancia_Factores['importances_mean']))\n",
        "plt.xticks(rotation=90);"
      ],
      "metadata": {
        "id": "Xr6oe1VF8K_A",
        "outputId": "aea03576-b319-4176-9c68-918ab6bd10ed",
        "colab": {
          "base_uri": "https://localhost:8080/",
          "height": 571
        }
      },
      "execution_count": 22,
      "outputs": [
        {
          "output_type": "stream",
          "name": "stdout",
          "text": [
            "Atributo: 0, Puntuación: 0.01260\n",
            "Atributo: 1, Puntuación: 0.00968\n",
            "Atributo: 2, Puntuación: 0.08771\n",
            "Atributo: 3, Puntuación: 0.22354\n",
            "Atributo: 4, Puntuación: 0.01597\n",
            "Atributo: 5, Puntuación: 0.26857\n",
            "Atributo: 6, Puntuación: 0.05722\n",
            "Atributo: 7, Puntuación: 0.03933\n",
            "Atributo: 8, Puntuación: 0.01069\n",
            "Atributo: 9, Puntuación: 0.03257\n",
            "Atributo: 10, Puntuación: 0.25542\n",
            "Atributo: 11, Puntuación: 0.01118\n",
            "Atributo: 12, Puntuación: 0.01543\n"
          ]
        },
        {
          "output_type": "display_data",
          "data": {
            "text/plain": [
              "<Figure size 576x288 with 1 Axes>"
            ],
            "image/png": "[encoded data removed]"
          },
          "metadata": {}
        }
      ]
    },
    {
      "cell_type": "markdown",
      "source": [
        "#**Ejercicio-10.**\n",
        "Repite el ejercicio 8 y 9 para el modelo de bosque aleatorio para buscar sus mejores hiperparámetros (realiza la búsqueda con aquellos hiperparámetros que consideres más adecuados) y usando el conjunto de Prueba. Y realiza igualmente el análisis de importancia de factores con este modelo con un diagrama de barras."
      ],
      "metadata": {
        "id": "VUIcDshs8MzG"
      }
    },
    {
      "cell_type": "code",
      "source": [
        "errors = []\n",
        "misclassifications = []\n",
        "X_test_tran=columnasTransformer.transform(X_test)\n",
        "for n in range(1,20):\n",
        "    rfc = RandomForestRegressor( n_estimators=35,bootstrap=True,max_depth=n)\n",
        "    rfc.fit(X_ttran,y_train)\n",
        "    preds = rfc.predict(X_test_tran)\n",
        "    rmse = np.sqrt(mean_squared_error(y_test,preds))\n",
        "    errors.append(rmse)\n",
        "   \n",
        "\n",
        "plt.plot(range(1,20),errors)"
      ],
      "metadata": {
        "colab": {
          "base_uri": "https://localhost:8080/",
          "height": 285
        },
        "id": "Uxc0K7d9oIF_",
        "outputId": "5d5c1c95-b4da-4774-dee9-ea33b42a0ed3"
      },
      "execution_count": null,
      "outputs": [
        {
          "output_type": "execute_result",
          "data": {
            "text/plain": [
              "[<matplotlib.lines.Line2D at 0x7f8957b95390>]"
            ]
          },
          "metadata": {},
          "execution_count": 65
        },
        {
          "output_type": "display_data",
          "data": {
            "text/plain": [
              "<Figure size 576x288 with 1 Axes>"
            ],
            "image/png": "[encoded data removed]"
          },
          "metadata": {}
        }
      ]
    },
    {
      "cell_type": "code",
      "source": [
        "ModeloRF= RandomForestRegressor()\n",
        "\n",
        "n_estimators=[35,36,37,38]\n",
        "criterion=[\"squared_error\", \"absolute_error\", \"poisson\"]\n",
        "max_depth=[4,5,7,8]\n",
        "bootstrap=[True,False]\n",
        "oob_score=[True,False]\n",
        "max_features=[\"auto\", \"sqrt\", \"log2\"]\n",
        "\n",
        "Param_Grid = {\"n_estimators\":n_estimators, \"criterion\":criterion, \"max_depth\":max_depth , \"bootstrap\":bootstrap,\n",
        "              \"oob_score\":oob_score,'max_features':max_features}\n",
        "\n",
        "Grid_RF = GridSearchCV(\n",
        "        estimator=ModeloRF, cv=Kfold,\n",
        "        param_grid=Param_Grid, scoring='neg_mean_absolute_error', n_jobs=-1)\n",
        "\n",
        "Grid_RF.fit(X_ttran, y_train)\n",
        "\n",
        " #Imprimimos resultados\n",
        "print(\"Utilizando la métrica\", Grid_RF.scoring, \"la mejor puntuación obtenida es:\", Grid_RF.best_score_)\n",
        "print(\"Los mejores hiperparámetros encontrados son:\", Grid_RF.best_params_)"
      ],
      "metadata": {
        "id": "0lKNJNIt8N88",
        "outputId": "8ff738f2-e0f7-40d7-d82a-b74db8c0b4e6",
        "colab": {
          "base_uri": "https://localhost:8080/"
        }
      },
      "execution_count": null,
      "outputs": [
        {
          "output_type": "stream",
          "name": "stdout",
          "text": [
            "Utilizando la métrica neg_mean_absolute_error la mejor puntuación obtenida es: -0.46341190499137946\n",
            "Los mejores hiperparámetros encontrados son: {'bootstrap': False, 'criterion': 'absolute_error', 'max_depth': 5, 'max_features': 'log2', 'n_estimators': 38, 'oob_score': False}\n"
          ]
        },
        {
          "output_type": "stream",
          "name": "stderr",
          "text": [
            "/usr/local/lib/python3.7/dist-packages/sklearn/model_selection/_validation.py:372: FitFailedWarning: \n",
            "2160 fits failed out of a total of 8640.\n",
            "The score on these train-test partitions for these parameters will be set to nan.\n",
            "If these failures are not expected, you can try to debug them by setting error_score='raise'.\n",
            "\n",
            "Below are more details about the failures:\n",
            "--------------------------------------------------------------------------------\n",
            "2160 fits failed with the following error:\n",
            "Traceback (most recent call last):\n",
            "  File \"/usr/local/lib/python3.7/dist-packages/sklearn/model_selection/_validation.py\", line 680, in _fit_and_score\n",
            "    estimator.fit(X_train, y_train, **fit_params)\n",
            "  File \"/usr/local/lib/python3.7/dist-packages/sklearn/ensemble/_forest.py\", line 411, in fit\n",
            "    raise ValueError(\"Out of bag estimation only available if bootstrap=True\")\n",
            "ValueError: Out of bag estimation only available if bootstrap=True\n",
            "\n",
            "  warnings.warn(some_fits_failed_message, FitFailedWarning)\n",
            "/usr/local/lib/python3.7/dist-packages/sklearn/model_selection/_search.py:972: UserWarning: One or more of the test scores are non-finite: [-0.48698534 -0.49005555 -0.48776738 -0.48360877 -0.48231746 -0.4869585\n",
            " -0.48892824 -0.48892336 -0.48265609 -0.48137706 -0.47923643 -0.48130265\n",
            " -0.48166221 -0.48342625 -0.48299315 -0.47978732 -0.48190943 -0.47777539\n",
            " -0.48222574 -0.48132076 -0.48177527 -0.48344626 -0.48283084 -0.48016579\n",
            " -0.49327539 -0.49464983 -0.49099886 -0.49529801 -0.49292777 -0.49508135\n",
            " -0.49150365 -0.49567766 -0.47999794 -0.47880833 -0.47904983 -0.47445427\n",
            " -0.47819486 -0.48000571 -0.48019259 -0.47982355 -0.47831522 -0.48173497\n",
            " -0.47594244 -0.4781522  -0.47886894 -0.48070755 -0.47905601 -0.47257251\n",
            " -0.50866709 -0.50799231 -0.51205987 -0.50536333 -0.50664575 -0.50504683\n",
            " -0.50783615 -0.50753013 -0.48500499 -0.48003216 -0.48865035 -0.487873\n",
            " -0.4849387  -0.48588622 -0.47902664 -0.48774177 -0.48850446 -0.48848043\n",
            " -0.48485111 -0.48579683 -0.4832422  -0.48352859 -0.48518382 -0.48265929\n",
            " -0.51521251 -0.520007   -0.51632299 -0.50979145 -0.51333349 -0.51729063\n",
            " -0.51676813 -0.51482489 -0.48685556 -0.48925617 -0.4979569  -0.49461784\n",
            " -0.4894803  -0.49074209 -0.48813657 -0.48875775 -0.48868935 -0.49172275\n",
            " -0.49131785 -0.48608118 -0.49686001 -0.49226672 -0.49142204 -0.49186795\n",
            " -0.47141287 -0.47437236 -0.47257182 -0.47762023 -0.47497673 -0.47499763\n",
            " -0.4734434  -0.47386747 -0.47261601 -0.47428712 -0.47625635 -0.47304404\n",
            " -0.47397584 -0.47282743 -0.47101949 -0.47216358 -0.47333956 -0.47417507\n",
            " -0.47462607 -0.47378557 -0.47498306 -0.47351287 -0.4734704  -0.47157917\n",
            " -0.4758344  -0.47390312 -0.47505432 -0.47778233 -0.47416512 -0.47569078\n",
            " -0.47851535 -0.47577514 -0.47241943 -0.46910255 -0.4697115  -0.4674085\n",
            " -0.47098842 -0.46355618 -0.47362989 -0.46924284 -0.46771046 -0.46807465\n",
            " -0.46928318 -0.46759998 -0.47027649 -0.4690966  -0.47105407 -0.47511224\n",
            " -0.48405039 -0.48446916 -0.48114422 -0.48354284 -0.48315273 -0.48283621\n",
            " -0.48332469 -0.49008668 -0.47642245 -0.47191462 -0.47188384 -0.47426937\n",
            " -0.47214825 -0.47289773 -0.46963887 -0.47014888 -0.47030472 -0.47368832\n",
            " -0.47159522 -0.46688835 -0.47063808 -0.4732812  -0.46894158 -0.4738249\n",
            " -0.49060436 -0.48951177 -0.49417743 -0.48783257 -0.4884894  -0.49176516\n",
            " -0.49274317 -0.49079629 -0.47741416 -0.47289477 -0.47934639 -0.47444313\n",
            " -0.47010611 -0.47875207 -0.47299276 -0.4732119  -0.47646552 -0.47430106\n",
            " -0.48018084 -0.47640564 -0.47261426 -0.47476667 -0.47463736 -0.47369596\n",
            " -0.5322969  -0.53116232 -0.53147897 -0.53252193 -0.53324289 -0.53058932\n",
            " -0.53214802 -0.53254718 -0.52602104 -0.52935593 -0.52720477 -0.52852973\n",
            " -0.52726349 -0.52750166 -0.52746041 -0.52604009 -0.52735209 -0.52699098\n",
            " -0.52527375 -0.5243825  -0.52754145 -0.52591434 -0.52732408 -0.52889562\n",
            " -0.53284117 -0.53163575 -0.53334548 -0.53512462 -0.53629632 -0.53628242\n",
            " -0.53688533 -0.53608985 -0.52439666 -0.52294195 -0.52340734 -0.52293388\n",
            " -0.52123557 -0.52223055 -0.52376952 -0.51988318 -0.52309665 -0.52329809\n",
            " -0.5215852  -0.522257   -0.52059296 -0.52310756 -0.52376063 -0.52053063\n",
            " -0.53587322 -0.53450321 -0.53696348 -0.5371904  -0.53927703 -0.5372956\n",
            " -0.53686271 -0.53880529 -0.51455641 -0.51574423 -0.51570739 -0.51657597\n",
            " -0.51677465 -0.51615393 -0.5178033  -0.51610348 -0.52008079 -0.51441938\n",
            " -0.51812348 -0.5135916  -0.5158553  -0.51576543 -0.51482901 -0.5163379\n",
            " -0.53658223 -0.53503121 -0.53524937 -0.53335002 -0.53571782 -0.53384466\n",
            " -0.53557245 -0.53579631 -0.51633581 -0.512854   -0.51276408 -0.5174571\n",
            " -0.51348492 -0.51425779 -0.51229738 -0.51410522 -0.51206464 -0.51131053\n",
            " -0.51155358 -0.51428251 -0.51310139 -0.51193026 -0.51485355 -0.51418714\n",
            "         nan -0.50005914         nan -0.50016068         nan -0.49961037\n",
            "         nan -0.49965479         nan -0.47762985         nan -0.47958835\n",
            "         nan -0.47985761         nan -0.47896972         nan -0.47820308\n",
            "         nan -0.47865665         nan -0.47818698         nan -0.47840377\n",
            "         nan -0.52043693         nan -0.52099932         nan -0.52059867\n",
            "         nan -0.52051515         nan -0.47839335         nan -0.47898805\n",
            "         nan -0.47914703         nan -0.47924603         nan -0.48032231\n",
            "         nan -0.4797398          nan -0.47997322         nan -0.48053686\n",
            "         nan -0.57711896         nan -0.57725552         nan -0.57609147\n",
            "         nan -0.57656714         nan -0.49155915         nan -0.48590729\n",
            "         nan -0.48718807         nan -0.49496104         nan -0.48770082\n",
            "         nan -0.49401194         nan -0.49217239         nan -0.491681\n",
            "         nan -0.59473888         nan -0.59540201         nan -0.59518269\n",
            "         nan -0.59725535         nan -0.50783428         nan -0.50393765\n",
            "         nan -0.5014947          nan -0.4991316          nan -0.50110181\n",
            "         nan -0.50575252         nan -0.49825037         nan -0.50311724\n",
            "         nan -0.49197156         nan -0.492353           nan -0.49158891\n",
            "         nan -0.49131155         nan -0.46646488         nan -0.46642781\n",
            "         nan -0.46907405         nan -0.46771265         nan -0.46796256\n",
            "         nan -0.46815926         nan -0.46721308         nan -0.46730088\n",
            "         nan -0.513575           nan -0.51356974         nan -0.51484698\n",
            "         nan -0.51332501         nan -0.46462035         nan -0.46889364\n",
            "         nan -0.4643524          nan -0.46501445         nan -0.46583892\n",
            "         nan -0.46546693         nan -0.46470993         nan -0.4634119\n",
            "         nan -0.55665743         nan -0.55774216         nan -0.55687304\n",
            "         nan -0.55706792         nan -0.47156194         nan -0.47118548\n",
            "         nan -0.47733369         nan -0.47488501         nan -0.47530728\n",
            "         nan -0.47313163         nan -0.47409622         nan -0.47472692\n",
            "         nan -0.57146442         nan -0.57208769         nan -0.57296523\n",
            "         nan -0.57201536         nan -0.47990389         nan -0.48093781\n",
            "         nan -0.47402035         nan -0.48055613         nan -0.47891928\n",
            "         nan -0.47888163         nan -0.47899111         nan -0.47657982\n",
            "         nan -0.54659046         nan -0.54669773         nan -0.54650539\n",
            "         nan -0.54608632         nan -0.52795669         nan -0.52709981\n",
            "         nan -0.52745144         nan -0.52776632         nan -0.52837556\n",
            "         nan -0.52967411         nan -0.52788385         nan -0.52791381\n",
            "         nan -0.55173631         nan -0.55192959         nan -0.55301192\n",
            "         nan -0.55252458         nan -0.52450845         nan -0.52111305\n",
            "         nan -0.52755849         nan -0.52414578         nan -0.52549844\n",
            "         nan -0.52774975         nan -0.52428734         nan -0.52283186\n",
            "         nan -0.553865           nan -0.55460445         nan -0.55374301\n",
            "         nan -0.55321053         nan -0.51512539         nan -0.51644925\n",
            "         nan -0.51431922         nan -0.51826848         nan -0.5175547\n",
            "         nan -0.51848931         nan -0.51538157         nan -0.51823204\n",
            "         nan -0.56334779         nan -0.56323966         nan -0.5635389\n",
            "         nan -0.56258547         nan -0.51689022         nan -0.51347586\n",
            "         nan -0.51247166         nan -0.51202787         nan -0.51668873\n",
            "         nan -0.51930947         nan -0.51784911         nan -0.51452613]\n",
            "  category=UserWarning,\n"
          ]
        }
      ]
    },
    {
      "cell_type": "code",
      "source": [
        "#Creamos el mejor modelo MLP con los datos arrojados en el grid con la búsqueda cruzada\n",
        "Mejor_ModeloRF = RandomForestRegressor(n_estimators=38, criterion='absolute_error', max_depth=5, max_features='log2', bootstrap=False)\n",
        "\n",
        "X_train_fit = columnasTransformer.fit(X_train)\n",
        "X_train_fit_transf = X_train_fit.transform(X_train)\n",
        "Mejor_ModeloRF.fit(X_train_fit_transf, y_train)\n",
        "\n",
        "#Obtenemos la importancia de los atributos de acuerdo al modelo en estudio\n",
        "Importancia_Factores_RF = permutation_importance(Mejor_ModeloRF, X_train_fit_transf, y_train, n_repeats=300)\n",
        "\n",
        "#Imprimimos los valores de importancia para los atributos\n",
        "print(Importancia_Factores_RF)"
      ],
      "metadata": {
        "id": "Inkq5YQe8PED",
        "outputId": "2dbe4a0a-ceef-48f1-e98e-006136bc3186",
        "colab": {
          "base_uri": "https://localhost:8080/"
        }
      },
      "execution_count": 23,
      "outputs": [
        {
          "output_type": "stream",
          "name": "stdout",
          "text": [
            "{'importances_mean': array([0.09748569, 0.05204223, 0.0419673 , 0.12743187, 0.01222556,\n",
            "       0.07421636, 0.03955069, 0.04729441, 0.02235566, 0.08301543,\n",
            "       0.0969569 , 0.01288689, 0.01664295]), 'importances_std': array([0.01269448, 0.01322559, 0.00943564, 0.01441543, 0.00236687,\n",
            "       0.00953413, 0.00613326, 0.00780692, 0.00537712, 0.01389483,\n",
            "       0.01310976, 0.0030105 , 0.00450618]), 'importances': array([[0.07096085, 0.11846622, 0.09396498, ..., 0.12152142, 0.0959416 ,\n",
            "        0.09693593],\n",
            "       [0.04789745, 0.05915851, 0.06604829, ..., 0.05795885, 0.05779284,\n",
            "        0.0313283 ],\n",
            "       [0.04281166, 0.03455212, 0.04252649, ..., 0.04496103, 0.04099638,\n",
            "        0.03788611],\n",
            "       ...,\n",
            "       [0.09087883, 0.11070437, 0.09285274, ..., 0.10346988, 0.11081066,\n",
            "        0.09044047],\n",
            "       [0.015769  , 0.01286952, 0.01350887, ..., 0.01347789, 0.01323902,\n",
            "        0.01316327],\n",
            "       [0.01317828, 0.01310762, 0.02574458, ..., 0.01943848, 0.01877179,\n",
            "        0.02121156]])}\n"
          ]
        }
      ]
    },
    {
      "cell_type": "code",
      "source": [
        "#Recorremos la lista de atributos con su importancia\n",
        "for i, j in enumerate(Importancia_Factores_RF['importances_mean']):\n",
        " \tprint('Atributo: %0d, Puntuación: %.5f' % (i,j))\n",
        "\n",
        "#Obtenemos el valor absoluto para obtener un gráfico más legible\n",
        "sns.barplot(x=pd.Series(Importancia_Factores_RF['importances_mean'],index=['Page total likes', 'Category', 'Type_Photo', 'Type_Status',\n",
        "                                   'Type_Video', 'Post Month', 'Post Hour',\n",
        "                                   'Post Weekday', 'Paid','Type_Photo-OH', 'Type_Status-OH', 'Type_Video-OH',\n",
        "                                   'Paid-OH']).index,y=pd.Series(Importancia_Factores_RF['importances_mean']))\n",
        "plt.xticks(rotation=90);"
      ],
      "metadata": {
        "id": "DVD56TT6bTxw",
        "outputId": "0b8e96bc-8f56-4847-89c9-322d52af50ea",
        "colab": {
          "base_uri": "https://localhost:8080/",
          "height": 560
        }
      },
      "execution_count": 24,
      "outputs": [
        {
          "output_type": "stream",
          "name": "stdout",
          "text": [
            "Atributo: 0, Puntuación: 0.09749\n",
            "Atributo: 1, Puntuación: 0.05204\n",
            "Atributo: 2, Puntuación: 0.04197\n",
            "Atributo: 3, Puntuación: 0.12743\n",
            "Atributo: 4, Puntuación: 0.01223\n",
            "Atributo: 5, Puntuación: 0.07422\n",
            "Atributo: 6, Puntuación: 0.03955\n",
            "Atributo: 7, Puntuación: 0.04729\n",
            "Atributo: 8, Puntuación: 0.02236\n",
            "Atributo: 9, Puntuación: 0.08302\n",
            "Atributo: 10, Puntuación: 0.09696\n",
            "Atributo: 11, Puntuación: 0.01289\n",
            "Atributo: 12, Puntuación: 0.01664\n"
          ]
        },
        {
          "output_type": "display_data",
          "data": {
            "text/plain": [
              "<Figure size 432x288 with 1 Axes>"
            ],
            "image/png": "[encoded data removed]"
          },
          "metadata": {
            "needs_background": "light"
          }
        }
      ]
    },
    {
      "cell_type": "markdown",
      "source": [
        "#**Ejercicio-11.**\n",
        "Repite el ejercicio 8 y 9 para el modelo de regresión lineal múltiple para buscar sus mejores hiperparámetros (realiza la búsqueda con aquellos hiperparámetros que consideres más adecuados) y usando el conjunto de Prueba. Y realiza igualmente el análisis de importancia de factores con este modelo con un diagrama de barras."
      ],
      "metadata": {
        "id": "5LJl6oql8Pc8"
      }
    },
    {
      "cell_type": "code",
      "source": [
        "ModeloLMM=  ElasticNet()\n",
        "\n",
        "alpha= [0.1,1,5,10,50,100]\n",
        "l1_ratio= [.1, .5, .7, .9, .95, .99, 1]\n",
        "selection=['cyclic', 'random']\n",
        "\n",
        "Param_Grid_LMM = {'alpha':alpha, \"l1_ratio\": l1_ratio,'selection':selection}\n",
        "\n",
        "Grid_LMM = GridSearchCV(\n",
        "        estimator=ModeloLMM, cv=Kfold, param_grid=Param_Grid_LMM,\n",
        "        scoring='neg_mean_absolute_error', n_jobs=-1)\n",
        "\n",
        "Grid_LMM.fit(X_ttran, y_train)\n",
        "\n",
        " #Imprimimos resultados\n",
        "print(\"Utilizando la métrica\", Grid_LMM.scoring, \"la mejor puntuación obtenida es:\", Grid_LMM.best_score_)\n",
        "print(\"Los mejores hiperparámetros encontrados son:\", Grid_LMM.best_params_)"
      ],
      "metadata": {
        "id": "-YiSnt9t8RfN",
        "outputId": "87030bb9-4bc0-4121-eb99-ab8332d6792c",
        "colab": {
          "base_uri": "https://localhost:8080/"
        }
      },
      "execution_count": null,
      "outputs": [
        {
          "output_type": "stream",
          "name": "stdout",
          "text": [
            "Utilizando la métrica neg_mean_absolute_error la mejor puntuación obtenida es: -0.5322412766297638\n",
            "Los mejores hiperparámetros encontrados son: {'alpha': 0.1, 'l1_ratio': 0.1, 'selection': 'cyclic'}\n"
          ]
        }
      ]
    },
    {
      "cell_type": "code",
      "source": [
        "#Creamos el mejor modelo LMM con los datos arrojados en el grid con la búsqueda cruzada\n",
        "Mejor_ModeloLMM = ElasticNet(alpha=0.1,l1_ratio=0.1,selection='cyclic')\n",
        "\n",
        "X_train_fit = columnasTransformer.fit(X_train)\n",
        "X_train_fit_transf = X_train_fit.transform(X_train)\n",
        "Mejor_ModeloLMM.fit(X_train_fit_transf, y_train)\n",
        "\n",
        "#Obtenemos la importancia de los atributos de acuerdo al modelo en estudio\n",
        "Importancia_Factores_LMM = permutation_importance(Mejor_ModeloLMM, X_train_fit_transf, y_train, n_repeats=300)\n",
        "\n",
        "#Imprimimos los valores de importancia para los atributos\n",
        "print(Importancia_Factores_LMM)"
      ],
      "metadata": {
        "id": "2iRA78ZC8Rbm",
        "outputId": "0c565178-dd9b-4a01-cffa-89ba8441eccc",
        "colab": {
          "base_uri": "https://localhost:8080/"
        }
      },
      "execution_count": null,
      "outputs": [
        {
          "output_type": "stream",
          "name": "stdout",
          "text": [
            "{'importances_mean': array([0.00099078, 0.00614075, 0.00082054, 0.07257467, 0.00122019,\n",
            "       0.06833925, 0.0026067 , 0.00329205, 0.00099937, 0.00081891,\n",
            "       0.07257115, 0.00122006, 0.00099926]), 'importances_std': array([0.00070319, 0.0037461 , 0.00082565, 0.01123368, 0.00046173,\n",
            "       0.01657837, 0.00305391, 0.00311792, 0.00110091, 0.00082427,\n",
            "       0.01123328, 0.00046168, 0.00110082]), 'importances': array([[ 2.20679972e-03,  1.11919367e-03,  8.34666296e-04, ...,\n",
            "        -1.14157808e-04, -3.40200908e-05,  8.47487347e-04],\n",
            "       [-1.53011529e-03,  1.20838229e-03,  8.12300346e-03, ...,\n",
            "         1.25448837e-02,  6.03500827e-03,  9.06474659e-03],\n",
            "       [ 6.97880057e-04,  2.73616595e-05, -6.68438644e-05, ...,\n",
            "         4.27223468e-04,  1.81490142e-03,  2.30853566e-04],\n",
            "       ...,\n",
            "       [ 7.08536128e-02,  7.53869979e-02,  6.70149815e-02, ...,\n",
            "         8.28189656e-02,  8.26130906e-02,  7.18649577e-02],\n",
            "       [ 1.16173673e-03,  1.08143352e-03,  5.29921601e-04, ...,\n",
            "         6.63114869e-04,  1.37008556e-03,  1.41953110e-03],\n",
            "       [ 1.07734688e-03,  1.35444339e-03,  3.50411179e-05, ...,\n",
            "         3.05702171e-04,  1.07050270e-03,  2.46206819e-04]])}\n"
          ]
        }
      ]
    },
    {
      "cell_type": "code",
      "source": [
        "#Recorremos la lista de atributos con su importancia\n",
        "for i, j in enumerate(Importancia_Factores_LMM['importances_mean']):\n",
        "\tprint('Atributo: %0d, Puntuación: %.5f' % (i,j))\n",
        "\n",
        "#Obtenemos el valor absoluto para obtener un gráfico más legible\n",
        "sns.barplot(x=pd.Series(Importancia_Factores_LMM['importances_mean'],index=['Page total likes', 'Category', 'Type_Photo', 'Type_Status',\n",
        "                                   'Type_Video', 'Post Month', 'Post Hour',\n",
        "                                   'Post Weekday', 'Paid','Type_Photo-OH', 'Type_Status-OH', 'Type_Video-OH',\n",
        "                                   'Paid-OH']).index,y=pd.Series(Importancia_Factores_LMM['importances_mean']))\n",
        "plt.xticks(rotation=90);"
      ],
      "metadata": {
        "id": "b341bkaWbcQY",
        "outputId": "8c52f049-6c93-4aaa-a471-8a50d637b11f",
        "colab": {
          "base_uri": "https://localhost:8080/",
          "height": 345
        }
      },
      "execution_count": null,
      "outputs": [
        {
          "output_type": "display_data",
          "data": {
            "text/plain": [
              "<Figure size 576x288 with 1 Axes>"
            ],
            "image/png": "[encoded data removed]"
          },
          "metadata": {}
        }
      ]
    },
    {
      "cell_type": "markdown",
      "source": [
        "#**Ejercicio-12.**\n",
        "Compara tus resultados con los obtenidos por los autores del artículo de Moro-Rita-Vala con respecto a MAPE. Incluye tus conclusiones finales de la actividad.\n"
      ],
      "metadata": {
        "id": "IKW72uyk8Sbc"
      }
    },
    {
      "cell_type": "code",
      "source": [
        "None"
      ],
      "metadata": {
        "id": "gwpz77W38Uq0"
      },
      "execution_count": null,
      "outputs": []
    },
    {
      "cell_type": "code",
      "source": [],
      "metadata": {
        "id": "8v8HL02W8UmW"
      },
      "execution_count": null,
      "outputs": []
    },
    {
      "cell_type": "markdown",
      "source": [
        "###**Fin de la Actividad de la semana 7.**"
      ],
      "metadata": {
        "id": "7ql_r2G-DB_m"
      }
    }
  ]
}
