{
  "nbformat": 4,
  "nbformat_minor": 0,
  "metadata": {
    "colab": {
      "provenance": [],
      "collapsed_sections": [],
      "include_colab_link": true
    },
    "kernelspec": {
      "display_name": "Python 3",
      "name": "python3"
    }
  },
  "cells": [
    {
      "cell_type": "markdown",
      "metadata": {
        "id": "view-in-github",
        "colab_type": "text"
      },
      "source": [
        "<a href=\"https://colab.research.google.com/github/A01793509/Equipo38/blob/main/Arboldedecision_Equipo38f.ipynb\" target=\"_parent\"><img src=\"https://colab.research.google.com/assets/colab-badge.svg\" alt=\"Open In Colab\"/></a>"
      ]
    },
    {
      "cell_type": "markdown",
      "source": [
        "#**Maestría en Inteligencia Artificial Aplicada**\n",
        "##**Curso: Inteligencia Artificial y Aprendizaje Automático**\n",
        "###Tecnológico de Monterrey\n",
        "###Prof Luis Eduardo Falcón Morales\n",
        "\n",
        "## **Adtividad de la Semana 6**\n",
        "###**Árboles de decisión y bosque aleatorio.**\n"
      ],
      "metadata": {
        "id": "VFj0sSM06dYa"
      }
    },
    {
      "cell_type": "markdown",
      "source": [
        "**Nombres y matrículas de los integrantes del equipo:**\n",
        "\n",
        "*   Alberto Jose Garcia Porras (A01793509)\n",
        "*   Carlos Julio León Caicedo (A01793947)\n",
        "*   Luis Fernando Ríos Piedra (A00453954)\n",
        "*   Marco Antonio Vázquez Morales (A01793704)\n",
        "\n"
      ],
      "metadata": {
        "id": "Qgrvy0RGB9XI"
      }
    },
    {
      "cell_type": "markdown",
      "source": [
        "En cada sección deberás incluir todas las líneas de código necesarias para responder a cada uno de los ejercicios."
      ],
      "metadata": {
        "id": "FrJ2ahMODVj1"
      }
    },
    {
      "cell_type": "code",
      "source": [
        "# Incluye aquí todos módulos, librerías y paquetes que requieras.\n",
        "import pandas as pd\n",
        "import numpy as np\n",
        "import matplotlib.pyplot as plt\n",
        "import requests, zipfile\n",
        "import seaborn as sns\n",
        "\n",
        "from sklearn.model_selection import train_test_split\n",
        "from sklearn.impute import SimpleImputer\n",
        "from sklearn.pipeline import Pipeline\n",
        "from sklearn.preprocessing import MinMaxScaler\n",
        "from sklearn.compose import ColumnTransformer\n",
        "from sklearn.linear_model import LogisticRegression\n",
        "from sklearn.metrics import confusion_matrix\n",
        "from sklearn.metrics import make_scorer,classification_report\n",
        "from imblearn.metrics import geometric_mean_score, classification_report_imbalanced\n",
        "from sklearn.model_selection import cross_validate\n",
        "from sklearn.model_selection import learning_curve\n",
        "from sklearn.ensemble import RandomForestClassifier\n",
        "from sklearn.tree import DecisionTreeClassifier\n",
        "from sklearn.model_selection import RepeatedStratifiedKFold\n",
        "from sklearn.model_selection import GridSearchCV\n",
        "from sklearn.model_selection import validation_curve\n",
        "from sklearn.preprocessing import FunctionTransformer\n",
        "from sklearn.preprocessing import OneHotEncoder\n",
        "from sklearn.preprocessing import StandardScaler\n",
        "from io import BytesIO\n",
        "\n",
        "from imblearn.under_sampling import TomekLinks\n",
        "from imblearn.under_sampling import EditedNearestNeighbours\n",
        "\n",
        "from imblearn.over_sampling import SMOTE\n",
        "from imblearn.pipeline import Pipeline\n",
        "\n",
        "from imblearn.combine import SMOTEENN\n",
        "from imblearn.combine import SMOTETomek\n",
        "from imblearn.over_sampling import RandomOverSampler\n",
        "from imblearn.under_sampling import RandomUnderSampler\n",
        "from imblearn.pipeline import make_pipeline\n",
        "from imblearn.pipeline import make_pipeline as make_pipeline_with_sampler\n",
        "from imblearn.ensemble import BalancedRandomForestClassifier"
      ],
      "metadata": {
        "id": "exXsscs-Dh-2"
      },
      "execution_count": 2,
      "outputs": []
    },
    {
      "cell_type": "markdown",
      "source": [
        "#**Contexto del problema y el conjunto de datos a utilizar**\n",
        "\n",
        "Al asignar un crédito sabemos que conlleva un riesgo para el prestamista en caso de que el deudor no pague al final la cantidad asignada, o inclusive el equivocarnos al negarle el préstamo a alguien que sí era confiable.\n",
        "\n",
        "Con base a datos históricos, el objetivo es predecir si una persona es clasificada como confiable a la asignación de un crédito, o no lo es.\n",
        "\n",
        "Para ello se utilizará el conjunto de datos crediticios del sur de Alemania, el cual contiene 1000 registros y 21 columnas o atributos que serán utilizados en los siguientes ejercicios a continuación **para predecir si una persona es confiable o no para la asignación de un crédito**."
      ],
      "metadata": {
        "id": "NsxbvR-ZxPp7"
      }
    },
    {
      "cell_type": "markdown",
      "metadata": {
        "id": "X25brD-gQdZM"
      },
      "source": [
        "#**Ejercicio-1.** \n",
        "\n",
        "Se cargan los datos del **[conjunto de datos crediticios del sur de Alemania](https://archive.ics.uci.edu/ml/machine-learning-databases/00522/SouthGermanCredit.zip)** y se sustituyen los nombres de las columnas del idioma Alemán a Inglés de acuerdo a como se indica en la página de la UCI."
      ]
    },
    {
      "cell_type": "code",
      "source": [
        "#Lectura del archivo desde la fuente UCI original\n",
        "path = 'https://archive.ics.uci.edu/ml/machine-learning-databases/00522/SouthGermanCredit.zip'\n",
        "\n",
        "\n",
        "base_datos = path.split('/')[-1]\n",
        "\n",
        "req_path = requests.get(path)\n",
        "\n",
        "\n",
        "archivo_uci= zipfile.ZipFile(BytesIO(req_path.content))\n",
        "archivo_uci.extractall('/content/sample_data/SouthGermanCredit')\n",
        "df = pd.read_csv(\"/content/sample_data/SouthGermanCredit/SouthGermanCredit.asc\",sep=' ')\n",
        "\n",
        "df.head()"
      ],
      "metadata": {
        "id": "3nU2GuWYCy6C",
        "colab": {
          "base_uri": "https://localhost:8080/",
          "height": 236
        },
        "outputId": "07c5187c-7f07-48e0-f55d-d86dba6ed6ba"
      },
      "execution_count": 3,
      "outputs": [
        {
          "output_type": "execute_result",
          "data": {
            "text/plain": [
              "   laufkont  laufzeit  moral  verw  hoehe  sparkont  beszeit  rate  famges  \\\n",
              "0         1        18      4     2   1049         1        2     4       2   \n",
              "1         1         9      4     0   2799         1        3     2       3   \n",
              "2         2        12      2     9    841         2        4     2       2   \n",
              "3         1        12      4     0   2122         1        3     3       3   \n",
              "4         1        12      4     0   2171         1        3     4       3   \n",
              "\n",
              "   buerge  ...  verm  alter  weitkred  wohn  bishkred  beruf  pers  telef  \\\n",
              "0       1  ...     2     21         3     1         1      3     2      1   \n",
              "1       1  ...     1     36         3     1         2      3     1      1   \n",
              "2       1  ...     1     23         3     1         1      2     2      1   \n",
              "3       1  ...     1     39         3     1         2      2     1      1   \n",
              "4       1  ...     2     38         1     2         2      2     2      1   \n",
              "\n",
              "   gastarb  kredit  \n",
              "0        2       1  \n",
              "1        2       1  \n",
              "2        2       1  \n",
              "3        1       1  \n",
              "4        1       1  \n",
              "\n",
              "[5 rows x 21 columns]"
            ],
            "text/html": [
              "\n",
              "  <div id=\"df-ce61ebfb-9b0c-4f45-ab92-1188e770c82c\">\n",
              "    <div class=\"colab-df-container\">\n",
              "      <div>\n",
              "<style scoped>\n",
              "    .dataframe tbody tr th:only-of-type {\n",
              "        vertical-align: middle;\n",
              "    }\n",
              "\n",
              "    .dataframe tbody tr th {\n",
              "        vertical-align: top;\n",
              "    }\n",
              "\n",
              "    .dataframe thead th {\n",
              "        text-align: right;\n",
              "    }\n",
              "</style>\n",
              "<table border=\"1\" class=\"dataframe\">\n",
              "  <thead>\n",
              "    <tr style=\"text-align: right;\">\n",
              "      <th></th>\n",
              "      <th>laufkont</th>\n",
              "      <th>laufzeit</th>\n",
              "      <th>moral</th>\n",
              "      <th>verw</th>\n",
              "      <th>hoehe</th>\n",
              "      <th>sparkont</th>\n",
              "      <th>beszeit</th>\n",
              "      <th>rate</th>\n",
              "      <th>famges</th>\n",
              "      <th>buerge</th>\n",
              "      <th>...</th>\n",
              "      <th>verm</th>\n",
              "      <th>alter</th>\n",
              "      <th>weitkred</th>\n",
              "      <th>wohn</th>\n",
              "      <th>bishkred</th>\n",
              "      <th>beruf</th>\n",
              "      <th>pers</th>\n",
              "      <th>telef</th>\n",
              "      <th>gastarb</th>\n",
              "      <th>kredit</th>\n",
              "    </tr>\n",
              "  </thead>\n",
              "  <tbody>\n",
              "    <tr>\n",
              "      <th>0</th>\n",
              "      <td>1</td>\n",
              "      <td>18</td>\n",
              "      <td>4</td>\n",
              "      <td>2</td>\n",
              "      <td>1049</td>\n",
              "      <td>1</td>\n",
              "      <td>2</td>\n",
              "      <td>4</td>\n",
              "      <td>2</td>\n",
              "      <td>1</td>\n",
              "      <td>...</td>\n",
              "      <td>2</td>\n",
              "      <td>21</td>\n",
              "      <td>3</td>\n",
              "      <td>1</td>\n",
              "      <td>1</td>\n",
              "      <td>3</td>\n",
              "      <td>2</td>\n",
              "      <td>1</td>\n",
              "      <td>2</td>\n",
              "      <td>1</td>\n",
              "    </tr>\n",
              "    <tr>\n",
              "      <th>1</th>\n",
              "      <td>1</td>\n",
              "      <td>9</td>\n",
              "      <td>4</td>\n",
              "      <td>0</td>\n",
              "      <td>2799</td>\n",
              "      <td>1</td>\n",
              "      <td>3</td>\n",
              "      <td>2</td>\n",
              "      <td>3</td>\n",
              "      <td>1</td>\n",
              "      <td>...</td>\n",
              "      <td>1</td>\n",
              "      <td>36</td>\n",
              "      <td>3</td>\n",
              "      <td>1</td>\n",
              "      <td>2</td>\n",
              "      <td>3</td>\n",
              "      <td>1</td>\n",
              "      <td>1</td>\n",
              "      <td>2</td>\n",
              "      <td>1</td>\n",
              "    </tr>\n",
              "    <tr>\n",
              "      <th>2</th>\n",
              "      <td>2</td>\n",
              "      <td>12</td>\n",
              "      <td>2</td>\n",
              "      <td>9</td>\n",
              "      <td>841</td>\n",
              "      <td>2</td>\n",
              "      <td>4</td>\n",
              "      <td>2</td>\n",
              "      <td>2</td>\n",
              "      <td>1</td>\n",
              "      <td>...</td>\n",
              "      <td>1</td>\n",
              "      <td>23</td>\n",
              "      <td>3</td>\n",
              "      <td>1</td>\n",
              "      <td>1</td>\n",
              "      <td>2</td>\n",
              "      <td>2</td>\n",
              "      <td>1</td>\n",
              "      <td>2</td>\n",
              "      <td>1</td>\n",
              "    </tr>\n",
              "    <tr>\n",
              "      <th>3</th>\n",
              "      <td>1</td>\n",
              "      <td>12</td>\n",
              "      <td>4</td>\n",
              "      <td>0</td>\n",
              "      <td>2122</td>\n",
              "      <td>1</td>\n",
              "      <td>3</td>\n",
              "      <td>3</td>\n",
              "      <td>3</td>\n",
              "      <td>1</td>\n",
              "      <td>...</td>\n",
              "      <td>1</td>\n",
              "      <td>39</td>\n",
              "      <td>3</td>\n",
              "      <td>1</td>\n",
              "      <td>2</td>\n",
              "      <td>2</td>\n",
              "      <td>1</td>\n",
              "      <td>1</td>\n",
              "      <td>1</td>\n",
              "      <td>1</td>\n",
              "    </tr>\n",
              "    <tr>\n",
              "      <th>4</th>\n",
              "      <td>1</td>\n",
              "      <td>12</td>\n",
              "      <td>4</td>\n",
              "      <td>0</td>\n",
              "      <td>2171</td>\n",
              "      <td>1</td>\n",
              "      <td>3</td>\n",
              "      <td>4</td>\n",
              "      <td>3</td>\n",
              "      <td>1</td>\n",
              "      <td>...</td>\n",
              "      <td>2</td>\n",
              "      <td>38</td>\n",
              "      <td>1</td>\n",
              "      <td>2</td>\n",
              "      <td>2</td>\n",
              "      <td>2</td>\n",
              "      <td>2</td>\n",
              "      <td>1</td>\n",
              "      <td>1</td>\n",
              "      <td>1</td>\n",
              "    </tr>\n",
              "  </tbody>\n",
              "</table>\n",
              "<p>5 rows × 21 columns</p>\n",
              "</div>\n",
              "      <button class=\"colab-df-convert\" onclick=\"convertToInteractive('df-ce61ebfb-9b0c-4f45-ab92-1188e770c82c')\"\n",
              "              title=\"Convert this dataframe to an interactive table.\"\n",
              "              style=\"display:none;\">\n",
              "        \n",
              "  <svg xmlns=\"http://www.w3.org/2000/svg\" height=\"24px\"viewBox=\"0 0 24 24\"\n",
              "       width=\"24px\">\n",
              "    <path d=\"M0 0h24v24H0V0z\" fill=\"none\"/>\n",
              "    <path d=\"M18.56 5.44l.94 2.06.94-2.06 2.06-.94-2.06-.94-.94-2.06-.94 2.06-2.06.94zm-11 1L8.5 8.5l.94-2.06 2.06-.94-2.06-.94L8.5 2.5l-.94 2.06-2.06.94zm10 10l.94 2.06.94-2.06 2.06-.94-2.06-.94-.94-2.06-.94 2.06-2.06.94z\"/><path d=\"M17.41 7.96l-1.37-1.37c-.4-.4-.92-.59-1.43-.59-.52 0-1.04.2-1.43.59L10.3 9.45l-7.72 7.72c-.78.78-.78 2.05 0 2.83L4 21.41c.39.39.9.59 1.41.59.51 0 1.02-.2 1.41-.59l7.78-7.78 2.81-2.81c.8-.78.8-2.07 0-2.86zM5.41 20L4 18.59l7.72-7.72 1.47 1.35L5.41 20z\"/>\n",
              "  </svg>\n",
              "      </button>\n",
              "      \n",
              "  <style>\n",
              "    .colab-df-container {\n",
              "      display:flex;\n",
              "      flex-wrap:wrap;\n",
              "      gap: 12px;\n",
              "    }\n",
              "\n",
              "    .colab-df-convert {\n",
              "      background-color: #E8F0FE;\n",
              "      border: none;\n",
              "      border-radius: 50%;\n",
              "      cursor: pointer;\n",
              "      display: none;\n",
              "      fill: #1967D2;\n",
              "      height: 32px;\n",
              "      padding: 0 0 0 0;\n",
              "      width: 32px;\n",
              "    }\n",
              "\n",
              "    .colab-df-convert:hover {\n",
              "      background-color: #E2EBFA;\n",
              "      box-shadow: 0px 1px 2px rgba(60, 64, 67, 0.3), 0px 1px 3px 1px rgba(60, 64, 67, 0.15);\n",
              "      fill: #174EA6;\n",
              "    }\n",
              "\n",
              "    [theme=dark] .colab-df-convert {\n",
              "      background-color: #3B4455;\n",
              "      fill: #D2E3FC;\n",
              "    }\n",
              "\n",
              "    [theme=dark] .colab-df-convert:hover {\n",
              "      background-color: #434B5C;\n",
              "      box-shadow: 0px 1px 3px 1px rgba(0, 0, 0, 0.15);\n",
              "      filter: drop-shadow(0px 1px 2px rgba(0, 0, 0, 0.3));\n",
              "      fill: #FFFFFF;\n",
              "    }\n",
              "  </style>\n",
              "\n",
              "      <script>\n",
              "        const buttonEl =\n",
              "          document.querySelector('#df-ce61ebfb-9b0c-4f45-ab92-1188e770c82c button.colab-df-convert');\n",
              "        buttonEl.style.display =\n",
              "          google.colab.kernel.accessAllowed ? 'block' : 'none';\n",
              "\n",
              "        async function convertToInteractive(key) {\n",
              "          const element = document.querySelector('#df-ce61ebfb-9b0c-4f45-ab92-1188e770c82c');\n",
              "          const dataTable =\n",
              "            await google.colab.kernel.invokeFunction('convertToInteractive',\n",
              "                                                     [key], {});\n",
              "          if (!dataTable) return;\n",
              "\n",
              "          const docLinkHtml = 'Like what you see? Visit the ' +\n",
              "            '<a target=\"_blank\" href=https://colab.research.google.com/notebooks/data_table.ipynb>data table notebook</a>'\n",
              "            + ' to learn more about interactive tables.';\n",
              "          element.innerHTML = '';\n",
              "          dataTable['output_type'] = 'display_data';\n",
              "          await google.colab.output.renderOutput(dataTable, element);\n",
              "          const docLink = document.createElement('div');\n",
              "          docLink.innerHTML = docLinkHtml;\n",
              "          element.appendChild(docLink);\n",
              "        }\n",
              "      </script>\n",
              "    </div>\n",
              "  </div>\n",
              "  "
            ]
          },
          "metadata": {},
          "execution_count": 3
        }
      ]
    },
    {
      "cell_type": "code",
      "source": [
        "#Una vez cargados los datos en nuestro dataframe, procedemos a cambiar el nombre de las columnas realizando la traducción respectiva de acuerdo a lo indicado \n",
        "#en la descripción del dataset. En este caso asignaremos a la lista 'cols_ingles' el nombre que queremos darle a cada columna en el respectivo orden.\n",
        "cols_ingles = [\"status\", \"duration\", \"credit_history\", \"purpose\", \"amount\", \"savings\", \"employment_duration\", \"installment_rate\", \"personal_status_sex\", \n",
        "               \"other_debtors\", \"present_residence\", \"property\", \"age\", \"other_installment_plans\", \"housing\", \"number_credits\", \"job\", \"people_liable\", \n",
        "               \"telephone\", \"foreign_worker\", \"credit_risk\"]\n",
        "\n",
        "\n",
        "#Renombramos las columnas asignando la lista con los nombres a la propiedad columns del dataframe\n",
        "df.columns=cols_ingles\n",
        "\n",
        "\n",
        "df.head()"
      ],
      "metadata": {
        "colab": {
          "base_uri": "https://localhost:8080/",
          "height": 236
        },
        "id": "VE9CEZ3F2Esj",
        "outputId": "f0cc7a63-16e8-40d5-c5a7-681260b5a2f7"
      },
      "execution_count": 4,
      "outputs": [
        {
          "output_type": "execute_result",
          "data": {
            "text/plain": [
              "   status  duration  credit_history  purpose  amount  savings  \\\n",
              "0       1        18               4        2    1049        1   \n",
              "1       1         9               4        0    2799        1   \n",
              "2       2        12               2        9     841        2   \n",
              "3       1        12               4        0    2122        1   \n",
              "4       1        12               4        0    2171        1   \n",
              "\n",
              "   employment_duration  installment_rate  personal_status_sex  other_debtors  \\\n",
              "0                    2                 4                    2              1   \n",
              "1                    3                 2                    3              1   \n",
              "2                    4                 2                    2              1   \n",
              "3                    3                 3                    3              1   \n",
              "4                    3                 4                    3              1   \n",
              "\n",
              "   ...  property  age  other_installment_plans  housing  number_credits  job  \\\n",
              "0  ...         2   21                        3        1               1    3   \n",
              "1  ...         1   36                        3        1               2    3   \n",
              "2  ...         1   23                        3        1               1    2   \n",
              "3  ...         1   39                        3        1               2    2   \n",
              "4  ...         2   38                        1        2               2    2   \n",
              "\n",
              "   people_liable  telephone  foreign_worker  credit_risk  \n",
              "0              2          1               2            1  \n",
              "1              1          1               2            1  \n",
              "2              2          1               2            1  \n",
              "3              1          1               1            1  \n",
              "4              2          1               1            1  \n",
              "\n",
              "[5 rows x 21 columns]"
            ],
            "text/html": [
              "\n",
              "  <div id=\"df-8f7046ea-e807-411d-9410-48b56a546806\">\n",
              "    <div class=\"colab-df-container\">\n",
              "      <div>\n",
              "<style scoped>\n",
              "    .dataframe tbody tr th:only-of-type {\n",
              "        vertical-align: middle;\n",
              "    }\n",
              "\n",
              "    .dataframe tbody tr th {\n",
              "        vertical-align: top;\n",
              "    }\n",
              "\n",
              "    .dataframe thead th {\n",
              "        text-align: right;\n",
              "    }\n",
              "</style>\n",
              "<table border=\"1\" class=\"dataframe\">\n",
              "  <thead>\n",
              "    <tr style=\"text-align: right;\">\n",
              "      <th></th>\n",
              "      <th>status</th>\n",
              "      <th>duration</th>\n",
              "      <th>credit_history</th>\n",
              "      <th>purpose</th>\n",
              "      <th>amount</th>\n",
              "      <th>savings</th>\n",
              "      <th>employment_duration</th>\n",
              "      <th>installment_rate</th>\n",
              "      <th>personal_status_sex</th>\n",
              "      <th>other_debtors</th>\n",
              "      <th>...</th>\n",
              "      <th>property</th>\n",
              "      <th>age</th>\n",
              "      <th>other_installment_plans</th>\n",
              "      <th>housing</th>\n",
              "      <th>number_credits</th>\n",
              "      <th>job</th>\n",
              "      <th>people_liable</th>\n",
              "      <th>telephone</th>\n",
              "      <th>foreign_worker</th>\n",
              "      <th>credit_risk</th>\n",
              "    </tr>\n",
              "  </thead>\n",
              "  <tbody>\n",
              "    <tr>\n",
              "      <th>0</th>\n",
              "      <td>1</td>\n",
              "      <td>18</td>\n",
              "      <td>4</td>\n",
              "      <td>2</td>\n",
              "      <td>1049</td>\n",
              "      <td>1</td>\n",
              "      <td>2</td>\n",
              "      <td>4</td>\n",
              "      <td>2</td>\n",
              "      <td>1</td>\n",
              "      <td>...</td>\n",
              "      <td>2</td>\n",
              "      <td>21</td>\n",
              "      <td>3</td>\n",
              "      <td>1</td>\n",
              "      <td>1</td>\n",
              "      <td>3</td>\n",
              "      <td>2</td>\n",
              "      <td>1</td>\n",
              "      <td>2</td>\n",
              "      <td>1</td>\n",
              "    </tr>\n",
              "    <tr>\n",
              "      <th>1</th>\n",
              "      <td>1</td>\n",
              "      <td>9</td>\n",
              "      <td>4</td>\n",
              "      <td>0</td>\n",
              "      <td>2799</td>\n",
              "      <td>1</td>\n",
              "      <td>3</td>\n",
              "      <td>2</td>\n",
              "      <td>3</td>\n",
              "      <td>1</td>\n",
              "      <td>...</td>\n",
              "      <td>1</td>\n",
              "      <td>36</td>\n",
              "      <td>3</td>\n",
              "      <td>1</td>\n",
              "      <td>2</td>\n",
              "      <td>3</td>\n",
              "      <td>1</td>\n",
              "      <td>1</td>\n",
              "      <td>2</td>\n",
              "      <td>1</td>\n",
              "    </tr>\n",
              "    <tr>\n",
              "      <th>2</th>\n",
              "      <td>2</td>\n",
              "      <td>12</td>\n",
              "      <td>2</td>\n",
              "      <td>9</td>\n",
              "      <td>841</td>\n",
              "      <td>2</td>\n",
              "      <td>4</td>\n",
              "      <td>2</td>\n",
              "      <td>2</td>\n",
              "      <td>1</td>\n",
              "      <td>...</td>\n",
              "      <td>1</td>\n",
              "      <td>23</td>\n",
              "      <td>3</td>\n",
              "      <td>1</td>\n",
              "      <td>1</td>\n",
              "      <td>2</td>\n",
              "      <td>2</td>\n",
              "      <td>1</td>\n",
              "      <td>2</td>\n",
              "      <td>1</td>\n",
              "    </tr>\n",
              "    <tr>\n",
              "      <th>3</th>\n",
              "      <td>1</td>\n",
              "      <td>12</td>\n",
              "      <td>4</td>\n",
              "      <td>0</td>\n",
              "      <td>2122</td>\n",
              "      <td>1</td>\n",
              "      <td>3</td>\n",
              "      <td>3</td>\n",
              "      <td>3</td>\n",
              "      <td>1</td>\n",
              "      <td>...</td>\n",
              "      <td>1</td>\n",
              "      <td>39</td>\n",
              "      <td>3</td>\n",
              "      <td>1</td>\n",
              "      <td>2</td>\n",
              "      <td>2</td>\n",
              "      <td>1</td>\n",
              "      <td>1</td>\n",
              "      <td>1</td>\n",
              "      <td>1</td>\n",
              "    </tr>\n",
              "    <tr>\n",
              "      <th>4</th>\n",
              "      <td>1</td>\n",
              "      <td>12</td>\n",
              "      <td>4</td>\n",
              "      <td>0</td>\n",
              "      <td>2171</td>\n",
              "      <td>1</td>\n",
              "      <td>3</td>\n",
              "      <td>4</td>\n",
              "      <td>3</td>\n",
              "      <td>1</td>\n",
              "      <td>...</td>\n",
              "      <td>2</td>\n",
              "      <td>38</td>\n",
              "      <td>1</td>\n",
              "      <td>2</td>\n",
              "      <td>2</td>\n",
              "      <td>2</td>\n",
              "      <td>2</td>\n",
              "      <td>1</td>\n",
              "      <td>1</td>\n",
              "      <td>1</td>\n",
              "    </tr>\n",
              "  </tbody>\n",
              "</table>\n",
              "<p>5 rows × 21 columns</p>\n",
              "</div>\n",
              "      <button class=\"colab-df-convert\" onclick=\"convertToInteractive('df-8f7046ea-e807-411d-9410-48b56a546806')\"\n",
              "              title=\"Convert this dataframe to an interactive table.\"\n",
              "              style=\"display:none;\">\n",
              "        \n",
              "  <svg xmlns=\"http://www.w3.org/2000/svg\" height=\"24px\"viewBox=\"0 0 24 24\"\n",
              "       width=\"24px\">\n",
              "    <path d=\"M0 0h24v24H0V0z\" fill=\"none\"/>\n",
              "    <path d=\"M18.56 5.44l.94 2.06.94-2.06 2.06-.94-2.06-.94-.94-2.06-.94 2.06-2.06.94zm-11 1L8.5 8.5l.94-2.06 2.06-.94-2.06-.94L8.5 2.5l-.94 2.06-2.06.94zm10 10l.94 2.06.94-2.06 2.06-.94-2.06-.94-.94-2.06-.94 2.06-2.06.94z\"/><path d=\"M17.41 7.96l-1.37-1.37c-.4-.4-.92-.59-1.43-.59-.52 0-1.04.2-1.43.59L10.3 9.45l-7.72 7.72c-.78.78-.78 2.05 0 2.83L4 21.41c.39.39.9.59 1.41.59.51 0 1.02-.2 1.41-.59l7.78-7.78 2.81-2.81c.8-.78.8-2.07 0-2.86zM5.41 20L4 18.59l7.72-7.72 1.47 1.35L5.41 20z\"/>\n",
              "  </svg>\n",
              "      </button>\n",
              "      \n",
              "  <style>\n",
              "    .colab-df-container {\n",
              "      display:flex;\n",
              "      flex-wrap:wrap;\n",
              "      gap: 12px;\n",
              "    }\n",
              "\n",
              "    .colab-df-convert {\n",
              "      background-color: #E8F0FE;\n",
              "      border: none;\n",
              "      border-radius: 50%;\n",
              "      cursor: pointer;\n",
              "      display: none;\n",
              "      fill: #1967D2;\n",
              "      height: 32px;\n",
              "      padding: 0 0 0 0;\n",
              "      width: 32px;\n",
              "    }\n",
              "\n",
              "    .colab-df-convert:hover {\n",
              "      background-color: #E2EBFA;\n",
              "      box-shadow: 0px 1px 2px rgba(60, 64, 67, 0.3), 0px 1px 3px 1px rgba(60, 64, 67, 0.15);\n",
              "      fill: #174EA6;\n",
              "    }\n",
              "\n",
              "    [theme=dark] .colab-df-convert {\n",
              "      background-color: #3B4455;\n",
              "      fill: #D2E3FC;\n",
              "    }\n",
              "\n",
              "    [theme=dark] .colab-df-convert:hover {\n",
              "      background-color: #434B5C;\n",
              "      box-shadow: 0px 1px 3px 1px rgba(0, 0, 0, 0.15);\n",
              "      filter: drop-shadow(0px 1px 2px rgba(0, 0, 0, 0.3));\n",
              "      fill: #FFFFFF;\n",
              "    }\n",
              "  </style>\n",
              "\n",
              "      <script>\n",
              "        const buttonEl =\n",
              "          document.querySelector('#df-8f7046ea-e807-411d-9410-48b56a546806 button.colab-df-convert');\n",
              "        buttonEl.style.display =\n",
              "          google.colab.kernel.accessAllowed ? 'block' : 'none';\n",
              "\n",
              "        async function convertToInteractive(key) {\n",
              "          const element = document.querySelector('#df-8f7046ea-e807-411d-9410-48b56a546806');\n",
              "          const dataTable =\n",
              "            await google.colab.kernel.invokeFunction('convertToInteractive',\n",
              "                                                     [key], {});\n",
              "          if (!dataTable) return;\n",
              "\n",
              "          const docLinkHtml = 'Like what you see? Visit the ' +\n",
              "            '<a target=\"_blank\" href=https://colab.research.google.com/notebooks/data_table.ipynb>data table notebook</a>'\n",
              "            + ' to learn more about interactive tables.';\n",
              "          element.innerHTML = '';\n",
              "          dataTable['output_type'] = 'display_data';\n",
              "          await google.colab.output.renderOutput(dataTable, element);\n",
              "          const docLink = document.createElement('div');\n",
              "          docLink.innerHTML = docLinkHtml;\n",
              "          element.appendChild(docLink);\n",
              "        }\n",
              "      </script>\n",
              "    </div>\n",
              "  </div>\n",
              "  "
            ]
          },
          "metadata": {},
          "execution_count": 4
        }
      ]
    },
    {
      "cell_type": "markdown",
      "source": [
        "#**Ejercicio-2.**\n",
        "\n",
        "Se realiza una partición de los datos en el conjunto de entrenamiento del 85% y el de prueba del 15%. Los modelos se estarán entrenando con el método de validación cruzada, así que no es necesario en este paso generar el conjunto de validación. Se define como la variable X a todas las variables de entrada y a la variable Y como la variable de salida."
      ],
      "metadata": {
        "id": "xZhr2hkECzVv"
      }
    },
    {
      "cell_type": "code",
      "source": [
        "#Definimos los atributos de entrada como 'X' y a la variable de salida como 'Y'\n",
        "X=df.drop('credit_risk',axis=1)\n",
        "\n",
        "Y=df['credit_risk']\n"
      ],
      "metadata": {
        "id": "kGfAoOPkC1PP"
      },
      "execution_count": 5,
      "outputs": []
    },
    {
      "cell_type": "code",
      "source": [
        "#Particionamos nuestros datos en conjunto de entrenamiento y conjunto de pruebas, ya que no requerimos validación debido al método de validación cruzada que\n",
        "#utilizaremos. El conjunto de entrenamiento corresponderá al 85% de los datos.\n",
        "Xtrain, Xtest, Ytrain, Ytest = train_test_split(X, Y, train_size=0.85)\n",
        "\n",
        "Xtrain.info()"
      ],
      "metadata": {
        "id": "GOydw5OGC1MJ",
        "colab": {
          "base_uri": "https://localhost:8080/"
        },
        "outputId": "9ecd0c6c-aa2f-438c-beb6-ee45c45307cb"
      },
      "execution_count": 6,
      "outputs": [
        {
          "output_type": "stream",
          "name": "stdout",
          "text": [
            "<class 'pandas.core.frame.DataFrame'>\n",
            "Int64Index: 850 entries, 625 to 628\n",
            "Data columns (total 20 columns):\n",
            " #   Column                   Non-Null Count  Dtype\n",
            "---  ------                   --------------  -----\n",
            " 0   status                   850 non-null    int64\n",
            " 1   duration                 850 non-null    int64\n",
            " 2   credit_history           850 non-null    int64\n",
            " 3   purpose                  850 non-null    int64\n",
            " 4   amount                   850 non-null    int64\n",
            " 5   savings                  850 non-null    int64\n",
            " 6   employment_duration      850 non-null    int64\n",
            " 7   installment_rate         850 non-null    int64\n",
            " 8   personal_status_sex      850 non-null    int64\n",
            " 9   other_debtors            850 non-null    int64\n",
            " 10  present_residence        850 non-null    int64\n",
            " 11  property                 850 non-null    int64\n",
            " 12  age                      850 non-null    int64\n",
            " 13  other_installment_plans  850 non-null    int64\n",
            " 14  housing                  850 non-null    int64\n",
            " 15  number_credits           850 non-null    int64\n",
            " 16  job                      850 non-null    int64\n",
            " 17  people_liable            850 non-null    int64\n",
            " 18  telephone                850 non-null    int64\n",
            " 19  foreign_worker           850 non-null    int64\n",
            "dtypes: int64(20)\n",
            "memory usage: 139.5 KB\n"
          ]
        }
      ]
    },
    {
      "cell_type": "markdown",
      "source": [
        "#**Ejercicio-3.**\n",
        "\n",
        "Se realizan un Pipeline que incluye las siguientes transformaciones para generar los primeros modelos:\n",
        "\n",
        "1. Imputación de todas las variables de entrada, diferenciando entre el tipo de cada variable.\n",
        "2. Análisis de las variables numéricas (cuantitativas) de entrada y transformación para escalar a todas ellas en un rango equiparable.\n",
        "3. Aplicación de la transformación One-Hot encoding a las variables de entrada de tipo categórico y binario."
      ],
      "metadata": {
        "id": "NCunuooTC2W3"
      }
    },
    {
      "cell_type": "code",
      "source": [
        "#**********************************************************************************************************************************************************************\n",
        "#Creamos los pipelines para la imputación, la transformación (escalar) de las variables numéricas y para la transformación One-hot de las variables\n",
        "#categóricas y binarias:\n",
        "#**********************************************************************************************************************************************************************\n",
        "#Almacenamos las variables numéricas en una lista para mayor facilidad en su uso\n",
        "XNumericas=[\"age\", \"amount\", \"duration\"]\n",
        "#Creamos el pipeline para las numéricas con la imputación utilizando la media y el minmax para escalar los datos numéricos a un rango equiparable\n",
        "pipeline_numericas = Pipeline(steps = [('impMedia', SimpleImputer(strategy='mean')),('scalar', MinMaxScaler(feature_range=(1,2)))])\n",
        "\n",
        "\n",
        "#Almacenamos las variables categóricas y ordinales en una lista para mayor facilidad en su uso\n",
        "XCategoricas=[\"status\",\"credit_history\", \"purpose\", \"savings\", \"personal_status_sex\", \"other_debtors\",\n",
        "                                                               \"other_installment_plans\", \"housing\"]\n",
        "#Creamos el pipeline para las categóricas con la imputación utilizando la moda y aplicando la transformación One-Hot\n",
        "pipeline_categoricas = Pipeline(steps = [('impModa', SimpleImputer(strategy='most_frequent')), ('OneHotE', OneHotEncoder(drop='first', handle_unknown='ignore'))])\n",
        "\n",
        "#Almacenamos las variables binarias en una lista para mayor facilidad en su uso\n",
        "XBinarias = [\"people_liable\", \"telephone\", \"foreign_worker\"]\n",
        "#Creamos el pipeline para las categóricas con la imputación utilizando la moda y aplicando la transformación One-Hot\n",
        "pipeline_binarias = Pipeline(steps = [('impModa', SimpleImputer(strategy='most_frequent')), ('OneHotE', OneHotEncoder(drop='first', handle_unknown='ignore'))])\n"
      ],
      "metadata": {
        "id": "BKI80-YdC4HN"
      },
      "execution_count": 7,
      "outputs": []
    },
    {
      "cell_type": "markdown",
      "source": [
        "##Analísis y Conclusiones\n",
        "**Justificación de los tipos de imputación realizado en cada caso:**\n",
        "\n",
        "*   Para el caso de las variables numéricas se evidenció que con el metodo `df.info()` se muestra que no se requeria la imputación dado que no había datos perdidos, nulos o vacios, pero se puede utilizar cómo estrategia de imputación la media, la cual es recomendada para valores númericos.\n",
        "*   La imputación de las variables se realiza con la finalidad de tener datos mejor tratados, que eviten que las varianzas sean muy grandes o que los estimadores estes demasiado sesgados. Especificamente usamos medias en el caso de las variables númericas para preservar el valor medio de la variable, toda vez que la imputación no fue estratificada por grupos de edad que hubiese requerido una media condicionada.\n",
        "*   Analizando los datos con el metodo `df[XNumericas].describe()`, se observó que las escalas son muy diferentes. La  variable \"age\", el **mínimo es 19 y máximo 75**, mientras que para \"amount\" el **mínimo es 250 y el máximo 18.424** y la variable \"duration\" tiene un **mínimo de 4 y un máximo de 72**. Por lo anterior se tuvo que escalar los datos, ya que sus rangos son muy diferentes entre uno y otro, y esto podría afectar el desempeño del modelo.\n",
        "\n",
        "**Justificación del porque a las variables binarias se les debe aplicar One-Hot Enconding:**\n",
        "\n",
        "*  Para las variables categorícas y binarias utilizamos la moda. Lo anterior debido a que tienen una mayor probabilidad de ocurrencia de los datos.\n",
        "*  Se aplicó el **One-Hot Enconding** para estandarizar a valores de 0 a 1 tanto las variables categorícas y binarias, dado que estas originalmente contenian valores de 1 y 2, lo cual podría afectar el desempeño del modelo. \n"
      ],
      "metadata": {
        "id": "K-CtvZTIxrIP"
      }
    },
    {
      "cell_type": "markdown",
      "source": [
        "La imputación de las variables se realiza con la finalidad de tener datos mejor tratados, que eviten de las varianzas sean muy grandes o que los estimadores estes demasiado sesgados, para fines estadísticos se requiere generar inferencias validas. \n",
        "\n",
        "Especificamente usamos medias en el caso de las variables númericas en primer por ser número y para preservar el valor medio de la variable, toda vez que la imputación no fue condicionada por grupos de edad. \n",
        "\n",
        "En la variable de las categorías y binarias usamos la moda, por ser un mejor indicador de que categoría es el que más se repite en nuestro conjunto de datos.\n",
        "\n",
        "One-Hot Encoding esta diseñado para convertir datos categóricos (0/False - 1/True) a datos numéricos en términos binarios de manera que los presentan un mejor rendimiento al momento de procesar los datos."
      ],
      "metadata": {
        "id": "EeR2Z1k5fpTO"
      }
    },
    {
      "cell_type": "code",
      "source": [
        "#Establecemos a \"Columnas_Transformar\" como la variable para transformar todas las columnas definidas en el punto anterior, llamando los pipeline creados previamente.\n",
        "Columnas_Transformar = ColumnTransformer(transformers=[('numericas', pipeline_numericas,XNumericas), ('categoricas', pipeline_categoricas, XCategoricas), \n",
        "                                                     ('binarias', pipeline_binarias, XBinarias)]) #remainder='passthrough')\n",
        "#Aplicamos la transformación de las columnas requeridas (numéricas, categóricas y binarias solamente)\n",
        "#X_train_fit = Columnas_Transformar.fit(Xtrain)\n",
        "#pd.DataFrame(X_train_fit.transform(Xtrain))"
      ],
      "metadata": {
        "id": "-ow3gYPwRfHF"
      },
      "execution_count": 8,
      "outputs": []
    },
    {
      "cell_type": "markdown",
      "source": [
        "#**Ejercicio-4.**\n",
        "\n",
        "Se llevó a cabo el entrenamiento de los tres  modelos de aprendizaje automático: Regresión Logística, Árbol de Decisión y Bosque Aleatorio, de manera conjunta usando un ciclo FOR."
      ],
      "metadata": {
        "id": "chqk9jIDC5Pq"
      }
    },
    {
      "cell_type": "code",
      "source": [
        "#Creamos la función obtener_modelos para utilizarla durante el procesamiento de los datos\n",
        "def obtener_modelos():\n",
        "  #Creamos las listas en blanco para almacenar los modelos a utilizar y los nombres de cada modelo\n",
        "  modelos = list()\n",
        "  nombres = list()\n",
        "\n",
        "  #Creamos el registro del modelo de regresión logística en las listas modelo y nombres\n",
        "  modelos.append(LogisticRegression(max_iter=3000))\n",
        "  nombres.append('LR')\n",
        "\n",
        "  #Creamos el registro del modelo de árbol de decisión en las listas modelo y nombres\n",
        "  modelos.append(DecisionTreeClassifier())\n",
        "  nombres.append('DT')\n",
        "\n",
        "  #Creamos el registro de Random Forest en las listas modelo y nombres\n",
        "  modelos.append(RandomForestClassifier())\n",
        "  nombres.append('RF')\n",
        "  \n",
        "  #Devolvemos las listas creadas para el procesamiento respectivo\n",
        "  return modelos, nombres"
      ],
      "metadata": {
        "id": "RBVSFwK4C6g9"
      },
      "execution_count": null,
      "outputs": []
    },
    {
      "cell_type": "code",
      "source": [
        "#Definimos nuestras funciones de cálculo del score para cada una de las opciones requeridas\n",
        "#Función para cálculo de accuracy\n",
        "def mi_accuracy(yreal, ypred):\n",
        "  tn, fp, fn, tp = confusion_matrix(yreal, ypred).ravel()\n",
        "  accuracy = (tp+tn)/(tp+tn+fp+fn)\n",
        "  return accuracy\n",
        "\n",
        "#Función para cálculo de precisión\n",
        "def mi_precision(yreal, ypred):\n",
        "  tn, fp, fn, tp = confusion_matrix(yreal,ypred).ravel()\n",
        "  precision = tp/(tp+fp)\n",
        "  return precision\n",
        "\n",
        "#Función para cálculo de recall\n",
        "def mi_recall(yreal, ypred):\n",
        "  tn, fp, fn, tp = confusion_matrix(yreal,ypred).ravel()\n",
        "  recall = tp/(tp+fn)\n",
        "  return recall\n",
        "\n",
        "#Función para cálculo de f1 score\n",
        "def mi_f1score(yreal, ypred):\n",
        "  tn, fp, fn, tp = confusion_matrix(yreal, ypred).ravel()\n",
        "  f1score = (2*tp)/((2*tp)+fp+fn)\n",
        "  return f1score\n",
        "\n",
        "#Función para cálculo de gmean\n",
        "def mi_gmean(yreal, ypred):\n",
        "    tn, fp, fn, tp = confusion_matrix(yreal, ypred).ravel()\n",
        "    recall = tp/(tp+fn)\n",
        "    especificidad = tn/(tn+fp)\n",
        "    gmean=np.sqrt(recall*especificidad)\n",
        "    return gmean"
      ],
      "metadata": {
        "id": "5bpHN8D7vkXF"
      },
      "execution_count": 13,
      "outputs": []
    },
    {
      "cell_type": "code",
      "source": [
        "#A continuación generamos la validación cruzada para los modelos almacenados en las listas previas e imprimimos las métricas para los\n",
        "#conjuntos de entrenamiento y validación.\n",
        "\n",
        "#Se agrega temporalmente para eliminar el warning de división por cero\n",
        "import warnings\n",
        "warnings.filterwarnings(\"ignore\")\n",
        "\n",
        "#Captamos en las variables modelos y nombres, los modelos y descripciones almacenadas en las listas, llamando la función creada previamente.\n",
        "modelos, nombres = obtener_modelos()\n",
        "\n",
        "#Creamos una lista en blanco para almacenar el resultado de la iteración\n",
        "resultados = list()\n",
        "\n",
        "#Comenzamos a recorrer todos los modelos almacenados en la lista modelos\n",
        "for i in range(len(modelos)):\n",
        "\n",
        "  #Definimos los K pliegues que utilizaremos en nuestra validación cruzada, en este caso, 5 divisiones y 3 repeticiones\n",
        "  kfold = RepeatedStratifiedKFold(n_splits=5, n_repeats=3)\n",
        "  #Creamos nuestro pipeline con los pasos de transformación y ejecución de los modelos\n",
        "  pipeline = Pipeline(steps=[(\"ct\", Columnas_Transformar), (\"m\", modelos[i])])\n",
        "\n",
        "  #Almacenamos las métricas a utilizar en la lista 'mismetricas' y llamamos las funciones de métricas creadas previamente\n",
        "  mismetricas = {\n",
        "      \"accuracy\": make_scorer(mi_accuracy),\n",
        "      \"precision\": make_scorer(mi_precision),\n",
        "      \"recall\": make_scorer(mi_recall),\n",
        "      \"f1score\": make_scorer(mi_f1score),\n",
        "      \"gmean\": make_scorer(mi_gmean)\n",
        "\n",
        "  }\n",
        "\n",
        "  #Ejecutamos la validación cruzada y almacenamos el resultado en la variable 'resultadosOU'\n",
        "  resultadosOU = cross_validate(pipeline, Xtrain, Ytrain, scoring=mismetricas, cv=kfold,  \n",
        "                                return_train_score=True\n",
        "                                )\n",
        "  resultados.append(resultadosOU)\n",
        "\n",
        "  print(\"Métricas de %s para los datos de entrenamiento:\" %nombres[i])\n",
        "  print(\"\\nmean Accuracy: %.3f \\nmean Precision: %.3f \\nmean Recall: %.3f \\nmean f1score: %.3f \\nGmean : %.3f \\n\" % (\n",
        "                                               np.mean(resultadosOU[\"train_accuracy\"]),\n",
        "                                               np.mean(resultadosOU[\"train_precision\"]),\n",
        "                                               np.mean(resultadosOU[\"train_recall\"]),\n",
        "                                              np.mean(resultadosOU[\"train_f1score\"]),\n",
        "                                               np.mean(resultadosOU[\"train_gmean\"])\n",
        "  ))                  \n",
        "\n",
        "  print(\"Métricas de %s para los datos de validación:\" %nombres[i])\n",
        "  print(\"\\nmean Accuracy: %.3f \\nmean Precision: %.3f \\nmean Recall: %.3f \\nmean f1score: %.3f \\nGmean : %.3f \\n\" % (\n",
        "                                               np.mean(resultadosOU[\"test_accuracy\"]),\n",
        "                                               np.mean(resultadosOU[\"test_precision\"]),\n",
        "                                               np.mean(resultadosOU[\"test_recall\"]),\n",
        "                                               np.mean(resultadosOU[\"test_f1score\"]),\n",
        "                                               np.mean(resultadosOU[\"test_gmean\"])\n",
        "  ))                                                    "
      ],
      "metadata": {
        "id": "q4dJY1B7AsXp",
        "colab": {
          "base_uri": "https://localhost:8080/"
        },
        "outputId": "72358508-e8ab-43af-9132-3f11808abe66"
      },
      "execution_count": null,
      "outputs": [
        {
          "output_type": "stream",
          "name": "stdout",
          "text": [
            "Métricas de LR para los datos de entrenamiento:\n",
            "\n",
            "mean Accuracy: 0.780 \n",
            "mean Precision: 0.805 \n",
            "mean Recall: 0.908 \n",
            "mean f1score: 0.854 \n",
            "Gmean : 0.656 \n",
            "\n",
            "Métricas de LR para los datos de validación:\n",
            "\n",
            "mean Accuracy: 0.758 \n",
            "mean Precision: 0.791 \n",
            "mean Recall: 0.894 \n",
            "mean f1score: 0.839 \n",
            "Gmean : 0.621 \n",
            "\n",
            "Métricas de DT para los datos de entrenamiento:\n",
            "\n",
            "mean Accuracy: 1.000 \n",
            "mean Precision: 1.000 \n",
            "mean Recall: 1.000 \n",
            "mean f1score: 1.000 \n",
            "Gmean : 1.000 \n",
            "\n",
            "Métricas de DT para los datos de validación:\n",
            "\n",
            "mean Accuracy: 0.674 \n",
            "mean Precision: 0.775 \n",
            "mean Recall: 0.758 \n",
            "mean f1score: 0.766 \n",
            "Gmean : 0.597 \n",
            "\n",
            "Métricas de RF para los datos de entrenamiento:\n",
            "\n",
            "mean Accuracy: 1.000 \n",
            "mean Precision: 1.000 \n",
            "mean Recall: 1.000 \n",
            "mean f1score: 1.000 \n",
            "Gmean : 1.000 \n",
            "\n",
            "Métricas de RF para los datos de validación:\n",
            "\n",
            "mean Accuracy: 0.747 \n",
            "mean Precision: 0.784 \n",
            "mean Recall: 0.884 \n",
            "mean f1score: 0.831 \n",
            "Gmean : 0.607 \n",
            "\n"
          ]
        }
      ]
    },
    {
      "cell_type": "code",
      "source": [
        "#Se generan los boxplots de los tres modelos utilizando solo la métrica 'recall'\n",
        "sns.set(rc={'figure.figsize':(8,4)})\n",
        "bprecall = list()\n",
        "for i in range(len(resultados)):\n",
        "  rr = resultados[i]['test_recall']\n",
        "  bprecall.append(rr)\n",
        "plt.boxplot(bprecall, labels=nombres, showmeans=True)\n",
        "plt.show()"
      ],
      "metadata": {
        "colab": {
          "base_uri": "https://localhost:8080/",
          "height": 268
        },
        "id": "4O4yeI8QJQd8",
        "outputId": "2a0b3449-ed4b-44b6-ebf6-6eeb1304356c"
      },
      "execution_count": null,
      "outputs": [
        {
          "output_type": "display_data",
          "data": {
            "text/plain": [
              "<Figure size 576x288 with 1 Axes>"
            ],
            "image/png": "[encoded data removed]"
          },
          "metadata": {}
        }
      ]
    },
    {
      "cell_type": "markdown",
      "source": [
        "##Analísis y Conclusiones\n",
        "\n",
        "A través de los diagramas de caja y bigote podemos determinar que: \n",
        "\n",
        "*   Para la Regresión Logística, el conjunto de datos se encuentra más concentrado y la mediana es mayor a la media.\n",
        "*   En el decisión tree tiene datos atípicos y hay una mayor dispersión de los datos y el recall explica solamente el 75%, decir que nuestro conjunto de datos se ubica en el tercer cuartil.\n",
        "*   En RF hay una mayor explicación de la métrica recall con casi el 90%, estamos en el cuarto cuartil  en tanto que los datos son más dispersos y la distribución esta más normalizada.\n"
      ],
      "metadata": {
        "id": "TMBsv_MILvBJ"
      }
    },
    {
      "cell_type": "code",
      "source": [
        "def mi_PlotCurvaAprendizaje(ModeloTipo, train_sizes, train_scores, val_scores, TipoImpresion):\n",
        "\n",
        "    # Obtenemos los promedios y desviaciones estándar de cada renglón de los resultados de entrenamiento y validación\n",
        "    # La dimensión de cada uno es p=\"número de particiones de manera incremental del conjunto de entrenamiento\".\n",
        "    train_mean = np.mean(train_scores, axis=1)\n",
        "    train_std = np.std(train_scores, axis=1)\n",
        "    val_mean = np.mean(val_scores, axis=1)\n",
        "    val_std = np.std(val_scores, axis=1)\n",
        "\n",
        "    # Graficamos las curvas de aprendizaje incluyendo una región indicando la desviación estándar.\n",
        "    plt.figure(figsize=(7,6))\n",
        "    plt.plot(train_sizes, train_mean, color='blue', marker='o', markersize=5, label='Training')\n",
        "    plt.fill_between(train_sizes, train_mean + train_std, train_mean - train_std, alpha=0.1, color='blue')\n",
        "    \n",
        "    plt.plot(train_sizes, val_mean, color='red', marker='+', markersize=5, linestyle='--', label='Validation')\n",
        "    plt.fill_between(train_sizes, val_mean + val_std, val_mean - val_std, alpha=0.1, color='red')\n",
        "    \n",
        "    if TipoImpresion==\"Incremental\":\n",
        "      plt.title('Curvas de Aprendizaje incremental')\n",
        "      plt.xlabel('Tamaño del conjunto de entrenamiento')\n",
        "    else:\n",
        "      plt.title('Curvas de Aprendizaje')\n",
        "      plt.xlabel('Tamaño del conjunto de entrenamiento')\n",
        "\n",
        "    #Si es Random Forrest utilizamos la métrica recall, para los otros utilizamos la métrica F1 score\n",
        "    if ModeloTipo==\"RF\":\n",
        "      plt.ylabel('recall')\n",
        "    else:\n",
        "      plt.ylabel('F1 score')\n",
        "\n",
        "    plt.grid()\n",
        "    plt.legend(loc='lower left')\n",
        "    plt.show()"
      ],
      "metadata": {
        "id": "xkxPK_i_RMKw"
      },
      "execution_count": null,
      "outputs": []
    },
    {
      "cell_type": "code",
      "source": [
        "def mi_CurvaAprendizaje(ModeloTipo, ModeloCurva, Xcurva, ycurva, TipoImpresion):\n",
        "\n",
        "  #Capturamos la curva a graficar\n",
        "  MiModelo = ModeloCurva\n",
        "\n",
        "  #Aplicamos la transformación según lo definido previamente\n",
        "  ColsX = Columnas_Transformar.fit(Xcurva)\n",
        "  TransX = ColsX.transform(Xcurva)\n",
        "\n",
        "  #Definimos los K pliegues que utilizaremos en nuestra validación cruzada, en este caso, 5 divisiones y 3 repeticiones\n",
        "  mi_kfold = RepeatedStratifiedKFold(n_splits=5, n_repeats=3, random_state=0)\n",
        "\n",
        "\n",
        "  #Creamos un arreglo con los 20 valores de los tamaños de muestra:\n",
        "  delta_train_sz = np.linspace(0.1, 1.0, 20)\n",
        "\n",
        "\n",
        "  #Ejecutamos la función learning curve para capturar las variables tr_sizes, tr_scores y val_scores, que posteriormente utilizaremos en la graficación\n",
        "  if (ModeloTipo == \"LR\"):\n",
        "    #Si el modelo es LR utilizaremos la métrica f1 \n",
        "    tr_sizes, tr_scores, val_scores = learning_curve(estimator = MiModelo,    \n",
        "                                                      X = TransX,\n",
        "                                                      y = ycurva,\n",
        "                                                      cv = mi_kfold ,\n",
        "                                                      train_sizes = delta_train_sz ,\n",
        "                                                      random_state=0,\n",
        "                                                      scoring=make_scorer(mi_f1score))\n",
        "  elif (ModeloTipo == \"RF\"):\n",
        "    #Si el modelo es LR utilizaremos la métrica recall \n",
        "    tr_sizes, tr_scores, val_scores = learning_curve(estimator = MiModelo,    \n",
        "                                                      X = TransX,\n",
        "                                                      y = ycurva,\n",
        "                                                      cv = mi_kfold ,\n",
        "                                                      train_sizes = delta_train_sz ,\n",
        "                                                      random_state=0,\n",
        "                                                      scoring=make_scorer(mi_recall))\n",
        "\n",
        "  #Enviamos a nuestra función de graficación los valores obtenidos y esperamos que nos genere las curvas de aprendizaje:\n",
        "  mi_PlotCurvaAprendizaje(ModeloTipo, tr_sizes, tr_scores, val_scores, TipoImpresion)"
      ],
      "metadata": {
        "id": "_--SONJqRW2M"
      },
      "execution_count": null,
      "outputs": []
    },
    {
      "cell_type": "code",
      "source": [
        "def mi_CurvaValidacion(ModeloCurva, Xcurva, ycurva):\n",
        "  \n",
        "  #Capturamos la curva a graficar\n",
        "  MiModelo = ModeloCurva\n",
        "\n",
        "  #Aplicamos la transformación según lo definido previamente\n",
        "  ColsX = Columnas_Transformar.fit(Xcurva)\n",
        "  TransX = ColsX.transform(Xcurva)\n",
        "\n",
        "  #Definimos los K pliegues que utilizaremos en nuestra validación cruzada, en este caso, 5 divisiones y 3 repeticiones\n",
        "  mi_kfold = RepeatedStratifiedKFold(n_splits=5, n_repeats=3, random_state=0)\n",
        "\n",
        "  #Ejecutamos la función validation curve para capturar las variables tr_scores y val_scores, que posteriormente utilizaremos en la graficación\n",
        "  #Según lo indicado utilizaremos la métrica f1 para el modelo DT \n",
        "  tr_scores, val_scores = validation_curve(estimator = MiModelo,    \n",
        "                                                        X = TransX,\n",
        "                                                        y = Ytrain,\n",
        "                                                        cv = mi_kfold ,\n",
        "                                                        param_name='max_depth',\n",
        "                                                        param_range=np.arange(1, 20),\n",
        "                                                        scoring=make_scorer(mi_f1score))\n",
        "\n",
        "  #Calculamos las variables requeridas para la graficación\n",
        "\n",
        "  #Obtenemos la media para las métricas en el conjunto de entrenamiento\n",
        "  train_mean = np.mean(tr_scores, axis=1)\n",
        "  #Obtenemos la desviación estandar para las métricas en el conjunto de entrenamiento\n",
        "  train_std = np.std(tr_scores, axis=1)\n",
        "\n",
        "  #Obtenemos la media para las métricas en el conjunto de pruebas\n",
        "  test_mean = np.mean(val_scores, axis=1)\n",
        "  #Obtenemos la desviación estandar para las métricas en el conjunto de pruebas\n",
        "  test_std = np.std(val_scores, axis=1)\n",
        "\n",
        "  #Definimos el rango en el cual graficaremos la curva de validación\n",
        "  param_range = np.arange(1, 20, 1)\n",
        "\n",
        "  #Comenzamos la graficación de la curva\n",
        "  plt.subplots(1, figsize=(7,7))\n",
        "  plt.plot(param_range, train_mean, label=\"Training\", color=\"blue\")\n",
        "  plt.plot(param_range, test_mean, label=\"Validation\", color=\"red\")\n",
        "\n",
        "  plt.fill_between(param_range, train_mean - train_std, train_mean + train_std, color=\"gray\")\n",
        "  plt.fill_between(param_range, test_mean - test_std, test_mean + test_std, color=\"gainsboro\")\n",
        "\n",
        "  plt.title(\"Curva de Validación\")\n",
        "  plt.xlabel(\"Número de árboles\")\n",
        "  plt.ylabel(\"F1 Score\")\n",
        "  plt.tight_layout()\n",
        "  plt.legend(loc=\"best\")\n",
        "  plt.show()"
      ],
      "metadata": {
        "id": "gA8rVGH3oK4W"
      },
      "execution_count": null,
      "outputs": []
    },
    {
      "cell_type": "code",
      "source": [
        "for i in range(len(modelos)):\n",
        "  if nombres[i]==\"DT\":\n",
        "    print('Curvas de validación del modelo %s'%nombres[i])\n",
        "    mi_CurvaValidacion(modelos[i], Xtrain, Ytrain)\n",
        "  else:\n",
        "    print('Curvas de aprendizaje del modelo %s'%nombres[i])\n",
        "    mi_CurvaAprendizaje(nombres[i], modelos[i], Xtrain, Ytrain, \"Normal\")"
      ],
      "metadata": {
        "colab": {
          "base_uri": "https://localhost:8080/",
          "height": 1000
        },
        "id": "EQgvxYQDRcco",
        "outputId": "0740734d-6a50-4a4c-e34b-2ffcadd80556"
      },
      "execution_count": null,
      "outputs": [
        {
          "output_type": "stream",
          "name": "stdout",
          "text": [
            "Curvas de aprendizaje del modelo LR\n"
          ]
        },
        {
          "output_type": "display_data",
          "data": {
            "text/plain": [
              "<Figure size 504x432 with 1 Axes>"
            ],
            "image/png": "[encoded data removed]"
          },
          "metadata": {}
        },
        {
          "output_type": "stream",
          "name": "stdout",
          "text": [
            "Curvas de validación del modelo DT\n"
          ]
        },
        {
          "output_type": "display_data",
          "data": {
            "text/plain": [
              "<Figure size 504x504 with 1 Axes>"
            ],
            "image/png": "[encoded data removed]"
          },
          "metadata": {}
        },
        {
          "output_type": "stream",
          "name": "stdout",
          "text": [
            "Curvas de aprendizaje del modelo RF\n"
          ]
        },
        {
          "output_type": "display_data",
          "data": {
            "text/plain": [
              "<Figure size 504x432 with 1 Axes>"
            ],
            "image/png": "[encoded data removed]"
          },
          "metadata": {}
        }
      ]
    },
    {
      "cell_type": "markdown",
      "source": [
        "##Analísis y Conclusiones\n",
        "\n",
        "*   Para la curva de Regresión Logística, se aprecia conforme el modelo recibe mas datos de entrenamiento la curva va en picada lo que nos da a entender que el modelo no esta mejorando sus predicciones entre cada una de las iteraciones, podemos deducir que el modelo esta subentrenado.\n",
        "*   Para la curva de validación del modelo Decision Tree, conforme aumenta el numero de arboles aumenta el desempeño para el conjunto de entrenamiento. Sin embargo, para el conjunto de validación ocurre lo contrario lo que nos da a entnder que el modelo esta sobreentrenado. \n",
        "*   Para el Random Forest, de la curva de entrenamiento podemos deducir que la respuesta del modelo esta muy sesgada hacia la clase de minoritaria, las predicciones están sesgadas hacia la clase con mayor numero de muestras. Se comporta con una hacia el sobreentrenamiento."
      ],
      "metadata": {
        "id": "44O8ZbK9yeea"
      }
    },
    {
      "cell_type": "markdown",
      "source": [
        "#**Ejercicio-5.**"
      ],
      "metadata": {
        "id": "Rv7KFq-mC7PS"
      }
    },
    {
      "cell_type": "code",
      "source": [
        "\n",
        "#a. REGRESION LOGISTICA -Buscando sus mejores hiperparámetros con GridSearchCV(). Los hiperparámetros que debes incluir en su búsqueda deben ser al menos los siguientes: C, solver, class_weight y penalty. En este casodeberás usar la métrica (scoring) “f1-score”\n",
        "XtrainTf = Columnas_Transformar.fit(Xtrain)\n",
        "XtrainFTf = XtrainTf.transform(Xtrain)   \n",
        "XtestFTf = XtrainTf.transform(Xtest)\n",
        "\n",
        "\n",
        "tom=TomekLinks()\n",
        "X_res, y_res =tom.fit_resample(XtrainFTf,Ytrain)\n",
        "\n",
        "modelo_LRf=LogisticRegression(max_iter=1000)\n",
        "\n",
        "\n",
        "penalty = ['l1', 'l2']\n",
        "C = [0.001,0.01,0.1,0.9,1.0]\n",
        "class_weight=[None,'balanced']\n",
        "solver= ['newton-cg','lbfgs','liblinear','sag','saga']\n",
        "\n",
        "cv = RepeatedStratifiedKFold(n_splits=5, n_repeats=3)\n",
        "grid_model_LR = GridSearchCV(modelo_LRf,param_grid={'C':C,'penalty':penalty,'solver':solver,'class_weight':class_weight},cv=cv,scoring='f1')\n",
        "\n",
        "grid_model_LR.fit(X_res,y_res)"
      ],
      "metadata": {
        "id": "JNve_dw_izss",
        "colab": {
          "base_uri": "https://localhost:8080/"
        },
        "outputId": "81902614-76d2-48a5-c0db-c260f137e844"
      },
      "execution_count": null,
      "outputs": [
        {
          "output_type": "stream",
          "name": "stderr",
          "text": [
            "/usr/local/lib/python3.7/dist-packages/sklearn/model_selection/_validation.py:372: FitFailedWarning: \n",
            "450 fits failed out of a total of 1500.\n",
            "The score on these train-test partitions for these parameters will be set to nan.\n",
            "If these failures are not expected, you can try to debug them by setting error_score='raise'.\n",
            "\n",
            "Below are more details about the failures:\n",
            "--------------------------------------------------------------------------------\n",
            "150 fits failed with the following error:\n",
            "Traceback (most recent call last):\n",
            "  File \"/usr/local/lib/python3.7/dist-packages/sklearn/model_selection/_validation.py\", line 680, in _fit_and_score\n",
            "    estimator.fit(X_train, y_train, **fit_params)\n",
            "  File \"/usr/local/lib/python3.7/dist-packages/sklearn/linear_model/_logistic.py\", line 1461, in fit\n",
            "    solver = _check_solver(self.solver, self.penalty, self.dual)\n",
            "  File \"/usr/local/lib/python3.7/dist-packages/sklearn/linear_model/_logistic.py\", line 449, in _check_solver\n",
            "    % (solver, penalty)\n",
            "ValueError: Solver newton-cg supports only 'l2' or 'none' penalties, got l1 penalty.\n",
            "\n",
            "--------------------------------------------------------------------------------\n",
            "150 fits failed with the following error:\n",
            "Traceback (most recent call last):\n",
            "  File \"/usr/local/lib/python3.7/dist-packages/sklearn/model_selection/_validation.py\", line 680, in _fit_and_score\n",
            "    estimator.fit(X_train, y_train, **fit_params)\n",
            "  File \"/usr/local/lib/python3.7/dist-packages/sklearn/linear_model/_logistic.py\", line 1461, in fit\n",
            "    solver = _check_solver(self.solver, self.penalty, self.dual)\n",
            "  File \"/usr/local/lib/python3.7/dist-packages/sklearn/linear_model/_logistic.py\", line 449, in _check_solver\n",
            "    % (solver, penalty)\n",
            "ValueError: Solver lbfgs supports only 'l2' or 'none' penalties, got l1 penalty.\n",
            "\n",
            "--------------------------------------------------------------------------------\n",
            "150 fits failed with the following error:\n",
            "Traceback (most recent call last):\n",
            "  File \"/usr/local/lib/python3.7/dist-packages/sklearn/model_selection/_validation.py\", line 680, in _fit_and_score\n",
            "    estimator.fit(X_train, y_train, **fit_params)\n",
            "  File \"/usr/local/lib/python3.7/dist-packages/sklearn/linear_model/_logistic.py\", line 1461, in fit\n",
            "    solver = _check_solver(self.solver, self.penalty, self.dual)\n",
            "  File \"/usr/local/lib/python3.7/dist-packages/sklearn/linear_model/_logistic.py\", line 449, in _check_solver\n",
            "    % (solver, penalty)\n",
            "ValueError: Solver sag supports only 'l2' or 'none' penalties, got l1 penalty.\n",
            "\n",
            "  warnings.warn(some_fits_failed_message, FitFailedWarning)\n",
            "/usr/local/lib/python3.7/dist-packages/sklearn/model_selection/_search.py:972: UserWarning: One or more of the test scores are non-finite: [       nan        nan 0.                nan 0.80211438 0.80211438\n",
            " 0.80211438 0.80211438 0.80211438 0.80211438        nan        nan\n",
            " 0.                nan 0.32090681 0.72125721 0.72125721 0.75662656\n",
            " 0.72171056 0.72174012        nan        nan 0.80211438        nan\n",
            " 0.80211438 0.80231677 0.80231677 0.80252033 0.80231677 0.80231677\n",
            "        nan        nan 0.                nan 0.32070479 0.72668383\n",
            " 0.72668383 0.74112157 0.72668383 0.72668383        nan        nan\n",
            " 0.80810959        nan 0.81199751 0.82383721 0.82383721 0.8232459\n",
            " 0.82383721 0.82383721        nan        nan 0.68201286        nan\n",
            " 0.68104926 0.76650436 0.76650436 0.76675698 0.76650436 0.76650436\n",
            "        nan        nan 0.82152047        nan 0.82379544 0.82575872\n",
            " 0.82575872 0.82604663 0.82575872 0.82600211        nan        nan\n",
            " 0.77470177        nan 0.77713267 0.78249489 0.78249489 0.78295868\n",
            " 0.78249489 0.78249489        nan        nan 0.82030756        nan\n",
            " 0.82196966 0.82617028 0.82617028 0.82567222 0.82617028 0.82617028\n",
            "        nan        nan 0.77501706        nan 0.77675381 0.78335317\n",
            " 0.78335317 0.78314182 0.78335317 0.78335317]\n",
            "  category=UserWarning,\n"
          ]
        },
        {
          "output_type": "execute_result",
          "data": {
            "text/plain": [
              "GridSearchCV(cv=RepeatedStratifiedKFold(n_repeats=3, n_splits=5, random_state=None),\n",
              "             estimator=LogisticRegression(max_iter=1000),\n",
              "             param_grid={'C': [0.001, 0.01, 0.1, 0.9, 1.0],\n",
              "                         'class_weight': [None, 'balanced'],\n",
              "                         'penalty': ['l1', 'l2'],\n",
              "                         'solver': ['newton-cg', 'lbfgs', 'liblinear', 'sag',\n",
              "                                    'saga']},\n",
              "             scoring='f1')"
            ]
          },
          "metadata": {},
          "execution_count": 34
        }
      ]
    },
    {
      "cell_type": "markdown",
      "source": [
        "¿Cuál es la utilidad de la métrica F1-Score?\n",
        "\n",
        "##Analísis y Conclusiones\n",
        "\n",
        "*   Estamos trabajando con clases no-balanceadas y la métrica f1-score forzará que el gridsearch nos pase los mejores parámetros en base al mejor resultado de esta métrcia. Dentro del cálculo de f1-score se le resta importancia a la clase mayoritaria por lo que esperaríamos que con los parámetros obtenidos abordemos el \"desbalanceo\"."
      ],
      "metadata": {
        "id": "HaekxNC6xO4D"
      }
    },
    {
      "cell_type": "code",
      "source": [
        "#a. REGRESION LOGISTICA - impresion de la mejor combinación de parámetros\n",
        "grid_model_LR.best_params_"
      ],
      "metadata": {
        "id": "6G8SACp0je6T",
        "colab": {
          "base_uri": "https://localhost:8080/"
        },
        "outputId": "98053849-52f9-43ee-c7ca-f03f44ef73ef"
      },
      "execution_count": null,
      "outputs": [
        {
          "output_type": "execute_result",
          "data": {
            "text/plain": [
              "{'C': 1.0, 'class_weight': None, 'penalty': 'l2', 'solver': 'newton-cg'}"
            ]
          },
          "metadata": {},
          "execution_count": 35
        }
      ]
    },
    {
      "cell_type": "code",
      "source": [
        "lrc=grid_model_LR.predict(XtestFTf)\n",
        "print(classification_report(Ytest,lrc))"
      ],
      "metadata": {
        "colab": {
          "base_uri": "https://localhost:8080/"
        },
        "id": "F_n8oW4SRzc-",
        "outputId": "9cf60595-0376-4f84-c659-b85d830eb2a9"
      },
      "execution_count": null,
      "outputs": [
        {
          "output_type": "stream",
          "name": "stdout",
          "text": [
            "              precision    recall  f1-score   support\n",
            "\n",
            "           0       0.54      0.50      0.52        38\n",
            "           1       0.83      0.86      0.85       112\n",
            "\n",
            "    accuracy                           0.77       150\n",
            "   macro avg       0.69      0.68      0.68       150\n",
            "weighted avg       0.76      0.77      0.76       150\n",
            "\n"
          ]
        }
      ]
    },
    {
      "cell_type": "code",
      "source": [
        "print(classification_report_imbalanced(Ytest,lrc))"
      ],
      "metadata": {
        "id": "Q0fOzZcLj-qp",
        "colab": {
          "base_uri": "https://localhost:8080/"
        },
        "outputId": "fe77a006-e773-4246-9c8d-b3a81fabc397"
      },
      "execution_count": null,
      "outputs": [
        {
          "output_type": "stream",
          "name": "stdout",
          "text": [
            "                   pre       rec       spe        f1       geo       iba       sup\n",
            "\n",
            "          0       0.54      0.50      0.86      0.52      0.65      0.41        38\n",
            "          1       0.83      0.86      0.50      0.85      0.65      0.44       112\n",
            "\n",
            "avg / total       0.76      0.77      0.59      0.76      0.65      0.44       150\n",
            "\n"
          ]
        }
      ]
    },
    {
      "cell_type": "code",
      "source": [
        "#b. REGRESIOIN LOGÍSTICA - Curvas de aprendizaje usando los mejoes valores usanod métrica f1-score \n",
        "\n",
        "\n",
        "delta_train_sz = np.linspace(.1, 1.0, 20)\n",
        "LR_grid_res=LogisticRegression(max_iter=1000,C=1.0,penalty='l2',solver='newton-cg',class_weight=None)\n",
        "\n",
        "\n",
        "tr_sizes,tr_scores, val_scores = learning_curve(LR_grid_res,    \n",
        "                                                        X = XtrainFTf,\n",
        "                                                        y = Ytrain,\n",
        "                                                        cv = cv ,\n",
        "                                                        train_sizes = delta_train_sz ,\n",
        "                                                        scoring='f1'\n",
        "                                                        )\n",
        "\n",
        "train_mean = np.mean(tr_scores, axis=1)\n",
        "train_std = np.std(tr_scores, axis=1)\n",
        "valid_mean = np.mean(val_scores, axis=1)\n",
        "valid_std = np.std(val_scores, axis=1)\n",
        "\n",
        "\n",
        "# Curva de entrenamiento con la métrica de exactitud (F1-Score):\n",
        "plt.plot(tr_sizes, train_mean, color='blue', marker='o', markersize=5, label='Training')\n",
        "\n",
        "# Curva de validación:\n",
        "plt.plot(tr_sizes, valid_mean, color='red', marker='o', markersize=5, label='Validation')\n",
        "\n",
        "plt.title('Curvas de Aprendizaje incrementando el tamaño de la muestra - LR')\n",
        "plt.xlabel('Tamaño del conjunto de entrenamiento')\n",
        "plt.ylabel('F1-Score')\n",
        "plt.grid()\n",
        "plt.legend(loc='lower right')\n",
        "plt.show()"
      ],
      "metadata": {
        "id": "m8n_4iqXkO5E",
        "colab": {
          "base_uri": "https://localhost:8080/",
          "height": 295
        },
        "outputId": "bc1d52e5-2f5d-45fd-97fc-786bae63134d"
      },
      "execution_count": null,
      "outputs": [
        {
          "output_type": "display_data",
          "data": {
            "text/plain": [
              "<Figure size 432x288 with 1 Axes>"
            ],
            "image/png": "[encoded data removed]"
          },
          "metadata": {
            "needs_background": "light"
          }
        }
      ]
    },
    {
      "cell_type": "code",
      "source": [
        "#c. DECISION TREE - Buscando los mejores hiperparámetros, debes incluir en su búsqueda deben ser al menos los siguientes: ccp_alpha, criterion, max_depth, min_samples_split y class_weight. En este caso deberás usar la métrica (scoring) “precision”.\n",
        "\n",
        "modelo_DT=DecisionTreeClassifier()\n",
        "\n",
        "enn=EditedNearestNeighbours()\n",
        "X_res, y_res =tom.fit_resample(Xtrain,Ytrain)\n",
        "\n",
        "criterion=[\"gini\", \"entropy\",\"log_loss\"]\n",
        "max_depth=np.arange(33,39)\n",
        "min_samples_split=np.arange(2,5)\n",
        "class_weight=[None,'balanced']\n",
        "ccp_alpha=np.round(np.linspace(0,0.1,4),2)\n",
        "\n",
        "cv = RepeatedStratifiedKFold(n_splits=5, n_repeats=3)\n",
        "\n",
        "grid_modelo_DT=GridSearchCV(modelo_DT,param_grid={'criterion':criterion,'max_depth':max_depth,\n",
        "                                                 'min_samples_split':min_samples_split,'class_weight':class_weight,\n",
        "                                                 'ccp_alpha':ccp_alpha},cv=cv,scoring='precision')\n",
        "\n",
        "grid_modelo_DT.fit(X_res,y_res)\n",
        "\n"
      ],
      "metadata": {
        "id": "b8mpnfUbq6E9",
        "colab": {
          "base_uri": "https://localhost:8080/"
        },
        "outputId": "8220f83a-b939-4e2a-9a3b-c09cabea4b7b"
      },
      "execution_count": null,
      "outputs": [
        {
          "output_type": "stream",
          "name": "stderr",
          "text": [
            "/usr/local/lib/python3.7/dist-packages/sklearn/metrics/_classification.py:1318: UndefinedMetricWarning: Precision is ill-defined and being set to 0.0 due to no predicted samples. Use `zero_division` parameter to control this behavior.\n",
            "  _warn_prf(average, modifier, msg_start, len(result))\n",
            "/usr/local/lib/python3.7/dist-packages/sklearn/metrics/_classification.py:1318: UndefinedMetricWarning: Precision is ill-defined and being set to 0.0 due to no predicted samples. Use `zero_division` parameter to control this behavior.\n",
            "  _warn_prf(average, modifier, msg_start, len(result))\n",
            "/usr/local/lib/python3.7/dist-packages/sklearn/metrics/_classification.py:1318: UndefinedMetricWarning: Precision is ill-defined and being set to 0.0 due to no predicted samples. Use `zero_division` parameter to control this behavior.\n",
            "  _warn_prf(average, modifier, msg_start, len(result))\n",
            "/usr/local/lib/python3.7/dist-packages/sklearn/metrics/_classification.py:1318: UndefinedMetricWarning: Precision is ill-defined and being set to 0.0 due to no predicted samples. Use `zero_division` parameter to control this behavior.\n",
            "  _warn_prf(average, modifier, msg_start, len(result))\n",
            "/usr/local/lib/python3.7/dist-packages/sklearn/metrics/_classification.py:1318: UndefinedMetricWarning: Precision is ill-defined and being set to 0.0 due to no predicted samples. Use `zero_division` parameter to control this behavior.\n",
            "  _warn_prf(average, modifier, msg_start, len(result))\n",
            "/usr/local/lib/python3.7/dist-packages/sklearn/metrics/_classification.py:1318: UndefinedMetricWarning: Precision is ill-defined and being set to 0.0 due to no predicted samples. Use `zero_division` parameter to control this behavior.\n",
            "  _warn_prf(average, modifier, msg_start, len(result))\n",
            "/usr/local/lib/python3.7/dist-packages/sklearn/metrics/_classification.py:1318: UndefinedMetricWarning: Precision is ill-defined and being set to 0.0 due to no predicted samples. Use `zero_division` parameter to control this behavior.\n",
            "  _warn_prf(average, modifier, msg_start, len(result))\n",
            "/usr/local/lib/python3.7/dist-packages/sklearn/metrics/_classification.py:1318: UndefinedMetricWarning: Precision is ill-defined and being set to 0.0 due to no predicted samples. Use `zero_division` parameter to control this behavior.\n",
            "  _warn_prf(average, modifier, msg_start, len(result))\n",
            "/usr/local/lib/python3.7/dist-packages/sklearn/metrics/_classification.py:1318: UndefinedMetricWarning: Precision is ill-defined and being set to 0.0 due to no predicted samples. Use `zero_division` parameter to control this behavior.\n",
            "  _warn_prf(average, modifier, msg_start, len(result))\n",
            "/usr/local/lib/python3.7/dist-packages/sklearn/metrics/_classification.py:1318: UndefinedMetricWarning: Precision is ill-defined and being set to 0.0 due to no predicted samples. Use `zero_division` parameter to control this behavior.\n",
            "  _warn_prf(average, modifier, msg_start, len(result))\n",
            "/usr/local/lib/python3.7/dist-packages/sklearn/metrics/_classification.py:1318: UndefinedMetricWarning: Precision is ill-defined and being set to 0.0 due to no predicted samples. Use `zero_division` parameter to control this behavior.\n",
            "  _warn_prf(average, modifier, msg_start, len(result))\n",
            "/usr/local/lib/python3.7/dist-packages/sklearn/metrics/_classification.py:1318: UndefinedMetricWarning: Precision is ill-defined and being set to 0.0 due to no predicted samples. Use `zero_division` parameter to control this behavior.\n",
            "  _warn_prf(average, modifier, msg_start, len(result))\n",
            "/usr/local/lib/python3.7/dist-packages/sklearn/metrics/_classification.py:1318: UndefinedMetricWarning: Precision is ill-defined and being set to 0.0 due to no predicted samples. Use `zero_division` parameter to control this behavior.\n",
            "  _warn_prf(average, modifier, msg_start, len(result))\n",
            "/usr/local/lib/python3.7/dist-packages/sklearn/metrics/_classification.py:1318: UndefinedMetricWarning: Precision is ill-defined and being set to 0.0 due to no predicted samples. Use `zero_division` parameter to control this behavior.\n",
            "  _warn_prf(average, modifier, msg_start, len(result))\n",
            "/usr/local/lib/python3.7/dist-packages/sklearn/metrics/_classification.py:1318: UndefinedMetricWarning: Precision is ill-defined and being set to 0.0 due to no predicted samples. Use `zero_division` parameter to control this behavior.\n",
            "  _warn_prf(average, modifier, msg_start, len(result))\n",
            "/usr/local/lib/python3.7/dist-packages/sklearn/metrics/_classification.py:1318: UndefinedMetricWarning: Precision is ill-defined and being set to 0.0 due to no predicted samples. Use `zero_division` parameter to control this behavior.\n",
            "  _warn_prf(average, modifier, msg_start, len(result))\n",
            "/usr/local/lib/python3.7/dist-packages/sklearn/metrics/_classification.py:1318: UndefinedMetricWarning: Precision is ill-defined and being set to 0.0 due to no predicted samples. Use `zero_division` parameter to control this behavior.\n",
            "  _warn_prf(average, modifier, msg_start, len(result))\n",
            "/usr/local/lib/python3.7/dist-packages/sklearn/metrics/_classification.py:1318: UndefinedMetricWarning: Precision is ill-defined and being set to 0.0 due to no predicted samples. Use `zero_division` parameter to control this behavior.\n",
            "  _warn_prf(average, modifier, msg_start, len(result))\n",
            "/usr/local/lib/python3.7/dist-packages/sklearn/metrics/_classification.py:1318: UndefinedMetricWarning: Precision is ill-defined and being set to 0.0 due to no predicted samples. Use `zero_division` parameter to control this behavior.\n",
            "  _warn_prf(average, modifier, msg_start, len(result))\n",
            "/usr/local/lib/python3.7/dist-packages/sklearn/metrics/_classification.py:1318: UndefinedMetricWarning: Precision is ill-defined and being set to 0.0 due to no predicted samples. Use `zero_division` parameter to control this behavior.\n",
            "  _warn_prf(average, modifier, msg_start, len(result))\n",
            "/usr/local/lib/python3.7/dist-packages/sklearn/metrics/_classification.py:1318: UndefinedMetricWarning: Precision is ill-defined and being set to 0.0 due to no predicted samples. Use `zero_division` parameter to control this behavior.\n",
            "  _warn_prf(average, modifier, msg_start, len(result))\n",
            "/usr/local/lib/python3.7/dist-packages/sklearn/metrics/_classification.py:1318: UndefinedMetricWarning: Precision is ill-defined and being set to 0.0 due to no predicted samples. Use `zero_division` parameter to control this behavior.\n",
            "  _warn_prf(average, modifier, msg_start, len(result))\n",
            "/usr/local/lib/python3.7/dist-packages/sklearn/metrics/_classification.py:1318: UndefinedMetricWarning: Precision is ill-defined and being set to 0.0 due to no predicted samples. Use `zero_division` parameter to control this behavior.\n",
            "  _warn_prf(average, modifier, msg_start, len(result))\n",
            "/usr/local/lib/python3.7/dist-packages/sklearn/metrics/_classification.py:1318: UndefinedMetricWarning: Precision is ill-defined and being set to 0.0 due to no predicted samples. Use `zero_division` parameter to control this behavior.\n",
            "  _warn_prf(average, modifier, msg_start, len(result))\n",
            "/usr/local/lib/python3.7/dist-packages/sklearn/metrics/_classification.py:1318: UndefinedMetricWarning: Precision is ill-defined and being set to 0.0 due to no predicted samples. Use `zero_division` parameter to control this behavior.\n",
            "  _warn_prf(average, modifier, msg_start, len(result))\n",
            "/usr/local/lib/python3.7/dist-packages/sklearn/metrics/_classification.py:1318: UndefinedMetricWarning: Precision is ill-defined and being set to 0.0 due to no predicted samples. Use `zero_division` parameter to control this behavior.\n",
            "  _warn_prf(average, modifier, msg_start, len(result))\n",
            "/usr/local/lib/python3.7/dist-packages/sklearn/metrics/_classification.py:1318: UndefinedMetricWarning: Precision is ill-defined and being set to 0.0 due to no predicted samples. Use `zero_division` parameter to control this behavior.\n",
            "  _warn_prf(average, modifier, msg_start, len(result))\n",
            "/usr/local/lib/python3.7/dist-packages/sklearn/metrics/_classification.py:1318: UndefinedMetricWarning: Precision is ill-defined and being set to 0.0 due to no predicted samples. Use `zero_division` parameter to control this behavior.\n",
            "  _warn_prf(average, modifier, msg_start, len(result))\n",
            "/usr/local/lib/python3.7/dist-packages/sklearn/metrics/_classification.py:1318: UndefinedMetricWarning: Precision is ill-defined and being set to 0.0 due to no predicted samples. Use `zero_division` parameter to control this behavior.\n",
            "  _warn_prf(average, modifier, msg_start, len(result))\n",
            "/usr/local/lib/python3.7/dist-packages/sklearn/metrics/_classification.py:1318: UndefinedMetricWarning: Precision is ill-defined and being set to 0.0 due to no predicted samples. Use `zero_division` parameter to control this behavior.\n",
            "  _warn_prf(average, modifier, msg_start, len(result))\n",
            "/usr/local/lib/python3.7/dist-packages/sklearn/metrics/_classification.py:1318: UndefinedMetricWarning: Precision is ill-defined and being set to 0.0 due to no predicted samples. Use `zero_division` parameter to control this behavior.\n",
            "  _warn_prf(average, modifier, msg_start, len(result))\n",
            "/usr/local/lib/python3.7/dist-packages/sklearn/metrics/_classification.py:1318: UndefinedMetricWarning: Precision is ill-defined and being set to 0.0 due to no predicted samples. Use `zero_division` parameter to control this behavior.\n",
            "  _warn_prf(average, modifier, msg_start, len(result))\n",
            "/usr/local/lib/python3.7/dist-packages/sklearn/metrics/_classification.py:1318: UndefinedMetricWarning: Precision is ill-defined and being set to 0.0 due to no predicted samples. Use `zero_division` parameter to control this behavior.\n",
            "  _warn_prf(average, modifier, msg_start, len(result))\n",
            "/usr/local/lib/python3.7/dist-packages/sklearn/metrics/_classification.py:1318: UndefinedMetricWarning: Precision is ill-defined and being set to 0.0 due to no predicted samples. Use `zero_division` parameter to control this behavior.\n",
            "  _warn_prf(average, modifier, msg_start, len(result))\n",
            "/usr/local/lib/python3.7/dist-packages/sklearn/metrics/_classification.py:1318: UndefinedMetricWarning: Precision is ill-defined and being set to 0.0 due to no predicted samples. Use `zero_division` parameter to control this behavior.\n",
            "  _warn_prf(average, modifier, msg_start, len(result))\n",
            "/usr/local/lib/python3.7/dist-packages/sklearn/metrics/_classification.py:1318: UndefinedMetricWarning: Precision is ill-defined and being set to 0.0 due to no predicted samples. Use `zero_division` parameter to control this behavior.\n",
            "  _warn_prf(average, modifier, msg_start, len(result))\n",
            "/usr/local/lib/python3.7/dist-packages/sklearn/metrics/_classification.py:1318: UndefinedMetricWarning: Precision is ill-defined and being set to 0.0 due to no predicted samples. Use `zero_division` parameter to control this behavior.\n",
            "  _warn_prf(average, modifier, msg_start, len(result))\n",
            "/usr/local/lib/python3.7/dist-packages/sklearn/metrics/_classification.py:1318: UndefinedMetricWarning: Precision is ill-defined and being set to 0.0 due to no predicted samples. Use `zero_division` parameter to control this behavior.\n",
            "  _warn_prf(average, modifier, msg_start, len(result))\n",
            "/usr/local/lib/python3.7/dist-packages/sklearn/metrics/_classification.py:1318: UndefinedMetricWarning: Precision is ill-defined and being set to 0.0 due to no predicted samples. Use `zero_division` parameter to control this behavior.\n",
            "  _warn_prf(average, modifier, msg_start, len(result))\n",
            "/usr/local/lib/python3.7/dist-packages/sklearn/metrics/_classification.py:1318: UndefinedMetricWarning: Precision is ill-defined and being set to 0.0 due to no predicted samples. Use `zero_division` parameter to control this behavior.\n",
            "  _warn_prf(average, modifier, msg_start, len(result))\n",
            "/usr/local/lib/python3.7/dist-packages/sklearn/metrics/_classification.py:1318: UndefinedMetricWarning: Precision is ill-defined and being set to 0.0 due to no predicted samples. Use `zero_division` parameter to control this behavior.\n",
            "  _warn_prf(average, modifier, msg_start, len(result))\n",
            "/usr/local/lib/python3.7/dist-packages/sklearn/metrics/_classification.py:1318: UndefinedMetricWarning: Precision is ill-defined and being set to 0.0 due to no predicted samples. Use `zero_division` parameter to control this behavior.\n",
            "  _warn_prf(average, modifier, msg_start, len(result))\n",
            "/usr/local/lib/python3.7/dist-packages/sklearn/metrics/_classification.py:1318: UndefinedMetricWarning: Precision is ill-defined and being set to 0.0 due to no predicted samples. Use `zero_division` parameter to control this behavior.\n",
            "  _warn_prf(average, modifier, msg_start, len(result))\n",
            "/usr/local/lib/python3.7/dist-packages/sklearn/metrics/_classification.py:1318: UndefinedMetricWarning: Precision is ill-defined and being set to 0.0 due to no predicted samples. Use `zero_division` parameter to control this behavior.\n",
            "  _warn_prf(average, modifier, msg_start, len(result))\n",
            "/usr/local/lib/python3.7/dist-packages/sklearn/metrics/_classification.py:1318: UndefinedMetricWarning: Precision is ill-defined and being set to 0.0 due to no predicted samples. Use `zero_division` parameter to control this behavior.\n",
            "  _warn_prf(average, modifier, msg_start, len(result))\n",
            "/usr/local/lib/python3.7/dist-packages/sklearn/metrics/_classification.py:1318: UndefinedMetricWarning: Precision is ill-defined and being set to 0.0 due to no predicted samples. Use `zero_division` parameter to control this behavior.\n",
            "  _warn_prf(average, modifier, msg_start, len(result))\n",
            "/usr/local/lib/python3.7/dist-packages/sklearn/metrics/_classification.py:1318: UndefinedMetricWarning: Precision is ill-defined and being set to 0.0 due to no predicted samples. Use `zero_division` parameter to control this behavior.\n",
            "  _warn_prf(average, modifier, msg_start, len(result))\n",
            "/usr/local/lib/python3.7/dist-packages/sklearn/metrics/_classification.py:1318: UndefinedMetricWarning: Precision is ill-defined and being set to 0.0 due to no predicted samples. Use `zero_division` parameter to control this behavior.\n",
            "  _warn_prf(average, modifier, msg_start, len(result))\n",
            "/usr/local/lib/python3.7/dist-packages/sklearn/metrics/_classification.py:1318: UndefinedMetricWarning: Precision is ill-defined and being set to 0.0 due to no predicted samples. Use `zero_division` parameter to control this behavior.\n",
            "  _warn_prf(average, modifier, msg_start, len(result))\n",
            "/usr/local/lib/python3.7/dist-packages/sklearn/metrics/_classification.py:1318: UndefinedMetricWarning: Precision is ill-defined and being set to 0.0 due to no predicted samples. Use `zero_division` parameter to control this behavior.\n",
            "  _warn_prf(average, modifier, msg_start, len(result))\n",
            "/usr/local/lib/python3.7/dist-packages/sklearn/metrics/_classification.py:1318: UndefinedMetricWarning: Precision is ill-defined and being set to 0.0 due to no predicted samples. Use `zero_division` parameter to control this behavior.\n",
            "  _warn_prf(average, modifier, msg_start, len(result))\n",
            "/usr/local/lib/python3.7/dist-packages/sklearn/metrics/_classification.py:1318: UndefinedMetricWarning: Precision is ill-defined and being set to 0.0 due to no predicted samples. Use `zero_division` parameter to control this behavior.\n",
            "  _warn_prf(average, modifier, msg_start, len(result))\n",
            "/usr/local/lib/python3.7/dist-packages/sklearn/metrics/_classification.py:1318: UndefinedMetricWarning: Precision is ill-defined and being set to 0.0 due to no predicted samples. Use `zero_division` parameter to control this behavior.\n",
            "  _warn_prf(average, modifier, msg_start, len(result))\n",
            "/usr/local/lib/python3.7/dist-packages/sklearn/metrics/_classification.py:1318: UndefinedMetricWarning: Precision is ill-defined and being set to 0.0 due to no predicted samples. Use `zero_division` parameter to control this behavior.\n",
            "  _warn_prf(average, modifier, msg_start, len(result))\n",
            "/usr/local/lib/python3.7/dist-packages/sklearn/metrics/_classification.py:1318: UndefinedMetricWarning: Precision is ill-defined and being set to 0.0 due to no predicted samples. Use `zero_division` parameter to control this behavior.\n",
            "  _warn_prf(average, modifier, msg_start, len(result))\n",
            "/usr/local/lib/python3.7/dist-packages/sklearn/metrics/_classification.py:1318: UndefinedMetricWarning: Precision is ill-defined and being set to 0.0 due to no predicted samples. Use `zero_division` parameter to control this behavior.\n",
            "  _warn_prf(average, modifier, msg_start, len(result))\n",
            "/usr/local/lib/python3.7/dist-packages/sklearn/metrics/_classification.py:1318: UndefinedMetricWarning: Precision is ill-defined and being set to 0.0 due to no predicted samples. Use `zero_division` parameter to control this behavior.\n",
            "  _warn_prf(average, modifier, msg_start, len(result))\n",
            "/usr/local/lib/python3.7/dist-packages/sklearn/metrics/_classification.py:1318: UndefinedMetricWarning: Precision is ill-defined and being set to 0.0 due to no predicted samples. Use `zero_division` parameter to control this behavior.\n",
            "  _warn_prf(average, modifier, msg_start, len(result))\n",
            "/usr/local/lib/python3.7/dist-packages/sklearn/metrics/_classification.py:1318: UndefinedMetricWarning: Precision is ill-defined and being set to 0.0 due to no predicted samples. Use `zero_division` parameter to control this behavior.\n",
            "  _warn_prf(average, modifier, msg_start, len(result))\n",
            "/usr/local/lib/python3.7/dist-packages/sklearn/metrics/_classification.py:1318: UndefinedMetricWarning: Precision is ill-defined and being set to 0.0 due to no predicted samples. Use `zero_division` parameter to control this behavior.\n",
            "  _warn_prf(average, modifier, msg_start, len(result))\n",
            "/usr/local/lib/python3.7/dist-packages/sklearn/metrics/_classification.py:1318: UndefinedMetricWarning: Precision is ill-defined and being set to 0.0 due to no predicted samples. Use `zero_division` parameter to control this behavior.\n",
            "  _warn_prf(average, modifier, msg_start, len(result))\n",
            "/usr/local/lib/python3.7/dist-packages/sklearn/metrics/_classification.py:1318: UndefinedMetricWarning: Precision is ill-defined and being set to 0.0 due to no predicted samples. Use `zero_division` parameter to control this behavior.\n",
            "  _warn_prf(average, modifier, msg_start, len(result))\n",
            "/usr/local/lib/python3.7/dist-packages/sklearn/metrics/_classification.py:1318: UndefinedMetricWarning: Precision is ill-defined and being set to 0.0 due to no predicted samples. Use `zero_division` parameter to control this behavior.\n",
            "  _warn_prf(average, modifier, msg_start, len(result))\n",
            "/usr/local/lib/python3.7/dist-packages/sklearn/metrics/_classification.py:1318: UndefinedMetricWarning: Precision is ill-defined and being set to 0.0 due to no predicted samples. Use `zero_division` parameter to control this behavior.\n",
            "  _warn_prf(average, modifier, msg_start, len(result))\n",
            "/usr/local/lib/python3.7/dist-packages/sklearn/metrics/_classification.py:1318: UndefinedMetricWarning: Precision is ill-defined and being set to 0.0 due to no predicted samples. Use `zero_division` parameter to control this behavior.\n",
            "  _warn_prf(average, modifier, msg_start, len(result))\n",
            "/usr/local/lib/python3.7/dist-packages/sklearn/metrics/_classification.py:1318: UndefinedMetricWarning: Precision is ill-defined and being set to 0.0 due to no predicted samples. Use `zero_division` parameter to control this behavior.\n",
            "  _warn_prf(average, modifier, msg_start, len(result))\n",
            "/usr/local/lib/python3.7/dist-packages/sklearn/metrics/_classification.py:1318: UndefinedMetricWarning: Precision is ill-defined and being set to 0.0 due to no predicted samples. Use `zero_division` parameter to control this behavior.\n",
            "  _warn_prf(average, modifier, msg_start, len(result))\n",
            "/usr/local/lib/python3.7/dist-packages/sklearn/metrics/_classification.py:1318: UndefinedMetricWarning: Precision is ill-defined and being set to 0.0 due to no predicted samples. Use `zero_division` parameter to control this behavior.\n",
            "  _warn_prf(average, modifier, msg_start, len(result))\n",
            "/usr/local/lib/python3.7/dist-packages/sklearn/metrics/_classification.py:1318: UndefinedMetricWarning: Precision is ill-defined and being set to 0.0 due to no predicted samples. Use `zero_division` parameter to control this behavior.\n",
            "  _warn_prf(average, modifier, msg_start, len(result))\n",
            "/usr/local/lib/python3.7/dist-packages/sklearn/metrics/_classification.py:1318: UndefinedMetricWarning: Precision is ill-defined and being set to 0.0 due to no predicted samples. Use `zero_division` parameter to control this behavior.\n",
            "  _warn_prf(average, modifier, msg_start, len(result))\n",
            "/usr/local/lib/python3.7/dist-packages/sklearn/metrics/_classification.py:1318: UndefinedMetricWarning: Precision is ill-defined and being set to 0.0 due to no predicted samples. Use `zero_division` parameter to control this behavior.\n",
            "  _warn_prf(average, modifier, msg_start, len(result))\n",
            "/usr/local/lib/python3.7/dist-packages/sklearn/metrics/_classification.py:1318: UndefinedMetricWarning: Precision is ill-defined and being set to 0.0 due to no predicted samples. Use `zero_division` parameter to control this behavior.\n",
            "  _warn_prf(average, modifier, msg_start, len(result))\n",
            "/usr/local/lib/python3.7/dist-packages/sklearn/metrics/_classification.py:1318: UndefinedMetricWarning: Precision is ill-defined and being set to 0.0 due to no predicted samples. Use `zero_division` parameter to control this behavior.\n",
            "  _warn_prf(average, modifier, msg_start, len(result))\n",
            "/usr/local/lib/python3.7/dist-packages/sklearn/metrics/_classification.py:1318: UndefinedMetricWarning: Precision is ill-defined and being set to 0.0 due to no predicted samples. Use `zero_division` parameter to control this behavior.\n",
            "  _warn_prf(average, modifier, msg_start, len(result))\n",
            "/usr/local/lib/python3.7/dist-packages/sklearn/metrics/_classification.py:1318: UndefinedMetricWarning: Precision is ill-defined and being set to 0.0 due to no predicted samples. Use `zero_division` parameter to control this behavior.\n",
            "  _warn_prf(average, modifier, msg_start, len(result))\n",
            "/usr/local/lib/python3.7/dist-packages/sklearn/metrics/_classification.py:1318: UndefinedMetricWarning: Precision is ill-defined and being set to 0.0 due to no predicted samples. Use `zero_division` parameter to control this behavior.\n",
            "  _warn_prf(average, modifier, msg_start, len(result))\n",
            "/usr/local/lib/python3.7/dist-packages/sklearn/metrics/_classification.py:1318: UndefinedMetricWarning: Precision is ill-defined and being set to 0.0 due to no predicted samples. Use `zero_division` parameter to control this behavior.\n",
            "  _warn_prf(average, modifier, msg_start, len(result))\n",
            "/usr/local/lib/python3.7/dist-packages/sklearn/metrics/_classification.py:1318: UndefinedMetricWarning: Precision is ill-defined and being set to 0.0 due to no predicted samples. Use `zero_division` parameter to control this behavior.\n",
            "  _warn_prf(average, modifier, msg_start, len(result))\n",
            "/usr/local/lib/python3.7/dist-packages/sklearn/metrics/_classification.py:1318: UndefinedMetricWarning: Precision is ill-defined and being set to 0.0 due to no predicted samples. Use `zero_division` parameter to control this behavior.\n",
            "  _warn_prf(average, modifier, msg_start, len(result))\n",
            "/usr/local/lib/python3.7/dist-packages/sklearn/metrics/_classification.py:1318: UndefinedMetricWarning: Precision is ill-defined and being set to 0.0 due to no predicted samples. Use `zero_division` parameter to control this behavior.\n",
            "  _warn_prf(average, modifier, msg_start, len(result))\n",
            "/usr/local/lib/python3.7/dist-packages/sklearn/metrics/_classification.py:1318: UndefinedMetricWarning: Precision is ill-defined and being set to 0.0 due to no predicted samples. Use `zero_division` parameter to control this behavior.\n",
            "  _warn_prf(average, modifier, msg_start, len(result))\n",
            "/usr/local/lib/python3.7/dist-packages/sklearn/metrics/_classification.py:1318: UndefinedMetricWarning: Precision is ill-defined and being set to 0.0 due to no predicted samples. Use `zero_division` parameter to control this behavior.\n",
            "  _warn_prf(average, modifier, msg_start, len(result))\n",
            "/usr/local/lib/python3.7/dist-packages/sklearn/metrics/_classification.py:1318: UndefinedMetricWarning: Precision is ill-defined and being set to 0.0 due to no predicted samples. Use `zero_division` parameter to control this behavior.\n",
            "  _warn_prf(average, modifier, msg_start, len(result))\n",
            "/usr/local/lib/python3.7/dist-packages/sklearn/metrics/_classification.py:1318: UndefinedMetricWarning: Precision is ill-defined and being set to 0.0 due to no predicted samples. Use `zero_division` parameter to control this behavior.\n",
            "  _warn_prf(average, modifier, msg_start, len(result))\n",
            "/usr/local/lib/python3.7/dist-packages/sklearn/metrics/_classification.py:1318: UndefinedMetricWarning: Precision is ill-defined and being set to 0.0 due to no predicted samples. Use `zero_division` parameter to control this behavior.\n",
            "  _warn_prf(average, modifier, msg_start, len(result))\n",
            "/usr/local/lib/python3.7/dist-packages/sklearn/metrics/_classification.py:1318: UndefinedMetricWarning: Precision is ill-defined and being set to 0.0 due to no predicted samples. Use `zero_division` parameter to control this behavior.\n",
            "  _warn_prf(average, modifier, msg_start, len(result))\n",
            "/usr/local/lib/python3.7/dist-packages/sklearn/metrics/_classification.py:1318: UndefinedMetricWarning: Precision is ill-defined and being set to 0.0 due to no predicted samples. Use `zero_division` parameter to control this behavior.\n",
            "  _warn_prf(average, modifier, msg_start, len(result))\n",
            "/usr/local/lib/python3.7/dist-packages/sklearn/metrics/_classification.py:1318: UndefinedMetricWarning: Precision is ill-defined and being set to 0.0 due to no predicted samples. Use `zero_division` parameter to control this behavior.\n",
            "  _warn_prf(average, modifier, msg_start, len(result))\n",
            "/usr/local/lib/python3.7/dist-packages/sklearn/metrics/_classification.py:1318: UndefinedMetricWarning: Precision is ill-defined and being set to 0.0 due to no predicted samples. Use `zero_division` parameter to control this behavior.\n",
            "  _warn_prf(average, modifier, msg_start, len(result))\n",
            "/usr/local/lib/python3.7/dist-packages/sklearn/metrics/_classification.py:1318: UndefinedMetricWarning: Precision is ill-defined and being set to 0.0 due to no predicted samples. Use `zero_division` parameter to control this behavior.\n",
            "  _warn_prf(average, modifier, msg_start, len(result))\n",
            "/usr/local/lib/python3.7/dist-packages/sklearn/metrics/_classification.py:1318: UndefinedMetricWarning: Precision is ill-defined and being set to 0.0 due to no predicted samples. Use `zero_division` parameter to control this behavior.\n",
            "  _warn_prf(average, modifier, msg_start, len(result))\n",
            "/usr/local/lib/python3.7/dist-packages/sklearn/metrics/_classification.py:1318: UndefinedMetricWarning: Precision is ill-defined and being set to 0.0 due to no predicted samples. Use `zero_division` parameter to control this behavior.\n",
            "  _warn_prf(average, modifier, msg_start, len(result))\n",
            "/usr/local/lib/python3.7/dist-packages/sklearn/metrics/_classification.py:1318: UndefinedMetricWarning: Precision is ill-defined and being set to 0.0 due to no predicted samples. Use `zero_division` parameter to control this behavior.\n",
            "  _warn_prf(average, modifier, msg_start, len(result))\n",
            "/usr/local/lib/python3.7/dist-packages/sklearn/metrics/_classification.py:1318: UndefinedMetricWarning: Precision is ill-defined and being set to 0.0 due to no predicted samples. Use `zero_division` parameter to control this behavior.\n",
            "  _warn_prf(average, modifier, msg_start, len(result))\n",
            "/usr/local/lib/python3.7/dist-packages/sklearn/metrics/_classification.py:1318: UndefinedMetricWarning: Precision is ill-defined and being set to 0.0 due to no predicted samples. Use `zero_division` parameter to control this behavior.\n",
            "  _warn_prf(average, modifier, msg_start, len(result))\n",
            "/usr/local/lib/python3.7/dist-packages/sklearn/metrics/_classification.py:1318: UndefinedMetricWarning: Precision is ill-defined and being set to 0.0 due to no predicted samples. Use `zero_division` parameter to control this behavior.\n",
            "  _warn_prf(average, modifier, msg_start, len(result))\n",
            "/usr/local/lib/python3.7/dist-packages/sklearn/metrics/_classification.py:1318: UndefinedMetricWarning: Precision is ill-defined and being set to 0.0 due to no predicted samples. Use `zero_division` parameter to control this behavior.\n",
            "  _warn_prf(average, modifier, msg_start, len(result))\n",
            "/usr/local/lib/python3.7/dist-packages/sklearn/metrics/_classification.py:1318: UndefinedMetricWarning: Precision is ill-defined and being set to 0.0 due to no predicted samples. Use `zero_division` parameter to control this behavior.\n",
            "  _warn_prf(average, modifier, msg_start, len(result))\n",
            "/usr/local/lib/python3.7/dist-packages/sklearn/metrics/_classification.py:1318: UndefinedMetricWarning: Precision is ill-defined and being set to 0.0 due to no predicted samples. Use `zero_division` parameter to control this behavior.\n",
            "  _warn_prf(average, modifier, msg_start, len(result))\n",
            "/usr/local/lib/python3.7/dist-packages/sklearn/metrics/_classification.py:1318: UndefinedMetricWarning: Precision is ill-defined and being set to 0.0 due to no predicted samples. Use `zero_division` parameter to control this behavior.\n",
            "  _warn_prf(average, modifier, msg_start, len(result))\n",
            "/usr/local/lib/python3.7/dist-packages/sklearn/metrics/_classification.py:1318: UndefinedMetricWarning: Precision is ill-defined and being set to 0.0 due to no predicted samples. Use `zero_division` parameter to control this behavior.\n",
            "  _warn_prf(average, modifier, msg_start, len(result))\n",
            "/usr/local/lib/python3.7/dist-packages/sklearn/metrics/_classification.py:1318: UndefinedMetricWarning: Precision is ill-defined and being set to 0.0 due to no predicted samples. Use `zero_division` parameter to control this behavior.\n",
            "  _warn_prf(average, modifier, msg_start, len(result))\n",
            "/usr/local/lib/python3.7/dist-packages/sklearn/metrics/_classification.py:1318: UndefinedMetricWarning: Precision is ill-defined and being set to 0.0 due to no predicted samples. Use `zero_division` parameter to control this behavior.\n",
            "  _warn_prf(average, modifier, msg_start, len(result))\n",
            "/usr/local/lib/python3.7/dist-packages/sklearn/metrics/_classification.py:1318: UndefinedMetricWarning: Precision is ill-defined and being set to 0.0 due to no predicted samples. Use `zero_division` parameter to control this behavior.\n",
            "  _warn_prf(average, modifier, msg_start, len(result))\n",
            "/usr/local/lib/python3.7/dist-packages/sklearn/metrics/_classification.py:1318: UndefinedMetricWarning: Precision is ill-defined and being set to 0.0 due to no predicted samples. Use `zero_division` parameter to control this behavior.\n",
            "  _warn_prf(average, modifier, msg_start, len(result))\n",
            "/usr/local/lib/python3.7/dist-packages/sklearn/metrics/_classification.py:1318: UndefinedMetricWarning: Precision is ill-defined and being set to 0.0 due to no predicted samples. Use `zero_division` parameter to control this behavior.\n",
            "  _warn_prf(average, modifier, msg_start, len(result))\n",
            "/usr/local/lib/python3.7/dist-packages/sklearn/metrics/_classification.py:1318: UndefinedMetricWarning: Precision is ill-defined and being set to 0.0 due to no predicted samples. Use `zero_division` parameter to control this behavior.\n",
            "  _warn_prf(average, modifier, msg_start, len(result))\n",
            "/usr/local/lib/python3.7/dist-packages/sklearn/metrics/_classification.py:1318: UndefinedMetricWarning: Precision is ill-defined and being set to 0.0 due to no predicted samples. Use `zero_division` parameter to control this behavior.\n",
            "  _warn_prf(average, modifier, msg_start, len(result))\n",
            "/usr/local/lib/python3.7/dist-packages/sklearn/metrics/_classification.py:1318: UndefinedMetricWarning: Precision is ill-defined and being set to 0.0 due to no predicted samples. Use `zero_division` parameter to control this behavior.\n",
            "  _warn_prf(average, modifier, msg_start, len(result))\n",
            "/usr/local/lib/python3.7/dist-packages/sklearn/metrics/_classification.py:1318: UndefinedMetricWarning: Precision is ill-defined and being set to 0.0 due to no predicted samples. Use `zero_division` parameter to control this behavior.\n",
            "  _warn_prf(average, modifier, msg_start, len(result))\n",
            "/usr/local/lib/python3.7/dist-packages/sklearn/metrics/_classification.py:1318: UndefinedMetricWarning: Precision is ill-defined and being set to 0.0 due to no predicted samples. Use `zero_division` parameter to control this behavior.\n",
            "  _warn_prf(average, modifier, msg_start, len(result))\n",
            "/usr/local/lib/python3.7/dist-packages/sklearn/metrics/_classification.py:1318: UndefinedMetricWarning: Precision is ill-defined and being set to 0.0 due to no predicted samples. Use `zero_division` parameter to control this behavior.\n",
            "  _warn_prf(average, modifier, msg_start, len(result))\n",
            "/usr/local/lib/python3.7/dist-packages/sklearn/metrics/_classification.py:1318: UndefinedMetricWarning: Precision is ill-defined and being set to 0.0 due to no predicted samples. Use `zero_division` parameter to control this behavior.\n",
            "  _warn_prf(average, modifier, msg_start, len(result))\n",
            "/usr/local/lib/python3.7/dist-packages/sklearn/metrics/_classification.py:1318: UndefinedMetricWarning: Precision is ill-defined and being set to 0.0 due to no predicted samples. Use `zero_division` parameter to control this behavior.\n",
            "  _warn_prf(average, modifier, msg_start, len(result))\n",
            "/usr/local/lib/python3.7/dist-packages/sklearn/metrics/_classification.py:1318: UndefinedMetricWarning: Precision is ill-defined and being set to 0.0 due to no predicted samples. Use `zero_division` parameter to control this behavior.\n",
            "  _warn_prf(average, modifier, msg_start, len(result))\n",
            "/usr/local/lib/python3.7/dist-packages/sklearn/metrics/_classification.py:1318: UndefinedMetricWarning: Precision is ill-defined and being set to 0.0 due to no predicted samples. Use `zero_division` parameter to control this behavior.\n",
            "  _warn_prf(average, modifier, msg_start, len(result))\n",
            "/usr/local/lib/python3.7/dist-packages/sklearn/metrics/_classification.py:1318: UndefinedMetricWarning: Precision is ill-defined and being set to 0.0 due to no predicted samples. Use `zero_division` parameter to control this behavior.\n",
            "  _warn_prf(average, modifier, msg_start, len(result))\n",
            "/usr/local/lib/python3.7/dist-packages/sklearn/metrics/_classification.py:1318: UndefinedMetricWarning: Precision is ill-defined and being set to 0.0 due to no predicted samples. Use `zero_division` parameter to control this behavior.\n",
            "  _warn_prf(average, modifier, msg_start, len(result))\n",
            "/usr/local/lib/python3.7/dist-packages/sklearn/metrics/_classification.py:1318: UndefinedMetricWarning: Precision is ill-defined and being set to 0.0 due to no predicted samples. Use `zero_division` parameter to control this behavior.\n",
            "  _warn_prf(average, modifier, msg_start, len(result))\n",
            "/usr/local/lib/python3.7/dist-packages/sklearn/metrics/_classification.py:1318: UndefinedMetricWarning: Precision is ill-defined and being set to 0.0 due to no predicted samples. Use `zero_division` parameter to control this behavior.\n",
            "  _warn_prf(average, modifier, msg_start, len(result))\n",
            "/usr/local/lib/python3.7/dist-packages/sklearn/metrics/_classification.py:1318: UndefinedMetricWarning: Precision is ill-defined and being set to 0.0 due to no predicted samples. Use `zero_division` parameter to control this behavior.\n",
            "  _warn_prf(average, modifier, msg_start, len(result))\n",
            "/usr/local/lib/python3.7/dist-packages/sklearn/metrics/_classification.py:1318: UndefinedMetricWarning: Precision is ill-defined and being set to 0.0 due to no predicted samples. Use `zero_division` parameter to control this behavior.\n",
            "  _warn_prf(average, modifier, msg_start, len(result))\n",
            "/usr/local/lib/python3.7/dist-packages/sklearn/metrics/_classification.py:1318: UndefinedMetricWarning: Precision is ill-defined and being set to 0.0 due to no predicted samples. Use `zero_division` parameter to control this behavior.\n",
            "  _warn_prf(average, modifier, msg_start, len(result))\n",
            "/usr/local/lib/python3.7/dist-packages/sklearn/metrics/_classification.py:1318: UndefinedMetricWarning: Precision is ill-defined and being set to 0.0 due to no predicted samples. Use `zero_division` parameter to control this behavior.\n",
            "  _warn_prf(average, modifier, msg_start, len(result))\n",
            "/usr/local/lib/python3.7/dist-packages/sklearn/metrics/_classification.py:1318: UndefinedMetricWarning: Precision is ill-defined and being set to 0.0 due to no predicted samples. Use `zero_division` parameter to control this behavior.\n",
            "  _warn_prf(average, modifier, msg_start, len(result))\n",
            "/usr/local/lib/python3.7/dist-packages/sklearn/metrics/_classification.py:1318: UndefinedMetricWarning: Precision is ill-defined and being set to 0.0 due to no predicted samples. Use `zero_division` parameter to control this behavior.\n",
            "  _warn_prf(average, modifier, msg_start, len(result))\n",
            "/usr/local/lib/python3.7/dist-packages/sklearn/model_selection/_validation.py:372: FitFailedWarning: \n",
            "2160 fits failed out of a total of 6480.\n",
            "The score on these train-test partitions for these parameters will be set to nan.\n",
            "If these failures are not expected, you can try to debug them by setting error_score='raise'.\n",
            "\n",
            "Below are more details about the failures:\n",
            "--------------------------------------------------------------------------------\n",
            "2160 fits failed with the following error:\n",
            "Traceback (most recent call last):\n",
            "  File \"/usr/local/lib/python3.7/dist-packages/sklearn/model_selection/_validation.py\", line 680, in _fit_and_score\n",
            "    estimator.fit(X_train, y_train, **fit_params)\n",
            "  File \"/usr/local/lib/python3.7/dist-packages/sklearn/tree/_classes.py\", line 942, in fit\n",
            "    X_idx_sorted=X_idx_sorted,\n",
            "  File \"/usr/local/lib/python3.7/dist-packages/sklearn/tree/_classes.py\", line 352, in fit\n",
            "    criterion = CRITERIA_CLF[self.criterion](\n",
            "KeyError: 'log_loss'\n",
            "\n",
            "  warnings.warn(some_fits_failed_message, FitFailedWarning)\n",
            "/usr/local/lib/python3.7/dist-packages/sklearn/model_selection/_search.py:972: UserWarning: One or more of the test scores are non-finite: [0.75758212 0.76303136 0.76498408 0.75712103 0.75749783 0.76796483\n",
            " 0.75800633 0.76061742 0.76807252 0.76238832 0.76539035 0.76641969\n",
            " 0.76523117 0.7628476  0.76391669 0.76116196 0.75239451 0.76745395\n",
            " 0.76159174 0.75478587 0.75727125 0.7533175  0.7642932  0.75711275\n",
            " 0.76105679 0.76177092 0.76212291 0.75572299 0.7583678  0.75917696\n",
            " 0.75298762 0.75888332 0.75964852 0.76123043 0.75675413 0.75845628\n",
            "        nan        nan        nan        nan        nan        nan\n",
            "        nan        nan        nan        nan        nan        nan\n",
            "        nan        nan        nan        nan        nan        nan\n",
            " 0.75923735 0.75923398 0.76168359 0.76347564 0.76159761 0.76190425\n",
            " 0.76333168 0.75267742 0.76107745 0.76482967 0.75638428 0.76235431\n",
            " 0.75964149 0.7600724  0.76466267 0.76042285 0.75768066 0.76378844\n",
            " 0.75164784 0.7519594  0.75141365 0.74973916 0.75009984 0.75162127\n",
            " 0.74926172 0.74970685 0.7543042  0.7475311  0.74938499 0.74956484\n",
            " 0.74838616 0.75414711 0.75298239 0.74855182 0.74584107 0.7521061\n",
            "        nan        nan        nan        nan        nan        nan\n",
            "        nan        nan        nan        nan        nan        nan\n",
            "        nan        nan        nan        nan        nan        nan\n",
            " 0.69406909 0.69406909 0.69406909 0.69406909 0.69406909 0.69406909\n",
            " 0.69406909 0.69406909 0.69406909 0.69406909 0.69406909 0.69406909\n",
            " 0.69406909 0.69406909 0.69406909 0.69406909 0.69406909 0.69406909\n",
            " 0.69876601 0.69876601 0.69876601 0.69876601 0.69876601 0.69876601\n",
            " 0.69876601 0.69876601 0.69876601 0.69876601 0.69876601 0.69876601\n",
            " 0.69876601 0.69876601 0.69876601 0.69876601 0.69876601 0.69876601\n",
            "        nan        nan        nan        nan        nan        nan\n",
            "        nan        nan        nan        nan        nan        nan\n",
            "        nan        nan        nan        nan        nan        nan\n",
            " 0.84752451 0.84752451 0.84752451 0.84752451 0.84752451 0.84752451\n",
            " 0.84752451 0.84752451 0.84752451 0.84752451 0.84752451 0.84752451\n",
            " 0.84752451 0.84752451 0.84752451 0.84752451 0.84752451 0.84752451\n",
            " 0.83871853 0.83871853 0.83871853 0.83871853 0.83871853 0.83871853\n",
            " 0.83871853 0.83871853 0.83871853 0.83871853 0.83871853 0.83871853\n",
            " 0.83871853 0.83871853 0.83871853 0.83871853 0.83871853 0.83871853\n",
            "        nan        nan        nan        nan        nan        nan\n",
            "        nan        nan        nan        nan        nan        nan\n",
            "        nan        nan        nan        nan        nan        nan\n",
            " 0.64973602 0.64973602 0.64973602 0.64973602 0.64973602 0.64973602\n",
            " 0.64973602 0.64973602 0.64973602 0.64973602 0.64973602 0.64973602\n",
            " 0.64973602 0.64973602 0.64973602 0.64973602 0.64973602 0.64973602\n",
            " 0.69406909 0.69406909 0.69406909 0.69406909 0.69406909 0.69406909\n",
            " 0.69406909 0.69406909 0.69406909 0.69406909 0.69406909 0.69406909\n",
            " 0.69406909 0.69406909 0.69406909 0.69406909 0.69406909 0.69406909\n",
            "        nan        nan        nan        nan        nan        nan\n",
            "        nan        nan        nan        nan        nan        nan\n",
            "        nan        nan        nan        nan        nan        nan\n",
            " 0.74435878 0.74435878 0.74435878 0.74435878 0.74435878 0.74435878\n",
            " 0.74435878 0.74435878 0.74435878 0.74435878 0.74435878 0.74435878\n",
            " 0.74435878 0.74435878 0.74435878 0.74435878 0.74435878 0.74435878\n",
            " 0.84624859 0.84624859 0.84624859 0.84624859 0.84624859 0.84624859\n",
            " 0.84624859 0.84624859 0.84624859 0.84624859 0.84624859 0.84624859\n",
            " 0.84624859 0.84624859 0.84624859 0.84624859 0.84624859 0.84624859\n",
            "        nan        nan        nan        nan        nan        nan\n",
            "        nan        nan        nan        nan        nan        nan\n",
            "        nan        nan        nan        nan        nan        nan\n",
            " 0.64973602 0.64973602 0.64973602 0.64973602 0.64973602 0.64973602\n",
            " 0.64973602 0.64973602 0.64973602 0.64973602 0.64973602 0.64973602\n",
            " 0.64973602 0.64973602 0.64973602 0.64973602 0.64973602 0.64973602\n",
            " 0.69406909 0.69406909 0.69406909 0.69406909 0.69406909 0.69406909\n",
            " 0.69406909 0.69406909 0.69406909 0.69406909 0.69406909 0.69406909\n",
            " 0.69406909 0.69406909 0.69406909 0.69406909 0.69406909 0.69406909\n",
            "        nan        nan        nan        nan        nan        nan\n",
            "        nan        nan        nan        nan        nan        nan\n",
            "        nan        nan        nan        nan        nan        nan\n",
            " 0.39106935 0.39106935 0.39106935 0.39106935 0.39106935 0.39106935\n",
            " 0.39106935 0.39106935 0.39106935 0.39106935 0.39106935 0.39106935\n",
            " 0.39106935 0.39106935 0.39106935 0.39106935 0.39106935 0.39106935\n",
            " 0.8323391  0.8323391  0.8323391  0.8323391  0.8323391  0.8323391\n",
            " 0.8323391  0.8323391  0.8323391  0.8323391  0.8323391  0.8323391\n",
            " 0.8323391  0.8323391  0.8323391  0.8323391  0.8323391  0.8323391\n",
            "        nan        nan        nan        nan        nan        nan\n",
            "        nan        nan        nan        nan        nan        nan\n",
            "        nan        nan        nan        nan        nan        nan]\n",
            "  category=UserWarning,\n"
          ]
        },
        {
          "output_type": "execute_result",
          "data": {
            "text/plain": [
              "GridSearchCV(cv=RepeatedStratifiedKFold(n_repeats=3, n_splits=5, random_state=None),\n",
              "             estimator=DecisionTreeClassifier(),\n",
              "             param_grid={'ccp_alpha': array([0.  , 0.03, 0.07, 0.1 ]),\n",
              "                         'class_weight': [None, 'balanced'],\n",
              "                         'criterion': ['gini', 'entropy', 'log_loss'],\n",
              "                         'max_depth': array([33, 34, 35, 36, 37, 38]),\n",
              "                         'min_samples_split': array([2, 3, 4])},\n",
              "             scoring='precision')"
            ]
          },
          "metadata": {},
          "execution_count": 41
        }
      ]
    },
    {
      "cell_type": "markdown",
      "source": [
        "¿Cuál es la utilidad de la métrica Precision?\n",
        "\n",
        "##Analísis y Conclusiones\n",
        "\n",
        "* Es la tasa de predicciones positivas, en este caso como estamos trabajando con clases no balanceadas, esperariamos que con los mejores parámetros obtenidos las predicciones de nuestro modelo se haga cargo de evitar etiquetar como positivo una muestra que en realidad es negativa."
      ],
      "metadata": {
        "id": "FCc5Jd1mxcNn"
      }
    },
    {
      "cell_type": "code",
      "source": [
        "#c. DECISION TREE - Impresion de los mejor combianción de parámetros\n",
        "grid_modelo_DT.best_params_"
      ],
      "metadata": {
        "colab": {
          "base_uri": "https://localhost:8080/"
        },
        "id": "UWZx-i0Gq6By",
        "outputId": "75695b57-6b9b-4631-c0c2-dcc92109ff15"
      },
      "execution_count": null,
      "outputs": [
        {
          "output_type": "execute_result",
          "data": {
            "text/plain": [
              "{'ccp_alpha': 0.03,\n",
              " 'class_weight': 'balanced',\n",
              " 'criterion': 'gini',\n",
              " 'max_depth': 33,\n",
              " 'min_samples_split': 2}"
            ]
          },
          "metadata": {},
          "execution_count": 42
        }
      ]
    },
    {
      "cell_type": "code",
      "source": [
        "dtc=grid_modelo_DT.predict(Xtest)\n",
        "print(classification_report(Ytest,dtc))"
      ],
      "metadata": {
        "colab": {
          "base_uri": "https://localhost:8080/"
        },
        "id": "X68w65WwKgA6",
        "outputId": "6fc00bf1-bde5-4757-cc7a-5671cdbf8c0f"
      },
      "execution_count": null,
      "outputs": [
        {
          "output_type": "stream",
          "name": "stdout",
          "text": [
            "              precision    recall  f1-score   support\n",
            "\n",
            "           0       0.39      0.71      0.50        38\n",
            "           1       0.86      0.62      0.73       112\n",
            "\n",
            "    accuracy                           0.65       150\n",
            "   macro avg       0.63      0.67      0.62       150\n",
            "weighted avg       0.74      0.65      0.67       150\n",
            "\n"
          ]
        }
      ]
    },
    {
      "cell_type": "code",
      "source": [
        "print(classification_report_imbalanced(Ytest,dtc))"
      ],
      "metadata": {
        "colab": {
          "base_uri": "https://localhost:8080/"
        },
        "id": "l_0KjzM18al7",
        "outputId": "f164f2e6-184e-407d-ff52-6719f1026f6e"
      },
      "execution_count": null,
      "outputs": [
        {
          "output_type": "stream",
          "name": "stdout",
          "text": [
            "                   pre       rec       spe        f1       geo       iba       sup\n",
            "\n",
            "          0       0.39      0.71      0.62      0.50      0.67      0.45        38\n",
            "          1       0.86      0.62      0.71      0.73      0.67      0.44       112\n",
            "\n",
            "avg / total       0.74      0.65      0.69      0.67      0.67      0.44       150\n",
            "\n"
          ]
        }
      ]
    },
    {
      "cell_type": "code",
      "source": [
        "#d. DECISION TREE - Cruva de aprendizaje con los mejores valores de los hiperparámetros encontrados con la métrica “precision”\n",
        "delta_train_sz = np.linspace(.1, 1.0, 20)\n",
        "cv = RepeatedStratifiedKFold(n_splits=5, n_repeats=3)\n",
        "DT_grid_res=DecisionTreeClassifier(ccp_alpha=0.03,class_weight= 'balanced',criterion='gini',\n",
        "                                   max_depth=33, min_samples_split=2)\n",
        "\n",
        "tr_sizes,tr_scores, val_scores = learning_curve(DT_grid_res,    \n",
        "                                                        X = Xtrain,\n",
        "                                                        y = Ytrain,\n",
        "                                                        cv = cv ,\n",
        "                                                        train_sizes = delta_train_sz ,\n",
        "                                                        scoring='precision'\n",
        "                                                        )\n",
        "train_mean = np.mean(tr_scores, axis=1)\n",
        "train_std = np.std(tr_scores, axis=1)\n",
        "valid_mean = np.mean(val_scores, axis=1)\n",
        "valid_std = np.std(val_scores, axis=1)\n",
        "\n",
        "\n",
        "# Curva de entrenamiento con la métrica de exactitud (F1-Score):\n",
        "plt.plot(tr_sizes, train_mean, color='blue', marker='o', markersize=5, label='Training')\n",
        "\n",
        "# Curva de validación:\n",
        "plt.plot(tr_sizes, valid_mean, color='red', marker='o', markersize=5, label='Validation')\n",
        "\n",
        "plt.title('Curvas de Aprendizaje incrementando el tamaño de la muestra - DT_grid')\n",
        "plt.xlabel('Tamaño del conjunto de entrenamiento')\n",
        "plt.ylabel('Precision')\n",
        "plt.grid()\n",
        "plt.legend(loc='lower right')\n",
        "plt.show()"
      ],
      "metadata": {
        "colab": {
          "base_uri": "https://localhost:8080/",
          "height": 295
        },
        "id": "bM9Osnkmregp",
        "outputId": "8539db9f-fc18-44ff-f61e-8c89ad94e62e"
      },
      "execution_count": null,
      "outputs": [
        {
          "output_type": "display_data",
          "data": {
            "text/plain": [
              "<Figure size 432x288 with 1 Axes>"
            ],
            "image/png": "[encoded data removed]"
          },
          "metadata": {
            "needs_background": "light"
          }
        }
      ]
    },
    {
      "cell_type": "code",
      "source": [
        "#e. Realizar el entrenamiento buscando sus mejores hiperparámetros con GridSearchCV(). \n",
        "#Buscando los mejores hiperparámetros que debes incluir en su búsqueda deben ser al menos los siguientes: ccp_alpha, criterion, max_depth, min_samples_split y class_weight\n",
        "modelo_RFi = RandomForestClassifier()\n",
        "\n",
        "# resample=SMOTETomek(tomek=TomekLinks(sampling_strategy='majority'))\n",
        "# Xtrain_f,Ytrain_f=resample.fit_resample(Xtrain,Ytrain)\n",
        "\n",
        "\n",
        "criterion=[\"gini\", \"entropy\"]\n",
        "max_depth=np.arange(33,39)\n",
        "min_samples_split=[2,5]\n",
        "class_weight=[None,'balanced']\n",
        "ccp_alpha=np.round(np.linspace(0,0.2,4),2)\n",
        "\n",
        "cv = RepeatedStratifiedKFold(n_splits=5, n_repeats=3)\n",
        "\n",
        "grid_modelo_RFi=GridSearchCV(modelo_RFi,param_grid={'criterion':criterion,'max_depth':max_depth,\n",
        "                                                 'min_samples_split':min_samples_split,'class_weight':class_weight,\n",
        "                                                 'ccp_alpha':ccp_alpha},cv=cv,scoring='recall')\n",
        "\n",
        "grid_modelo_RFi.fit(Xtrain_f,Ytrain_f)"
      ],
      "metadata": {
        "colab": {
          "base_uri": "https://localhost:8080/"
        },
        "id": "jREqaV-b-Si2",
        "outputId": "87ac4f98-6c4c-468e-838d-3e510f0c6348"
      },
      "execution_count": null,
      "outputs": [
        {
          "output_type": "execute_result",
          "data": {
            "text/plain": [
              "GridSearchCV(cv=RepeatedStratifiedKFold(n_repeats=3, n_splits=5, random_state=None),\n",
              "             estimator=RandomForestClassifier(),\n",
              "             param_grid={'ccp_alpha': array([0.  , 0.07, 0.13, 0.2 ]),\n",
              "                         'class_weight': [None, 'balanced'],\n",
              "                         'criterion': ['gini', 'entropy'],\n",
              "                         'max_depth': array([33, 34, 35, 36, 37, 38]),\n",
              "                         'min_samples_split': [2, 5]},\n",
              "             scoring='recall')"
            ]
          },
          "metadata": {},
          "execution_count": 70
        }
      ]
    },
    {
      "cell_type": "markdown",
      "source": [
        "¿Cuál es la utilidad de la métrica “recall”? \n",
        "##Analísis y Conclusiones\n",
        "\n",
        "* Estamos trabajando con clases desbalanceadas y al usar el recall como métrica para obtener los mejores parámetros esperariamos que con el modelo se compensara el desbalanceo apuntando hacia la clase minoritaria (clientes no aptos para receibir un crédito)."
      ],
      "metadata": {
        "id": "ElC0fKckTMaW"
      }
    },
    {
      "cell_type": "code",
      "source": [
        "#e. Impresión de los mejores parámetros\n",
        "grid_modelo_RFi.best_params_"
      ],
      "metadata": {
        "colab": {
          "base_uri": "https://localhost:8080/"
        },
        "id": "Ko7C0fxu-RGz",
        "outputId": "c5dfb289-b2b5-4959-b009-e3ed018c964b"
      },
      "execution_count": null,
      "outputs": [
        {
          "output_type": "execute_result",
          "data": {
            "text/plain": [
              "{'ccp_alpha': 0.07,\n",
              " 'class_weight': None,\n",
              " 'criterion': 'gini',\n",
              " 'max_depth': 33,\n",
              " 'min_samples_split': 2}"
            ]
          },
          "metadata": {},
          "execution_count": 71
        }
      ]
    },
    {
      "cell_type": "code",
      "source": [
        "rfc=grid_modelo_RFi.predict(Xtest)\n",
        "print(classification_report(Ytest,rfc))"
      ],
      "metadata": {
        "colab": {
          "base_uri": "https://localhost:8080/"
        },
        "id": "cVljnaBC-QzL",
        "outputId": "5f8e562b-80bb-479a-8d05-981691b36b53"
      },
      "execution_count": null,
      "outputs": [
        {
          "output_type": "stream",
          "name": "stdout",
          "text": [
            "              precision    recall  f1-score   support\n",
            "\n",
            "           0       0.00      0.00      0.00        45\n",
            "           1       0.70      1.00      0.82       105\n",
            "\n",
            "    accuracy                           0.70       150\n",
            "   macro avg       0.35      0.50      0.41       150\n",
            "weighted avg       0.49      0.70      0.58       150\n",
            "\n"
          ]
        }
      ]
    },
    {
      "cell_type": "code",
      "source": [
        "print(classification_report_imbalanced(Ytest,rfc))"
      ],
      "metadata": {
        "colab": {
          "base_uri": "https://localhost:8080/"
        },
        "id": "UtVrn6FQ_bXL",
        "outputId": "d29481ca-5c64-405b-d678-b7e5102c640f"
      },
      "execution_count": null,
      "outputs": [
        {
          "output_type": "stream",
          "name": "stdout",
          "text": [
            "                   pre       rec       spe        f1       geo       iba       sup\n",
            "\n",
            "          0       0.00      0.00      1.00      0.00      0.00      0.00        45\n",
            "          1       0.70      1.00      0.00      0.82      0.00      0.00       105\n",
            "\n",
            "avg / total       0.49      0.70      0.30      0.58      0.00      0.00       150\n",
            "\n"
          ]
        }
      ]
    },
    {
      "cell_type": "code",
      "source": [
        "#f. Curva de validación usando los mejores parámetros, max_depth incrementando 10 valores\n",
        "delta_C=np.arange(1,20)\n",
        "Ran_grid_resi=RandomForestClassifier(ccp_alpha=0.07,class_weight=None,criterion='gini',max_depth=33,min_samples_split=2)\n",
        "\n",
        "train_scores, valid_scores = validation_curve(Ran_grid_resi, \n",
        "                                              Xtrain, \n",
        "                                              Ytrain,\n",
        "                                              param_name=\"max_depth\", \n",
        "                                              param_range=delta_C,\n",
        "                                              cv=cv,\n",
        "                                              scoring='recall')\n",
        "\n",
        "\n",
        "train_mean = np.mean(train_scores, axis=1)\n",
        "train_std = np.std(train_scores, axis=1)\n",
        "valid_mean = np.mean(valid_scores, axis=1)\n",
        "valid_std = np.std(valid_scores, axis=1)\n",
        "\n",
        "\n",
        "# Curva de entrenamiento con la métrica de exactitud (accuracy):\n",
        "plt.plot(delta_C, train_mean, color='blue', marker='o', markersize=5, label='Training')\n",
        "\n",
        "# Curva de validación:\n",
        "plt.plot(delta_C, valid_mean, color='red', marker='+', markersize=5, label='Validation',)\n",
        "\n",
        "plt.title('Función validation_curve()')\n",
        "plt.xlabel('Valores del parámetro max_depth')\n",
        "plt.ylabel('Recall')\n",
        "plt.grid()\n",
        "plt.legend(loc='lower right')\n",
        "plt.show()"
      ],
      "metadata": {
        "colab": {
          "base_uri": "https://localhost:8080/",
          "height": 301
        },
        "id": "rWRSzX9J_mMi",
        "outputId": "0dcb0e2d-b04d-493a-bee7-e658b2576220"
      },
      "execution_count": null,
      "outputs": [
        {
          "output_type": "display_data",
          "data": {
            "text/plain": [
              "<Figure size 576x288 with 1 Axes>"
            ],
            "image/png": "[encoded data removed]"
          },
          "metadata": {}
        }
      ]
    },
    {
      "cell_type": "markdown",
      "source": [
        "##Analísis y Conclusiones\n",
        "\n",
        "* En la curva de validación de RandomForest() se puede apreciar que las predicciones del modelo están sesgadas hacia la clase minoritaria (clientes aptos para recibir un crédito), incluso después de obtener los mejores parámetros con la métrica recall el desbalanceo sigue presente razón por la cual proponenos usar la clase BalancedRandomForest() para resolver este ejercicio."
      ],
      "metadata": {
        "id": "U2v8kMGSt8Hf"
      }
    },
    {
      "cell_type": "code",
      "source": [
        "#e_alt. Realizar el entrenamiento buscando sus mejores hiperparámetros con GridSearchCV(). \n",
        "#Buscando los mejores hiperparámetros que debes incluir en su búsqueda deben ser al menos los siguientes: ccp_alpha, criterion, max_depth, min_samples_split y class_weight\n",
        "modelo_RF = BalancedRandomForestClassifier()\n",
        "\n",
        "\n",
        "criterion=[\"gini\", \"entropy\"]\n",
        "max_depth=np.arange(33,39)\n",
        "min_samples_split=[2,5]\n",
        "class_weight=[None,'balanced']\n",
        "ccp_alpha=np.round(np.linspace(0,0.2,4),2)\n",
        "\n",
        "cv = RepeatedStratifiedKFold(n_splits=5, n_repeats=3)"
      ],
      "metadata": {
        "id": "9m11BOj-1uz9"
      },
      "execution_count": null,
      "outputs": []
    },
    {
      "cell_type": "code",
      "source": [
        "grid_modelo_RF=GridSearchCV(modelo_RF,param_grid={'criterion':criterion,'max_depth':max_depth,\n",
        "                                                 'min_samples_split':min_samples_split,'class_weight':class_weight,\n",
        "                                                 'ccp_alpha':ccp_alpha},cv=cv,scoring='recall')\n",
        "\n",
        "grid_modelo_RF.fit(Xtrain,Ytrain)"
      ],
      "metadata": {
        "colab": {
          "base_uri": "https://localhost:8080/"
        },
        "id": "Opc9vG5y1up-",
        "outputId": "172ed958-52b2-4e41-a629-dec8c4f4bf33"
      },
      "execution_count": null,
      "outputs": [
        {
          "output_type": "execute_result",
          "data": {
            "text/plain": [
              "GridSearchCV(cv=RepeatedStratifiedKFold(n_repeats=3, n_splits=5, random_state=None),\n",
              "             estimator=BalancedRandomForestClassifier(),\n",
              "             param_grid={'ccp_alpha': array([0.  , 0.07, 0.13, 0.2 ]),\n",
              "                         'class_weight': [None, 'balanced'],\n",
              "                         'criterion': ['gini', 'entropy'],\n",
              "                         'max_depth': array([33, 34, 35, 36, 37, 38]),\n",
              "                         'min_samples_split': [2, 5]},\n",
              "             scoring='recall')"
            ]
          },
          "metadata": {},
          "execution_count": 59
        }
      ]
    },
    {
      "cell_type": "markdown",
      "source": [
        "Cuál es la utilidad de la métrica Recall? **R. Favorece la obtención de los mejores parámetros en base a la clase minoritaria (VP y FN) entonces esperamos que usando esta métrica se pueda compensar el desbalanceo al calcular los parámetros con Gridsearch. Un recall de cero será indicativo de que hay que aplicar técnicas de balanceo adicionales.***"
      ],
      "metadata": {
        "id": "uESh1PkCxgtF"
      }
    },
    {
      "cell_type": "code",
      "source": [
        "#e. Impresión de los mejores parámetros\n",
        "grid_modelo_RF.best_params_\n"
      ],
      "metadata": {
        "id": "FUO5cxvI386D",
        "colab": {
          "base_uri": "https://localhost:8080/"
        },
        "outputId": "b1f3ff89-49a7-4380-bab1-3e658e2fa3cc"
      },
      "execution_count": null,
      "outputs": [
        {
          "output_type": "execute_result",
          "data": {
            "text/plain": [
              "{'ccp_alpha': 0.0,\n",
              " 'class_weight': 'balanced',\n",
              " 'criterion': 'gini',\n",
              " 'max_depth': 36,\n",
              " 'min_samples_split': 2}"
            ]
          },
          "metadata": {},
          "execution_count": 60
        }
      ]
    },
    {
      "cell_type": "code",
      "source": [
        "rfc=grid_modelo_RF.predict(Xtest)\n",
        "print(classification_report(Ytest,rfc))"
      ],
      "metadata": {
        "colab": {
          "base_uri": "https://localhost:8080/"
        },
        "id": "OwaVHa-yMuE_",
        "outputId": "77564175-7957-421a-eb14-57b5695aa67a"
      },
      "execution_count": null,
      "outputs": [
        {
          "output_type": "stream",
          "name": "stdout",
          "text": [
            "              precision    recall  f1-score   support\n",
            "\n",
            "           0       0.64      0.56      0.60        45\n",
            "           1       0.82      0.87      0.84       105\n",
            "\n",
            "    accuracy                           0.77       150\n",
            "   macro avg       0.73      0.71      0.72       150\n",
            "weighted avg       0.77      0.77      0.77       150\n",
            "\n"
          ]
        }
      ]
    },
    {
      "cell_type": "code",
      "source": [
        "print(classification_report_imbalanced(Ytest,rfc))"
      ],
      "metadata": {
        "colab": {
          "base_uri": "https://localhost:8080/"
        },
        "id": "-OHbenrzqnoX",
        "outputId": "0d2007cc-4b57-449b-cac1-0698c7094441"
      },
      "execution_count": null,
      "outputs": [
        {
          "output_type": "stream",
          "name": "stdout",
          "text": [
            "                   pre       rec       spe        f1       geo       iba       sup\n",
            "\n",
            "          0       0.64      0.56      0.87      0.60      0.69      0.47        45\n",
            "          1       0.82      0.87      0.56      0.84      0.69      0.50       105\n",
            "\n",
            "avg / total       0.77      0.77      0.65      0.77      0.69      0.49       150\n",
            "\n"
          ]
        }
      ]
    },
    {
      "cell_type": "code",
      "source": [
        "#f. Curva de validación usando los mejores parámetros, max_depth incrementando 10 valores\n",
        "delta_C=np.arange(1,20)\n",
        "Ran_grid_res=BalancedRandomForestClassifier(ccp_alpha=0.0,class_weight='balanced',criterion='gini',max_depth=36,min_samples_split=2,n_jobs=-1)\n",
        "cv = RepeatedStratifiedKFold(n_splits=5, n_repeats=3)\n",
        "train_scores, valid_scores = validation_curve(Ran_grid_res, \n",
        "                                              Xtrain, \n",
        "                                              Ytrain,\n",
        "                                              param_name=\"max_depth\", \n",
        "                                              param_range=delta_C,\n",
        "                                              cv=cv,\n",
        "                                              scoring='recall')\n",
        "\n",
        "\n",
        "train_mean = np.mean(train_scores, axis=1)\n",
        "train_std = np.std(train_scores, axis=1)\n",
        "valid_mean = np.mean(valid_scores, axis=1)\n",
        "valid_std = np.std(valid_scores, axis=1)\n",
        "\n",
        "\n",
        "# Curva de entrenamiento con la métrica de exactitud (accuracy):\n",
        "plt.plot(delta_C, train_mean, color='blue', marker='o', markersize=5, label='Training')\n",
        "\n",
        "# Curva de validación:\n",
        "plt.plot(delta_C, valid_mean, color='red', marker='+', markersize=5, label='Validation',)\n",
        "\n",
        "plt.title('Función validation_curve()')\n",
        "plt.xlabel('Valores del parámetro max_depth')\n",
        "plt.ylabel('Recall')\n",
        "plt.grid()\n",
        "plt.legend(loc='lower right')\n",
        "plt.show()"
      ],
      "metadata": {
        "id": "QcrNf5zQ4Dsc",
        "colab": {
          "base_uri": "https://localhost:8080/",
          "height": 297
        },
        "outputId": "c899cf18-09df-4293-e140-43852fdfccc3"
      },
      "execution_count": 46,
      "outputs": [
        {
          "output_type": "display_data",
          "data": {
            "text/plain": [
              "<Figure size 432x288 with 1 Axes>"
            ],
            "image/png": "[encoded data removed]"
          },
          "metadata": {
            "needs_background": "light"
          }
        }
      ]
    },
    {
      "cell_type": "markdown",
      "source": [
        "#**Ejercicio-6.**"
      ],
      "metadata": {
        "id": "W2S7LI0NC9wE"
      }
    },
    {
      "cell_type": "markdown",
      "source": [
        "a. Obtener el modelo de regresión logística con los mejores parámetros que hayas\n",
        "encontrado con la métrica f1-score utilizada. Imprimir el valor de dicha métrica e incluye\n",
        "tus conclusiones finales para este caso. Incluir un gráfico del árbol de decisión final\n",
        "obtenido. \n"
      ],
      "metadata": {
        "id": "wvNbuZrjyHF2"
      }
    },
    {
      "cell_type": "code",
      "source": [
        "modelo_LR_Final = LogisticRegression(max_iter=8000,\n",
        "                            C=1.0,\n",
        "                            solver='newton-cg',\n",
        "                            class_weight=None,\n",
        "                            penalty='l2',\n",
        "                            random_state=0)\n",
        "\n",
        "\n",
        "Xtrain_Fit = Columnas_Transformar.fit(Xtrain)\n",
        "Xtrain_Transf = Xtrain_Fit.transform(Xtrain)\n",
        "XTest_Transf  =  Xtrain_Fit.transform(Xtest)\n",
        "modelo_LR_Final.fit(Xtrain_Transf, np.ravel(Ytrain))\n",
        "\n",
        "print(\"Mejor valor de F1 Score del modelo de Regresion Logistica:\", modelo_LR_Final.score(XTest_Transf, np.ravel(Ytest)))\n",
        "\n",
        "#{'C': 1.0, 'class_weight': None, 'penalty': 'l2', 'solver': 'newton-cg'}"
      ],
      "metadata": {
        "id": "n0P_AcyjC_Dh",
        "colab": {
          "base_uri": "https://localhost:8080/"
        },
        "outputId": "b3503c8c-45a6-4fb3-9a43-a93f61e52230"
      },
      "execution_count": null,
      "outputs": [
        {
          "output_type": "stream",
          "name": "stdout",
          "text": [
            "Mejor valor de F1 Score del modelo de Regresion Logistica: 0.7466666666666667\n"
          ]
        }
      ]
    },
    {
      "cell_type": "markdown",
      "source": [
        "##Analísis y Conclusiones\n",
        "\n",
        "* Después de encontrar los mejores parámetros para el modelo de regresión logístcica el resultado de la métrica f1-score fue de 0.76, con el conjunto de prueba el resultado de la métrica es ~0.75 lo que demuestra que el modelo esta generalizando correctamente utilizando los datos del conjunto de prueba."
      ],
      "metadata": {
        "id": "bwV5kYwz46xu"
      }
    },
    {
      "cell_type": "markdown",
      "source": [
        "b. Obtener el modelo de árbol de decisiones con los mejores parámetros que hayas\n",
        "encontrado con la métrica “precision” utilizada. Imprimir el valor de dicha métrica e\n",
        "incluye tus conclusiones finales para este caso. \n"
      ],
      "metadata": {
        "id": "hgpXJhYVykAt"
      }
    },
    {
      "cell_type": "code",
      "source": [
        "from sklearn.tree import plot_tree\n",
        "from sklearn import tree\n",
        "import pydotplus \n",
        "from IPython.display import Image"
      ],
      "metadata": {
        "id": "XonPstjVcESf"
      },
      "execution_count": 21,
      "outputs": []
    },
    {
      "cell_type": "code",
      "source": [
        "\n",
        "DT_grid_res=DecisionTreeClassifier(ccp_alpha=0.03,class_weight= 'balanced',criterion='gini',\n",
        "                                   max_depth=33, min_samples_split=2)\n",
        "\n",
        "DT_grid_res.fit(Xtrain,np.ravel(Ytrain))\n",
        "DTf_pred = DT_grid_res.predict(Xtest)\n",
        "\n",
        "\n",
        "dot_data = tree.export_graphviz(decision_tree=DT_grid_res.fit(Xtrain,np.ravel(Ytrain)), \n",
        "                                out_file=None,\n",
        "                                max_depth=None,\n",
        "                                feature_names=list(pd.DataFrame(Xtrain).columns.values),\n",
        "                                class_names=['1','2','3','4'],\n",
        "                                filled=True,\n",
        "                                rotate=True,\n",
        "                                proportion=False)\n",
        "\n",
        "graph = pydotplus.graph_from_dot_data(dot_data)\n",
        "Image(graph.create_png())\n",
        "\n",
        "# plt.figure(figsize=(12,8),dpi=150)\n",
        "# plot_tree(DT_grid_res,filled=True,feature_names=X.columns)\n",
        "# class_names=[Y[0],Y[1]]\n",
        "# print(\"Mejor valor de precisión del modelo de Árbol de Decisión:\", mi_precision(Ytest, DTf_pred))\n",
        "\n"
      ],
      "metadata": {
        "id": "OwUCg08GynXh",
        "colab": {
          "base_uri": "https://localhost:8080/",
          "height": 258
        },
        "outputId": "734ef275-327d-413b-87e1-14b3c9a1b602"
      },
      "execution_count": 43,
      "outputs": [
        {
          "output_type": "execute_result",
          "data": {
            "image/png": "[encoded data removed]",
            "text/plain": [
              "<IPython.core.display.Image object>"
            ]
          },
          "metadata": {},
          "execution_count": 43
        }
      ]
    },
    {
      "cell_type": "code",
      "source": [
        "print(\"Mejor valor de precisión del modelo de Árbol de Decisión:\", mi_precision(Ytest, DTf_pred))"
      ],
      "metadata": {
        "id": "W14gAnexFfZG",
        "outputId": "5968be6e-b00f-42fa-f055-e73f0ae86754",
        "colab": {
          "base_uri": "https://localhost:8080/"
        }
      },
      "execution_count": 42,
      "outputs": [
        {
          "output_type": "stream",
          "name": "stdout",
          "text": [
            "Mejor valor de precisión del modelo de Árbol de Decisión: 0.9245283018867925\n"
          ]
        }
      ]
    },
    {
      "cell_type": "markdown",
      "source": [
        "##Analísis y Conclusiones\n",
        "\n",
        "* La característica de mayor importancia es \"status\" lo cual tiene sentido pues este está relacionado con un buen manejo de la cuenta. El valor de gini de 0.395 que se presenta una mayor homogeneidad para los datos con clase 1, ya que el factor de comparación del atributo más imporante categorizo 404 muestras hacia esta última rama del arbol. Se muestra una precisión muy alta pero el modelo deja de producir niveles aún cuando los \"ginis\" podrian reducirse más. Este modelo no es confiable y seria más conveniente buscar otro modelo alternativo."
      ],
      "metadata": {
        "id": "ByTr64jZ6Ojw"
      }
    },
    {
      "cell_type": "markdown",
      "source": [
        "c. Obtener el modelo de bosque aleatorio con los mejores parámetros que hayas\n",
        "encontrado con la métrica “recall” utilizada. Imprimir el valor de dicha métrica e incluye\n",
        "tus conclusiones finales para este caso. "
      ],
      "metadata": {
        "id": "KCe0tHkwynzF"
      }
    },
    {
      "cell_type": "code",
      "source": [
        "Ran_grid_res=BalancedRandomForestClassifier(ccp_alpha=0.0,class_weight='balanced',criterion='gini',max_depth=36,min_samples_split=2,n_jobs=-1)\n",
        "Ran_grid_res.fit(Xtrain,Ytrain)\n",
        "Forest_Final = Ran_grid_res.predict(Xtest)\n",
        "\n",
        "print(\"Mejor valor de recall del modelo de Bosque Aleatorio:\", mi_recall(Ytest, Forest_Final))"
      ],
      "metadata": {
        "colab": {
          "base_uri": "https://localhost:8080/"
        },
        "id": "y4qehMJxd97g",
        "outputId": "9a0f0178-6c08-49c5-ed80-eaa2ad6c6c84"
      },
      "execution_count": null,
      "outputs": [
        {
          "output_type": "stream",
          "name": "stdout",
          "text": [
            "Mejor valor de recall del modelo de Bosque Aleatorio: 0.801980198019802\n"
          ]
        }
      ]
    },
    {
      "cell_type": "markdown",
      "source": [
        "##Analísis y Conclusiones\n",
        "\n",
        "* Llegamos a este útlimo modelo (BalancedRandomForest) después de procesar un RandomForest que aun combinando técnica de muestreo genera un recall poco confiable. Como se puede observar en la sección 5 la curva de validación del modelo BalancedRandomForest presenta un comportamiento aceptable con una varianza de alrededor del 20% y una métrica de desempeño creciente en el conjunto de validación."
      ],
      "metadata": {
        "id": "QyyWQaUYMcS6"
      }
    },
    {
      "cell_type": "markdown",
      "source": [],
      "metadata": {
        "id": "VXbTaUdaMcQ-"
      }
    },
    {
      "cell_type": "markdown",
      "source": [
        "###**Fin de la Actividad de la semana 6.**"
      ],
      "metadata": {
        "id": "7ql_r2G-DB_m"
      }
    }
  ]
}
