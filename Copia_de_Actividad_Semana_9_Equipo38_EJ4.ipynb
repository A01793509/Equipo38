{
  "nbformat": 4,
  "nbformat_minor": 0,
  "metadata": {
    "colab": {
      "provenance": [],
      "include_colab_link": true
    },
    "kernelspec": {
      "name": "python3",
      "display_name": "Python 3"
    },
    "language_info": {
      "name": "python"
    }
  },
  "cells": [
    {
      "cell_type": "markdown",
      "metadata": {
        "id": "view-in-github",
        "colab_type": "text"
      },
      "source": [
        "<a href=\"https://colab.research.google.com/github/A01793509/Equipo38/blob/main/Copia_de_Actividad_Semana_9_Equipo38_EJ4.ipynb\" target=\"_parent\"><img src=\"https://colab.research.google.com/assets/colab-badge.svg\" alt=\"Open In Colab\"/></a>"
      ]
    },
    {
      "cell_type": "markdown",
      "source": [
        "#**Maestría en Inteligencia Artificial Aplicada**\n",
        "##**Curso: Inteligencia Artificial y Aprendizaje Automático**\n",
        "###Tecnológico de Monterrey\n",
        "###Profr: Luis Eduardo Falcón Morales\n",
        "\n",
        "## **Adtividad de la Semana 9**\n",
        "###**Taxonomía de Métricas de Clasificación**"
      ],
      "metadata": {
        "id": "LokPbfyA_jmk"
      }
    },
    {
      "cell_type": "markdown",
      "source": [
        "**Nombres y matrículas de los integrantes del equipo:**\n",
        "\n",
        "*   Alberto Jose Garcia Porras (A01793509)\n",
        "*   Carlos Julio León Caicedo (A01793947)\n",
        "*   Luis Fernando Ríos Piedra (A00453954)\n",
        "*   Marco Antonio Vázquez Morales (A01793704)"
      ],
      "metadata": {
        "id": "2JVg-Ha7_2UV"
      }
    },
    {
      "cell_type": "markdown",
      "source": [
        "\n",
        "---\n",
        "\n",
        "# 1. Resumen del artículo\n",
        "\n",
        "---"
      ],
      "metadata": {
        "id": "JF5glsakAjtm"
      }
    },
    {
      "cell_type": "markdown",
      "source": [
        "Garantizar una correcta evaluación del modelo de aprendizaje es clave para asegurar un adecuado reconocimiento de patrones, en ese sentido, existen dos aspectos clave a tener en cuenta para la evaluación, el primero basado en los datos estadísticos e intervalos de confianza del modelo, y el otro basado en la métrica utilizada para evaluarlo. Teniendo en cuenta que existen diferentes métricas de clasificación enfocadas en diversos tópicos del aprendizaje, es importante identificar la métrica adecuada para el modelo que estemos desarrollando.  Asimismo, dadas las características de las métricas, existe una clasificación que las agrupa por familia, generando básicamente las siguientes categorias:\n",
        "\n",
        "*   Métricas basadas en un umbral y una comprensión cualitativa del error (**Threshold**).\n",
        "*   Métricas basadas en una comprensión probabilistica del error (**Probabilistic**).\n",
        "*   Métricas basadas en que también se clasifica un modelo (**Rank**).\n",
        "\n",
        "Lo anterior nos lleva a otro interrogante, ¿Puedo seleccionar cualquier métrica para evaluar mi modelo?, precisamente esta es la respuesta que se plantea con el estudio, ya que no necesariamente se podrán extrapolar los resultados obtenidos a partir de una métrica aplicada a un modelo utilizando otras métricas de la misma familia, sobretodo cuando estamos lidiando con problemas multi-clase, clases desbalanceadas o conjuntos de datos pequeños. De igual forma, existen características presentes en algunas métricas que pueden generar sensibilidad en la obtención de los resultados generadas por las métricas que no poseen dichas características. Por lo anterior, es importante identificar la correlación existente entre las métricas que decidamos utilizar en nuestro modelo.\n",
        "Por otra parte, un aspecto a considerar es la diferencia que pueda existir entre los clasificadores y las buenas probabilidades, lo que nos lleva evaluar la calibración de las mismas, que no es otra cosa que el grado de aproximación de las probabilidades previstas versus las probabilidades reales. Sin embargo, esto nos provoca otro problema que tiene que ver con los segmentos o intervalos en que se divide un conjunto de datos, para lo que se ha experimentado superponerlos. \n",
        "\n",
        "Una de las métricas más usadas para evaluar una clasificación es la **precisión**, que es el grado de predicciones correctas de un modelo. \n",
        "\n",
        "**Área Bajo la Curva (AUC)** es otra de las métricas usadas, se define como la probabilidad de que un clasificador clasifique de manera positiva una instancia en vez de una negativa tomadas al azar. \n",
        "\n",
        "**Error Absoluto Medio (MAE)** muestra cuánto se desvian las predicciones de la probabilidad real. \n",
        "\n",
        "**Error Cuadrático Medio (MSE)** es una variante de MAE que penaliza fuertemente las debiaciones de la probabilidad real.\n",
        "\n",
        "Una primera conclusión que se llega en el artículo es que ninguna de las 18 métricas tiene un sí en el umbral de clase y en la calibraación o clasificación, esto es que no hay medida que combine el umbral con la probabilidad estimada. \n",
        "\n",
        "Una segunda conclusión es que al aplicar ruido al conjunto de datos, en este caso la precisión y otras medidas cualitativas son mejores cuando el ruido esta presente en el conjunto de datos. Por el contrario, estas son malas cuando el ruido es aplicado al aprendizaje.\n",
        "\n",
        "Finalmente, se observa que las diferentes métricas no pueden ser comparables, usando las correlaciones se encontró que estas suelen tener desempeño bajo entre las diversas medidas. \n",
        "\n",
        "\n"
      ],
      "metadata": {
        "id": "daJsHg6kAme6"
      }
    },
    {
      "cell_type": "markdown",
      "source": [
        "Describe el problema y el objetivo que se busca.\n",
        "\n",
        "¿Es un problema desbalanceado? ¿Cómo se podría enfrentar?\n",
        "\n",
        "¿Qué implicaciones a que conllevan un FP o un FN?\n",
        "\n",
        "Determinar el tipo de métrica de acuerdo a la Taxonomía de los autores.\n"
      ],
      "metadata": {
        "id": "ieAb1L9_ApiZ"
      }
    },
    {
      "cell_type": "markdown",
      "source": [
        "\n",
        "---\n",
        "\n",
        "# 2. Propuesta de métrica(s) para BD \"**Breast Cancer Wisconsin (Diagnostic) Data Set**\"\n",
        "\n",
        "---\n"
      ],
      "metadata": {
        "id": "-_ECwKxO9Kk8"
      }
    },
    {
      "cell_type": "markdown",
      "source": [
        "**Problema - Objetivo:** Se debe realizar un modelo que permita clasificar un posible tumor en el seno como benigno (clase 2) o maligno (clase 4) a partir de las imagenes capturadas a pacientes en Wisconsin. A través de las imagenes podemos identificar los 9 atributos de entrada que nos permitirán realizar la categorización requerida."
      ],
      "metadata": {
        "id": "O3h17l4LIDL9"
      }
    },
    {
      "cell_type": "code",
      "source": [
        "import pandas as pd\n",
        "from sklearn.model_selection import train_test_split"
      ],
      "metadata": {
        "id": "0IbV9I5W9NxM"
      },
      "execution_count": null,
      "outputs": []
    },
    {
      "cell_type": "code",
      "source": [
        "columnas = [\"Número de identificación del número de código de muestra\", \"Grosor del grupo\", \"Uniformidad del tamaño de la celula\", \"Uniformidad de la forma celular\", \"Adhesión marginal\",\n",
        "            \"Tamaño de célula epitelial única\", \"Núcleos desnudos\", \"Cromatina suave\", \"Nucléolos normales\", \"Mitosis\", \"Clase\"]\n",
        "\n",
        "path = 'https://archive.ics.uci.edu/ml/machine-learning-databases/breast-cancer-wisconsin/breast-cancer-wisconsin.data'\n",
        "df = pd.read_csv(path, sep=',', names=columnas)\n",
        "\n",
        "df.index.name = None\n",
        "\n",
        "df.head()"
      ],
      "metadata": {
        "colab": {
          "base_uri": "https://localhost:8080/",
          "height": 302
        },
        "id": "IzS8P9dE9Ofk",
        "outputId": "4d10d17b-66db-421e-95e4-418158195215"
      },
      "execution_count": null,
      "outputs": [
        {
          "output_type": "execute_result",
          "data": {
            "text/plain": [
              "   Número de identificación del número de código de muestra  Grosor del grupo  \\\n",
              "0                                            1000025                        5   \n",
              "1                                            1002945                        5   \n",
              "2                                            1015425                        3   \n",
              "3                                            1016277                        6   \n",
              "4                                            1017023                        4   \n",
              "\n",
              "   Uniformidad del tamaño de la celula  Uniformidad de la forma celular  \\\n",
              "0                                    1                                1   \n",
              "1                                    4                                4   \n",
              "2                                    1                                1   \n",
              "3                                    8                                8   \n",
              "4                                    1                                1   \n",
              "\n",
              "   Adhesión marginal  Tamaño de célula epitelial única Núcleos desnudos  \\\n",
              "0                  1                                 2                1   \n",
              "1                  5                                 7               10   \n",
              "2                  1                                 2                2   \n",
              "3                  1                                 3                4   \n",
              "4                  3                                 2                1   \n",
              "\n",
              "   Cromatina suave  Nucléolos normales  Mitosis  Clase  \n",
              "0                3                   1        1      2  \n",
              "1                3                   2        1      2  \n",
              "2                3                   1        1      2  \n",
              "3                3                   7        1      2  \n",
              "4                3                   1        1      2  "
            ],
            "text/html": [
              "\n",
              "  <div id=\"df-7c0ac45d-1062-4ba9-ae12-3198729b4bbc\">\n",
              "    <div class=\"colab-df-container\">\n",
              "      <div>\n",
              "<style scoped>\n",
              "    .dataframe tbody tr th:only-of-type {\n",
              "        vertical-align: middle;\n",
              "    }\n",
              "\n",
              "    .dataframe tbody tr th {\n",
              "        vertical-align: top;\n",
              "    }\n",
              "\n",
              "    .dataframe thead th {\n",
              "        text-align: right;\n",
              "    }\n",
              "</style>\n",
              "<table border=\"1\" class=\"dataframe\">\n",
              "  <thead>\n",
              "    <tr style=\"text-align: right;\">\n",
              "      <th></th>\n",
              "      <th>Número de identificación del número de código de muestra</th>\n",
              "      <th>Grosor del grupo</th>\n",
              "      <th>Uniformidad del tamaño de la celula</th>\n",
              "      <th>Uniformidad de la forma celular</th>\n",
              "      <th>Adhesión marginal</th>\n",
              "      <th>Tamaño de célula epitelial única</th>\n",
              "      <th>Núcleos desnudos</th>\n",
              "      <th>Cromatina suave</th>\n",
              "      <th>Nucléolos normales</th>\n",
              "      <th>Mitosis</th>\n",
              "      <th>Clase</th>\n",
              "    </tr>\n",
              "  </thead>\n",
              "  <tbody>\n",
              "    <tr>\n",
              "      <th>0</th>\n",
              "      <td>1000025</td>\n",
              "      <td>5</td>\n",
              "      <td>1</td>\n",
              "      <td>1</td>\n",
              "      <td>1</td>\n",
              "      <td>2</td>\n",
              "      <td>1</td>\n",
              "      <td>3</td>\n",
              "      <td>1</td>\n",
              "      <td>1</td>\n",
              "      <td>2</td>\n",
              "    </tr>\n",
              "    <tr>\n",
              "      <th>1</th>\n",
              "      <td>1002945</td>\n",
              "      <td>5</td>\n",
              "      <td>4</td>\n",
              "      <td>4</td>\n",
              "      <td>5</td>\n",
              "      <td>7</td>\n",
              "      <td>10</td>\n",
              "      <td>3</td>\n",
              "      <td>2</td>\n",
              "      <td>1</td>\n",
              "      <td>2</td>\n",
              "    </tr>\n",
              "    <tr>\n",
              "      <th>2</th>\n",
              "      <td>1015425</td>\n",
              "      <td>3</td>\n",
              "      <td>1</td>\n",
              "      <td>1</td>\n",
              "      <td>1</td>\n",
              "      <td>2</td>\n",
              "      <td>2</td>\n",
              "      <td>3</td>\n",
              "      <td>1</td>\n",
              "      <td>1</td>\n",
              "      <td>2</td>\n",
              "    </tr>\n",
              "    <tr>\n",
              "      <th>3</th>\n",
              "      <td>1016277</td>\n",
              "      <td>6</td>\n",
              "      <td>8</td>\n",
              "      <td>8</td>\n",
              "      <td>1</td>\n",
              "      <td>3</td>\n",
              "      <td>4</td>\n",
              "      <td>3</td>\n",
              "      <td>7</td>\n",
              "      <td>1</td>\n",
              "      <td>2</td>\n",
              "    </tr>\n",
              "    <tr>\n",
              "      <th>4</th>\n",
              "      <td>1017023</td>\n",
              "      <td>4</td>\n",
              "      <td>1</td>\n",
              "      <td>1</td>\n",
              "      <td>3</td>\n",
              "      <td>2</td>\n",
              "      <td>1</td>\n",
              "      <td>3</td>\n",
              "      <td>1</td>\n",
              "      <td>1</td>\n",
              "      <td>2</td>\n",
              "    </tr>\n",
              "  </tbody>\n",
              "</table>\n",
              "</div>\n",
              "      <button class=\"colab-df-convert\" onclick=\"convertToInteractive('df-7c0ac45d-1062-4ba9-ae12-3198729b4bbc')\"\n",
              "              title=\"Convert this dataframe to an interactive table.\"\n",
              "              style=\"display:none;\">\n",
              "        \n",
              "  <svg xmlns=\"http://www.w3.org/2000/svg\" height=\"24px\"viewBox=\"0 0 24 24\"\n",
              "       width=\"24px\">\n",
              "    <path d=\"M0 0h24v24H0V0z\" fill=\"none\"/>\n",
              "    <path d=\"M18.56 5.44l.94 2.06.94-2.06 2.06-.94-2.06-.94-.94-2.06-.94 2.06-2.06.94zm-11 1L8.5 8.5l.94-2.06 2.06-.94-2.06-.94L8.5 2.5l-.94 2.06-2.06.94zm10 10l.94 2.06.94-2.06 2.06-.94-2.06-.94-.94-2.06-.94 2.06-2.06.94z\"/><path d=\"M17.41 7.96l-1.37-1.37c-.4-.4-.92-.59-1.43-.59-.52 0-1.04.2-1.43.59L10.3 9.45l-7.72 7.72c-.78.78-.78 2.05 0 2.83L4 21.41c.39.39.9.59 1.41.59.51 0 1.02-.2 1.41-.59l7.78-7.78 2.81-2.81c.8-.78.8-2.07 0-2.86zM5.41 20L4 18.59l7.72-7.72 1.47 1.35L5.41 20z\"/>\n",
              "  </svg>\n",
              "      </button>\n",
              "      \n",
              "  <style>\n",
              "    .colab-df-container {\n",
              "      display:flex;\n",
              "      flex-wrap:wrap;\n",
              "      gap: 12px;\n",
              "    }\n",
              "\n",
              "    .colab-df-convert {\n",
              "      background-color: #E8F0FE;\n",
              "      border: none;\n",
              "      border-radius: 50%;\n",
              "      cursor: pointer;\n",
              "      display: none;\n",
              "      fill: #1967D2;\n",
              "      height: 32px;\n",
              "      padding: 0 0 0 0;\n",
              "      width: 32px;\n",
              "    }\n",
              "\n",
              "    .colab-df-convert:hover {\n",
              "      background-color: #E2EBFA;\n",
              "      box-shadow: 0px 1px 2px rgba(60, 64, 67, 0.3), 0px 1px 3px 1px rgba(60, 64, 67, 0.15);\n",
              "      fill: #174EA6;\n",
              "    }\n",
              "\n",
              "    [theme=dark] .colab-df-convert {\n",
              "      background-color: #3B4455;\n",
              "      fill: #D2E3FC;\n",
              "    }\n",
              "\n",
              "    [theme=dark] .colab-df-convert:hover {\n",
              "      background-color: #434B5C;\n",
              "      box-shadow: 0px 1px 3px 1px rgba(0, 0, 0, 0.15);\n",
              "      filter: drop-shadow(0px 1px 2px rgba(0, 0, 0, 0.3));\n",
              "      fill: #FFFFFF;\n",
              "    }\n",
              "  </style>\n",
              "\n",
              "      <script>\n",
              "        const buttonEl =\n",
              "          document.querySelector('#df-7c0ac45d-1062-4ba9-ae12-3198729b4bbc button.colab-df-convert');\n",
              "        buttonEl.style.display =\n",
              "          google.colab.kernel.accessAllowed ? 'block' : 'none';\n",
              "\n",
              "        async function convertToInteractive(key) {\n",
              "          const element = document.querySelector('#df-7c0ac45d-1062-4ba9-ae12-3198729b4bbc');\n",
              "          const dataTable =\n",
              "            await google.colab.kernel.invokeFunction('convertToInteractive',\n",
              "                                                     [key], {});\n",
              "          if (!dataTable) return;\n",
              "\n",
              "          const docLinkHtml = 'Like what you see? Visit the ' +\n",
              "            '<a target=\"_blank\" href=https://colab.research.google.com/notebooks/data_table.ipynb>data table notebook</a>'\n",
              "            + ' to learn more about interactive tables.';\n",
              "          element.innerHTML = '';\n",
              "          dataTable['output_type'] = 'display_data';\n",
              "          await google.colab.output.renderOutput(dataTable, element);\n",
              "          const docLink = document.createElement('div');\n",
              "          docLink.innerHTML = docLinkHtml;\n",
              "          element.appendChild(docLink);\n",
              "        }\n",
              "      </script>\n",
              "    </div>\n",
              "  </div>\n",
              "  "
            ]
          },
          "metadata": {},
          "execution_count": 7
        }
      ]
    },
    {
      "cell_type": "markdown",
      "source": [
        "\n",
        "---\n",
        "**Balanceo de clases en el conjunto:** De acuerdo a la revisión pudimos determinar que el conjunto se encuentra desbalanceado en las clases.\n",
        "\n",
        "\n",
        "*   Clase 2 (Benigno): %66\n",
        "*   Clase 4 (Maligno): %34\n",
        "\n",
        "---\n"
      ],
      "metadata": {
        "id": "jgT8OTIIJcce"
      }
    },
    {
      "cell_type": "code",
      "source": [
        "#Revisando el balanceo de las clases\n",
        "print(\"El porcentaje de la clase 2 es:\",len(df[df['Clase']==2])/len(df['Clase']))\n",
        "print(\"El porcentaje de la clase 4 es:\",len(df[df['Clase']==4])/len(df['Clase']))"
      ],
      "metadata": {
        "colab": {
          "base_uri": "https://localhost:8080/"
        },
        "id": "vpyPJG049u7M",
        "outputId": "0f2bb799-1205-4a0b-db6b-ab52846ca707"
      },
      "execution_count": null,
      "outputs": [
        {
          "output_type": "stream",
          "name": "stdout",
          "text": [
            "El porcentaje de la clase 2 es: 0.6552217453505007\n",
            "El porcentaje de la clase 4 es: 0.3447782546494993\n"
          ]
        }
      ]
    },
    {
      "cell_type": "markdown",
      "source": [
        "\n",
        "---\n",
        "**¿Cómo enfrentamos el desbalanceo?** \n",
        "\n",
        "---\n",
        "Inicialmente crearemos un modelo dummy para definir el objetivo al que queremos llegar con el balanceo, posteriormente aplicaremos la técnica  SMOTE, ya que el desbalanceo no es extremadamente alto y dicha técnica nos permitirá crear registros en la clase minoritaria (2) sin impactar fuertemente los pesos en los atributos de entrada."
      ],
      "metadata": {
        "id": "VkYxvCuzKbd-"
      }
    },
    {
      "cell_type": "markdown",
      "source": [
        "---\n",
        "**Implicaciones de un FP o un FN:** \n",
        "\n",
        "---\n",
        "Un falso positivo (FP) en el modelo implica categorizar un tumor benigno (2) como maligno (4), desde el punto de vista del paciente, se pueden generar afectaciones tanto psicológicas (debido al estrés de la enfermedad) como físicas (debido al suministro de medicamentos que no requiere).\n",
        "Un falso negativo (FN) en el modelo implica categorizar un tumor maligno (4) como benigno (2), desde el punto de vista del paciente, se puede generar deterioro de su salud debido a que no se le suministrará el tratamiento que requiere."
      ],
      "metadata": {
        "id": "BlcHVFgPKkKp"
      }
    },
    {
      "cell_type": "markdown",
      "source": [
        "\n",
        "---\n",
        "**Tipo de métrica a utilizar de acuerdo a taxonomía del artículo:** \n",
        "\n",
        "---\n",
        "Teniendo en cuenta la criticidad en la separación de las clases para este tipo de modelos que clasifican diagnósticos de salud, debemos utilizar una métrica en la que dicha separación sea crucial. Por ello haremos uso de la métrica **AUNU** (AUC of each class against the rest, using the uniform class distribution), en la cual se presenta un comportamiento aceptable con el ruido o la distorsión en los datos del conjunto o durante el entrenamiento del modelo, adicionalmente como nuestros datos se encuentran balanceados obtendremos mejores resultados a partir de esta métrica."
      ],
      "metadata": {
        "id": "7-AYpPE2KuUu"
      }
    },
    {
      "cell_type": "markdown",
      "source": [
        "\n",
        "---\n",
        "\n",
        "# 3. Propuesta de métrica(s) para BD \"**South German Credit Data Set**\"\n",
        "Carlos\n",
        "\n",
        "---"
      ],
      "metadata": {
        "id": "iLGSnOuVARQN"
      }
    },
    {
      "cell_type": "code",
      "source": [],
      "metadata": {
        "id": "I4Vlg3nWAUal"
      },
      "execution_count": null,
      "outputs": []
    },
    {
      "cell_type": "markdown",
      "source": [
        "---\n",
        "\n",
        "# 4. Propuesta de métrica(s) para BD \"**Telco customer churn: IBM dataset**\"\n",
        "Luis\n",
        "\n",
        "---"
      ],
      "metadata": {
        "id": "NMbqCi5cAU0v"
      }
    },
    {
      "cell_type": "markdown",
      "source": [
        "**Problema - Objetivo:** Se busca desarrollar un modelo predictivo que permita identificar a los clientes con intenciones de abandonar la contratación de su servicio de telefonía e Internet. Es sabido que las compañias de servicios ponen especial atención en 2 tipos de costos. Costo para retener a sus clientes y costos para atraer a nuevos clientes donde este último regularmente es mucho más alto, por tal motivo es necesario tener un alto grado de certeza durante la asignación de recursos para las estrategias enfocadas en retener a sus clientes."
      ],
      "metadata": {
        "id": "mCO7aToldq6s"
      }
    },
    {
      "cell_type": "code",
      "source": [
        "path ='/content/sample_data/Telco_customer_churn.xlsx'\n",
        "df=pd.read_excel('/content/sample_data/Telco_customer_churn.xlsx')\n",
        "df.head()"
      ],
      "metadata": {
        "id": "j5aDCra8AbM_",
        "outputId": "9ecbea97-d08a-40a0-b1fd-8fcf34028ae7",
        "colab": {
          "base_uri": "https://localhost:8080/",
          "height": 438
        }
      },
      "execution_count": null,
      "outputs": [
        {
          "output_type": "execute_result",
          "data": {
            "text/plain": [
              "   CustomerID  Count        Country       State         City  Zip Code  \\\n",
              "0  3668-QPYBK      1  United States  California  Los Angeles     90003   \n",
              "1  9237-HQITU      1  United States  California  Los Angeles     90005   \n",
              "2  9305-CDSKC      1  United States  California  Los Angeles     90006   \n",
              "3  7892-POOKP      1  United States  California  Los Angeles     90010   \n",
              "4  0280-XJGEX      1  United States  California  Los Angeles     90015   \n",
              "\n",
              "                 Lat Long   Latitude   Longitude  Gender  ...        Contract  \\\n",
              "0  33.964131, -118.272783  33.964131 -118.272783    Male  ...  Month-to-month   \n",
              "1   34.059281, -118.30742  34.059281 -118.307420  Female  ...  Month-to-month   \n",
              "2  34.048013, -118.293953  34.048013 -118.293953  Female  ...  Month-to-month   \n",
              "3  34.062125, -118.315709  34.062125 -118.315709  Female  ...  Month-to-month   \n",
              "4  34.039224, -118.266293  34.039224 -118.266293    Male  ...  Month-to-month   \n",
              "\n",
              "  Paperless Billing             Payment Method  Monthly Charges Total Charges  \\\n",
              "0               Yes               Mailed check            53.85        108.15   \n",
              "1               Yes           Electronic check            70.70        151.65   \n",
              "2               Yes           Electronic check            99.65         820.5   \n",
              "3               Yes           Electronic check           104.80       3046.05   \n",
              "4               Yes  Bank transfer (automatic)           103.70        5036.3   \n",
              "\n",
              "  Churn Label Churn Value Churn Score  CLTV                   Churn Reason  \n",
              "0         Yes           1          86  3239   Competitor made better offer  \n",
              "1         Yes           1          67  2701                          Moved  \n",
              "2         Yes           1          86  5372                          Moved  \n",
              "3         Yes           1          84  5003                          Moved  \n",
              "4         Yes           1          89  5340  Competitor had better devices  \n",
              "\n",
              "[5 rows x 33 columns]"
            ],
            "text/html": [
              "\n",
              "  <div id=\"df-058cdddf-e9a0-4bd5-bc04-b3d046cdd853\">\n",
              "    <div class=\"colab-df-container\">\n",
              "      <div>\n",
              "<style scoped>\n",
              "    .dataframe tbody tr th:only-of-type {\n",
              "        vertical-align: middle;\n",
              "    }\n",
              "\n",
              "    .dataframe tbody tr th {\n",
              "        vertical-align: top;\n",
              "    }\n",
              "\n",
              "    .dataframe thead th {\n",
              "        text-align: right;\n",
              "    }\n",
              "</style>\n",
              "<table border=\"1\" class=\"dataframe\">\n",
              "  <thead>\n",
              "    <tr style=\"text-align: right;\">\n",
              "      <th></th>\n",
              "      <th>CustomerID</th>\n",
              "      <th>Count</th>\n",
              "      <th>Country</th>\n",
              "      <th>State</th>\n",
              "      <th>City</th>\n",
              "      <th>Zip Code</th>\n",
              "      <th>Lat Long</th>\n",
              "      <th>Latitude</th>\n",
              "      <th>Longitude</th>\n",
              "      <th>Gender</th>\n",
              "      <th>...</th>\n",
              "      <th>Contract</th>\n",
              "      <th>Paperless Billing</th>\n",
              "      <th>Payment Method</th>\n",
              "      <th>Monthly Charges</th>\n",
              "      <th>Total Charges</th>\n",
              "      <th>Churn Label</th>\n",
              "      <th>Churn Value</th>\n",
              "      <th>Churn Score</th>\n",
              "      <th>CLTV</th>\n",
              "      <th>Churn Reason</th>\n",
              "    </tr>\n",
              "  </thead>\n",
              "  <tbody>\n",
              "    <tr>\n",
              "      <th>0</th>\n",
              "      <td>3668-QPYBK</td>\n",
              "      <td>1</td>\n",
              "      <td>United States</td>\n",
              "      <td>California</td>\n",
              "      <td>Los Angeles</td>\n",
              "      <td>90003</td>\n",
              "      <td>33.964131, -118.272783</td>\n",
              "      <td>33.964131</td>\n",
              "      <td>-118.272783</td>\n",
              "      <td>Male</td>\n",
              "      <td>...</td>\n",
              "      <td>Month-to-month</td>\n",
              "      <td>Yes</td>\n",
              "      <td>Mailed check</td>\n",
              "      <td>53.85</td>\n",
              "      <td>108.15</td>\n",
              "      <td>Yes</td>\n",
              "      <td>1</td>\n",
              "      <td>86</td>\n",
              "      <td>3239</td>\n",
              "      <td>Competitor made better offer</td>\n",
              "    </tr>\n",
              "    <tr>\n",
              "      <th>1</th>\n",
              "      <td>9237-HQITU</td>\n",
              "      <td>1</td>\n",
              "      <td>United States</td>\n",
              "      <td>California</td>\n",
              "      <td>Los Angeles</td>\n",
              "      <td>90005</td>\n",
              "      <td>34.059281, -118.30742</td>\n",
              "      <td>34.059281</td>\n",
              "      <td>-118.307420</td>\n",
              "      <td>Female</td>\n",
              "      <td>...</td>\n",
              "      <td>Month-to-month</td>\n",
              "      <td>Yes</td>\n",
              "      <td>Electronic check</td>\n",
              "      <td>70.70</td>\n",
              "      <td>151.65</td>\n",
              "      <td>Yes</td>\n",
              "      <td>1</td>\n",
              "      <td>67</td>\n",
              "      <td>2701</td>\n",
              "      <td>Moved</td>\n",
              "    </tr>\n",
              "    <tr>\n",
              "      <th>2</th>\n",
              "      <td>9305-CDSKC</td>\n",
              "      <td>1</td>\n",
              "      <td>United States</td>\n",
              "      <td>California</td>\n",
              "      <td>Los Angeles</td>\n",
              "      <td>90006</td>\n",
              "      <td>34.048013, -118.293953</td>\n",
              "      <td>34.048013</td>\n",
              "      <td>-118.293953</td>\n",
              "      <td>Female</td>\n",
              "      <td>...</td>\n",
              "      <td>Month-to-month</td>\n",
              "      <td>Yes</td>\n",
              "      <td>Electronic check</td>\n",
              "      <td>99.65</td>\n",
              "      <td>820.5</td>\n",
              "      <td>Yes</td>\n",
              "      <td>1</td>\n",
              "      <td>86</td>\n",
              "      <td>5372</td>\n",
              "      <td>Moved</td>\n",
              "    </tr>\n",
              "    <tr>\n",
              "      <th>3</th>\n",
              "      <td>7892-POOKP</td>\n",
              "      <td>1</td>\n",
              "      <td>United States</td>\n",
              "      <td>California</td>\n",
              "      <td>Los Angeles</td>\n",
              "      <td>90010</td>\n",
              "      <td>34.062125, -118.315709</td>\n",
              "      <td>34.062125</td>\n",
              "      <td>-118.315709</td>\n",
              "      <td>Female</td>\n",
              "      <td>...</td>\n",
              "      <td>Month-to-month</td>\n",
              "      <td>Yes</td>\n",
              "      <td>Electronic check</td>\n",
              "      <td>104.80</td>\n",
              "      <td>3046.05</td>\n",
              "      <td>Yes</td>\n",
              "      <td>1</td>\n",
              "      <td>84</td>\n",
              "      <td>5003</td>\n",
              "      <td>Moved</td>\n",
              "    </tr>\n",
              "    <tr>\n",
              "      <th>4</th>\n",
              "      <td>0280-XJGEX</td>\n",
              "      <td>1</td>\n",
              "      <td>United States</td>\n",
              "      <td>California</td>\n",
              "      <td>Los Angeles</td>\n",
              "      <td>90015</td>\n",
              "      <td>34.039224, -118.266293</td>\n",
              "      <td>34.039224</td>\n",
              "      <td>-118.266293</td>\n",
              "      <td>Male</td>\n",
              "      <td>...</td>\n",
              "      <td>Month-to-month</td>\n",
              "      <td>Yes</td>\n",
              "      <td>Bank transfer (automatic)</td>\n",
              "      <td>103.70</td>\n",
              "      <td>5036.3</td>\n",
              "      <td>Yes</td>\n",
              "      <td>1</td>\n",
              "      <td>89</td>\n",
              "      <td>5340</td>\n",
              "      <td>Competitor had better devices</td>\n",
              "    </tr>\n",
              "  </tbody>\n",
              "</table>\n",
              "<p>5 rows × 33 columns</p>\n",
              "</div>\n",
              "      <button class=\"colab-df-convert\" onclick=\"convertToInteractive('df-058cdddf-e9a0-4bd5-bc04-b3d046cdd853')\"\n",
              "              title=\"Convert this dataframe to an interactive table.\"\n",
              "              style=\"display:none;\">\n",
              "        \n",
              "  <svg xmlns=\"http://www.w3.org/2000/svg\" height=\"24px\"viewBox=\"0 0 24 24\"\n",
              "       width=\"24px\">\n",
              "    <path d=\"M0 0h24v24H0V0z\" fill=\"none\"/>\n",
              "    <path d=\"M18.56 5.44l.94 2.06.94-2.06 2.06-.94-2.06-.94-.94-2.06-.94 2.06-2.06.94zm-11 1L8.5 8.5l.94-2.06 2.06-.94-2.06-.94L8.5 2.5l-.94 2.06-2.06.94zm10 10l.94 2.06.94-2.06 2.06-.94-2.06-.94-.94-2.06-.94 2.06-2.06.94z\"/><path d=\"M17.41 7.96l-1.37-1.37c-.4-.4-.92-.59-1.43-.59-.52 0-1.04.2-1.43.59L10.3 9.45l-7.72 7.72c-.78.78-.78 2.05 0 2.83L4 21.41c.39.39.9.59 1.41.59.51 0 1.02-.2 1.41-.59l7.78-7.78 2.81-2.81c.8-.78.8-2.07 0-2.86zM5.41 20L4 18.59l7.72-7.72 1.47 1.35L5.41 20z\"/>\n",
              "  </svg>\n",
              "      </button>\n",
              "      \n",
              "  <style>\n",
              "    .colab-df-container {\n",
              "      display:flex;\n",
              "      flex-wrap:wrap;\n",
              "      gap: 12px;\n",
              "    }\n",
              "\n",
              "    .colab-df-convert {\n",
              "      background-color: #E8F0FE;\n",
              "      border: none;\n",
              "      border-radius: 50%;\n",
              "      cursor: pointer;\n",
              "      display: none;\n",
              "      fill: #1967D2;\n",
              "      height: 32px;\n",
              "      padding: 0 0 0 0;\n",
              "      width: 32px;\n",
              "    }\n",
              "\n",
              "    .colab-df-convert:hover {\n",
              "      background-color: #E2EBFA;\n",
              "      box-shadow: 0px 1px 2px rgba(60, 64, 67, 0.3), 0px 1px 3px 1px rgba(60, 64, 67, 0.15);\n",
              "      fill: #174EA6;\n",
              "    }\n",
              "\n",
              "    [theme=dark] .colab-df-convert {\n",
              "      background-color: #3B4455;\n",
              "      fill: #D2E3FC;\n",
              "    }\n",
              "\n",
              "    [theme=dark] .colab-df-convert:hover {\n",
              "      background-color: #434B5C;\n",
              "      box-shadow: 0px 1px 3px 1px rgba(0, 0, 0, 0.15);\n",
              "      filter: drop-shadow(0px 1px 2px rgba(0, 0, 0, 0.3));\n",
              "      fill: #FFFFFF;\n",
              "    }\n",
              "  </style>\n",
              "\n",
              "      <script>\n",
              "        const buttonEl =\n",
              "          document.querySelector('#df-058cdddf-e9a0-4bd5-bc04-b3d046cdd853 button.colab-df-convert');\n",
              "        buttonEl.style.display =\n",
              "          google.colab.kernel.accessAllowed ? 'block' : 'none';\n",
              "\n",
              "        async function convertToInteractive(key) {\n",
              "          const element = document.querySelector('#df-058cdddf-e9a0-4bd5-bc04-b3d046cdd853');\n",
              "          const dataTable =\n",
              "            await google.colab.kernel.invokeFunction('convertToInteractive',\n",
              "                                                     [key], {});\n",
              "          if (!dataTable) return;\n",
              "\n",
              "          const docLinkHtml = 'Like what you see? Visit the ' +\n",
              "            '<a target=\"_blank\" href=https://colab.research.google.com/notebooks/data_table.ipynb>data table notebook</a>'\n",
              "            + ' to learn more about interactive tables.';\n",
              "          element.innerHTML = '';\n",
              "          dataTable['output_type'] = 'display_data';\n",
              "          await google.colab.output.renderOutput(dataTable, element);\n",
              "          const docLink = document.createElement('div');\n",
              "          docLink.innerHTML = docLinkHtml;\n",
              "          element.appendChild(docLink);\n",
              "        }\n",
              "      </script>\n",
              "    </div>\n",
              "  </div>\n",
              "  "
            ]
          },
          "metadata": {},
          "execution_count": 9
        }
      ]
    },
    {
      "cell_type": "markdown",
      "source": [
        "---\n",
        "**Balanceo de clases en el conjunto:** Dentro del conjunto de datos se observa un desbalanceo de clases cargado en el sentido de la retención de clientes. Sin embargo, la clase de interés o minoritaria es la relacionada con la 'perdida de clientes\".\n",
        "\n",
        "\n",
        "*   Clase 0 (Clientes Retenidos): 73%\n",
        "*   Clase 1 (Clientes perdidos): 27%\n",
        "\n",
        "---"
      ],
      "metadata": {
        "id": "lvQUDvNwf_nb"
      }
    },
    {
      "cell_type": "code",
      "source": [
        "#Revisando el balanceo de las clases\n",
        "print(\"El porcentaje de la clase 0 es:\",len(df[df['Churn Value']==0])/len(df['Churn Value']))\n",
        "print(\"El porcentaje de la clase 1 es:\",len(df[df['Churn Value']==1])/len(df['Churn Value']))"
      ],
      "metadata": {
        "id": "RLqswR8zfD4k",
        "outputId": "d2b20372-ec75-4124-aecf-61ad46fb25d5",
        "colab": {
          "base_uri": "https://localhost:8080/"
        }
      },
      "execution_count": null,
      "outputs": [
        {
          "output_type": "stream",
          "name": "stdout",
          "text": [
            "El porcentaje de la clase 0 es: 0.7346301292063041\n",
            "El porcentaje de la clase 1 es: 0.2653698707936959\n"
          ]
        }
      ]
    },
    {
      "cell_type": "markdown",
      "source": [
        "---\n",
        "**¿Cómo enfrentamos el desbalanceo?** \n",
        "\n",
        "---\n",
        "El punto de partida es la utilización del argumento stratify=y al momento de generar la partición de los conjuntos de prueba y entrenamiento, el siguiente paso es creación de un un modelo dummy con la estrategia \"stratified\" que nos permita tener un referencia sobre el objetivo de desempeño mínimo que esperariamos mejorar con el modelo de predicción real. Una última consideración es la combinación de dos técnicas de muestreo empezando con la combinación RandomU + RandomO, se propone iniciar con  esta combinación para posteriormente probar otra como puede ser SMOTE+RandomU y elegir la que arroje mejores resultados."
      ],
      "metadata": {
        "id": "2w24vJoG04C0"
      }
    },
    {
      "cell_type": "markdown",
      "source": [
        "---\n",
        "**Implicaciones de un FP o un FN:** \n",
        "\n",
        "---\n",
        "Para el ejercicio con la base de datos de Telco, un (FP) se presenta cuando determinado cliente es seleccionado como suceptible de cancelar el servicio de telefonía e Internet por lo tanto se le aplica alguna estrategia para invitarlo a mantener la contratación del servicio a manera de envío de publicidad por distnitos medios lo que en determinado momento podría generar descontento dependiendo de la frecuencia con que este la reciba o porponer mejoras en tarifas o descuentos cuando no es necesario lo en en suma podria afectar el margen de ganancia de la compañia. Por otro lado un (FN) es aquel cliente que no es clasificado como un posible desertor y al que finalmente no se le dedican esfuerzos suficientes para motivarlo a mantener el servicio lo cual resultaria en una inminente cancelación del servicio y un revés para la compañia pues reemplazar este cliente por uno nuevo le costará más."
      ],
      "metadata": {
        "id": "AcePPH9zA65Z"
      }
    },
    {
      "cell_type": "markdown",
      "source": [
        "---\n",
        "**Tipo de métrica a utilizar de acuerdo a taxonomía del artículo:** \n",
        "\n",
        "---\n",
        "Con este problema de clasificación entre clientes que cancelaron el servicio y los que no lo hicieron la intención del modelo seria minimizar el número de errores, sobre todo de los clasificados como FN debido al alto costo que implica el reemplazo de un cliente actual con un cliente nuevo. Las métricas utilizadas para minimizar errores son las basadas en umbral. Dentro de las mencionadas en el artículo tenemos 2 de tipo umbral que podemos utilizar. La primera es Exactitud la cual podemos usar para confirmar si es buena decision la estrategia de \"stratified\" en las operaciones de partición de conjuntos de prueba y entrenamiento y en el modelo Dummy pero para la selección de los mejores parámetro y evlauación del desempeño del modelo, la métrica seleccionada seria F-Score."
      ],
      "metadata": {
        "id": "g8r1Aq8xEK6p"
      }
    },
    {
      "cell_type": "markdown",
      "source": [
        "---\n",
        "\n",
        "# 5. Propuesta de métrica(s) para BD \"**Qualitative_Bankruptcy Data Set**\"\n",
        "Marco\n",
        "\n",
        "---"
      ],
      "metadata": {
        "id": "IJEfIUlOAbk4"
      }
    },
    {
      "cell_type": "code",
      "source": [],
      "metadata": {
        "id": "qJESE7KBAl1R"
      },
      "execution_count": null,
      "outputs": []
    }
  ]
}