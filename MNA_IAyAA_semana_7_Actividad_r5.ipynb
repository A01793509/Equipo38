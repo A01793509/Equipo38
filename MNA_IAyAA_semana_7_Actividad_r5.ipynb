{
  "nbformat": 4,
  "nbformat_minor": 0,
  "metadata": {
    "colab": {
      "provenance": [],
      "collapsed_sections": [],
      "include_colab_link": true
    },
    "kernelspec": {
      "display_name": "Python 3",
      "name": "python3"
    }
  },
  "cells": [
    {
      "cell_type": "markdown",
      "metadata": {
        "id": "view-in-github",
        "colab_type": "text"
      },
      "source": [
        "<a href=\"https://colab.research.google.com/github/A01793509/Equipo38/blob/main/MNA_IAyAA_semana_7_Actividad_r5.ipynb\" target=\"_parent\"><img src=\"https://colab.research.google.com/assets/colab-badge.svg\" alt=\"Open In Colab\"/></a>"
      ]
    },
    {
      "cell_type": "markdown",
      "source": [
        "#**Maestría en Inteligencia Artificial Aplicada**\n",
        "##**Curso: Inteligencia Artificial y Aprendizaje Automático**\n",
        "###Tecnológico de Monterrey\n",
        "###Prof Luis Eduardo Falcón Morales\n",
        "\n",
        "## **Adtividad de la Semana 7**\n",
        "###**Red Neuronal Artificial - Perceptrón Multicapa : Multilayer Perceptrón (MLP)**\n"
      ],
      "metadata": {
        "id": "VFj0sSM06dYa"
      }
    },
    {
      "cell_type": "markdown",
      "source": [
        "**Nombres y matrículas de los integrantes del equipo:**\n",
        "\n",
        "*   Alberto Jose Garcia Porras (A01793509)\n",
        "*   Carlos Julio León Caicedo (A01793947)\n",
        "*   Luis Fernando Ríos Piedra (A00453954)\n",
        "*   Marco Antonio Vázquez Morales (A01793704)"
      ],
      "metadata": {
        "id": "Qgrvy0RGB9XI"
      }
    },
    {
      "cell_type": "markdown",
      "source": [
        "En cada sección deberás incluir todas las líneas de código necesarias para responder a cada uno de los ejercicios."
      ],
      "metadata": {
        "id": "FrJ2ahMODVj1"
      }
    },
    {
      "cell_type": "markdown",
      "source": [
        "#**Contexto del problema y el conjunto de datos a utilizar**\n",
        "\n",
        "El objetivo es determinar el impacto generado por un anuncio de una marca de cosméticos en Facebook, en el cual se intentaron varias variantes en la manera de mostrar el anuncio. Siguiendo el [artículo](https://www.semanticscholar.org/paper/Predicting-social-media-performance-metrics-and-of-Moro-Rita/dec55692590820754b53c916e29bb2b42c0e5104), deberás considerar como predictores o variables de entrada aquellas que se indican en la Tabla 3. Por otro lado, en la Tabla 2, los autores consideran varios casos para la variable de salida, intentando determinar cuál puede ser el mejor caso para medir el éxito de la campaña. Para este ejercicio deberás considerar únicamente los siguientes tres casos como variable de salida: “Lifetime post consumers”, “Lifetime People who have liked a Page and engaged with a post” y “Likes”. \n",
        "\n",
        "El conjunto de datos a utilizar es el de la siguiente liga de la UCI:\n",
        "https://archive.ics.uci.edu/ml/datasets/Facebook+metrics\n"
      ],
      "metadata": {
        "id": "sxlSJ-k7NYTs"
      }
    },
    {
      "cell_type": "code",
      "source": [
        "# Incluye aquí todos módulos, librerías y paquetes que requieras.\n",
        "import pandas as pd\n",
        "import numpy as np\n",
        "import matplotlib.pyplot as plt\n",
        "import requests, zipfile\n",
        "import seaborn as sns\n",
        "\n",
        "from sklearn.model_selection import train_test_split\n",
        "from sklearn.impute import SimpleImputer\n",
        "from sklearn.pipeline import Pipeline\n",
        "from sklearn.preprocessing import MinMaxScaler\n",
        "from sklearn.compose import ColumnTransformer\n",
        "from sklearn.linear_model import LinearRegression\n",
        "from sklearn.linear_model import LogisticRegression\n",
        "from sklearn.linear_model import Ridge\n",
        "from sklearn.metrics import confusion_matrix\n",
        "from sklearn.metrics import make_scorer,classification_report\n",
        "from imblearn.metrics import geometric_mean_score, classification_report_imbalanced\n",
        "from sklearn.model_selection import cross_validate\n",
        "from sklearn.model_selection import cross_val_predict\n",
        "from sklearn.model_selection import learning_curve\n",
        "from sklearn.ensemble import RandomForestClassifier\n",
        "from sklearn.tree import DecisionTreeClassifier\n",
        "from sklearn.model_selection import RepeatedStratifiedKFold,RepeatedKFold\n",
        "from sklearn.model_selection import GridSearchCV\n",
        "from sklearn.model_selection import validation_curve\n",
        "from sklearn.preprocessing import FunctionTransformer\n",
        "from sklearn.preprocessing import OneHotEncoder\n",
        "from sklearn.preprocessing import StandardScaler\n",
        "from io import BytesIO\n",
        "\n",
        "from imblearn.under_sampling import TomekLinks\n",
        "from imblearn.under_sampling import EditedNearestNeighbours\n",
        "\n",
        "from imblearn.over_sampling import SMOTE\n",
        "from imblearn.pipeline import Pipeline\n",
        "\n",
        "from imblearn.combine import SMOTEENN\n",
        "from imblearn.combine import SMOTETomek\n",
        "from imblearn.over_sampling import RandomOverSampler\n",
        "from imblearn.under_sampling import RandomUnderSampler\n",
        "from imblearn.pipeline import make_pipeline\n",
        "from imblearn.pipeline import make_pipeline as make_pipeline_with_sampler\n",
        "from imblearn.ensemble import BalancedRandomForestClassifier\n",
        "from sklearn.inspection import permutation_importance\n",
        "from sklearn.preprocessing import StandardScaler\n",
        "\n",
        "from sklearn.neural_network import MLPClassifier\n",
        "from sklearn.neural_network import MLPRegressor\n",
        "\n",
        "from scipy.stats import loguniform"
      ],
      "metadata": {
        "id": "exXsscs-Dh-2"
      },
      "execution_count": 88,
      "outputs": []
    },
    {
      "cell_type": "markdown",
      "metadata": {
        "id": "X25brD-gQdZM"
      },
      "source": [
        "#**Ejercicio-1.** \n",
        "\n",
        "En esta tarea considera únicamente la siguiente variable de salida que se concluye que es una de las mejores en el artículo antes citado:  ‘Lifetime People who have liked a Page and engaged with a post'. Renombra dicha variable como “LPE”. Como variables de entrada selecciona las 7 variables que indican los autores en la Tabla 3 del artículo citado.\n"
      ]
    },
    {
      "cell_type": "code",
      "source": [
        "path = 'https://archive.ics.uci.edu/ml/machine-learning-databases/00368/Facebook_metrics.zip'\n",
        "base_datos = path.split('/')[-1]\n",
        "req_path = requests.get(path)\n",
        "\n",
        "archivo_uci= zipfile.ZipFile(BytesIO(req_path.content))\n",
        "archivo_uci.extractall('/content/sample_data/Facebook_metrics')\n",
        "df = pd.read_csv(\"/content/sample_data/Facebook_metrics/dataset_Facebook.csv\",sep=';')\n",
        "\n",
        "df.rename(columns={'Lifetime People who have liked your Page and engaged with your post':'LPE'},\n",
        "               inplace=True)\n",
        "df.tail()"
      ],
      "metadata": {
        "id": "3nU2GuWYCy6C",
        "colab": {
          "base_uri": "https://localhost:8080/",
          "height": 374
        },
        "outputId": "b763774f-08d6-4440-ba64-e9dc84196ae8"
      },
      "execution_count": 2,
      "outputs": [
        {
          "output_type": "execute_result",
          "data": {
            "text/plain": [
              "     Page total likes   Type  Category  Post Month  Post Weekday  Post Hour  \\\n",
              "495             85093  Photo         3           1             7          2   \n",
              "496             81370  Photo         2           1             5          8   \n",
              "497             81370  Photo         1           1             5          2   \n",
              "498             81370  Photo         3           1             4         11   \n",
              "499             81370  Photo         2           1             4          4   \n",
              "\n",
              "     Paid  Lifetime Post Total Reach  Lifetime Post Total Impressions  \\\n",
              "495   0.0                       4684                             7536   \n",
              "496   0.0                       3480                             6229   \n",
              "497   0.0                       3778                             7216   \n",
              "498   0.0                       4156                             7564   \n",
              "499   NaN                       4188                             7292   \n",
              "\n",
              "     Lifetime Engaged Users  Lifetime Post Consumers  \\\n",
              "495                     733                      708   \n",
              "496                     537                      508   \n",
              "497                     625                      572   \n",
              "498                     626                      574   \n",
              "499                     564                      524   \n",
              "\n",
              "     Lifetime Post Consumptions  \\\n",
              "495                         985   \n",
              "496                         687   \n",
              "497                         795   \n",
              "498                         832   \n",
              "499                         743   \n",
              "\n",
              "     Lifetime Post Impressions by people who have liked your Page  \\\n",
              "495                                               4750              \n",
              "496                                               3961              \n",
              "497                                               4742              \n",
              "498                                               4534              \n",
              "499                                               3861              \n",
              "\n",
              "     Lifetime Post reach by people who like your Page  LPE  comment  like  \\\n",
              "495                                              2876  392        5  53.0   \n",
              "496                                              2104  301        0  53.0   \n",
              "497                                              2388  363        4  93.0   \n",
              "498                                              2452  370        7  91.0   \n",
              "499                                              2200  316        0  91.0   \n",
              "\n",
              "     share  Total Interactions  \n",
              "495   26.0                  84  \n",
              "496   22.0                  75  \n",
              "497   18.0                 115  \n",
              "498   38.0                 136  \n",
              "499   28.0                 119  "
            ],
            "text/html": [
              "\n",
              "  <div id=\"df-1aa7cc42-338f-417c-88a3-ea5924e15123\">\n",
              "    <div class=\"colab-df-container\">\n",
              "      <div>\n",
              "<style scoped>\n",
              "    .dataframe tbody tr th:only-of-type {\n",
              "        vertical-align: middle;\n",
              "    }\n",
              "\n",
              "    .dataframe tbody tr th {\n",
              "        vertical-align: top;\n",
              "    }\n",
              "\n",
              "    .dataframe thead th {\n",
              "        text-align: right;\n",
              "    }\n",
              "</style>\n",
              "<table border=\"1\" class=\"dataframe\">\n",
              "  <thead>\n",
              "    <tr style=\"text-align: right;\">\n",
              "      <th></th>\n",
              "      <th>Page total likes</th>\n",
              "      <th>Type</th>\n",
              "      <th>Category</th>\n",
              "      <th>Post Month</th>\n",
              "      <th>Post Weekday</th>\n",
              "      <th>Post Hour</th>\n",
              "      <th>Paid</th>\n",
              "      <th>Lifetime Post Total Reach</th>\n",
              "      <th>Lifetime Post Total Impressions</th>\n",
              "      <th>Lifetime Engaged Users</th>\n",
              "      <th>Lifetime Post Consumers</th>\n",
              "      <th>Lifetime Post Consumptions</th>\n",
              "      <th>Lifetime Post Impressions by people who have liked your Page</th>\n",
              "      <th>Lifetime Post reach by people who like your Page</th>\n",
              "      <th>LPE</th>\n",
              "      <th>comment</th>\n",
              "      <th>like</th>\n",
              "      <th>share</th>\n",
              "      <th>Total Interactions</th>\n",
              "    </tr>\n",
              "  </thead>\n",
              "  <tbody>\n",
              "    <tr>\n",
              "      <th>495</th>\n",
              "      <td>85093</td>\n",
              "      <td>Photo</td>\n",
              "      <td>3</td>\n",
              "      <td>1</td>\n",
              "      <td>7</td>\n",
              "      <td>2</td>\n",
              "      <td>0.0</td>\n",
              "      <td>4684</td>\n",
              "      <td>7536</td>\n",
              "      <td>733</td>\n",
              "      <td>708</td>\n",
              "      <td>985</td>\n",
              "      <td>4750</td>\n",
              "      <td>2876</td>\n",
              "      <td>392</td>\n",
              "      <td>5</td>\n",
              "      <td>53.0</td>\n",
              "      <td>26.0</td>\n",
              "      <td>84</td>\n",
              "    </tr>\n",
              "    <tr>\n",
              "      <th>496</th>\n",
              "      <td>81370</td>\n",
              "      <td>Photo</td>\n",
              "      <td>2</td>\n",
              "      <td>1</td>\n",
              "      <td>5</td>\n",
              "      <td>8</td>\n",
              "      <td>0.0</td>\n",
              "      <td>3480</td>\n",
              "      <td>6229</td>\n",
              "      <td>537</td>\n",
              "      <td>508</td>\n",
              "      <td>687</td>\n",
              "      <td>3961</td>\n",
              "      <td>2104</td>\n",
              "      <td>301</td>\n",
              "      <td>0</td>\n",
              "      <td>53.0</td>\n",
              "      <td>22.0</td>\n",
              "      <td>75</td>\n",
              "    </tr>\n",
              "    <tr>\n",
              "      <th>497</th>\n",
              "      <td>81370</td>\n",
              "      <td>Photo</td>\n",
              "      <td>1</td>\n",
              "      <td>1</td>\n",
              "      <td>5</td>\n",
              "      <td>2</td>\n",
              "      <td>0.0</td>\n",
              "      <td>3778</td>\n",
              "      <td>7216</td>\n",
              "      <td>625</td>\n",
              "      <td>572</td>\n",
              "      <td>795</td>\n",
              "      <td>4742</td>\n",
              "      <td>2388</td>\n",
              "      <td>363</td>\n",
              "      <td>4</td>\n",
              "      <td>93.0</td>\n",
              "      <td>18.0</td>\n",
              "      <td>115</td>\n",
              "    </tr>\n",
              "    <tr>\n",
              "      <th>498</th>\n",
              "      <td>81370</td>\n",
              "      <td>Photo</td>\n",
              "      <td>3</td>\n",
              "      <td>1</td>\n",
              "      <td>4</td>\n",
              "      <td>11</td>\n",
              "      <td>0.0</td>\n",
              "      <td>4156</td>\n",
              "      <td>7564</td>\n",
              "      <td>626</td>\n",
              "      <td>574</td>\n",
              "      <td>832</td>\n",
              "      <td>4534</td>\n",
              "      <td>2452</td>\n",
              "      <td>370</td>\n",
              "      <td>7</td>\n",
              "      <td>91.0</td>\n",
              "      <td>38.0</td>\n",
              "      <td>136</td>\n",
              "    </tr>\n",
              "    <tr>\n",
              "      <th>499</th>\n",
              "      <td>81370</td>\n",
              "      <td>Photo</td>\n",
              "      <td>2</td>\n",
              "      <td>1</td>\n",
              "      <td>4</td>\n",
              "      <td>4</td>\n",
              "      <td>NaN</td>\n",
              "      <td>4188</td>\n",
              "      <td>7292</td>\n",
              "      <td>564</td>\n",
              "      <td>524</td>\n",
              "      <td>743</td>\n",
              "      <td>3861</td>\n",
              "      <td>2200</td>\n",
              "      <td>316</td>\n",
              "      <td>0</td>\n",
              "      <td>91.0</td>\n",
              "      <td>28.0</td>\n",
              "      <td>119</td>\n",
              "    </tr>\n",
              "  </tbody>\n",
              "</table>\n",
              "</div>\n",
              "      <button class=\"colab-df-convert\" onclick=\"convertToInteractive('df-1aa7cc42-338f-417c-88a3-ea5924e15123')\"\n",
              "              title=\"Convert this dataframe to an interactive table.\"\n",
              "              style=\"display:none;\">\n",
              "        \n",
              "  <svg xmlns=\"http://www.w3.org/2000/svg\" height=\"24px\"viewBox=\"0 0 24 24\"\n",
              "       width=\"24px\">\n",
              "    <path d=\"M0 0h24v24H0V0z\" fill=\"none\"/>\n",
              "    <path d=\"M18.56 5.44l.94 2.06.94-2.06 2.06-.94-2.06-.94-.94-2.06-.94 2.06-2.06.94zm-11 1L8.5 8.5l.94-2.06 2.06-.94-2.06-.94L8.5 2.5l-.94 2.06-2.06.94zm10 10l.94 2.06.94-2.06 2.06-.94-2.06-.94-.94-2.06-.94 2.06-2.06.94z\"/><path d=\"M17.41 7.96l-1.37-1.37c-.4-.4-.92-.59-1.43-.59-.52 0-1.04.2-1.43.59L10.3 9.45l-7.72 7.72c-.78.78-.78 2.05 0 2.83L4 21.41c.39.39.9.59 1.41.59.51 0 1.02-.2 1.41-.59l7.78-7.78 2.81-2.81c.8-.78.8-2.07 0-2.86zM5.41 20L4 18.59l7.72-7.72 1.47 1.35L5.41 20z\"/>\n",
              "  </svg>\n",
              "      </button>\n",
              "      \n",
              "  <style>\n",
              "    .colab-df-container {\n",
              "      display:flex;\n",
              "      flex-wrap:wrap;\n",
              "      gap: 12px;\n",
              "    }\n",
              "\n",
              "    .colab-df-convert {\n",
              "      background-color: #E8F0FE;\n",
              "      border: none;\n",
              "      border-radius: 50%;\n",
              "      cursor: pointer;\n",
              "      display: none;\n",
              "      fill: #1967D2;\n",
              "      height: 32px;\n",
              "      padding: 0 0 0 0;\n",
              "      width: 32px;\n",
              "    }\n",
              "\n",
              "    .colab-df-convert:hover {\n",
              "      background-color: #E2EBFA;\n",
              "      box-shadow: 0px 1px 2px rgba(60, 64, 67, 0.3), 0px 1px 3px 1px rgba(60, 64, 67, 0.15);\n",
              "      fill: #174EA6;\n",
              "    }\n",
              "\n",
              "    [theme=dark] .colab-df-convert {\n",
              "      background-color: #3B4455;\n",
              "      fill: #D2E3FC;\n",
              "    }\n",
              "\n",
              "    [theme=dark] .colab-df-convert:hover {\n",
              "      background-color: #434B5C;\n",
              "      box-shadow: 0px 1px 3px 1px rgba(0, 0, 0, 0.15);\n",
              "      filter: drop-shadow(0px 1px 2px rgba(0, 0, 0, 0.3));\n",
              "      fill: #FFFFFF;\n",
              "    }\n",
              "  </style>\n",
              "\n",
              "      <script>\n",
              "        const buttonEl =\n",
              "          document.querySelector('#df-1aa7cc42-338f-417c-88a3-ea5924e15123 button.colab-df-convert');\n",
              "        buttonEl.style.display =\n",
              "          google.colab.kernel.accessAllowed ? 'block' : 'none';\n",
              "\n",
              "        async function convertToInteractive(key) {\n",
              "          const element = document.querySelector('#df-1aa7cc42-338f-417c-88a3-ea5924e15123');\n",
              "          const dataTable =\n",
              "            await google.colab.kernel.invokeFunction('convertToInteractive',\n",
              "                                                     [key], {});\n",
              "          if (!dataTable) return;\n",
              "\n",
              "          const docLinkHtml = 'Like what you see? Visit the ' +\n",
              "            '<a target=\"_blank\" href=https://colab.research.google.com/notebooks/data_table.ipynb>data table notebook</a>'\n",
              "            + ' to learn more about interactive tables.';\n",
              "          element.innerHTML = '';\n",
              "          dataTable['output_type'] = 'display_data';\n",
              "          await google.colab.output.renderOutput(dataTable, element);\n",
              "          const docLink = document.createElement('div');\n",
              "          docLink.innerHTML = docLinkHtml;\n",
              "          element.appendChild(docLink);\n",
              "        }\n",
              "      </script>\n",
              "    </div>\n",
              "  </div>\n",
              "  "
            ]
          },
          "metadata": {},
          "execution_count": 2
        }
      ]
    },
    {
      "cell_type": "code",
      "source": [
        "#Llenado de dato único dato nulo encontrado\n",
        "df['Paid']=df['Paid'].fillna(0)"
      ],
      "metadata": {
        "id": "YoZ9w8BQbzJP"
      },
      "execution_count": 3,
      "outputs": []
    },
    {
      "cell_type": "code",
      "source": [
        "#Separación de variables numéricas y categóricas del df original\n",
        "#Creación de dummies para variable Type\n",
        "df_nums = df.select_dtypes(exclude='object')\n",
        "df_objs = df.select_dtypes(include='object')\n",
        "df_objs = pd.get_dummies(df_objs,drop_first=False)\n",
        "final_df = pd.concat([df_nums,df_objs],axis=1)\n",
        "final_df.columns"
      ],
      "metadata": {
        "colab": {
          "base_uri": "https://localhost:8080/"
        },
        "id": "5K1WQxbtX2oI",
        "outputId": "1aacdb17-b8ce-44b3-c423-ffd6eabe504e"
      },
      "execution_count": 4,
      "outputs": [
        {
          "output_type": "execute_result",
          "data": {
            "text/plain": [
              "Index(['Page total likes', 'Category', 'Post Month', 'Post Weekday',\n",
              "       'Post Hour', 'Paid', 'Lifetime Post Total Reach',\n",
              "       'Lifetime Post Total Impressions', 'Lifetime Engaged Users',\n",
              "       'Lifetime Post Consumers', 'Lifetime Post Consumptions',\n",
              "       'Lifetime Post Impressions by people who have liked your Page',\n",
              "       'Lifetime Post reach by people who like your Page', 'LPE', 'comment',\n",
              "       'like', 'share', 'Total Interactions', 'Type_Link', 'Type_Photo',\n",
              "       'Type_Status', 'Type_Video'],\n",
              "      dtype='object')"
            ]
          },
          "metadata": {},
          "execution_count": 4
        }
      ]
    },
    {
      "cell_type": "code",
      "source": [
        "#Generar df con variables finales para el modelo\n",
        "var_input=final_df[['Category', 'Page total likes', 'Type_Photo', 'Type_Status',\n",
        "       'Type_Video', 'Post Month', 'Post Hour', 'Post Weekday', 'Paid','LPE']]\n",
        "# print(df[['Category', 'Page total likes', 'Type', 'Post Month', 'Post Hour', 'Post Weekday', 'Paid']])\n"
      ],
      "metadata": {
        "id": "0ulkqXVGCy97"
      },
      "execution_count": 5,
      "outputs": []
    },
    {
      "cell_type": "code",
      "source": [
        "var_input.describe(include='all')"
      ],
      "metadata": {
        "colab": {
          "base_uri": "https://localhost:8080/",
          "height": 300
        },
        "id": "aIeXsS5eOwfP",
        "outputId": "8ffcae3b-6e9d-4dfb-a56a-2a805298104b"
      },
      "execution_count": 6,
      "outputs": [
        {
          "output_type": "execute_result",
          "data": {
            "text/plain": [
              "         Category  Page total likes  Type_Photo  Type_Status  Type_Video  \\\n",
              "count  500.000000        500.000000  500.000000   500.000000  500.000000   \n",
              "mean     1.880000     123194.176000    0.852000     0.090000    0.014000   \n",
              "std      0.852675      16272.813214    0.355456     0.286468    0.117608   \n",
              "min      1.000000      81370.000000    0.000000     0.000000    0.000000   \n",
              "25%      1.000000     112676.000000    1.000000     0.000000    0.000000   \n",
              "50%      2.000000     129600.000000    1.000000     0.000000    0.000000   \n",
              "75%      3.000000     136393.000000    1.000000     0.000000    0.000000   \n",
              "max      3.000000     139441.000000    1.000000     1.000000    1.000000   \n",
              "\n",
              "       Post Month   Post Hour  Post Weekday        Paid          LPE  \n",
              "count  500.000000  500.000000    500.000000  500.000000   500.000000  \n",
              "mean     7.038000    7.840000      4.150000    0.278000   609.986000  \n",
              "std      3.307936    4.368589      2.030701    0.448462   612.725618  \n",
              "min      1.000000    1.000000      1.000000    0.000000     9.000000  \n",
              "25%      4.000000    3.000000      2.000000    0.000000   291.000000  \n",
              "50%      7.000000    9.000000      4.000000    0.000000   412.000000  \n",
              "75%     10.000000   11.000000      6.000000    1.000000   656.250000  \n",
              "max     12.000000   23.000000      7.000000    1.000000  4376.000000  "
            ],
            "text/html": [
              "\n",
              "  <div id=\"df-f960b872-1a14-4777-982b-00bb1f937f57\">\n",
              "    <div class=\"colab-df-container\">\n",
              "      <div>\n",
              "<style scoped>\n",
              "    .dataframe tbody tr th:only-of-type {\n",
              "        vertical-align: middle;\n",
              "    }\n",
              "\n",
              "    .dataframe tbody tr th {\n",
              "        vertical-align: top;\n",
              "    }\n",
              "\n",
              "    .dataframe thead th {\n",
              "        text-align: right;\n",
              "    }\n",
              "</style>\n",
              "<table border=\"1\" class=\"dataframe\">\n",
              "  <thead>\n",
              "    <tr style=\"text-align: right;\">\n",
              "      <th></th>\n",
              "      <th>Category</th>\n",
              "      <th>Page total likes</th>\n",
              "      <th>Type_Photo</th>\n",
              "      <th>Type_Status</th>\n",
              "      <th>Type_Video</th>\n",
              "      <th>Post Month</th>\n",
              "      <th>Post Hour</th>\n",
              "      <th>Post Weekday</th>\n",
              "      <th>Paid</th>\n",
              "      <th>LPE</th>\n",
              "    </tr>\n",
              "  </thead>\n",
              "  <tbody>\n",
              "    <tr>\n",
              "      <th>count</th>\n",
              "      <td>500.000000</td>\n",
              "      <td>500.000000</td>\n",
              "      <td>500.000000</td>\n",
              "      <td>500.000000</td>\n",
              "      <td>500.000000</td>\n",
              "      <td>500.000000</td>\n",
              "      <td>500.000000</td>\n",
              "      <td>500.000000</td>\n",
              "      <td>500.000000</td>\n",
              "      <td>500.000000</td>\n",
              "    </tr>\n",
              "    <tr>\n",
              "      <th>mean</th>\n",
              "      <td>1.880000</td>\n",
              "      <td>123194.176000</td>\n",
              "      <td>0.852000</td>\n",
              "      <td>0.090000</td>\n",
              "      <td>0.014000</td>\n",
              "      <td>7.038000</td>\n",
              "      <td>7.840000</td>\n",
              "      <td>4.150000</td>\n",
              "      <td>0.278000</td>\n",
              "      <td>609.986000</td>\n",
              "    </tr>\n",
              "    <tr>\n",
              "      <th>std</th>\n",
              "      <td>0.852675</td>\n",
              "      <td>16272.813214</td>\n",
              "      <td>0.355456</td>\n",
              "      <td>0.286468</td>\n",
              "      <td>0.117608</td>\n",
              "      <td>3.307936</td>\n",
              "      <td>4.368589</td>\n",
              "      <td>2.030701</td>\n",
              "      <td>0.448462</td>\n",
              "      <td>612.725618</td>\n",
              "    </tr>\n",
              "    <tr>\n",
              "      <th>min</th>\n",
              "      <td>1.000000</td>\n",
              "      <td>81370.000000</td>\n",
              "      <td>0.000000</td>\n",
              "      <td>0.000000</td>\n",
              "      <td>0.000000</td>\n",
              "      <td>1.000000</td>\n",
              "      <td>1.000000</td>\n",
              "      <td>1.000000</td>\n",
              "      <td>0.000000</td>\n",
              "      <td>9.000000</td>\n",
              "    </tr>\n",
              "    <tr>\n",
              "      <th>25%</th>\n",
              "      <td>1.000000</td>\n",
              "      <td>112676.000000</td>\n",
              "      <td>1.000000</td>\n",
              "      <td>0.000000</td>\n",
              "      <td>0.000000</td>\n",
              "      <td>4.000000</td>\n",
              "      <td>3.000000</td>\n",
              "      <td>2.000000</td>\n",
              "      <td>0.000000</td>\n",
              "      <td>291.000000</td>\n",
              "    </tr>\n",
              "    <tr>\n",
              "      <th>50%</th>\n",
              "      <td>2.000000</td>\n",
              "      <td>129600.000000</td>\n",
              "      <td>1.000000</td>\n",
              "      <td>0.000000</td>\n",
              "      <td>0.000000</td>\n",
              "      <td>7.000000</td>\n",
              "      <td>9.000000</td>\n",
              "      <td>4.000000</td>\n",
              "      <td>0.000000</td>\n",
              "      <td>412.000000</td>\n",
              "    </tr>\n",
              "    <tr>\n",
              "      <th>75%</th>\n",
              "      <td>3.000000</td>\n",
              "      <td>136393.000000</td>\n",
              "      <td>1.000000</td>\n",
              "      <td>0.000000</td>\n",
              "      <td>0.000000</td>\n",
              "      <td>10.000000</td>\n",
              "      <td>11.000000</td>\n",
              "      <td>6.000000</td>\n",
              "      <td>1.000000</td>\n",
              "      <td>656.250000</td>\n",
              "    </tr>\n",
              "    <tr>\n",
              "      <th>max</th>\n",
              "      <td>3.000000</td>\n",
              "      <td>139441.000000</td>\n",
              "      <td>1.000000</td>\n",
              "      <td>1.000000</td>\n",
              "      <td>1.000000</td>\n",
              "      <td>12.000000</td>\n",
              "      <td>23.000000</td>\n",
              "      <td>7.000000</td>\n",
              "      <td>1.000000</td>\n",
              "      <td>4376.000000</td>\n",
              "    </tr>\n",
              "  </tbody>\n",
              "</table>\n",
              "</div>\n",
              "      <button class=\"colab-df-convert\" onclick=\"convertToInteractive('df-f960b872-1a14-4777-982b-00bb1f937f57')\"\n",
              "              title=\"Convert this dataframe to an interactive table.\"\n",
              "              style=\"display:none;\">\n",
              "        \n",
              "  <svg xmlns=\"http://www.w3.org/2000/svg\" height=\"24px\"viewBox=\"0 0 24 24\"\n",
              "       width=\"24px\">\n",
              "    <path d=\"M0 0h24v24H0V0z\" fill=\"none\"/>\n",
              "    <path d=\"M18.56 5.44l.94 2.06.94-2.06 2.06-.94-2.06-.94-.94-2.06-.94 2.06-2.06.94zm-11 1L8.5 8.5l.94-2.06 2.06-.94-2.06-.94L8.5 2.5l-.94 2.06-2.06.94zm10 10l.94 2.06.94-2.06 2.06-.94-2.06-.94-.94-2.06-.94 2.06-2.06.94z\"/><path d=\"M17.41 7.96l-1.37-1.37c-.4-.4-.92-.59-1.43-.59-.52 0-1.04.2-1.43.59L10.3 9.45l-7.72 7.72c-.78.78-.78 2.05 0 2.83L4 21.41c.39.39.9.59 1.41.59.51 0 1.02-.2 1.41-.59l7.78-7.78 2.81-2.81c.8-.78.8-2.07 0-2.86zM5.41 20L4 18.59l7.72-7.72 1.47 1.35L5.41 20z\"/>\n",
              "  </svg>\n",
              "      </button>\n",
              "      \n",
              "  <style>\n",
              "    .colab-df-container {\n",
              "      display:flex;\n",
              "      flex-wrap:wrap;\n",
              "      gap: 12px;\n",
              "    }\n",
              "\n",
              "    .colab-df-convert {\n",
              "      background-color: #E8F0FE;\n",
              "      border: none;\n",
              "      border-radius: 50%;\n",
              "      cursor: pointer;\n",
              "      display: none;\n",
              "      fill: #1967D2;\n",
              "      height: 32px;\n",
              "      padding: 0 0 0 0;\n",
              "      width: 32px;\n",
              "    }\n",
              "\n",
              "    .colab-df-convert:hover {\n",
              "      background-color: #E2EBFA;\n",
              "      box-shadow: 0px 1px 2px rgba(60, 64, 67, 0.3), 0px 1px 3px 1px rgba(60, 64, 67, 0.15);\n",
              "      fill: #174EA6;\n",
              "    }\n",
              "\n",
              "    [theme=dark] .colab-df-convert {\n",
              "      background-color: #3B4455;\n",
              "      fill: #D2E3FC;\n",
              "    }\n",
              "\n",
              "    [theme=dark] .colab-df-convert:hover {\n",
              "      background-color: #434B5C;\n",
              "      box-shadow: 0px 1px 3px 1px rgba(0, 0, 0, 0.15);\n",
              "      filter: drop-shadow(0px 1px 2px rgba(0, 0, 0, 0.3));\n",
              "      fill: #FFFFFF;\n",
              "    }\n",
              "  </style>\n",
              "\n",
              "      <script>\n",
              "        const buttonEl =\n",
              "          document.querySelector('#df-f960b872-1a14-4777-982b-00bb1f937f57 button.colab-df-convert');\n",
              "        buttonEl.style.display =\n",
              "          google.colab.kernel.accessAllowed ? 'block' : 'none';\n",
              "\n",
              "        async function convertToInteractive(key) {\n",
              "          const element = document.querySelector('#df-f960b872-1a14-4777-982b-00bb1f937f57');\n",
              "          const dataTable =\n",
              "            await google.colab.kernel.invokeFunction('convertToInteractive',\n",
              "                                                     [key], {});\n",
              "          if (!dataTable) return;\n",
              "\n",
              "          const docLinkHtml = 'Like what you see? Visit the ' +\n",
              "            '<a target=\"_blank\" href=https://colab.research.google.com/notebooks/data_table.ipynb>data table notebook</a>'\n",
              "            + ' to learn more about interactive tables.';\n",
              "          element.innerHTML = '';\n",
              "          dataTable['output_type'] = 'display_data';\n",
              "          await google.colab.output.renderOutput(dataTable, element);\n",
              "          const docLink = document.createElement('div');\n",
              "          docLink.innerHTML = docLinkHtml;\n",
              "          element.appendChild(docLink);\n",
              "        }\n",
              "      </script>\n",
              "    </div>\n",
              "  </div>\n",
              "  "
            ]
          },
          "metadata": {},
          "execution_count": 6
        }
      ]
    },
    {
      "cell_type": "code",
      "source": [],
      "metadata": {
        "id": "AwropDGy9QK2"
      },
      "execution_count": null,
      "outputs": []
    },
    {
      "cell_type": "code",
      "source": [
        "# Definimos los atributos de entrada como 'X' y a la variable de salida como 'Y'\n",
        "# Para este ejercicio deberás considerar únicamente los siguientes tres casos como variable de salida: \n",
        "# “Lifetime post consumers”, “Lifetime People who have liked a Page and engaged with a post” y “Likes”.\n",
        "\n",
        "X = var_input.drop('LPE',axis=1)\n",
        "y = var_input['LPE']\n",
        "\n",
        "#Variables de salida de la Tabla 2, los autores consideran varios casos para la variable de salida\n",
        "# Y=df['Lifetime post total reach','Lifetime post total impressions','Lifetime engaged users','Lifetime post consumers',\n",
        "#      'Lifetime post consumotions','Lifetime post impressions by people who have liked a page','Lifetime post reach by people who like a page'\n",
        "#      'Lifetime people who have liked a page and engaged with a post','Comments','Likes','Shares','Total interactions']"
      ],
      "metadata": {
        "id": "gOJhhc8dZ1UP"
      },
      "execution_count": 7,
      "outputs": []
    },
    {
      "cell_type": "code",
      "source": [
        "var_input.columns\n"
      ],
      "metadata": {
        "id": "C1Rw4YhD4Ddr",
        "outputId": "f80a52b6-ebf6-488d-8654-5bf2755dd1af",
        "colab": {
          "base_uri": "https://localhost:8080/"
        }
      },
      "execution_count": 8,
      "outputs": [
        {
          "output_type": "execute_result",
          "data": {
            "text/plain": [
              "Index(['Category', 'Page total likes', 'Type_Photo', 'Type_Status',\n",
              "       'Type_Video', 'Post Month', 'Post Hour', 'Post Weekday', 'Paid', 'LPE'],\n",
              "      dtype='object')"
            ]
          },
          "metadata": {},
          "execution_count": 8
        }
      ]
    },
    {
      "cell_type": "code",
      "source": [
        "X"
      ],
      "metadata": {
        "id": "e3k8QL-SAhI1",
        "outputId": "5c9460a9-d29c-4f2f-8a5e-79fb7bd5c022",
        "colab": {
          "base_uri": "https://localhost:8080/",
          "height": 485
        }
      },
      "execution_count": null,
      "outputs": [
        {
          "output_type": "execute_result",
          "data": {
            "text/plain": [
              "     Page total likes  Category  Type_Photo  Type_Status  Type_Video  \\\n",
              "0            2.000000       2.0         1.0          0.0         0.0   \n",
              "1            2.000000       2.0         0.0          1.0         0.0   \n",
              "2            2.000000       3.0         1.0          0.0         0.0   \n",
              "3            2.000000       2.0         1.0          0.0         0.0   \n",
              "4            2.000000       2.0         1.0          0.0         0.0   \n",
              "..                ...       ...         ...          ...         ...   \n",
              "495          1.064111       3.0         1.0          0.0         0.0   \n",
              "496          1.000000       2.0         1.0          0.0         0.0   \n",
              "497          1.000000       1.0         1.0          0.0         0.0   \n",
              "498          1.000000       3.0         1.0          0.0         0.0   \n",
              "499          1.000000       2.0         1.0          0.0         0.0   \n",
              "\n",
              "     Post Month  Post Hour  Post Weekday  Paid  Type_Photo_2  Type_Status_2  \\\n",
              "0          12.0        3.0           4.0   0.0           1.0            0.0   \n",
              "1          12.0       10.0           3.0   0.0           0.0            1.0   \n",
              "2          12.0        3.0           3.0   0.0           1.0            0.0   \n",
              "3          12.0       10.0           2.0   1.0           1.0            0.0   \n",
              "4          12.0        3.0           2.0   0.0           1.0            0.0   \n",
              "..          ...        ...           ...   ...           ...            ...   \n",
              "495         1.0        2.0           7.0   0.0           1.0            0.0   \n",
              "496         1.0        8.0           5.0   0.0           1.0            0.0   \n",
              "497         1.0        2.0           5.0   0.0           1.0            0.0   \n",
              "498         1.0       11.0           4.0   0.0           1.0            0.0   \n",
              "499         1.0        4.0           4.0   0.0           1.0            0.0   \n",
              "\n",
              "     Type_Video_2  Paid_2  \n",
              "0             0.0     0.0  \n",
              "1             0.0     0.0  \n",
              "2             0.0     0.0  \n",
              "3             0.0     1.0  \n",
              "4             0.0     0.0  \n",
              "..            ...     ...  \n",
              "495           0.0     0.0  \n",
              "496           0.0     0.0  \n",
              "497           0.0     0.0  \n",
              "498           0.0     0.0  \n",
              "499           0.0     0.0  \n",
              "\n",
              "[500 rows x 13 columns]"
            ],
            "text/html": [
              "\n",
              "  <div id=\"df-f0bc30a7-bd2b-4aef-bb0b-25008452b390\">\n",
              "    <div class=\"colab-df-container\">\n",
              "      <div>\n",
              "<style scoped>\n",
              "    .dataframe tbody tr th:only-of-type {\n",
              "        vertical-align: middle;\n",
              "    }\n",
              "\n",
              "    .dataframe tbody tr th {\n",
              "        vertical-align: top;\n",
              "    }\n",
              "\n",
              "    .dataframe thead th {\n",
              "        text-align: right;\n",
              "    }\n",
              "</style>\n",
              "<table border=\"1\" class=\"dataframe\">\n",
              "  <thead>\n",
              "    <tr style=\"text-align: right;\">\n",
              "      <th></th>\n",
              "      <th>Page total likes</th>\n",
              "      <th>Category</th>\n",
              "      <th>Type_Photo</th>\n",
              "      <th>Type_Status</th>\n",
              "      <th>Type_Video</th>\n",
              "      <th>Post Month</th>\n",
              "      <th>Post Hour</th>\n",
              "      <th>Post Weekday</th>\n",
              "      <th>Paid</th>\n",
              "      <th>Type_Photo_2</th>\n",
              "      <th>Type_Status_2</th>\n",
              "      <th>Type_Video_2</th>\n",
              "      <th>Paid_2</th>\n",
              "    </tr>\n",
              "  </thead>\n",
              "  <tbody>\n",
              "    <tr>\n",
              "      <th>0</th>\n",
              "      <td>2.000000</td>\n",
              "      <td>2.0</td>\n",
              "      <td>1.0</td>\n",
              "      <td>0.0</td>\n",
              "      <td>0.0</td>\n",
              "      <td>12.0</td>\n",
              "      <td>3.0</td>\n",
              "      <td>4.0</td>\n",
              "      <td>0.0</td>\n",
              "      <td>1.0</td>\n",
              "      <td>0.0</td>\n",
              "      <td>0.0</td>\n",
              "      <td>0.0</td>\n",
              "    </tr>\n",
              "    <tr>\n",
              "      <th>1</th>\n",
              "      <td>2.000000</td>\n",
              "      <td>2.0</td>\n",
              "      <td>0.0</td>\n",
              "      <td>1.0</td>\n",
              "      <td>0.0</td>\n",
              "      <td>12.0</td>\n",
              "      <td>10.0</td>\n",
              "      <td>3.0</td>\n",
              "      <td>0.0</td>\n",
              "      <td>0.0</td>\n",
              "      <td>1.0</td>\n",
              "      <td>0.0</td>\n",
              "      <td>0.0</td>\n",
              "    </tr>\n",
              "    <tr>\n",
              "      <th>2</th>\n",
              "      <td>2.000000</td>\n",
              "      <td>3.0</td>\n",
              "      <td>1.0</td>\n",
              "      <td>0.0</td>\n",
              "      <td>0.0</td>\n",
              "      <td>12.0</td>\n",
              "      <td>3.0</td>\n",
              "      <td>3.0</td>\n",
              "      <td>0.0</td>\n",
              "      <td>1.0</td>\n",
              "      <td>0.0</td>\n",
              "      <td>0.0</td>\n",
              "      <td>0.0</td>\n",
              "    </tr>\n",
              "    <tr>\n",
              "      <th>3</th>\n",
              "      <td>2.000000</td>\n",
              "      <td>2.0</td>\n",
              "      <td>1.0</td>\n",
              "      <td>0.0</td>\n",
              "      <td>0.0</td>\n",
              "      <td>12.0</td>\n",
              "      <td>10.0</td>\n",
              "      <td>2.0</td>\n",
              "      <td>1.0</td>\n",
              "      <td>1.0</td>\n",
              "      <td>0.0</td>\n",
              "      <td>0.0</td>\n",
              "      <td>1.0</td>\n",
              "    </tr>\n",
              "    <tr>\n",
              "      <th>4</th>\n",
              "      <td>2.000000</td>\n",
              "      <td>2.0</td>\n",
              "      <td>1.0</td>\n",
              "      <td>0.0</td>\n",
              "      <td>0.0</td>\n",
              "      <td>12.0</td>\n",
              "      <td>3.0</td>\n",
              "      <td>2.0</td>\n",
              "      <td>0.0</td>\n",
              "      <td>1.0</td>\n",
              "      <td>0.0</td>\n",
              "      <td>0.0</td>\n",
              "      <td>0.0</td>\n",
              "    </tr>\n",
              "    <tr>\n",
              "      <th>...</th>\n",
              "      <td>...</td>\n",
              "      <td>...</td>\n",
              "      <td>...</td>\n",
              "      <td>...</td>\n",
              "      <td>...</td>\n",
              "      <td>...</td>\n",
              "      <td>...</td>\n",
              "      <td>...</td>\n",
              "      <td>...</td>\n",
              "      <td>...</td>\n",
              "      <td>...</td>\n",
              "      <td>...</td>\n",
              "      <td>...</td>\n",
              "    </tr>\n",
              "    <tr>\n",
              "      <th>495</th>\n",
              "      <td>1.064111</td>\n",
              "      <td>3.0</td>\n",
              "      <td>1.0</td>\n",
              "      <td>0.0</td>\n",
              "      <td>0.0</td>\n",
              "      <td>1.0</td>\n",
              "      <td>2.0</td>\n",
              "      <td>7.0</td>\n",
              "      <td>0.0</td>\n",
              "      <td>1.0</td>\n",
              "      <td>0.0</td>\n",
              "      <td>0.0</td>\n",
              "      <td>0.0</td>\n",
              "    </tr>\n",
              "    <tr>\n",
              "      <th>496</th>\n",
              "      <td>1.000000</td>\n",
              "      <td>2.0</td>\n",
              "      <td>1.0</td>\n",
              "      <td>0.0</td>\n",
              "      <td>0.0</td>\n",
              "      <td>1.0</td>\n",
              "      <td>8.0</td>\n",
              "      <td>5.0</td>\n",
              "      <td>0.0</td>\n",
              "      <td>1.0</td>\n",
              "      <td>0.0</td>\n",
              "      <td>0.0</td>\n",
              "      <td>0.0</td>\n",
              "    </tr>\n",
              "    <tr>\n",
              "      <th>497</th>\n",
              "      <td>1.000000</td>\n",
              "      <td>1.0</td>\n",
              "      <td>1.0</td>\n",
              "      <td>0.0</td>\n",
              "      <td>0.0</td>\n",
              "      <td>1.0</td>\n",
              "      <td>2.0</td>\n",
              "      <td>5.0</td>\n",
              "      <td>0.0</td>\n",
              "      <td>1.0</td>\n",
              "      <td>0.0</td>\n",
              "      <td>0.0</td>\n",
              "      <td>0.0</td>\n",
              "    </tr>\n",
              "    <tr>\n",
              "      <th>498</th>\n",
              "      <td>1.000000</td>\n",
              "      <td>3.0</td>\n",
              "      <td>1.0</td>\n",
              "      <td>0.0</td>\n",
              "      <td>0.0</td>\n",
              "      <td>1.0</td>\n",
              "      <td>11.0</td>\n",
              "      <td>4.0</td>\n",
              "      <td>0.0</td>\n",
              "      <td>1.0</td>\n",
              "      <td>0.0</td>\n",
              "      <td>0.0</td>\n",
              "      <td>0.0</td>\n",
              "    </tr>\n",
              "    <tr>\n",
              "      <th>499</th>\n",
              "      <td>1.000000</td>\n",
              "      <td>2.0</td>\n",
              "      <td>1.0</td>\n",
              "      <td>0.0</td>\n",
              "      <td>0.0</td>\n",
              "      <td>1.0</td>\n",
              "      <td>4.0</td>\n",
              "      <td>4.0</td>\n",
              "      <td>0.0</td>\n",
              "      <td>1.0</td>\n",
              "      <td>0.0</td>\n",
              "      <td>0.0</td>\n",
              "      <td>0.0</td>\n",
              "    </tr>\n",
              "  </tbody>\n",
              "</table>\n",
              "<p>500 rows × 13 columns</p>\n",
              "</div>\n",
              "      <button class=\"colab-df-convert\" onclick=\"convertToInteractive('df-f0bc30a7-bd2b-4aef-bb0b-25008452b390')\"\n",
              "              title=\"Convert this dataframe to an interactive table.\"\n",
              "              style=\"display:none;\">\n",
              "        \n",
              "  <svg xmlns=\"http://www.w3.org/2000/svg\" height=\"24px\"viewBox=\"0 0 24 24\"\n",
              "       width=\"24px\">\n",
              "    <path d=\"M0 0h24v24H0V0z\" fill=\"none\"/>\n",
              "    <path d=\"M18.56 5.44l.94 2.06.94-2.06 2.06-.94-2.06-.94-.94-2.06-.94 2.06-2.06.94zm-11 1L8.5 8.5l.94-2.06 2.06-.94-2.06-.94L8.5 2.5l-.94 2.06-2.06.94zm10 10l.94 2.06.94-2.06 2.06-.94-2.06-.94-.94-2.06-.94 2.06-2.06.94z\"/><path d=\"M17.41 7.96l-1.37-1.37c-.4-.4-.92-.59-1.43-.59-.52 0-1.04.2-1.43.59L10.3 9.45l-7.72 7.72c-.78.78-.78 2.05 0 2.83L4 21.41c.39.39.9.59 1.41.59.51 0 1.02-.2 1.41-.59l7.78-7.78 2.81-2.81c.8-.78.8-2.07 0-2.86zM5.41 20L4 18.59l7.72-7.72 1.47 1.35L5.41 20z\"/>\n",
              "  </svg>\n",
              "      </button>\n",
              "      \n",
              "  <style>\n",
              "    .colab-df-container {\n",
              "      display:flex;\n",
              "      flex-wrap:wrap;\n",
              "      gap: 12px;\n",
              "    }\n",
              "\n",
              "    .colab-df-convert {\n",
              "      background-color: #E8F0FE;\n",
              "      border: none;\n",
              "      border-radius: 50%;\n",
              "      cursor: pointer;\n",
              "      display: none;\n",
              "      fill: #1967D2;\n",
              "      height: 32px;\n",
              "      padding: 0 0 0 0;\n",
              "      width: 32px;\n",
              "    }\n",
              "\n",
              "    .colab-df-convert:hover {\n",
              "      background-color: #E2EBFA;\n",
              "      box-shadow: 0px 1px 2px rgba(60, 64, 67, 0.3), 0px 1px 3px 1px rgba(60, 64, 67, 0.15);\n",
              "      fill: #174EA6;\n",
              "    }\n",
              "\n",
              "    [theme=dark] .colab-df-convert {\n",
              "      background-color: #3B4455;\n",
              "      fill: #D2E3FC;\n",
              "    }\n",
              "\n",
              "    [theme=dark] .colab-df-convert:hover {\n",
              "      background-color: #434B5C;\n",
              "      box-shadow: 0px 1px 3px 1px rgba(0, 0, 0, 0.15);\n",
              "      filter: drop-shadow(0px 1px 2px rgba(0, 0, 0, 0.3));\n",
              "      fill: #FFFFFF;\n",
              "    }\n",
              "  </style>\n",
              "\n",
              "      <script>\n",
              "        const buttonEl =\n",
              "          document.querySelector('#df-f0bc30a7-bd2b-4aef-bb0b-25008452b390 button.colab-df-convert');\n",
              "        buttonEl.style.display =\n",
              "          google.colab.kernel.accessAllowed ? 'block' : 'none';\n",
              "\n",
              "        async function convertToInteractive(key) {\n",
              "          const element = document.querySelector('#df-f0bc30a7-bd2b-4aef-bb0b-25008452b390');\n",
              "          const dataTable =\n",
              "            await google.colab.kernel.invokeFunction('convertToInteractive',\n",
              "                                                     [key], {});\n",
              "          if (!dataTable) return;\n",
              "\n",
              "          const docLinkHtml = 'Like what you see? Visit the ' +\n",
              "            '<a target=\"_blank\" href=https://colab.research.google.com/notebooks/data_table.ipynb>data table notebook</a>'\n",
              "            + ' to learn more about interactive tables.';\n",
              "          element.innerHTML = '';\n",
              "          dataTable['output_type'] = 'display_data';\n",
              "          await google.colab.output.renderOutput(dataTable, element);\n",
              "          const docLink = document.createElement('div');\n",
              "          docLink.innerHTML = docLinkHtml;\n",
              "          element.appendChild(docLink);\n",
              "        }\n",
              "      </script>\n",
              "    </div>\n",
              "  </div>\n",
              "  "
            ]
          },
          "metadata": {},
          "execution_count": 192
        }
      ]
    },
    {
      "cell_type": "code",
      "source": [
        "y"
      ],
      "metadata": {
        "id": "cVFQdyRSAkGZ",
        "outputId": "72d9d657-5064-4c6d-db4a-b218b3ba190a",
        "colab": {
          "base_uri": "https://localhost:8080/"
        }
      },
      "execution_count": null,
      "outputs": [
        {
          "output_type": "execute_result",
          "data": {
            "text/plain": [
              "0      1.025189\n",
              "1      1.251660\n",
              "2      1.028166\n",
              "3      1.315319\n",
              "4      1.088619\n",
              "         ...   \n",
              "495    1.087703\n",
              "496    1.066865\n",
              "497    1.081063\n",
              "498    1.082665\n",
              "499    1.070300\n",
              "Name: LPE, Length: 500, dtype: float64"
            ]
          },
          "metadata": {},
          "execution_count": 193
        }
      ]
    },
    {
      "cell_type": "markdown",
      "source": [
        "#**Ejercicio-2.**\n",
        "\n",
        "Realiza una partición de los datos con 100 datos de Prueba y el resto para entrenamiento y validación."
      ],
      "metadata": {
        "id": "xZhr2hkECzVv"
      }
    },
    {
      "cell_type": "code",
      "source": [
        "# # Definimos los atributos de entrada como 'X' y a la variable de salida como 'Y'\n",
        "# # Para este ejercicio deberás considerar únicamente los siguientes tres casos como variable de salida: \n",
        "# # “Lifetime post consumers”, “Lifetime People who have liked a Page and engaged with a post” y “Likes”.\n",
        "\n",
        "# var_otput = ['LPE']\n",
        "# X = df[var_input]\n",
        "# Y = df[var_otput]\n",
        "\n",
        "# #Variables de salida de la Tabla 2, los autores consideran varios casos para la variable de salida\n",
        "# # Y=df['Lifetime post total reach','Lifetime post total impressions','Lifetime engaged users','Lifetime post consumers',\n",
        "# #      'Lifetime post consumotions','Lifetime post impressions by people who have liked a page','Lifetime post reach by people who like a page'\n",
        "# #      'Lifetime people who have liked a page and engaged with a post','Comments','Likes','Shares','Total interactions']"
      ],
      "metadata": {
        "id": "kGfAoOPkC1PP"
      },
      "execution_count": null,
      "outputs": []
    },
    {
      "cell_type": "code",
      "source": [
        "#Partición de datos, test_size=100*100/500= 20%\n",
        "X_train, X_test, y_train, y_test = train_test_split(X, y, test_size=.20)\n"
      ],
      "metadata": {
        "id": "GOydw5OGC1MJ"
      },
      "execution_count": 8,
      "outputs": []
    },
    {
      "cell_type": "code",
      "source": [
        "X_testt=X_test.reset_index().drop('index', axis='columns') \n",
        "y_testt=y_test.reset_index().drop('index', axis='columns') "
      ],
      "metadata": {
        "id": "n45H1kF3SFtX"
      },
      "execution_count": 9,
      "outputs": []
    },
    {
      "cell_type": "code",
      "source": [
        "np.ravel(y_train)"
      ],
      "metadata": {
        "colab": {
          "base_uri": "https://localhost:8080/"
        },
        "id": "uSACJ_P3i6bU",
        "outputId": "2b883c78-dc1a-4bd5-ac0b-c1e3ff165ffa"
      },
      "execution_count": 11,
      "outputs": [
        {
          "output_type": "execute_result",
          "data": {
            "text/plain": [
              "array([1276,  462,  403,  221, 1978,  512,  420,  279,  397,  305,  341,\n",
              "        288,  137,  416,  340,  446,  301,  475,  240, 1661,  392,  230,\n",
              "        788,  171,  287,  232,  471,  630,  143,  315,  563, 3316,  590,\n",
              "        387,  383,  447,  262,  570,  460,  106,  492,  328,  335,  233,\n",
              "        328, 1233,  268,  683,  670,  123, 1936,  322, 3430,  570, 1578,\n",
              "        392,  131,  367,  384,  341,  156,  519,  200,  977,  316,  301,\n",
              "       1756,  437, 1905,  621,  559,  635,  248,  408,  453,  305,  956,\n",
              "        403, 2361,  742,   33, 1103,  975,  181,  758,  705,  594,  583,\n",
              "        646,  267,  140,  505,  314,  428,  472,  382,  230,  448,  537,\n",
              "       1831, 1307,  340,  360, 2602,  497,  757,  385,  447, 1349, 2218,\n",
              "        461,   59,  323,  555, 1225,  606,  432,  217,  454,  291, 1185,\n",
              "        201,  475,  157,  316,  827,  280,  483, 1035,  660,  331,  360,\n",
              "        385,  293,  236,  436,  172,  259,  467, 1392,  421,  429, 4376,\n",
              "        404,   77,  351,  722, 1839,  237,  348,  985,  493,  327,  199,\n",
              "        280, 1275, 2278,  355,  204, 1052,  708,  440,  348,  222, 1604,\n",
              "        393, 1278,  445,  705,  375, 4104,  347,  432,  100,  724,  166,\n",
              "        240,  584,  697, 1108,  176,  266, 1395,  167,  422,  436,  796,\n",
              "        283,  650,  460, 1331,  413,  662,  437,   32, 1086,  701,  422,\n",
              "        340,  628,  706,  169,  469,  398,  389, 1716,  361,  884,  487,\n",
              "       4318,  262,  165, 1075,  271,  604, 1020,  263,  403,  309,  684,\n",
              "        251,  395,  439,  168,  431,  309,  279, 2021,  583,  344,  445,\n",
              "        508,  375,  280,  354,  465,  593,   99,  349, 2252,  657,  244,\n",
              "        642,  266,  621,  375, 2119,  306,  253, 2099,  732,  187, 1146,\n",
              "       1542,  361,  205,  459, 1975,  583, 1386, 1354,  981,  459,  363,\n",
              "        484,  134,  569,  333,  175,  537,  740,  344,  814,  387,  194,\n",
              "        516,  126,  865,  907,  372,  575,  428,   58,  762,   92,  401,\n",
              "        345,  344,  307, 1613,  398,  273, 1200,  222,  319,  722,  199,\n",
              "       3014,  456,  435, 1250,  363,  365,  699,  441, 1034,  538,  156,\n",
              "        559, 1292,  278,  382,  123,   93, 1564,  536,  220,  431,  379,\n",
              "       1724,  676,  252,  246,  340, 1353, 1779,  389, 3300,  300,  319,\n",
              "        404,  402,  368,  557,  740, 1356,  497,  801,  408,  440,  428,\n",
              "        347,  476,   76,  576,  408,  371,  506,  441,  843,  305,  470,\n",
              "        403,  466,  379, 1101,  391,  363,  514,  361,  351,  346,  166,\n",
              "       2256,  257,  998,  729,  423,  636,  656,   93,  471,   77,  489,\n",
              "        101,  239,  482,  396,  505,  289, 2126,  390,  342,  704,  114,\n",
              "        175,  501,  138,  597,  173,  357,  572,  323,  737,  248,  563,\n",
              "        275,  152, 3798,  463])"
            ]
          },
          "metadata": {},
          "execution_count": 11
        }
      ]
    },
    {
      "cell_type": "markdown",
      "source": [
        "#**Ejercicio-3.**\n",
        "Definirás tus propias funciones de errores para este problema de regresión. Los errores que utilizarás son la raíz cuadrada del error cuadrático medio RMSE, el error absoluto medio MAE y el error porcentual absoluto medio MAPE."
      ],
      "metadata": {
        "id": "NCunuooTC2W3"
      }
    },
    {
      "cell_type": "code",
      "source": [
        "#Definiendo función RMSE\n",
        "def mi_RMSE(y_val,yhatVal):\n",
        "  return np.mean(np.sqrt(np.abs(y_val-yhatVal)))\n",
        "#Definiendo función MAE\n",
        "def mi_MAE(y_val,yhatVal):\n",
        "  return np.mean(np.abs(y_val-yhatVal))\n",
        "#Definiendo función MAPE\n",
        "def mi_MAPE(y_val,yhatVal):\n",
        "  return np.mean(np.abs((y_val-yhatVal)/y_val))*100"
      ],
      "metadata": {
        "id": "YXlcSWA-C4Dj"
      },
      "execution_count": 10,
      "outputs": []
    },
    {
      "cell_type": "markdown",
      "source": [
        "#**Ejercicio-4.**\n",
        "En la página de la UCI, así como en el artículo de los autores previamente citado encuentras información en relación al significado de cada variable. Haz una análisis de tus datos y lleva a cabo las transformaciones que consideres adecuadas tanto en los datos de entrada, como en las de salida.\n",
        "Utiliza un Pipeline para evitar el filtrado de información.\n"
      ],
      "metadata": {
        "id": "chqk9jIDC5Pq"
      }
    },
    {
      "cell_type": "code",
      "source": [
        "# Transformaciones a factores numéricos de entrada:\n",
        "num_pipe = Pipeline(steps = [('impMediana', SimpleImputer(strategy='median')),\n",
        "                                 ('escalaNum', MinMaxScaler(feature_range=(1,2)))])   \n",
        "num_pipe_nombres = [ 'Page total likes', 'LPE']\n",
        "\n",
        "# Transformaciones a factores categóricos de entrada:\n",
        "catImp_pipe = Pipeline(steps = [('impModa', SimpleImputer(strategy='most_frequent'))])  \n",
        "catImp_pipe_nombres = ['Category', 'Type_Photo', 'Type_Status',\n",
        "       'Type_Video', 'Post Month', 'Post Hour', 'Post Weekday','Paid']\n",
        "\n",
        "catOHE_pipe = Pipeline(steps = [('OneHotE', OneHotEncoder(drop='first',handle_unknown='ignore'))])\n",
        "catOHE_pipe_nombres = ['Type_Photo', 'Type_Status',\n",
        "       'Type_Video','Paid']\n",
        "\n",
        "# Conjuntamos las transformaciones numéricas y categóricas que se estarán aplicando a los datos de entrada:\n",
        "columnasTransformer = ColumnTransformer(transformers = [('numpipe', num_pipe, num_pipe_nombres),\n",
        "                                                        ('catimp', catImp_pipe, catImp_pipe_nombres),\n",
        "                                                        ('catohe', catOHE_pipe, catOHE_pipe_nombres)],\n",
        "                                        remainder='passthrough')\n",
        "\n",
        "pipe = Pipeline(steps=[('ct',columnasTransformer)])"
      ],
      "metadata": {
        "id": "RBVSFwK4C6g9"
      },
      "execution_count": 11,
      "outputs": []
    },
    {
      "cell_type": "code",
      "source": [
        "# Transformaciones a factores numéricos de entrada:\n",
        "num_pipe = Pipeline(steps = [('impMediana', SimpleImputer(strategy='median')),\n",
        "                                 ('escalaNum', MinMaxScaler(feature_range=(1,2)))])   \n",
        "num_pipe_nombres = [ 'Page total likes']\n",
        "\n",
        "# Transformaciones a factores categóricos de entrada:\n",
        "catImp_pipe = Pipeline(steps = [('impModa', SimpleImputer(strategy='most_frequent'))])  \n",
        "catImp_pipe_nombres = ['Category', 'Type_Photo', 'Type_Status',\n",
        "       'Type_Video', 'Post Month', 'Post Hour', 'Post Weekday','Paid']\n",
        "\n",
        "catOHE_pipe = Pipeline(steps = [('OneHotE', OneHotEncoder(drop='first',handle_unknown='ignore'))])\n",
        "catOHE_pipe_nombres = ['Type_Photo', 'Type_Status',\n",
        "       'Type_Video','Paid']\n",
        "\n",
        "# Conjuntamos las transformaciones numéricas y categóricas que se estarán aplicando a los datos de entrada:\n",
        "columnasTransformer = ColumnTransformer(transformers = [('numpipe', num_pipe, num_pipe_nombres),\n",
        "                                                        ('catimp', catImp_pipe, catImp_pipe_nombres),\n",
        "                                                        ('catohe', catOHE_pipe, catOHE_pipe_nombres)],\n",
        "                                        remainder='passthrough')"
      ],
      "metadata": {
        "id": "C-08lIAiBDlr"
      },
      "execution_count": 12,
      "outputs": []
    },
    {
      "cell_type": "markdown",
      "source": [
        "#**Ejercicio-5.**\n",
        "Utiliza la función Dummy para modelos de regresión de scikit-learn con el conjunto que tienes de datos de entrenamiento y validación. Para ello particiónalos en 100 para validación y 300 para entrenamiento. Encuentra los errores RMSE, MAE y MAPE para los conjuntos de entrenamiento y validación. \n",
        "\n",
        "Estos serán tus errores máximos que deberás tomar como referencia en el resto de la actividad. Consulta su documentación correspondiente: https://scikit-learn.org/stable/modules/generated/sklearn.dummy.DummyRegressor.html"
      ],
      "metadata": {
        "id": "Rv7KFq-mC7PS"
      }
    },
    {
      "cell_type": "code",
      "source": [
        "#Partición de datos, test_size=100*100/400= 25%\n",
        "Xtrain, X_val, ytrain, y_val = train_test_split(X_train, y_train, test_size=.25)"
      ],
      "metadata": {
        "id": "jaDj3kawC9B6"
      },
      "execution_count": 13,
      "outputs": []
    },
    {
      "cell_type": "code",
      "source": [
        "from sklearn.dummy import DummyRegressor\n",
        "\n",
        "modeloDummy = DummyRegressor(strategy=\"mean\")\n",
        "\n",
        "XtrainFit_d = columnasTransformer.fit(Xtrain)   \n",
        "XtrainTransf_d = XtrainFit_d.transform(Xtrain) \n",
        "\n",
        "modeloDummy=modeloDummy.fit(XtrainTransf_d, ytrain)\n",
        "\n",
        "XvalTransf_d = XtrainFit_d.transform(X_val)\n",
        "yhat = modeloDummy.predict(XvalTransf_d)\n",
        "\n",
        "#modeloDummy.score(X_train,y_train)\n",
        "\n",
        "print('Valor de RMSE a superar: %.4f' % np.mean(mi_RMSE(y_val,yhat)))\n",
        "print(\"Valor del MAE a superar: %.4f\" % np.mean(mi_MAE(y_val,yhat)))\n",
        "print(\"Valor del MAPE a superar: %.4f\" % np.mean(mi_MAPE(y_val,yhat)))"
      ],
      "metadata": {
        "id": "4tQxQROVC9Us",
        "colab": {
          "base_uri": "https://localhost:8080/"
        },
        "outputId": "81d542e9-dd0e-4dd7-eed4-125eb5e1e61b"
      },
      "execution_count": 14,
      "outputs": [
        {
          "output_type": "stream",
          "name": "stdout",
          "text": [
            "Valor de RMSE a superar: 17.8764\n",
            "Valor del MAE a superar: 422.3489\n",
            "Valor del MAPE a superar: 126.1093\n"
          ]
        }
      ]
    },
    {
      "cell_type": "markdown",
      "source": [
        "#**Ejercicio-6.**\n",
        "Usando los modelos de regresión lineal múltiple, el bosque aleatorio y el perceptrón multicapa con sus valores predeterminados, lleva a cabo su entrenamiento con repeticiones de validación cruzada (RepeatedKFold) y desplegando los errores RMSE, MAE y MAPE. Recuerda evitar el filtrado de\n",
        "información usando los datos que obtuviste en el ejercicio 2. Incluye las conclusiones sobre el mejor modelo encontrado en esta primera aproximación. En particular ¿hay alguno sobreentrenado o subentrenado? NOTA: Recuerda que puedes aumentar en dado caso el número máximo de iteraciones para que todos los modelos converjan."
      ],
      "metadata": {
        "id": "W2S7LI0NC9wE"
      }
    },
    {
      "cell_type": "code",
      "source": [
        "def get_models():\n",
        "  modelos = list()\n",
        "  nombres = list()\n",
        "\n",
        "  # LR - Regresión Lineal Multiiple:\n",
        "  modelos.append(LinearRegression())\n",
        "  nombres.append('LLM')\n",
        "\n",
        "  # DT - Bosque Aleatorio:\n",
        "  modelos.append(RandomForestClassifier())\n",
        "  nombres.append('RF')\n",
        "  \n",
        "  # MLP - Red Neuronal Artificial / Perceptrón Lineal Multicapa:  \n",
        "  modelos.append(MLPClassifier( max_iter=3000))\n",
        "  nombres.append('MLP')\n",
        "  #modelos.append(MLPRegressor(max_iter=3000))\n",
        "  #nombres.append('MLP')\n",
        "  \n",
        "  return modelos, nombres"
      ],
      "metadata": {
        "id": "x6uBleJUC_AU"
      },
      "execution_count": 15,
      "outputs": []
    },
    {
      "cell_type": "code",
      "source": [
        "modelos, nombres = get_models()\n",
        "Resultados_met=list()\n",
        "for i in range(len(modelos)):  # para realizar entrenamiento en forma conjunta\n",
        "    pipeline = Pipeline(steps=[('Col_Trans',columnasTransformer),('Modelo',modelos[i])])\n",
        "    Kfold = RepeatedKFold(n_splits=3, n_repeats=6,random_state=11)\n",
        "\n",
        "    #Definimos las métricas a utilizar\n",
        "    Metricas = {'mi_rmse':make_scorer(mi_RMSE), 'mi_mae':make_scorer(mi_MAE), 'mi_mape':make_scorer(mi_MAPE)}\n",
        "\n",
        "    #Ejecutamos la validación ceruzada\n",
        "    CVMetricas = cross_validate(pipeline,\n",
        "                          X_train, np.ravel(y_train),\n",
        "                          scoring=Metricas,\n",
        "                          cv=Kfold,\n",
        "                          return_train_score=True)\n",
        "    Resultados_met.append(CVMetricas)\n",
        "\n",
        "    print(\"Métricas para set de test:\")\n",
        "    print('Modelo %s:\\nMean(mi_RMSE): %.3f (%.4f)\\n Mean(mi_mae): %.3f (%.4f)\\n Mean(mi_mape): %.3f (%.4f)\\n' % (nombres[i],\n",
        "                                                                          np.mean(CVMetricas['test_mi_rmse']),\n",
        "                                                                          np.std(CVMetricas['test_mi_rmse']),\n",
        "                                                                          np.mean(CVMetricas['test_mi_mae']),\n",
        "                                                                          np.std(CVMetricas['test_mi_mae']),\n",
        "                                                                          np.mean(CVMetricas['test_mi_mape']),\n",
        "                                                                          np.std(CVMetricas['test_mi_mape'])\n",
        "                                                                          ))\n",
        "    print(\"Métricas para set de train:\")\n",
        "    print('Modelo %s:\\nMean(mi_RMSE): %.3f (%.4f)\\nMean(mi_mae): %.3f (%.4f)\\nMean(mi_mape): %.3f (%.4f)\\n' % (nombres[i],\n",
        "                                                                          np.mean(CVMetricas['train_mi_rmse']),\n",
        "                                                                          np.std(CVMetricas['train_mi_rmse']),\n",
        "                                                                          np.mean(CVMetricas['train_mi_mae']),\n",
        "                                                                          np.std(CVMetricas['train_mi_mae']),\n",
        "                                                                          np.mean(CVMetricas['train_mi_mape']),\n",
        "                                                                          np.std(CVMetricas['train_mi_mape'])\n",
        "                                                                          ),\"\\n\\n\")"
      ],
      "metadata": {
        "id": "vLUVUrYRtT1-",
        "outputId": "0cc99f1d-576f-4935-d034-935644a26544",
        "colab": {
          "base_uri": "https://localhost:8080/"
        }
      },
      "execution_count": 16,
      "outputs": [
        {
          "output_type": "stream",
          "name": "stdout",
          "text": [
            "Métricas para set de test:\n",
            "Modelo LLM:\n",
            "Mean(mi_RMSE): 15.295 (0.5098)\n",
            " Mean(mi_mae): 307.938 (23.3079)\n",
            " Mean(mi_mape): 108.861 (25.1617)\n",
            "\n",
            "Métricas para set de train:\n",
            "Modelo LLM:\n",
            "Mean(mi_RMSE): 15.007 (0.5436)\n",
            "Mean(mi_mae): 296.516 (18.9015)\n",
            "Mean(mi_mape): 105.425 (11.3990)\n",
            " \n",
            "\n",
            "\n",
            "Métricas para set de test:\n",
            "Modelo RF:\n",
            "Mean(mi_RMSE): 15.989 (0.8171)\n",
            " Mean(mi_mae): 386.244 (36.5413)\n",
            " Mean(mi_mape): 115.610 (26.4615)\n",
            "\n",
            "Métricas para set de train:\n",
            "Modelo RF:\n",
            "Mean(mi_RMSE): 0.078 (0.0615)\n",
            "Mean(mi_mae): 1.551 (1.3562)\n",
            "Mean(mi_mape): 0.548 (0.5615)\n",
            " \n",
            "\n",
            "\n",
            "Métricas para set de test:\n",
            "Modelo MLP:\n",
            "Mean(mi_RMSE): 16.630 (0.7325)\n",
            " Mean(mi_mae): 400.231 (38.3244)\n",
            " Mean(mi_mape): 118.333 (19.4679)\n",
            "\n",
            "Métricas para set de train:\n",
            "Modelo MLP:\n",
            "Mean(mi_RMSE): 0.636 (0.1108)\n",
            "Mean(mi_mae): 12.133 (3.6165)\n",
            "Mean(mi_mape): 4.528 (4.1399)\n",
            " \n",
            "\n",
            "\n"
          ]
        }
      ]
    },
    {
      "cell_type": "markdown",
      "source": [
        "#**Ejercicio-7.**\n",
        "Obtener los diagramas de caja y bigote para los errores MAPE de los conjuntos de validación obtenidos. En particular compara estos primeros resultados de MAPE con el mejor resultado que encuentran los autores del artículo citado al inicio. Incluye tus conclusiones."
      ],
      "metadata": {
        "id": "iCNGx4TQ8CFI"
      }
    },
    {
      "cell_type": "code",
      "source": [
        "sns.set(rc={'figure.figsize':(8,4)})\n",
        "\n",
        "#Capturamos solo los errores calculados anteriormente para la métrica MAPE\n",
        "MAPE_Res = list()\n",
        "for i in range(len(Resultados_met)):\n",
        "  MAPE_Res.append(Resultados_met[i]['test_mi_mape'])\n",
        "\n",
        "#Imprimimos el boxplot del MAPE para cada modelo\n",
        "plt.boxplot(MAPE_Res,labels=nombres, showmeans=True)\n",
        "plt.show()"
      ],
      "metadata": {
        "id": "ewvwUcJX78y1",
        "colab": {
          "base_uri": "https://localhost:8080/",
          "height": 268
        },
        "outputId": "fd3cc9ff-9f34-4ce3-bede-20858bd227a6"
      },
      "execution_count": 22,
      "outputs": [
        {
          "output_type": "display_data",
          "data": {
            "text/plain": [
              "<Figure size 576x288 with 1 Axes>"
            ],
            "image/png": "[encoded data removed]"
          },
          "metadata": {}
        }
      ]
    },
    {
      "cell_type": "markdown",
      "source": [
        "\n",
        "---\n",
        "✍ **Conclusiones:**\n",
        "\n",
        "\n",
        "---\n",
        "\n",
        "\n"
      ],
      "metadata": {
        "id": "qKmAiIyvx7MD"
      }
    },
    {
      "cell_type": "markdown",
      "source": [
        "#**Ejercicio-8.**\n",
        "\n",
        "Usando una búsqueda de malla con validación cruzada (GridSearchCV), busca los mejores hiperparámetros para el modelo MLP. Al menos deberás realizar la búsqueda en los hiperparámetros “hidden_layer_sizes”, “alpha” y “learning_rate_init”. Además aplica la validación cruzada con repeticiones (RepeatedKFold). Muestra los mejores hiperparámetros encontrados."
      ],
      "metadata": {
        "id": "tzQn5NR78GFg"
      }
    },
    {
      "cell_type": "code",
      "source": [
        "pipe = Pipeline(steps = [\n",
        "        ('Col_Trans', columnasTransformer),\n",
        "        ('ModeloMLP', modelos[2])\n",
        "        ])\n",
        "\n",
        "Param_Grid = {\"ModeloMLP__hidden_layer_sizes\":(150,100,50),\n",
        "             \"ModeloMLP__alpha\": [0.0001, 0.1,20], \"ModeloMLP__learning_rate_init\": np.linspace(0.001, 1, 10)}\n",
        "\n",
        "\n",
        "Grid_MLP = GridSearchCV(\n",
        "        estimator= pipe, cv=Kfold,\n",
        "        param_grid=Param_Grid, scoring=make_scorer(mi_MAPE), n_jobs=-1)\n",
        "\n",
        "Grid_MLP.fit(X_train, y_train.values.ravel())\n",
        "\n",
        " #Imprimimos resultados\n",
        "print(\"Utilizando la métrica\", Grid_MLP.scoring, \"la mejor puntuación obtenida es:\", Grid_MLP.best_score_)\n",
        "print(\"Los mejores hiperparámetros encontrados son:\", Grid_MLP.best_params_)"
      ],
      "metadata": {
        "id": "B8UAQlQ9zFVZ",
        "outputId": "096ccbd2-68d7-4edf-9224-fae195f4231c",
        "colab": {
          "base_uri": "https://localhost:8080/"
        }
      },
      "execution_count": 31,
      "outputs": [
        {
          "output_type": "stream",
          "name": "stdout",
          "text": [
            "Utilizando la métrica make_scorer(mi_MAPE) la mejor puntuación obtenida es: 194.05124321489694\n",
            "Los mejores hiperparámetros encontrados son: {'ModeloMLP__alpha': 0.1, 'ModeloMLP__hidden_layer_sizes': 150, 'ModeloMLP__learning_rate_init': 0.889}\n"
          ]
        }
      ]
    },
    {
      "cell_type": "markdown",
      "source": [
        "#**Ejercicio-9.**\n",
        "Con los mejores valores de los hiperparámetros encontrados realiza un análisis de la importancia de los factores. Muestra un diagrama de barras de los resultados e incluye tus conclusiones."
      ],
      "metadata": {
        "id": "mASNrZWs8JTh"
      }
    },
    {
      "cell_type": "markdown",
      "source": [],
      "metadata": {
        "id": "8O8c_m9FD4WU"
      }
    },
    {
      "cell_type": "code",
      "source": [
        "#Creamos el mejor modelo MLP con los datos arrojados en el grid con la búsqueda cruzada\n",
        "Mejor_ModeloMLP = MLPClassifier(hidden_layer_sizes=150,\n",
        "                            max_iter=100,\n",
        "                            alpha=0.1,\n",
        "                            learning_rate_init=0.889)\n",
        "\n",
        "X_train_fit = columnasTransformer.fit(X_train)\n",
        "X_train_fit_transf = X_train_fit.transform(X_train)\n",
        "Mejor_ModeloMLP.fit(X_train_fit_transf, y_train)\n",
        "\n",
        "#Obtenemos la importancia de los atributos de acuerdo al modelo en estudio\n",
        "Importancia_Factores = permutation_importance(Mejor_ModeloMLP, X_train_fit_transf, y_train, n_repeats=10)\n",
        "\n",
        "#Imprimimos los valores de importancia para los atributos\n",
        "print(Importancia_Factores)"
      ],
      "metadata": {
        "id": "EeSFmWCH6b37",
        "outputId": "fb2ca54c-e503-47b7-e001-0c6f87bc5d80",
        "colab": {
          "base_uri": "https://localhost:8080/"
        }
      },
      "execution_count": 41,
      "outputs": [
        {
          "output_type": "stream",
          "name": "stdout",
          "text": [
            "{'importances_mean': array([0.     , 0.     , 0.     , 0.     , 0.     , 0.0005 , 0.00275,\n",
            "       0.001  , 0.     , 0.     , 0.     , 0.     , 0.     ]), 'importances_std': array([0.        , 0.        , 0.        , 0.        , 0.        ,\n",
            "       0.001     , 0.00075   , 0.00122474, 0.        , 0.        ,\n",
            "       0.        , 0.        , 0.        ]), 'importances': array([[0.    , 0.    , 0.    , 0.    , 0.    , 0.    , 0.    , 0.    ,\n",
            "        0.    , 0.    ],\n",
            "       [0.    , 0.    , 0.    , 0.    , 0.    , 0.    , 0.    , 0.    ,\n",
            "        0.    , 0.    ],\n",
            "       [0.    , 0.    , 0.    , 0.    , 0.    , 0.    , 0.    , 0.    ,\n",
            "        0.    , 0.    ],\n",
            "       [0.    , 0.    , 0.    , 0.    , 0.    , 0.    , 0.    , 0.    ,\n",
            "        0.    , 0.    ],\n",
            "       [0.    , 0.    , 0.    , 0.    , 0.    , 0.    , 0.    , 0.    ,\n",
            "        0.    , 0.    ],\n",
            "       [0.    , 0.    , 0.    , 0.    , 0.    , 0.    , 0.0025, 0.    ,\n",
            "        0.0025, 0.    ],\n",
            "       [0.0025, 0.0025, 0.0025, 0.0025, 0.0025, 0.0025, 0.005 , 0.0025,\n",
            "        0.0025, 0.0025],\n",
            "       [0.    , 0.0025, 0.    , 0.    , 0.0025, 0.    , 0.    , 0.0025,\n",
            "        0.0025, 0.    ],\n",
            "       [0.    , 0.    , 0.    , 0.    , 0.    , 0.    , 0.    , 0.    ,\n",
            "        0.    , 0.    ],\n",
            "       [0.    , 0.    , 0.    , 0.    , 0.    , 0.    , 0.    , 0.    ,\n",
            "        0.    , 0.    ],\n",
            "       [0.    , 0.    , 0.    , 0.    , 0.    , 0.    , 0.    , 0.    ,\n",
            "        0.    , 0.    ],\n",
            "       [0.    , 0.    , 0.    , 0.    , 0.    , 0.    , 0.    , 0.    ,\n",
            "        0.    , 0.    ],\n",
            "       [0.    , 0.    , 0.    , 0.    , 0.    , 0.    , 0.    , 0.    ,\n",
            "        0.    , 0.    ]])}\n"
          ]
        }
      ]
    },
    {
      "cell_type": "code",
      "source": [
        "#Recorremos la lista de atributos con su importancia\n",
        "for i, j in enumerate(Importancia_Factores['importances_mean']):\n",
        "\tprint('Atributo: %0d, Puntuación: %.5f' % (i,j))\n",
        "\n",
        "#Obtenemos el valor absoluto para obtener un gráfico más legible\n",
        "plt.bar([x for x in range(len(Importancia_Factores['importances_mean']))], abs(Importancia_Factores['importances_mean']))\n",
        "plt.show()"
      ],
      "metadata": {
        "id": "Xr6oe1VF8K_A",
        "outputId": "e6f20ff3-5876-4253-b46d-c94fb6b720c1",
        "colab": {
          "base_uri": "https://localhost:8080/",
          "height": 494
        }
      },
      "execution_count": 42,
      "outputs": [
        {
          "output_type": "stream",
          "name": "stdout",
          "text": [
            "Atributo: 0, Puntuación: 0.00000\n",
            "Atributo: 1, Puntuación: 0.00000\n",
            "Atributo: 2, Puntuación: 0.00000\n",
            "Atributo: 3, Puntuación: 0.00000\n",
            "Atributo: 4, Puntuación: 0.00000\n",
            "Atributo: 5, Puntuación: 0.00050\n",
            "Atributo: 6, Puntuación: 0.00275\n",
            "Atributo: 7, Puntuación: 0.00100\n",
            "Atributo: 8, Puntuación: 0.00000\n",
            "Atributo: 9, Puntuación: 0.00000\n",
            "Atributo: 10, Puntuación: 0.00000\n",
            "Atributo: 11, Puntuación: 0.00000\n",
            "Atributo: 12, Puntuación: 0.00000\n"
          ]
        },
        {
          "output_type": "display_data",
          "data": {
            "text/plain": [
              "<Figure size 576x288 with 1 Axes>"
            ],
            "image/png": "[encoded data removed]"
          },
          "metadata": {}
        }
      ]
    },
    {
      "cell_type": "markdown",
      "source": [
        "#**Ejercicio-10.**\n",
        "Repite el ejercicio 8 y 9 para el modelo de bosque aleatorio para buscar sus mejores hiperparámetros (realiza la búsqueda con aquellos hiperparámetros que consideres más adecuados) y usando el conjunto de Prueba. Y realiza igualmente el análisis de importancia de factores con este modelo con un diagrama de barras."
      ],
      "metadata": {
        "id": "VUIcDshs8MzG"
      }
    },
    {
      "cell_type": "code",
      "source": [
        "ModeloRF= RandomForestClassifier()\n",
        "\n",
        "Param_Grid = {\"criterion\":[\"gini\", \"entropy\"],\n",
        "              \"ccp_alpha\": np.round(np.linspace(0,0.2,4),2), \"max_depth\": np.arange(33,39), \"min_samples_split\": [2,5],\n",
        "              \"class_weight\": [None,'balanced']}\n",
        "\n",
        "Grid_RF = GridSearchCV(\n",
        "        estimator=ModeloRF, cv=Kfold,\n",
        "        param_grid=Param_Grid, scoring=make_scorer(mi_MAPE), n_jobs=-1)\n",
        "\n",
        "Grid_RF.fit(X_train, y_train.values.ravel())\n",
        "\n",
        " #Imprimimos resultados\n",
        "print(\"Utilizando la métrica\", Grid_RF.scoring, \"la mejor puntuación obtenida es:\", Grid_RF.best_score_)\n",
        "print(\"Los mejores hiperparámetros encontrados son:\", Grid_RF.best_params_)"
      ],
      "metadata": {
        "id": "0lKNJNIt8N88",
        "outputId": "f6641837-cc62-4497-fbc7-b87c24b740f7",
        "colab": {
          "base_uri": "https://localhost:8080/"
        }
      },
      "execution_count": 66,
      "outputs": [
        {
          "output_type": "stream",
          "name": "stdout",
          "text": [
            "Utilizando la métrica make_scorer(mi_MAPE) la mejor puntuación obtenida es: 308.6058841174004\n",
            "Los mejores hiperparámetros encontrados son: {'ccp_alpha': 0.07, 'class_weight': 'balanced', 'criterion': 'gini', 'max_depth': 36, 'min_samples_split': 5}\n"
          ]
        }
      ]
    },
    {
      "cell_type": "code",
      "source": [
        "#Creamos el mejor modelo MLP con los datos arrojados en el grid con la búsqueda cruzada\n",
        "Mejor_ModeloRF = RandomForestClassifier(ccp_alpha=0.07,class_weight='balanced',criterion='gini',max_depth=36,min_samples_split=5)\n",
        "\n",
        "X_train_fit = columnasTransformer.fit(X_train)\n",
        "X_train_fit_transf = X_train_fit.transform(X_train)\n",
        "Mejor_ModeloRF.fit(X_train_fit_transf, y_train)\n",
        "\n",
        "#Obtenemos la importancia de los atributos de acuerdo al modelo en estudio\n",
        "Importancia_Factores_RF = permutation_importance(Mejor_ModeloRF, X_train_fit_transf, y_train, n_repeats=300)\n",
        "\n",
        "#Imprimimos los valores de importancia para los atributos\n",
        "print(Importancia_Factores_RF)"
      ],
      "metadata": {
        "id": "Inkq5YQe8PED",
        "outputId": "1360fb7f-79df-42b3-fe48-b57c9d28f12b",
        "colab": {
          "base_uri": "https://localhost:8080/"
        }
      },
      "execution_count": 67,
      "outputs": [
        {
          "output_type": "stream",
          "name": "stdout",
          "text": [
            "{'importances_mean': array([0., 0., 0., 0., 0., 0., 0., 0., 0., 0., 0., 0., 0.]), 'importances_std': array([0., 0., 0., 0., 0., 0., 0., 0., 0., 0., 0., 0., 0.]), 'importances': array([[0., 0., 0., ..., 0., 0., 0.],\n",
            "       [0., 0., 0., ..., 0., 0., 0.],\n",
            "       [0., 0., 0., ..., 0., 0., 0.],\n",
            "       ...,\n",
            "       [0., 0., 0., ..., 0., 0., 0.],\n",
            "       [0., 0., 0., ..., 0., 0., 0.],\n",
            "       [0., 0., 0., ..., 0., 0., 0.]])}\n"
          ]
        }
      ]
    },
    {
      "cell_type": "code",
      "source": [
        "#Recorremos la lista de atributos con su importancia\n",
        "for i, j in enumerate(Importancia_Factores_RF['importances_mean']):\n",
        "\tprint('Atributo: %0d, Puntuación: %.5f' % (i,j))\n",
        "\n",
        "#Obtenemos el valor absoluto para obtener un gráfico más legible\n",
        "plt.bar([x for x in range(len(Importancia_Factores_RF['importances_mean']))], abs(Importancia_Factores_RF['importances_mean']))\n",
        "plt.show()"
      ],
      "metadata": {
        "id": "DVD56TT6bTxw",
        "outputId": "74698356-0203-45c7-956e-f0e138481ec3",
        "colab": {
          "base_uri": "https://localhost:8080/",
          "height": 494
        }
      },
      "execution_count": 98,
      "outputs": [
        {
          "output_type": "stream",
          "name": "stdout",
          "text": [
            "Atributo: 0, Puntuación: 0.00000\n",
            "Atributo: 1, Puntuación: 0.00000\n",
            "Atributo: 2, Puntuación: 0.00000\n",
            "Atributo: 3, Puntuación: 0.00000\n",
            "Atributo: 4, Puntuación: 0.00000\n",
            "Atributo: 5, Puntuación: 0.00000\n",
            "Atributo: 6, Puntuación: 0.00000\n",
            "Atributo: 7, Puntuación: 0.00000\n",
            "Atributo: 8, Puntuación: 0.00000\n",
            "Atributo: 9, Puntuación: 0.00000\n",
            "Atributo: 10, Puntuación: 0.00000\n",
            "Atributo: 11, Puntuación: 0.00000\n",
            "Atributo: 12, Puntuación: 0.00000\n"
          ]
        },
        {
          "output_type": "display_data",
          "data": {
            "text/plain": [
              "<Figure size 576x288 with 1 Axes>"
            ],
            "image/png": "[encoded data removed]"
          },
          "metadata": {}
        }
      ]
    },
    {
      "cell_type": "markdown",
      "source": [
        "#**Ejercicio-11.**\n",
        "Repite el ejercicio 8 y 9 para el modelo de regresión lineal múltiple para buscar sus mejores hiperparámetros (realiza la búsqueda con aquellos hiperparámetros que consideres más adecuados) y usando el conjunto de Prueba. Y realiza igualmente el análisis de importancia de factores con este modelo con un diagrama de barras."
      ],
      "metadata": {
        "id": "5LJl6oql8Pc8"
      }
    },
    {
      "cell_type": "code",
      "source": [
        "ModeloLMM= Ridge()\n",
        "\n",
        "Param_Grid_LMM = {'fit_intercept':[True, False], \"solver\": ['svd', 'cholesky', 'lsqr', 'sag']}\n",
        "\n",
        "Grid_LMM = GridSearchCV(\n",
        "        estimator=ModeloLMM, cv=Kfold, param_grid=Param_Grid_LMM,\n",
        "        scoring=make_scorer(mi_MAPE), n_jobs=-1)\n",
        "\n",
        "Grid_LMM.fit(X_train, y_train.values.ravel())\n",
        "\n",
        " #Imprimimos resultados\n",
        "print(\"Utilizando la métrica\", Grid_LMM.scoring, \"la mejor puntuación obtenida es:\", Grid_LMM.best_score_)\n",
        "print(\"Los mejores hiperparámetros encontrados son:\", Grid_LMM.best_params_)"
      ],
      "metadata": {
        "id": "-YiSnt9t8RfN",
        "outputId": "ce4513b4-a746-4001-baf1-3b508cd25004",
        "colab": {
          "base_uri": "https://localhost:8080/"
        }
      },
      "execution_count": 93,
      "outputs": [
        {
          "output_type": "stream",
          "name": "stdout",
          "text": [
            "Utilizando la métrica make_scorer(mi_MAPE) la mejor puntuación obtenida es: 143.33128175848523\n",
            "Los mejores hiperparámetros encontrados son: {'fit_intercept': True, 'solver': 'lsqr'}\n"
          ]
        }
      ]
    },
    {
      "cell_type": "code",
      "source": [
        "#Creamos el mejor modelo LMM con los datos arrojados en el grid con la búsqueda cruzada\n",
        "Mejor_ModeloLMM = Ridge(fit_intercept= True, solver= 'lsqr')\n",
        "\n",
        "X_train_fit = columnasTransformer.fit(X_train)\n",
        "X_train_fit_transf = X_train_fit.transform(X_train)\n",
        "Mejor_ModeloLMM.fit(X_train_fit_transf, y_train)\n",
        "\n",
        "#Obtenemos la importancia de los atributos de acuerdo al modelo en estudio\n",
        "Importancia_Factores_LMM = permutation_importance(Mejor_ModeloLMM, X_train_fit_transf, y_train, n_repeats=300)\n",
        "\n",
        "#Imprimimos los valores de importancia para los atributos\n",
        "print(Importancia_Factores_LMM)"
      ],
      "metadata": {
        "id": "2iRA78ZC8Rbm",
        "outputId": "b5946f78-e4e2-4cd9-c20b-38967f250b4e",
        "colab": {
          "base_uri": "https://localhost:8080/"
        }
      },
      "execution_count": 96,
      "outputs": [
        {
          "output_type": "stream",
          "name": "stdout",
          "text": [
            "{'importances_mean': array([0.02849973, 0.00030059, 0.00835659, 0.21375763, 0.01163616,\n",
            "       0.08078116, 0.00353904, 0.00806228, 0.00313178, 0.00835659,\n",
            "       0.21375763, 0.01163616, 0.00313178]), 'importances_std': array([0.01029705, 0.00088964, 0.00522662, 0.02791643, 0.00621495,\n",
            "       0.01880544, 0.00354274, 0.00590197, 0.00341982, 0.00522662,\n",
            "       0.02791643, 0.00621495, 0.00341982]), 'importances': array([[ 3.01585487e-02,  2.20991175e-02,  4.31853991e-02, ...,\n",
            "         3.23919649e-02,  3.71159558e-02,  4.00006891e-02],\n",
            "       [-1.18865468e-03,  1.13315979e-03, -1.60396544e-04, ...,\n",
            "         2.07547161e-04,  7.89716635e-04,  1.68922397e-03],\n",
            "       [ 1.73482893e-02,  7.63224242e-03,  2.60881654e-03, ...,\n",
            "         1.20772866e-02,  1.42877807e-03, -3.71433320e-03],\n",
            "       ...,\n",
            "       [ 1.70664833e-01,  2.27518237e-01,  2.32141444e-01, ...,\n",
            "         1.95609499e-01,  2.24720926e-01,  2.20548096e-01],\n",
            "       [ 1.50197314e-02,  1.70170053e-02,  1.56523329e-02, ...,\n",
            "         7.27473001e-03,  1.62834345e-02,  2.24459949e-02],\n",
            "       [-3.77176023e-03,  1.19868153e-03,  8.60564622e-03, ...,\n",
            "         2.64814688e-03,  3.69777815e-04,  5.70674887e-03]])}\n"
          ]
        }
      ]
    },
    {
      "cell_type": "code",
      "source": [
        "#Recorremos la lista de atributos con su importancia\n",
        "for i, j in enumerate(Importancia_Factores_LMM['importances_mean']):\n",
        "\tprint('Atributo: %0d, Puntuación: %.5f' % (i,j))\n",
        "\n",
        "#Obtenemos el valor absoluto para obtener un gráfico más legible\n",
        "plt.bar([x for x in range(len(Importancia_Factores_LMM['importances_mean']))], abs(Importancia_Factores_LMM['importances_mean']))\n",
        "plt.show()"
      ],
      "metadata": {
        "id": "b341bkaWbcQY",
        "outputId": "662b4dde-203e-4571-e43d-3a5caf790948",
        "colab": {
          "base_uri": "https://localhost:8080/",
          "height": 494
        }
      },
      "execution_count": 97,
      "outputs": [
        {
          "output_type": "stream",
          "name": "stdout",
          "text": [
            "Atributo: 0, Puntuación: 0.02850\n",
            "Atributo: 1, Puntuación: 0.00030\n",
            "Atributo: 2, Puntuación: 0.00836\n",
            "Atributo: 3, Puntuación: 0.21376\n",
            "Atributo: 4, Puntuación: 0.01164\n",
            "Atributo: 5, Puntuación: 0.08078\n",
            "Atributo: 6, Puntuación: 0.00354\n",
            "Atributo: 7, Puntuación: 0.00806\n",
            "Atributo: 8, Puntuación: 0.00313\n",
            "Atributo: 9, Puntuación: 0.00836\n",
            "Atributo: 10, Puntuación: 0.21376\n",
            "Atributo: 11, Puntuación: 0.01164\n",
            "Atributo: 12, Puntuación: 0.00313\n"
          ]
        },
        {
          "output_type": "display_data",
          "data": {
            "text/plain": [
              "<Figure size 576x288 with 1 Axes>"
            ],
            "image/png": "[encoded data removed]"
          },
          "metadata": {}
        }
      ]
    },
    {
      "cell_type": "markdown",
      "source": [
        "#**Ejercicio-12.**\n",
        "Compara tus resultados con los obtenidos por los autores del artículo de Moro-Rita-Vala con respecto a MAPE. Incluye tus conclusiones finales de la actividad.\n"
      ],
      "metadata": {
        "id": "IKW72uyk8Sbc"
      }
    },
    {
      "cell_type": "code",
      "source": [
        "None"
      ],
      "metadata": {
        "id": "gwpz77W38Uq0"
      },
      "execution_count": null,
      "outputs": []
    },
    {
      "cell_type": "code",
      "source": [],
      "metadata": {
        "id": "8v8HL02W8UmW"
      },
      "execution_count": null,
      "outputs": []
    },
    {
      "cell_type": "markdown",
      "source": [
        "###**Fin de la Actividad de la semana 7.**"
      ],
      "metadata": {
        "id": "7ql_r2G-DB_m"
      }
    }
  ]
}